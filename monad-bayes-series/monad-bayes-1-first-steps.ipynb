{
 "cells": [
  {
   "cell_type": "markdown",
   "metadata": {},
   "source": [
    "# Probabilistic Programming with Haskell\n",
    "\n",
    "Siddhart Bath, Simeon Carstens, Matthias Meschede\n",
    "\n",
    "_first published on www.tweag.io/blog_"
   ]
  },
  {
   "cell_type": "markdown",
   "metadata": {},
   "source": [
    "#### imports"
   ]
  },
  {
   "cell_type": "code",
   "execution_count": null,
   "metadata": {},
   "outputs": [],
   "source": [
    ":e OverloadedStrings\n",
    ":e ExistentialQuantification\n",
    "\n",
    "import System.Random.MWC (createSystemRandom)\n",
    "import qualified Graphics.Vega.VegaLite as VL\n",
    "import IHaskell.Display.Hvega (vlShow)\n",
    "import Data.Aeson (ToJSON(toJSON), Value)\n",
    "import Data.Aeson (encode)\n",
    "import qualified Data.ByteString.Lazy.Char8 as BL\n",
    "import Data.Text (Text, pack)\n",
    "\n",
    "import Control.Monad (liftM2, replicateM, forM, forM_)\n",
    "import Control.Monad.IO.Class (liftIO)\n",
    "import Data.List (sort)\n",
    "import Control.Monad.Bayes.Class\n",
    "import Control.Monad.Bayes.Sampler.Strict\n",
    "import Control.Monad.Bayes.Traced\n",
    "import Control.Monad.Bayes.Weighted\n",
    "import Control.Monad.Bayes.Inference.SMC as SMC\n",
    "import Control.Monad.Bayes.Inference.RMSMC as RMSMC\n",
    "import Control.Monad.Bayes.Sequential.Coroutine\n",
    "import Control.Monad.Bayes.Population\n",
    "import Control.Monad.Bayes.Traced.Static (Traced)\n",
    "import Control.Monad.Bayes.Inference.SMC\n",
    "\n",
    "import Numeric.Log\n",
    "import Control.Monad.Bayes.Class\n",
    "\n",
    "import Data.List (partition)"
   ]
  },
  {
   "cell_type": "markdown",
   "metadata": {},
   "source": [
    "#### Plotting"
   ]
  },
  {
   "cell_type": "code",
   "execution_count": null,
   "metadata": {},
   "outputs": [],
   "source": [
    "barPlot :: Text -> VL.VLSpec\n",
    "barPlot xName = \n",
    "    let encoding = VL.encoding\n",
    "            . VL.position VL.X [VL.PName xName, VL.PmType VL.Nominal]\n",
    "            . VL.position VL.Y [VL.PName \"binnedData\", VL.PAggregate VL.Count, VL.PmType VL.Quantitative, VL.PAxis [VL.AxTitle \"count\"]]\n",
    "    in VL.asSpec [VL.mark VL.Bar [VL.MOpacity 1.0, VL.MColor \"#a3c6de\"], encoding []]\n",
    "\n",
    "linePlot :: Text -> Text -> VL.VLSpec\n",
    "linePlot xName yName = \n",
    "  let encoding = VL.encoding\n",
    "            . VL.position VL.X [VL.PName xName, VL.PmType VL.Quantitative]\n",
    "            . VL.position VL.Y [VL.PName yName, VL.PmType VL.Quantitative]\n",
    "  in VL.asSpec [VL.mark VL.Line [VL.MColor \"blue\"], encoding []]\n",
    "\n",
    "scatterBlue xName yName (xmin, xmax) (ymin, ymax) =\n",
    "  let encoding = VL.encoding\n",
    "            . VL.position VL.X [VL.PName xName, VL.PmType VL.Quantitative, VL.PScale [VL.SDomain $ VL.DNumbers [xmin, xmax]]]\n",
    "            . VL.position VL.Y [VL.PName yName, VL.PmType VL.Quantitative, VL.PScale [VL.SDomain $ VL.DNumbers [ymin, ymax]]]\n",
    "  in VL.asSpec [VL.mark VL.Circle [VL.MColor \"blue\"], encoding []]\n",
    "  \n",
    "scatterGreen xName yName (xmin, xmax) (ymin, ymax) =\n",
    "  let encoding = VL.encoding\n",
    "            . VL.position VL.X [VL.PName xName, VL.PmType VL.Quantitative, VL.PScale [VL.SDomain $ VL.DNumbers [xmin, xmax]]]\n",
    "            . VL.position VL.Y [VL.PName yName, VL.PmType VL.Quantitative, VL.PScale [VL.SDomain $ VL.DNumbers [ymin, ymax]]]\n",
    "  in VL.asSpec [VL.mark VL.Circle [VL.MColor \"green\"], encoding []]\n",
    "  \n",
    "scatterPlotWithColor :: Text -> Text -> Text -> (Double, Double) -> (Double, Double) -> VL.VLSpec\n",
    "scatterPlotWithColor xName yName zName (xmin, xmax) (ymin, ymax) =\n",
    "  let encoding = VL.encoding\n",
    "            . VL.position VL.X [VL.PName xName, VL.PmType VL.Quantitative, VL.PScale [VL.SDomain $ VL.DNumbers [xmin, xmax]]]\n",
    "            . VL.position VL.Y [VL.PName yName, VL.PmType VL.Quantitative, VL.PScale [VL.SDomain $ VL.DNumbers [ymin, ymax]]]\n",
    "            . VL.color [ VL.MName zName, VL.MmType VL.Quantitative, VL.MScale [VL.SScheme \"blues\" [0.0, 1.0]]]\n",
    "  in VL.asSpec [VL.mark VL.Circle [], encoding []]\n",
    "\n",
    "density2DPlot :: Text -> Text -> (Double, Double) -> (Double, Double) -> VL.VLSpec\n",
    "density2DPlot xName yName (xmin, xmax) (ymin, ymax) = \n",
    "  let encoding = VL.encoding\n",
    "            . VL.position VL.X [VL.PName xName, VL.PBin [VL.Nice False, VL.Steps [0.05, 0.5, 5.0], VL.Extent xmin xmax], VL.PmType VL.Quantitative]\n",
    "            . VL.position VL.Y [VL.PName yName, VL.PBin [VL.Nice False, VL.Steps [0.05, 0.5, 5.0], VL.Extent ymin ymax], VL.PmType VL.Quantitative]\n",
    "            . VL.color [ VL.MAggregate VL.Count, VL.MName \"col\", VL.MmType VL.Quantitative, VL.MScale [VL.SScheme \"blues\" [0.0, 1.0]]]\n",
    "  in VL.asSpec [VL.mark VL.Rect [], encoding []]\n",
    "\n",
    "imagePlot :: Text -> Text -> Text -> VL.VLSpec\n",
    "imagePlot xName yName zName =\n",
    "  let encoding = VL.encoding\n",
    "            . VL.position VL.X [VL.PName xName, VL.PmType VL.Nominal, VL.PAxis [VL.AxGridOpacity 0.1]]\n",
    "            . VL.position VL.Y [VL.PName yName, VL.PmType VL.Nominal, VL.PSort [VL.Descending], VL.PAxis [VL.AxGridOpacity 0.1]]\n",
    "            . VL.fill [ VL.MName zName, VL.MmType VL.Quantitative, VL.MScale [VL.SScheme \"blues\" [0.0, 1.0]]]\n",
    "            . VL.stroke [ VL.MName zName, VL.MmType VL.Quantitative, VL.MScale [VL.SScheme \"blues\" [0.0, 1.0]],\n",
    "                          VL.MLegend [VL.LType VL.GradientLegend]]\n",
    "  in VL.asSpec [VL.mark VL.Rect [], encoding []]\n",
    "  \n",
    "imageFacetPlot :: Text -> Text -> Text -> VL.VLSpec\n",
    "imageFacetPlot xName yName zName =\n",
    "  let encoding = VL.encoding\n",
    "            . VL.position VL.X [VL.PName xName, VL.PmType VL.Ordinal, VL.PAxis [VL.AxGrid False]]\n",
    "            . VL.position VL.Y [VL.PName yName, VL.PmType VL.Ordinal, VL.PSort [VL.Descending], VL.PAxis [VL.AxGrid False]]\n",
    "            . VL.fill [ VL.MName zName, VL.MmType VL.Quantitative, VL.MScale [VL.SScheme \"blues\" [0.0, 1.0]], VL.MLegend [VL.LOrient VL.LOBottom]]\n",
    "            . VL.stroke [ VL.MName zName, VL.MmType VL.Quantitative, VL.MScale [VL.SScheme \"blues\" [0.0, 1.0]],\n",
    "                          VL.MLegend [VL.LOrient VL.LOBottom, VL.LDirection VL.Horizontal, VL.LType VL.GradientLegend]]\n",
    "  in VL.asSpec [VL.mark VL.Rect [], encoding [], VL.width 200,  VL.height 100]\n",
    "\n",
    "data SpecGrid = H [[VL.VLSpec]] | V [[VL.VLSpec]] | L [VL.VLSpec] | S VL.VLSpec | F (Text, Int, VL.VLSpec)\n",
    "\n",
    "data InputData = Cols [(Text, VL.DataValues)]\n",
    "               | File FilePath\n",
    "\n",
    "plot :: (Double, Double) -> SpecGrid -> InputData -> VL.VegaLite\n",
    "plot (figw,figh) specGrid dataPoints =\n",
    "    let description = VL.description \"Plot\"\n",
    "        dat' = case dataPoints of\n",
    "            Cols cols -> foldl (.) (VL.dataFromColumns []) (map (uncurry VL.dataColumn) cols) []\n",
    "            File fp -> VL.dataFromSource (pack fp) []\n",
    "        configure = VL.configure\n",
    "            . VL.configuration (VL.Axis\n",
    "                                        [ VL.Domain False,\n",
    "                                          VL.LabelColor \"#7F7F7F\",\n",
    "                                          VL.LabelPadding 4,\n",
    "                                          VL.TickColor \"#7F7F7F\",\n",
    "                                          VL.TickSize 5.67,\n",
    "                                          VL.Grid True,\n",
    "                                          VL.GridColor \"#FFFFFF\"\n",
    "                                          ])\n",
    "        spec = case specGrid of\n",
    "            S s -> VL.layer [s]\n",
    "            L ls -> VL.layer ls\n",
    "            H lss -> VL.hConcat (map (VL.asSpec . (:[]) . VL.layer) lss)\n",
    "            V lss -> VL.vConcat (map (VL.asSpec . (:[]) . VL.layer) lss)\n",
    "            F (_, _, s) -> VL.specification s\n",
    "        facet = case specGrid of\n",
    "            F (field, nColumns, _) -> [VL.columns $ fromIntegral nColumns, VL.facetFlow [VL.FName field, VL.FmType VL.Nominal]]\n",
    "            _   -> [VL.width figw,  VL.height figh]\n",
    "    in VL.toVegaLite $ [VL.background \"#f9f9f9\", configure [], description, dat', spec] ++ facet"
   ]
  },
  {
   "cell_type": "markdown",
   "metadata": {},
   "source": [
    "### Introduction\n",
    "\n",
    "In this blog post series, we're going to lead you through Bayesian modeling in Haskell with the [`monad-bayes`](https://github.com/adscib/monad-bayes/tree/647ba7cb5a98ae028600f3d828828616891b40fb) library.\n",
    "We start this series gradually with some simple binary models, move next to linear regression, and finish by building a simple neural network that we \"train\" with a Metropolis-Hastings sampler.\n",
    "You don't need any prior knowledge of Bayesian modeling to understand and learn from these posts—and we keep the code simple and understandable for Haskell newcomers.\n",
    "\n",
    "Want to make this post interactive? Try our [notebook version](https://gist.github.com/MMesch/dee0659e480b572d0b36088a2b08cc57). It includes a Nix shell, the required imports, and some helper routines for plotting. Let's start modeling! "
   ]
  },
  {
   "cell_type": "markdown",
   "metadata": {},
   "source": [
    "## Part 1: First Steps\n",
    "\n",
    "### Sampling\n",
    "\n",
    "In this first part of the series, we introduce two fundamental concepts of `monad-bayes`: `sampling` and `scoring`.\n",
    "We examine them based on one of the simplest probabilistic models that we can think of—a model that represents a `True` or `False` choice.\n",
    "You can use it, for example, to describe the answer to a question such as \"Did it rain yesterday?\".\n",
    "\n",
    "The model is parameterized by a boolean `b`, and in this simple case, `b` is also directly the model output.\n",
    "Without additional information, we assign equal probabilities `0.5` to each value that `b` can take (50% `True`, 50% `False`).\n",
    "In other words, we get the model parameter `b` from a discrete uniform [prior](https://en.wikipedia.org/wiki/Prior_probability) distribution.\n",
    "\n",
    "Let's see how the model looks like in the`monad-bayes`library:"
   ]
  },
  {
   "cell_type": "code",
   "execution_count": 6,
   "metadata": {},
   "outputs": [
    {
     "data": {
      "text/html": [
       "<style>/* Styles used for the Hoogle display in the pager */\n",
       ".hoogle-doc {\n",
       "display: block;\n",
       "padding-bottom: 1.3em;\n",
       "padding-left: 0.4em;\n",
       "}\n",
       ".hoogle-code {\n",
       "display: block;\n",
       "font-family: monospace;\n",
       "white-space: pre;\n",
       "}\n",
       ".hoogle-text {\n",
       "display: block;\n",
       "}\n",
       ".hoogle-name {\n",
       "color: green;\n",
       "font-weight: bold;\n",
       "}\n",
       ".hoogle-head {\n",
       "font-weight: bold;\n",
       "}\n",
       ".hoogle-sub {\n",
       "display: block;\n",
       "margin-left: 0.4em;\n",
       "}\n",
       ".hoogle-package {\n",
       "font-weight: bold;\n",
       "font-style: italic;\n",
       "}\n",
       ".hoogle-module {\n",
       "font-weight: bold;\n",
       "}\n",
       ".hoogle-class {\n",
       "font-weight: bold;\n",
       "}\n",
       ".get-type {\n",
       "color: green;\n",
       "font-weight: bold;\n",
       "font-family: monospace;\n",
       "display: block;\n",
       "white-space: pre-wrap;\n",
       "}\n",
       ".show-type {\n",
       "color: green;\n",
       "font-weight: bold;\n",
       "font-family: monospace;\n",
       "margin-left: 1em;\n",
       "}\n",
       ".mono {\n",
       "font-family: monospace;\n",
       "display: block;\n",
       "}\n",
       ".err-msg {\n",
       "color: red;\n",
       "font-style: italic;\n",
       "font-family: monospace;\n",
       "white-space: pre;\n",
       "display: block;\n",
       "}\n",
       "#unshowable {\n",
       "color: red;\n",
       "font-weight: bold;\n",
       "}\n",
       ".err-msg.in.collapse {\n",
       "padding-top: 0.7em;\n",
       "}\n",
       ".highlight-code {\n",
       "white-space: pre;\n",
       "font-family: monospace;\n",
       "}\n",
       ".suggestion-warning { \n",
       "font-weight: bold;\n",
       "color: rgb(200, 130, 0);\n",
       "}\n",
       ".suggestion-error { \n",
       "font-weight: bold;\n",
       "color: red;\n",
       "}\n",
       ".suggestion-name {\n",
       "font-weight: bold;\n",
       "}\n",
       "</style><div class=\"suggestion-name\" style=\"clear:both;\">Redundant return</div><div class=\"suggestion-row\" style=\"float: left;\"><div class=\"suggestion-warning\">Found:</div><div class=\"highlight-code\" id=\"haskell\">do b <- uniformD [False, True]\n",
       "   return b</div></div><div class=\"suggestion-row\" style=\"float: left;\"><div class=\"suggestion-warning\">Why Not:</div><div class=\"highlight-code\" id=\"haskell\">do uniformD [False, True]</div></div>"
      ],
      "text/plain": [
       "Line 2: Redundant return\n",
       "Found:\n",
       "do b <- uniformD [False, True]\n",
       "   return b\n",
       "Why not:\n",
       "do uniformD [False, True]"
      ]
     },
     "metadata": {},
     "output_type": "display_data"
    }
   ],
   "source": [
    "model1 :: MonadSample m => m Bool\n",
    "model1 = do\n",
    "    b <- uniformD [False, True]\n",
    "    return b"
   ]
  },
  {
   "cell_type": "markdown",
   "metadata": {},
   "source": [
    "In `monad-bayes` a model is expressed through the typeclass `MonadSample`.\n",
    "The `MonadSample` typeclass provides a function `random` to our `model1` that returns a random sample from it.\n",
    "The type of the sample itself is set to `Bool` in our case.\n",
    "\n",
    "We define our model by binding together other basic `MonadSample` models.\n",
    "In this case, for example, we build our model from the `uniformD` distribution that is provided by `monad-bayes`\n",
    "The model, that is the chain of actions that are bound together in _MonadSample_, is not executed until we start sampling from the model.\n",
    "Once we sample, the resulting chain of actions that is executed is simple:\n",
    "draw `b` from a discrete uniform distribution (_uniformD_) and then return its value.\n",
    "\n",
    "Sampling can be executed with:"
   ]
  },
  {
   "cell_type": "code",
   "execution_count": 7,
   "metadata": {},
   "outputs": [
    {
     "data": {
      "text/plain": [
       "False"
      ]
     },
     "metadata": {},
     "output_type": "display_data"
    }
   ],
   "source": [
    "sampleIOfixed model1"
   ]
  },
  {
   "cell_type": "markdown",
   "metadata": {},
   "source": [
    "We can get a list of samples with Haskell's `replicateM` function:"
   ]
  },
  {
   "cell_type": "code",
   "execution_count": 8,
   "metadata": {},
   "outputs": [],
   "source": [
    "nsamples = 1000\n",
    "samples <- sampleIOfixed $ replicateM nsamples model1"
   ]
  },
  {
   "cell_type": "markdown",
   "metadata": {},
   "source": [
    "Then plot the result afterwards with [Vega-Lite](https://github.com/vega/vega-lite#readme) (module `VL`).\n",
    "You can find our custom plotting functions for Vega-Lite in the notebook."
   ]
  },
  {
   "cell_type": "code",
   "execution_count": 17,
   "metadata": {},
   "outputs": [
    {
     "data": {
      "application/vnd.vegalite.v4+json": {
       "$schema": "https://vega.github.io/schema/vega-lite/v4.json",
       "background": "#f9f9f9",
       "config": {
        "axis": {
         "domain": false,
         "grid": true,
         "gridColor": "#FFFFFF",
         "labelColor": "#7F7F7F",
         "labelPadding": 4,
         "tickColor": "#7F7F7F",
         "tickSize": 5.67
        }
       },
       "data": {
        "values": [
         {
          "b": false
         },
         {
          "b": true
         },
         {
          "b": true
         },
         {
          "b": false
         },
         {
          "b": true
         },
         {
          "b": false
         },
         {
          "b": false
         },
         {
          "b": false
         },
         {
          "b": false
         },
         {
          "b": true
         },
         {
          "b": false
         },
         {
          "b": true
         },
         {
          "b": false
         },
         {
          "b": false
         },
         {
          "b": false
         },
         {
          "b": true
         },
         {
          "b": false
         },
         {
          "b": false
         },
         {
          "b": false
         },
         {
          "b": false
         },
         {
          "b": false
         },
         {
          "b": true
         },
         {
          "b": false
         },
         {
          "b": false
         },
         {
          "b": false
         },
         {
          "b": false
         },
         {
          "b": true
         },
         {
          "b": true
         },
         {
          "b": true
         },
         {
          "b": false
         },
         {
          "b": false
         },
         {
          "b": true
         },
         {
          "b": true
         },
         {
          "b": false
         },
         {
          "b": false
         },
         {
          "b": false
         },
         {
          "b": true
         },
         {
          "b": false
         },
         {
          "b": true
         },
         {
          "b": false
         },
         {
          "b": false
         },
         {
          "b": false
         },
         {
          "b": true
         },
         {
          "b": false
         },
         {
          "b": true
         },
         {
          "b": false
         },
         {
          "b": false
         },
         {
          "b": true
         },
         {
          "b": true
         },
         {
          "b": true
         },
         {
          "b": false
         },
         {
          "b": true
         },
         {
          "b": false
         },
         {
          "b": true
         },
         {
          "b": true
         },
         {
          "b": false
         },
         {
          "b": false
         },
         {
          "b": true
         },
         {
          "b": true
         },
         {
          "b": false
         },
         {
          "b": false
         },
         {
          "b": true
         },
         {
          "b": false
         },
         {
          "b": true
         },
         {
          "b": false
         },
         {
          "b": true
         },
         {
          "b": false
         },
         {
          "b": true
         },
         {
          "b": false
         },
         {
          "b": true
         },
         {
          "b": false
         },
         {
          "b": true
         },
         {
          "b": false
         },
         {
          "b": false
         },
         {
          "b": false
         },
         {
          "b": true
         },
         {
          "b": false
         },
         {
          "b": true
         },
         {
          "b": false
         },
         {
          "b": true
         },
         {
          "b": false
         },
         {
          "b": true
         },
         {
          "b": false
         },
         {
          "b": true
         },
         {
          "b": false
         },
         {
          "b": true
         },
         {
          "b": false
         },
         {
          "b": true
         },
         {
          "b": false
         },
         {
          "b": false
         },
         {
          "b": false
         },
         {
          "b": true
         },
         {
          "b": false
         },
         {
          "b": false
         },
         {
          "b": false
         },
         {
          "b": false
         },
         {
          "b": false
         },
         {
          "b": false
         },
         {
          "b": true
         },
         {
          "b": true
         },
         {
          "b": false
         },
         {
          "b": false
         },
         {
          "b": true
         },
         {
          "b": true
         },
         {
          "b": false
         },
         {
          "b": true
         },
         {
          "b": true
         },
         {
          "b": false
         },
         {
          "b": false
         },
         {
          "b": true
         },
         {
          "b": false
         },
         {
          "b": true
         },
         {
          "b": true
         },
         {
          "b": true
         },
         {
          "b": false
         },
         {
          "b": true
         },
         {
          "b": false
         },
         {
          "b": true
         },
         {
          "b": true
         },
         {
          "b": false
         },
         {
          "b": false
         },
         {
          "b": true
         },
         {
          "b": false
         },
         {
          "b": true
         },
         {
          "b": false
         },
         {
          "b": false
         },
         {
          "b": true
         },
         {
          "b": true
         },
         {
          "b": true
         },
         {
          "b": false
         },
         {
          "b": false
         },
         {
          "b": true
         },
         {
          "b": false
         },
         {
          "b": false
         },
         {
          "b": true
         },
         {
          "b": false
         },
         {
          "b": false
         },
         {
          "b": true
         },
         {
          "b": true
         },
         {
          "b": true
         },
         {
          "b": false
         },
         {
          "b": true
         },
         {
          "b": true
         },
         {
          "b": true
         },
         {
          "b": false
         },
         {
          "b": true
         },
         {
          "b": false
         },
         {
          "b": true
         },
         {
          "b": true
         },
         {
          "b": true
         },
         {
          "b": false
         },
         {
          "b": true
         },
         {
          "b": true
         },
         {
          "b": true
         },
         {
          "b": true
         },
         {
          "b": false
         },
         {
          "b": false
         },
         {
          "b": true
         },
         {
          "b": false
         },
         {
          "b": false
         },
         {
          "b": false
         },
         {
          "b": true
         },
         {
          "b": true
         },
         {
          "b": true
         },
         {
          "b": true
         },
         {
          "b": true
         },
         {
          "b": true
         },
         {
          "b": true
         },
         {
          "b": false
         },
         {
          "b": true
         },
         {
          "b": false
         },
         {
          "b": false
         },
         {
          "b": true
         },
         {
          "b": false
         },
         {
          "b": true
         },
         {
          "b": false
         },
         {
          "b": false
         },
         {
          "b": true
         },
         {
          "b": true
         },
         {
          "b": false
         },
         {
          "b": false
         },
         {
          "b": true
         },
         {
          "b": false
         },
         {
          "b": false
         },
         {
          "b": false
         },
         {
          "b": true
         },
         {
          "b": false
         },
         {
          "b": false
         },
         {
          "b": true
         },
         {
          "b": true
         },
         {
          "b": false
         },
         {
          "b": true
         },
         {
          "b": false
         },
         {
          "b": true
         },
         {
          "b": false
         },
         {
          "b": false
         },
         {
          "b": true
         },
         {
          "b": true
         },
         {
          "b": true
         },
         {
          "b": true
         },
         {
          "b": true
         },
         {
          "b": true
         },
         {
          "b": false
         },
         {
          "b": true
         },
         {
          "b": false
         },
         {
          "b": false
         },
         {
          "b": true
         },
         {
          "b": true
         },
         {
          "b": false
         },
         {
          "b": true
         },
         {
          "b": true
         },
         {
          "b": false
         },
         {
          "b": true
         },
         {
          "b": true
         },
         {
          "b": true
         },
         {
          "b": false
         },
         {
          "b": false
         },
         {
          "b": true
         },
         {
          "b": true
         },
         {
          "b": true
         },
         {
          "b": true
         },
         {
          "b": false
         },
         {
          "b": false
         },
         {
          "b": false
         },
         {
          "b": false
         },
         {
          "b": true
         },
         {
          "b": false
         },
         {
          "b": false
         },
         {
          "b": true
         },
         {
          "b": false
         },
         {
          "b": true
         },
         {
          "b": true
         },
         {
          "b": true
         },
         {
          "b": false
         },
         {
          "b": true
         },
         {
          "b": false
         },
         {
          "b": false
         },
         {
          "b": true
         },
         {
          "b": false
         },
         {
          "b": false
         },
         {
          "b": true
         },
         {
          "b": false
         },
         {
          "b": false
         },
         {
          "b": true
         },
         {
          "b": false
         },
         {
          "b": true
         },
         {
          "b": false
         },
         {
          "b": true
         },
         {
          "b": false
         },
         {
          "b": false
         },
         {
          "b": false
         },
         {
          "b": false
         },
         {
          "b": true
         },
         {
          "b": false
         },
         {
          "b": true
         },
         {
          "b": true
         },
         {
          "b": false
         },
         {
          "b": false
         },
         {
          "b": true
         },
         {
          "b": true
         },
         {
          "b": false
         },
         {
          "b": false
         },
         {
          "b": false
         },
         {
          "b": false
         },
         {
          "b": true
         },
         {
          "b": false
         },
         {
          "b": false
         },
         {
          "b": false
         },
         {
          "b": true
         },
         {
          "b": true
         },
         {
          "b": false
         },
         {
          "b": true
         },
         {
          "b": true
         },
         {
          "b": false
         },
         {
          "b": true
         },
         {
          "b": false
         },
         {
          "b": false
         },
         {
          "b": true
         },
         {
          "b": true
         },
         {
          "b": true
         },
         {
          "b": false
         },
         {
          "b": true
         },
         {
          "b": false
         },
         {
          "b": true
         },
         {
          "b": false
         },
         {
          "b": false
         },
         {
          "b": false
         },
         {
          "b": false
         },
         {
          "b": false
         },
         {
          "b": false
         },
         {
          "b": true
         },
         {
          "b": true
         },
         {
          "b": true
         },
         {
          "b": false
         },
         {
          "b": true
         },
         {
          "b": true
         },
         {
          "b": false
         },
         {
          "b": false
         },
         {
          "b": true
         },
         {
          "b": true
         },
         {
          "b": false
         },
         {
          "b": false
         },
         {
          "b": true
         },
         {
          "b": true
         },
         {
          "b": true
         },
         {
          "b": true
         },
         {
          "b": false
         },
         {
          "b": false
         },
         {
          "b": false
         },
         {
          "b": false
         },
         {
          "b": true
         },
         {
          "b": false
         },
         {
          "b": true
         },
         {
          "b": true
         },
         {
          "b": true
         },
         {
          "b": true
         },
         {
          "b": true
         },
         {
          "b": false
         },
         {
          "b": true
         },
         {
          "b": true
         },
         {
          "b": false
         },
         {
          "b": true
         },
         {
          "b": true
         },
         {
          "b": true
         },
         {
          "b": true
         },
         {
          "b": true
         },
         {
          "b": false
         },
         {
          "b": true
         },
         {
          "b": false
         },
         {
          "b": false
         },
         {
          "b": true
         },
         {
          "b": true
         },
         {
          "b": true
         },
         {
          "b": true
         },
         {
          "b": true
         },
         {
          "b": true
         },
         {
          "b": true
         },
         {
          "b": true
         },
         {
          "b": true
         },
         {
          "b": false
         },
         {
          "b": true
         },
         {
          "b": true
         },
         {
          "b": true
         },
         {
          "b": false
         },
         {
          "b": true
         },
         {
          "b": false
         },
         {
          "b": false
         },
         {
          "b": false
         },
         {
          "b": false
         },
         {
          "b": false
         },
         {
          "b": false
         },
         {
          "b": false
         },
         {
          "b": false
         },
         {
          "b": false
         },
         {
          "b": true
         },
         {
          "b": false
         },
         {
          "b": false
         },
         {
          "b": true
         },
         {
          "b": true
         },
         {
          "b": true
         },
         {
          "b": true
         },
         {
          "b": false
         },
         {
          "b": false
         },
         {
          "b": true
         },
         {
          "b": true
         },
         {
          "b": false
         },
         {
          "b": true
         },
         {
          "b": false
         },
         {
          "b": true
         },
         {
          "b": true
         },
         {
          "b": false
         },
         {
          "b": true
         },
         {
          "b": false
         },
         {
          "b": true
         },
         {
          "b": true
         },
         {
          "b": false
         },
         {
          "b": true
         },
         {
          "b": false
         },
         {
          "b": true
         },
         {
          "b": true
         },
         {
          "b": true
         },
         {
          "b": false
         },
         {
          "b": false
         },
         {
          "b": true
         },
         {
          "b": true
         },
         {
          "b": true
         },
         {
          "b": false
         },
         {
          "b": true
         },
         {
          "b": true
         },
         {
          "b": true
         },
         {
          "b": false
         },
         {
          "b": false
         },
         {
          "b": true
         },
         {
          "b": true
         },
         {
          "b": false
         },
         {
          "b": true
         },
         {
          "b": false
         },
         {
          "b": true
         },
         {
          "b": false
         },
         {
          "b": false
         },
         {
          "b": false
         },
         {
          "b": false
         },
         {
          "b": true
         },
         {
          "b": true
         },
         {
          "b": false
         },
         {
          "b": false
         },
         {
          "b": true
         },
         {
          "b": false
         },
         {
          "b": true
         },
         {
          "b": true
         },
         {
          "b": false
         },
         {
          "b": true
         },
         {
          "b": false
         },
         {
          "b": true
         },
         {
          "b": true
         },
         {
          "b": false
         },
         {
          "b": true
         },
         {
          "b": false
         },
         {
          "b": false
         },
         {
          "b": false
         },
         {
          "b": false
         },
         {
          "b": true
         },
         {
          "b": false
         },
         {
          "b": true
         },
         {
          "b": false
         },
         {
          "b": true
         },
         {
          "b": false
         },
         {
          "b": false
         },
         {
          "b": false
         },
         {
          "b": true
         },
         {
          "b": true
         },
         {
          "b": true
         },
         {
          "b": false
         },
         {
          "b": false
         },
         {
          "b": true
         },
         {
          "b": false
         },
         {
          "b": true
         },
         {
          "b": true
         },
         {
          "b": false
         },
         {
          "b": true
         },
         {
          "b": false
         },
         {
          "b": true
         },
         {
          "b": true
         },
         {
          "b": false
         },
         {
          "b": true
         },
         {
          "b": true
         },
         {
          "b": true
         },
         {
          "b": true
         },
         {
          "b": true
         },
         {
          "b": false
         },
         {
          "b": false
         },
         {
          "b": true
         },
         {
          "b": false
         },
         {
          "b": false
         },
         {
          "b": true
         },
         {
          "b": true
         },
         {
          "b": true
         },
         {
          "b": false
         },
         {
          "b": false
         },
         {
          "b": false
         },
         {
          "b": false
         },
         {
          "b": true
         },
         {
          "b": true
         },
         {
          "b": true
         },
         {
          "b": false
         },
         {
          "b": true
         },
         {
          "b": false
         },
         {
          "b": true
         },
         {
          "b": true
         },
         {
          "b": true
         },
         {
          "b": false
         },
         {
          "b": false
         },
         {
          "b": false
         },
         {
          "b": false
         },
         {
          "b": true
         },
         {
          "b": true
         },
         {
          "b": true
         },
         {
          "b": false
         },
         {
          "b": true
         },
         {
          "b": true
         },
         {
          "b": true
         },
         {
          "b": false
         },
         {
          "b": false
         },
         {
          "b": true
         },
         {
          "b": false
         },
         {
          "b": false
         },
         {
          "b": true
         },
         {
          "b": true
         },
         {
          "b": false
         },
         {
          "b": false
         },
         {
          "b": true
         },
         {
          "b": false
         },
         {
          "b": true
         },
         {
          "b": false
         },
         {
          "b": false
         },
         {
          "b": false
         },
         {
          "b": true
         },
         {
          "b": true
         },
         {
          "b": false
         },
         {
          "b": true
         },
         {
          "b": true
         },
         {
          "b": false
         },
         {
          "b": true
         },
         {
          "b": false
         },
         {
          "b": true
         },
         {
          "b": true
         },
         {
          "b": false
         },
         {
          "b": true
         },
         {
          "b": true
         },
         {
          "b": true
         },
         {
          "b": false
         },
         {
          "b": true
         },
         {
          "b": false
         },
         {
          "b": false
         },
         {
          "b": true
         },
         {
          "b": false
         },
         {
          "b": true
         },
         {
          "b": true
         },
         {
          "b": false
         },
         {
          "b": false
         },
         {
          "b": true
         },
         {
          "b": true
         },
         {
          "b": true
         },
         {
          "b": true
         },
         {
          "b": true
         },
         {
          "b": false
         },
         {
          "b": false
         },
         {
          "b": true
         },
         {
          "b": false
         },
         {
          "b": true
         },
         {
          "b": false
         },
         {
          "b": false
         },
         {
          "b": true
         },
         {
          "b": false
         },
         {
          "b": false
         },
         {
          "b": false
         },
         {
          "b": true
         },
         {
          "b": false
         },
         {
          "b": false
         },
         {
          "b": false
         },
         {
          "b": false
         },
         {
          "b": true
         },
         {
          "b": true
         },
         {
          "b": true
         },
         {
          "b": false
         },
         {
          "b": true
         },
         {
          "b": false
         },
         {
          "b": true
         },
         {
          "b": false
         },
         {
          "b": true
         },
         {
          "b": false
         },
         {
          "b": true
         },
         {
          "b": false
         },
         {
          "b": false
         },
         {
          "b": false
         },
         {
          "b": true
         },
         {
          "b": false
         },
         {
          "b": false
         },
         {
          "b": true
         },
         {
          "b": false
         },
         {
          "b": false
         },
         {
          "b": true
         },
         {
          "b": false
         },
         {
          "b": true
         },
         {
          "b": true
         },
         {
          "b": false
         },
         {
          "b": true
         },
         {
          "b": false
         },
         {
          "b": false
         },
         {
          "b": false
         },
         {
          "b": false
         },
         {
          "b": true
         },
         {
          "b": true
         },
         {
          "b": true
         },
         {
          "b": true
         },
         {
          "b": false
         },
         {
          "b": false
         },
         {
          "b": true
         },
         {
          "b": true
         },
         {
          "b": true
         },
         {
          "b": false
         },
         {
          "b": true
         },
         {
          "b": false
         },
         {
          "b": false
         },
         {
          "b": true
         },
         {
          "b": true
         },
         {
          "b": false
         },
         {
          "b": false
         },
         {
          "b": true
         },
         {
          "b": true
         },
         {
          "b": true
         },
         {
          "b": true
         },
         {
          "b": false
         },
         {
          "b": true
         },
         {
          "b": true
         },
         {
          "b": true
         },
         {
          "b": false
         },
         {
          "b": true
         },
         {
          "b": true
         },
         {
          "b": false
         },
         {
          "b": true
         },
         {
          "b": false
         },
         {
          "b": false
         },
         {
          "b": false
         },
         {
          "b": true
         },
         {
          "b": true
         },
         {
          "b": false
         },
         {
          "b": false
         },
         {
          "b": true
         },
         {
          "b": false
         },
         {
          "b": true
         },
         {
          "b": false
         },
         {
          "b": true
         },
         {
          "b": true
         },
         {
          "b": false
         },
         {
          "b": false
         },
         {
          "b": true
         },
         {
          "b": true
         },
         {
          "b": false
         },
         {
          "b": false
         },
         {
          "b": true
         },
         {
          "b": false
         },
         {
          "b": true
         },
         {
          "b": false
         },
         {
          "b": false
         },
         {
          "b": true
         },
         {
          "b": false
         },
         {
          "b": false
         },
         {
          "b": true
         },
         {
          "b": true
         },
         {
          "b": false
         },
         {
          "b": false
         },
         {
          "b": true
         },
         {
          "b": true
         },
         {
          "b": true
         },
         {
          "b": false
         },
         {
          "b": true
         },
         {
          "b": true
         },
         {
          "b": false
         },
         {
          "b": false
         },
         {
          "b": false
         },
         {
          "b": true
         },
         {
          "b": false
         },
         {
          "b": true
         },
         {
          "b": true
         },
         {
          "b": false
         },
         {
          "b": true
         },
         {
          "b": false
         },
         {
          "b": true
         },
         {
          "b": false
         },
         {
          "b": true
         },
         {
          "b": true
         },
         {
          "b": false
         },
         {
          "b": false
         },
         {
          "b": true
         },
         {
          "b": true
         },
         {
          "b": true
         },
         {
          "b": false
         },
         {
          "b": false
         },
         {
          "b": true
         },
         {
          "b": true
         },
         {
          "b": false
         },
         {
          "b": true
         },
         {
          "b": true
         },
         {
          "b": true
         },
         {
          "b": true
         },
         {
          "b": true
         },
         {
          "b": true
         },
         {
          "b": false
         },
         {
          "b": true
         },
         {
          "b": false
         },
         {
          "b": false
         },
         {
          "b": false
         },
         {
          "b": false
         },
         {
          "b": false
         },
         {
          "b": true
         },
         {
          "b": false
         },
         {
          "b": true
         },
         {
          "b": false
         },
         {
          "b": true
         },
         {
          "b": true
         },
         {
          "b": false
         },
         {
          "b": true
         },
         {
          "b": true
         },
         {
          "b": false
         },
         {
          "b": false
         },
         {
          "b": true
         },
         {
          "b": true
         },
         {
          "b": false
         },
         {
          "b": false
         },
         {
          "b": true
         },
         {
          "b": true
         },
         {
          "b": false
         },
         {
          "b": false
         },
         {
          "b": true
         },
         {
          "b": false
         },
         {
          "b": true
         },
         {
          "b": true
         },
         {
          "b": true
         },
         {
          "b": true
         },
         {
          "b": true
         },
         {
          "b": true
         },
         {
          "b": false
         },
         {
          "b": false
         },
         {
          "b": true
         },
         {
          "b": true
         },
         {
          "b": true
         },
         {
          "b": false
         },
         {
          "b": false
         },
         {
          "b": false
         },
         {
          "b": false
         },
         {
          "b": false
         },
         {
          "b": false
         },
         {
          "b": false
         },
         {
          "b": true
         },
         {
          "b": false
         },
         {
          "b": false
         },
         {
          "b": false
         },
         {
          "b": false
         },
         {
          "b": false
         },
         {
          "b": true
         },
         {
          "b": true
         },
         {
          "b": true
         },
         {
          "b": false
         },
         {
          "b": true
         },
         {
          "b": false
         },
         {
          "b": false
         },
         {
          "b": false
         },
         {
          "b": false
         },
         {
          "b": true
         },
         {
          "b": false
         },
         {
          "b": false
         },
         {
          "b": true
         },
         {
          "b": false
         },
         {
          "b": false
         },
         {
          "b": false
         },
         {
          "b": false
         },
         {
          "b": true
         },
         {
          "b": true
         },
         {
          "b": true
         },
         {
          "b": true
         },
         {
          "b": false
         },
         {
          "b": true
         },
         {
          "b": true
         },
         {
          "b": false
         },
         {
          "b": true
         },
         {
          "b": true
         },
         {
          "b": false
         },
         {
          "b": true
         },
         {
          "b": false
         },
         {
          "b": false
         },
         {
          "b": false
         },
         {
          "b": false
         },
         {
          "b": false
         },
         {
          "b": false
         },
         {
          "b": false
         },
         {
          "b": false
         },
         {
          "b": false
         },
         {
          "b": true
         },
         {
          "b": false
         },
         {
          "b": true
         },
         {
          "b": false
         },
         {
          "b": false
         },
         {
          "b": true
         },
         {
          "b": true
         },
         {
          "b": true
         },
         {
          "b": true
         },
         {
          "b": false
         },
         {
          "b": false
         },
         {
          "b": true
         },
         {
          "b": false
         },
         {
          "b": true
         },
         {
          "b": true
         },
         {
          "b": false
         },
         {
          "b": false
         },
         {
          "b": false
         },
         {
          "b": true
         },
         {
          "b": false
         },
         {
          "b": false
         },
         {
          "b": true
         },
         {
          "b": true
         },
         {
          "b": false
         },
         {
          "b": true
         },
         {
          "b": false
         },
         {
          "b": false
         },
         {
          "b": true
         },
         {
          "b": true
         },
         {
          "b": true
         },
         {
          "b": false
         },
         {
          "b": false
         },
         {
          "b": false
         },
         {
          "b": false
         },
         {
          "b": true
         },
         {
          "b": false
         },
         {
          "b": false
         },
         {
          "b": false
         },
         {
          "b": true
         },
         {
          "b": false
         },
         {
          "b": false
         },
         {
          "b": false
         },
         {
          "b": true
         },
         {
          "b": true
         },
         {
          "b": true
         },
         {
          "b": true
         },
         {
          "b": true
         },
         {
          "b": true
         },
         {
          "b": false
         },
         {
          "b": true
         },
         {
          "b": true
         },
         {
          "b": false
         },
         {
          "b": false
         },
         {
          "b": false
         },
         {
          "b": true
         },
         {
          "b": true
         },
         {
          "b": true
         },
         {
          "b": true
         },
         {
          "b": false
         },
         {
          "b": false
         },
         {
          "b": false
         },
         {
          "b": false
         },
         {
          "b": false
         },
         {
          "b": true
         },
         {
          "b": false
         },
         {
          "b": false
         },
         {
          "b": false
         },
         {
          "b": false
         },
         {
          "b": true
         },
         {
          "b": false
         },
         {
          "b": true
         },
         {
          "b": false
         },
         {
          "b": false
         },
         {
          "b": false
         },
         {
          "b": false
         },
         {
          "b": false
         },
         {
          "b": false
         },
         {
          "b": false
         },
         {
          "b": false
         },
         {
          "b": false
         },
         {
          "b": false
         },
         {
          "b": true
         },
         {
          "b": true
         },
         {
          "b": false
         },
         {
          "b": true
         },
         {
          "b": true
         },
         {
          "b": false
         },
         {
          "b": true
         },
         {
          "b": false
         },
         {
          "b": true
         },
         {
          "b": true
         },
         {
          "b": false
         },
         {
          "b": true
         },
         {
          "b": false
         },
         {
          "b": false
         },
         {
          "b": false
         },
         {
          "b": true
         },
         {
          "b": false
         },
         {
          "b": true
         },
         {
          "b": true
         },
         {
          "b": false
         },
         {
          "b": false
         },
         {
          "b": false
         },
         {
          "b": true
         },
         {
          "b": true
         },
         {
          "b": true
         },
         {
          "b": false
         },
         {
          "b": false
         },
         {
          "b": false
         },
         {
          "b": false
         },
         {
          "b": false
         },
         {
          "b": false
         },
         {
          "b": true
         },
         {
          "b": false
         },
         {
          "b": false
         },
         {
          "b": false
         },
         {
          "b": false
         },
         {
          "b": true
         },
         {
          "b": true
         },
         {
          "b": false
         },
         {
          "b": true
         },
         {
          "b": true
         },
         {
          "b": false
         },
         {
          "b": true
         },
         {
          "b": true
         },
         {
          "b": false
         },
         {
          "b": true
         },
         {
          "b": false
         },
         {
          "b": false
         },
         {
          "b": true
         },
         {
          "b": false
         },
         {
          "b": false
         },
         {
          "b": true
         },
         {
          "b": true
         },
         {
          "b": true
         },
         {
          "b": false
         },
         {
          "b": true
         },
         {
          "b": false
         },
         {
          "b": true
         },
         {
          "b": true
         },
         {
          "b": false
         },
         {
          "b": false
         },
         {
          "b": true
         },
         {
          "b": true
         },
         {
          "b": false
         },
         {
          "b": false
         },
         {
          "b": false
         },
         {
          "b": true
         },
         {
          "b": true
         },
         {
          "b": false
         },
         {
          "b": false
         },
         {
          "b": true
         },
         {
          "b": true
         },
         {
          "b": true
         },
         {
          "b": true
         },
         {
          "b": false
         },
         {
          "b": false
         },
         {
          "b": false
         },
         {
          "b": true
         },
         {
          "b": false
         },
         {
          "b": true
         },
         {
          "b": true
         },
         {
          "b": true
         },
         {
          "b": false
         },
         {
          "b": false
         },
         {
          "b": false
         },
         {
          "b": false
         },
         {
          "b": true
         },
         {
          "b": true
         },
         {
          "b": true
         },
         {
          "b": true
         },
         {
          "b": true
         },
         {
          "b": false
         },
         {
          "b": false
         },
         {
          "b": false
         },
         {
          "b": false
         },
         {
          "b": false
         },
         {
          "b": true
         },
         {
          "b": true
         },
         {
          "b": false
         },
         {
          "b": true
         },
         {
          "b": false
         },
         {
          "b": false
         },
         {
          "b": false
         },
         {
          "b": true
         },
         {
          "b": false
         },
         {
          "b": true
         },
         {
          "b": false
         },
         {
          "b": false
         },
         {
          "b": false
         },
         {
          "b": true
         },
         {
          "b": false
         },
         {
          "b": true
         },
         {
          "b": false
         },
         {
          "b": false
         },
         {
          "b": false
         },
         {
          "b": true
         },
         {
          "b": false
         },
         {
          "b": false
         },
         {
          "b": true
         },
         {
          "b": true
         },
         {
          "b": true
         },
         {
          "b": false
         },
         {
          "b": true
         },
         {
          "b": true
         },
         {
          "b": true
         },
         {
          "b": false
         },
         {
          "b": true
         },
         {
          "b": true
         },
         {
          "b": true
         },
         {
          "b": false
         },
         {
          "b": true
         },
         {
          "b": true
         },
         {
          "b": false
         },
         {
          "b": false
         },
         {
          "b": false
         },
         {
          "b": true
         },
         {
          "b": true
         },
         {
          "b": true
         },
         {
          "b": false
         },
         {
          "b": true
         },
         {
          "b": false
         },
         {
          "b": false
         },
         {
          "b": false
         },
         {
          "b": false
         },
         {
          "b": false
         },
         {
          "b": true
         },
         {
          "b": false
         },
         {
          "b": true
         },
         {
          "b": false
         },
         {
          "b": false
         },
         {
          "b": true
         },
         {
          "b": false
         },
         {
          "b": true
         },
         {
          "b": true
         },
         {
          "b": false
         },
         {
          "b": true
         },
         {
          "b": true
         },
         {
          "b": false
         },
         {
          "b": true
         },
         {
          "b": true
         },
         {
          "b": false
         }
        ]
       },
       "description": "Plot",
       "height": 100,
       "layer": [
        {
         "encoding": {
          "x": {
           "field": "b",
           "type": "nominal"
          },
          "y": {
           "aggregate": "count",
           "axis": {
            "title": "count"
           },
           "field": "binnedData",
           "type": "quantitative"
          }
         },
         "mark": {
          "color": "#a3c6de",
          "opacity": 1,
          "type": "bar"
         }
        }
       ],
       "width": 200
      },
      "image/png": "[encoded data removed]"
     },
     "metadata": {},
     "output_type": "display_data"
    }
   ],
   "source": [
    "vlShow $ plot (200, 100) (L [barPlot \"b\"]) (Cols [(\"b\", VL.Booleans samples)])"
   ]
  },
  {
   "cell_type": "markdown",
   "metadata": {},
   "source": [
    "So far, so good: we now have a model that represents a distribution of `True/False` values and we can draw samples from it.\n",
    "But how can we include observations into this model?"
   ]
  },
  {
   "cell_type": "markdown",
   "metadata": {},
   "source": [
    "## Scoring\n",
    "\n",
    "Consider again `model1` as the answer to \"Did it rain yesterday?\".\n",
    "What if we found out \"Yes, it did rain yesterday!\"?\n",
    "To include this new knowledge, we need to update the distribution of the model parameter `b`.\n",
    "\n",
    "In `monad-bayes` the function `score` is responsible for making samples more or less likely—by a factor.\n",
    "Don't worry if you are mystified by this explanation, we'll explain more in a moment.\n",
    "But first check out `model2` that uses `score` to include the observation:"
   ]
  },
  {
   "cell_type": "code",
   "execution_count": 20,
   "metadata": {},
   "outputs": [
    {
     "ename": "",
     "evalue": "",
     "output_type": "error",
     "traceback": [
      "<interactive>:1:11: error: Not in scope: type constructor or class ‘MonadDistribution’"
     ]
    }
   ],
   "source": [
    "model2 :: MonadDistribution m => m Bool\n",
    "model2 = do\n",
    "    b <- uniformD [False, True]\n",
    "    score (if b then 1.0 else 0.0)\n",
    "    return b"
   ]
  },
  {
   "cell_type": "markdown",
   "metadata": {},
   "source": [
    "Notice the new typeclass `MonadInfer` that allows us to use `score` in addition to sampling.\n",
    "Instead of a single operation, the model is now a chain of actions: _sample_, _score_, …\n",
    "\n",
    "Here's a naive idea of how this could work:\n",
    "assume that the representation of the probability distribution of `b` was a list of tuples `[(0.5, True), (0.5, False)]`.\n",
    "We would multiply this distribution with the distribution of my observation \"Yes, it did rain yesterday!\", that is with `[(1, True), (0, False)]`.\n",
    "Then we would normalize the updated probabilities such that they sum to one, and the job is done.\n",
    "\n",
    "So are we secretly tracking the probability of all samples—the full distribution—at every step (in the Haskell world a.k.a. some variant of the [_Dist_ monad](http://www.randomhacks.net/files/build-your-own-probability-monads.pdf))?\n",
    "Granted, in the case of a `True`/`False` question this might be a good approach—_but this is not what is happening here for very good reasons_:\n",
    "\n",
    "To update a sample's probability as described above we need to track all samples with their probabilities and run global normalization operations on them.\n",
    "We are essentially running computations with full distributions over all possible values.\n",
    "This quickly becomes intractable because a model can basically be any Haskell function with lots and lots of possible outcomes.\n",
    "\n",
    "`monad-bayes` and similar probabilistic frameworks use an elegant approach that do what we want _without dragging around full distributions_.\n",
    "The trick behind is to approximate the outcome distribution by drawing successive samples from it.\n",
    "It turns out that it is enough to know the _relative probability_ of two samples at a time to do this.\n",
    "The relative probability of the two samples is independent of the probability of other samples—computations on full distributions are thus reduced to computations on samples.\n",
    "With appropriate sampling algorithms ([MCMC](https://en.wikipedia.org/wiki/Markov_chain_Monte_Carlo)) we can approximate the outcome distribution despite this limited knowledge.\n",
    "It is difficult to overstate the implications:\n",
    "with MCMC we can address all kinds of sampling related problems in a probabilistic manner that would be completely inaccessible otherwise.\n",
    "\n",
    "Let's get back to the `score` function that modifies the probability to pull a certain sample from the distribution.\n",
    "We now understand that it multiplies the _relative probability_ to observe a sample compared to any other with a factor.\n",
    "This means that the sample's probability is left untouched if this factor is `1`.\n",
    "If this factor is `10`, the sample's relative probability is increased ten fold with respect to any other sample.\n",
    "If this factor is `0`, the sample's probability is set to `0`.\n",
    "\n",
    "Here is `model2` expressed in words: (a) draw a sample from `[True, False]` with equal probability,\n",
    "and (b) multiply the relative probability of a sample with value `True` with `1` and of a sample with value `False` with `0`.\n",
    "\n",
    "An appropriate sampler can trace and accumulate the score factor of a sample to compare with the score factor of other samples.\n",
    "The accumulated score factors give us access to the relative probability of the two samples, and then we can use MCMC to start sampling.\n",
    "We won't go into detail here about how tracing and accumulating works or which two samples we are actually comparing.\n",
    "`monad-bayes` provides a few samplers that can go through this process in different ways.\n",
    "We include here the `prior` and the `mh` ([Metropolis-Hastings](https://en.wikipedia.org/wiki/Metropolis%E2%80%93Hastings_algorithm) sampler) functions before our well known `sampleIOfixed` function to use an MCMC sampler.\n",
    "Hopefully, the general idea became clear enough here. We'll provide more of the details later in this series.\n",
    "\n",
    "The final result looks like this:"
   ]
  },
  {
   "cell_type": "code",
   "execution_count": 11,
   "metadata": {},
   "outputs": [
    {
     "ename": "",
     "evalue": "",
     "output_type": "error",
     "traceback": [
      "<interactive>:1:36: error:\n    • No instance for (MonadSample (Bayesian (Sampler (System.Random.Stateful.IOGenM System.Random.Internal.StdGen) IO) a0)) arising from a use of ‘mh’\n    • In the second argument of ‘($)’, namely ‘mh nsamples model2’\n      In the second argument of ‘($)’, namely ‘prior $ mh nsamples model2’\n      In the first argument of ‘GHC.GHCi.ghciStepIO :: forall a. IO a -> IO a’, namely ‘(sampleIOfixed $ prior $ mh nsamples model2)’\n<interactive>:1:48: error:\n    • No instance for (MonadInfer (Bayesian (Sampler (System.Random.Stateful.IOGenM System.Random.Internal.StdGen) IO) a0)) arising from a use of ‘model2’\n    • In the second argument of ‘mh’, namely ‘model2’\n      In the second argument of ‘($)’, namely ‘mh nsamples model2’\n      In the second argument of ‘($)’, namely ‘prior $ mh nsamples model2’"
     ]
    }
   ],
   "source": [
    "nsamples = 1000\n",
    "samples <- sampleIOfixed $ prior $ mh nsamples model2\n",
    "vlShow $ plot (200, 100) (L [barPlot \"b\"]) (Cols [(\"b\", VL.Booleans samples)])"
   ]
  },
  {
   "cell_type": "code",
   "execution_count": 18,
   "metadata": {},
   "outputs": [
    {
     "data": {
      "text/html": [
       "<style>/* Styles used for the Hoogle display in the pager */\n",
       ".hoogle-doc {\n",
       "display: block;\n",
       "padding-bottom: 1.3em;\n",
       "padding-left: 0.4em;\n",
       "}\n",
       ".hoogle-code {\n",
       "display: block;\n",
       "font-family: monospace;\n",
       "white-space: pre;\n",
       "}\n",
       ".hoogle-text {\n",
       "display: block;\n",
       "}\n",
       ".hoogle-name {\n",
       "color: green;\n",
       "font-weight: bold;\n",
       "}\n",
       ".hoogle-head {\n",
       "font-weight: bold;\n",
       "}\n",
       ".hoogle-sub {\n",
       "display: block;\n",
       "margin-left: 0.4em;\n",
       "}\n",
       ".hoogle-package {\n",
       "font-weight: bold;\n",
       "font-style: italic;\n",
       "}\n",
       ".hoogle-module {\n",
       "font-weight: bold;\n",
       "}\n",
       ".hoogle-class {\n",
       "font-weight: bold;\n",
       "}\n",
       ".get-type {\n",
       "color: green;\n",
       "font-weight: bold;\n",
       "font-family: monospace;\n",
       "display: block;\n",
       "white-space: pre-wrap;\n",
       "}\n",
       ".show-type {\n",
       "color: green;\n",
       "font-weight: bold;\n",
       "font-family: monospace;\n",
       "margin-left: 1em;\n",
       "}\n",
       ".mono {\n",
       "font-family: monospace;\n",
       "display: block;\n",
       "}\n",
       ".err-msg {\n",
       "color: red;\n",
       "font-style: italic;\n",
       "font-family: monospace;\n",
       "white-space: pre;\n",
       "display: block;\n",
       "}\n",
       "#unshowable {\n",
       "color: red;\n",
       "font-weight: bold;\n",
       "}\n",
       ".err-msg.in.collapse {\n",
       "padding-top: 0.7em;\n",
       "}\n",
       ".highlight-code {\n",
       "white-space: pre;\n",
       "font-family: monospace;\n",
       "}\n",
       ".suggestion-warning { \n",
       "font-weight: bold;\n",
       "color: rgb(200, 130, 0);\n",
       "}\n",
       ".suggestion-error { \n",
       "font-weight: bold;\n",
       "color: red;\n",
       "}\n",
       ".suggestion-name {\n",
       "font-weight: bold;\n",
       "}\n",
       "</style><span class='get-type'>samples :: [Bool]</span>"
      ],
      "text/plain": [
       "samples :: [Bool]"
      ]
     },
     "metadata": {},
     "output_type": "display_data"
    }
   ],
   "source": [
    ":t samples"
   ]
  },
  {
   "cell_type": "markdown",
   "metadata": {},
   "source": [
    "Voilà, we wrote down a model (answer to \"Did it rain yesterday?\") with an uninformed (uniform) prior, and updated it based on the observation \"It rained yesterday!\".\n",
    "The distribution of parameter `b` after scoring—its posterior distribution—has probability `1` for True and probability `0` for False.\n",
    "The operations that we needed to figure out the posterior distribution were _random_ and _score_."
   ]
  },
  {
   "cell_type": "markdown",
   "metadata": {},
   "source": [
    "### Multiple parameters\n",
    "\n",
    "Let's move onwards to more complex models:\n",
    "What if we considered a model with two parameters?\n",
    "Both parameters are drawn independently from uniform _continuous_ distributions between `-1` and `1`.\n",
    "Again, we want to score this model.\n",
    "This time, we use the function `condition` that is a short form for scoring with `1` or `0` based on a condition.\n",
    "The new model becomes:"
   ]
  },
  {
   "cell_type": "code",
   "execution_count": 12,
   "metadata": {},
   "outputs": [],
   "source": [
    "model3 :: MonadInfer m => m (Double, Double)\n",
    "model3 = do\n",
    "    b <- uniform (-1) 1\n",
    "    m <- uniform (-1) 1\n",
    "    condition $ (b-m) > 0\n",
    "    return (b, m)"
   ]
  },
  {
   "cell_type": "markdown",
   "metadata": {},
   "source": [
    "The principal approach is the same: pick sample `b`, pick sample `m`, modify the joint sample probability based on a condition, and return the values of both samples in a tuple.\n",
    "If we run this through the Metropolis-Hastings sampler, we get:"
   ]
  },
  {
   "cell_type": "code",
   "execution_count": 13,
   "metadata": {},
   "outputs": [
    {
     "ename": "",
     "evalue": "",
     "output_type": "error",
     "traceback": [
      "<interactive>:1:41: error:\n    • No instance for (MonadSample (Bayesian (Sampler (System.Random.Stateful.IOGenM System.Random.Internal.StdGen) IO) a0)) arising from a use of ‘mh’\n    • In the second argument of ‘($)’, namely ‘mh nsamples model3’\n      In the second argument of ‘($)’, namely ‘prior $ mh nsamples model3’\n      In the first argument of ‘GHC.GHCi.ghciStepIO :: forall a. IO a -> IO a’, namely ‘(sampleIOfixed $ prior $ mh nsamples model3)’\n<interactive>:1:53: error:\n    • No instance for (MonadInfer (Bayesian (Sampler (System.Random.Stateful.IOGenM System.Random.Internal.StdGen) IO) a0)) arising from a use of ‘model3’\n    • In the second argument of ‘mh’, namely ‘model3’\n      In the second argument of ‘($)’, namely ‘mh nsamples model3’\n      In the second argument of ‘($)’, namely ‘prior $ mh nsamples model3’"
     ]
    }
   ],
   "source": [
    "nsamples = 5000\n",
    "modelsamples <- sampleIOfixed $ prior $ mh nsamples model3\n",
    "(xValues, yValues) = unzip modelsamples\n",
    "vlShow $ plot (600, 300)\n",
    "              (L [density2DPlot \"b\" \"m\" (-1.1,1.1) (-1.1,1.1)])\n",
    "              (Cols [(\"b\", VL.Numbers xValues), (\"m\", VL.Numbers yValues)])"
   ]
  },
  {
   "cell_type": "markdown",
   "metadata": {},
   "source": [
    "The resulting distribution in the plot above is `0` where `b<m`, and approximately uniform when `b>m`, as we'd expect.\n",
    "You might spot the initial state of the Markov chain as a faint rectangle in the `b<m` region.\n",
    "\n",
    "How about multiple conditions?\n",
    "Remember, we can freely bind operations together so it shouldn't be a problem.\n",
    "This model chains two sampling and two condition operations:"
   ]
  },
  {
   "cell_type": "code",
   "execution_count": 11,
   "metadata": {},
   "outputs": [],
   "source": [
    "model4 :: MonadInfer m => m (Double, Double)\n",
    "model4 = do\n",
    "    b <- uniform (-1) 1\n",
    "    m <- uniform (-1) 1\n",
    "    condition $ (b-m) > 0\n",
    "    condition $ (b+m) > 0\n",
    "    return (b, m)"
   ]
  },
  {
   "cell_type": "markdown",
   "metadata": {},
   "source": [
    "And it produces the expected result:"
   ]
  },
  {
   "cell_type": "code",
   "execution_count": 12,
   "metadata": {},
   "outputs": [
    {
     "data": {
      "application/vnd.vegalite.v2+json": {
       "$schema": "https://vega.github.io/schema/vega-lite/v3.json",
       "background": "#f9f9f9",
       "config": {
        "axis": {
         "domain": false,
         "grid": true,
         "gridColor": "#FFFFFF",
         "labelColor": "#7F7F7F",
         "labelPadding": 4,
         "tickColor": "#7F7F7F",
         "tickSize": 5.67
        }
       },
       "data": {
        "values": [
         {
          "b": 0.6805282454249213,
          "m": -0.5794446741118391
         },
         {
          "b": 0.6805282454249213,
          "m": -0.5794446741118391
         },
         {
          "b": 0.6805282454249213,
          "m": -0.5794446741118391
         },
         {
          "b": 0.6805282454249213,
          "m": -0.5635536607369882
         },
         {
          "b": 0.6805282454249213,
          "m": -0.5635536607369882
         },
         {
          "b": 0.6805282454249213,
          "m": -0.5635536607369882
         },
         {
          "b": 0.6805282454249213,
          "m": 0.11994187817593605
         },
         {
          "b": 0.36743157399989035,
          "m": 0.11994187817593605
         },
         {
          "b": 0.9769634845453534,
          "m": 0.11994187817593605
         },
         {
          "b": 0.589546993304672,
          "m": 0.11994187817593605
         },
         {
          "b": 0.589546993304672,
          "m": 0.11994187817593605
         },
         {
          "b": 0.589546993304672,
          "m": -0.2079485050534131
         },
         {
          "b": 0.589546993304672,
          "m": -0.2079485050534131
         },
         {
          "b": 0.589546993304672,
          "m": -0.2079485050534131
         },
         {
          "b": 0.589546993304672,
          "m": -0.2079485050534131
         },
         {
          "b": 0.589546993304672,
          "m": -0.2079485050534131
         },
         {
          "b": 0.589546993304672,
          "m": -0.2079485050534131
         },
         {
          "b": 0.589546993304672,
          "m": -0.2079485050534131
         },
         {
          "b": 0.3728807765490887,
          "m": -0.2079485050534131
         },
         {
          "b": 0.3728807765490887,
          "m": -0.2079485050534131
         },
         {
          "b": 0.47186062239077464,
          "m": -0.2079485050534131
         },
         {
          "b": 0.47186062239077464,
          "m": -0.2079485050534131
         },
         {
          "b": 0.47186062239077464,
          "m": -0.2079485050534131
         },
         {
          "b": 0.47186062239077464,
          "m": -0.2079485050534131
         },
         {
          "b": 0.47186062239077464,
          "m": 0.04149697618591808
         },
         {
          "b": 0.47186062239077464,
          "m": 0.04149697618591808
         },
         {
          "b": 0.4998590200886819,
          "m": 0.04149697618591808
         },
         {
          "b": 0.4998590200886819,
          "m": 0.04149697618591808
         },
         {
          "b": 0.40040090991601507,
          "m": 0.04149697618591808
         },
         {
          "b": 0.9963061896771384,
          "m": 0.04149697618591808
         },
         {
          "b": 0.9963061896771384,
          "m": -0.8534020429412197
         },
         {
          "b": 0.9963061896771384,
          "m": -0.8534020429412197
         },
         {
          "b": 0.9963061896771384,
          "m": 0.6169360126640024
         },
         {
          "b": 0.9963061896771384,
          "m": -0.3095886208819103
         },
         {
          "b": 0.9963061896771384,
          "m": -0.835887422273135
         },
         {
          "b": 0.9963061896771384,
          "m": -0.835887422273135
         },
         {
          "b": 0.9963061896771384,
          "m": -0.835887422273135
         },
         {
          "b": 0.9963061896771384,
          "m": -0.952417684868675
         },
         {
          "b": 0.9963061896771384,
          "m": -0.8132612980951051
         },
         {
          "b": 0.9963061896771384,
          "m": -0.8132612980951051
         },
         {
          "b": 0.9963061896771384,
          "m": -0.8132612980951051
         },
         {
          "b": 0.9963061896771384,
          "m": -0.8132612980951051
         },
         {
          "b": 0.9963061896771384,
          "m": 0.6208275166642239
         },
         {
          "b": 0.9963061896771384,
          "m": 0.15945449676387535
         },
         {
          "b": 0.9963061896771384,
          "m": 0.5149847598860771
         },
         {
          "b": 0.9963061896771384,
          "m": 0.5149847598860771
         },
         {
          "b": 0.9963061896771384,
          "m": -0.7241901686044139
         },
         {
          "b": 0.9963061896771384,
          "m": 0.5202182088430212
         },
         {
          "b": 0.9963061896771384,
          "m": 0.5202182088430212
         },
         {
          "b": 0.9963061896771384,
          "m": 0.5202182088430212
         },
         {
          "b": 0.5678581077588485,
          "m": 0.5202182088430212
         },
         {
          "b": 0.5678581077588485,
          "m": -0.02059296730733684
         },
         {
          "b": 0.5678581077588485,
          "m": -0.02059296730733684
         },
         {
          "b": 0.5678581077588485,
          "m": -0.02059296730733684
         },
         {
          "b": 0.5678581077588485,
          "m": -0.02059296730733684
         },
         {
          "b": 0.9902008736023717,
          "m": -0.02059296730733684
         },
         {
          "b": 0.15871358673347813,
          "m": -0.02059296730733684
         },
         {
          "b": 0.15871358673347813,
          "m": -0.02059296730733684
         },
         {
          "b": 0.15871358673347813,
          "m": -0.02059296730733684
         },
         {
          "b": 0.15871358673347813,
          "m": -0.02059296730733684
         },
         {
          "b": 0.09809966687083249,
          "m": -0.02059296730733684
         },
         {
          "b": 0.09809966687083249,
          "m": -0.02059296730733684
         },
         {
          "b": 0.09809966687083249,
          "m": -0.02059296730733684
         },
         {
          "b": 0.09809966687083249,
          "m": -0.02059296730733684
         },
         {
          "b": 0.09809966687083249,
          "m": -0.02059296730733684
         },
         {
          "b": 0.3179860457324104,
          "m": -0.02059296730733684
         },
         {
          "b": 0.3179860457324104,
          "m": -0.02059296730733684
         },
         {
          "b": 0.3179860457324104,
          "m": 0.040682784013483575
         },
         {
          "b": 0.3179860457324104,
          "m": 0.040682784013483575
         },
         {
          "b": 0.4513887079568286,
          "m": 0.040682784013483575
         },
         {
          "b": 0.0821467336060564,
          "m": 0.040682784013483575
         },
         {
          "b": 0.0821467336060564,
          "m": 0.040682784013483575
         },
         {
          "b": 0.0821467336060564,
          "m": -0.0781912589704723
         },
         {
          "b": 0.0821467336060564,
          "m": -0.0781912589704723
         },
         {
          "b": 0.0821467336060564,
          "m": -0.0781912589704723
         },
         {
          "b": 0.0821467336060564,
          "m": -0.0781912589704723
         },
         {
          "b": 0.08206730300269993,
          "m": -0.0781912589704723
         },
         {
          "b": 0.08206730300269993,
          "m": -0.0781912589704723
         },
         {
          "b": 0.08206730300269993,
          "m": -0.0781912589704723
         },
         {
          "b": 0.08206730300269993,
          "m": -0.0781912589704723
         },
         {
          "b": 0.08206730300269993,
          "m": -0.0781912589704723
         },
         {
          "b": 0.08206730300269993,
          "m": -0.0781912589704723
         },
         {
          "b": 0.08206730300269993,
          "m": -0.0781912589704723
         },
         {
          "b": 0.08206730300269993,
          "m": -0.0781912589704723
         },
         {
          "b": 0.08206730300269993,
          "m": -0.0781912589704723
         },
         {
          "b": 0.08206730300269993,
          "m": -0.0781912589704723
         },
         {
          "b": 0.08206730300269993,
          "m": -0.0781912589704723
         },
         {
          "b": 0.08206730300269993,
          "m": -0.0781912589704723
         },
         {
          "b": 0.6893265688045733,
          "m": -0.0781912589704723
         },
         {
          "b": 0.6893265688045733,
          "m": -0.0781912589704723
         },
         {
          "b": 0.6893265688045733,
          "m": -0.0781912589704723
         },
         {
          "b": 0.6893265688045733,
          "m": -0.3437457967885924
         },
         {
          "b": 0.6893265688045733,
          "m": 0.21780064894176188
         },
         {
          "b": 0.6893265688045733,
          "m": 0.21780064894176188
         },
         {
          "b": 0.6893265688045733,
          "m": -0.5139500482324804
         },
         {
          "b": 0.6893265688045733,
          "m": -0.5139500482324804
         },
         {
          "b": 0.6893265688045733,
          "m": -0.40113112655837724
         },
         {
          "b": 0.6893265688045733,
          "m": 0.44030441294087663
         },
         {
          "b": 0.6893265688045733,
          "m": 0.05263937187687895
         },
         {
          "b": 0.6893265688045733,
          "m": 0.05263937187687895
         },
         {
          "b": 0.6893265688045733,
          "m": 0.026173172748672036
         },
         {
          "b": 0.6893265688045733,
          "m": -0.5716629007240746
         },
         {
          "b": 0.6893265688045733,
          "m": -0.5716629007240746
         },
         {
          "b": 0.6893265688045733,
          "m": 0.19180556799812964
         },
         {
          "b": 0.6893265688045733,
          "m": 0.19180556799812964
         },
         {
          "b": 0.6893265688045733,
          "m": 0.19180556799812964
         },
         {
          "b": 0.6893265688045733,
          "m": 0.19180556799812964
         },
         {
          "b": 0.9470612460628438,
          "m": 0.19180556799812964
         },
         {
          "b": 0.9470612460628438,
          "m": 0.04894323639727172
         },
         {
          "b": 0.9470612460628438,
          "m": -0.5010656430063511
         },
         {
          "b": 0.9470612460628438,
          "m": -0.5010656430063511
         },
         {
          "b": 0.9470612460628438,
          "m": 0.2371235583176119
         },
         {
          "b": 0.9470612460628438,
          "m": 0.2371235583176119
         },
         {
          "b": 0.8877855670147794,
          "m": 0.2371235583176119
         },
         {
          "b": 0.8877855670147794,
          "m": 0.43980745471395966
         },
         {
          "b": 0.8877855670147794,
          "m": 0.43980745471395966
         },
         {
          "b": 0.6720428652408408,
          "m": 0.43980745471395966
         },
         {
          "b": 0.6720428652408408,
          "m": 0.43980745471395966
         },
         {
          "b": 0.6720428652408408,
          "m": -0.6044948782738524
         },
         {
          "b": 0.6720428652408408,
          "m": 0.17073322429922455
         },
         {
          "b": 0.6720428652408408,
          "m": 0.173517777092832
         },
         {
          "b": 0.6720428652408408,
          "m": -0.6058638271360925
         },
         {
          "b": 0.6720428652408408,
          "m": -0.03708403646091507
         },
         {
          "b": 0.6720428652408408,
          "m": -0.03708403646091507
         },
         {
          "b": 0.7729690976192531,
          "m": -0.03708403646091507
         },
         {
          "b": 0.9040124730204486,
          "m": -0.03708403646091507
         },
         {
          "b": 0.9040124730204486,
          "m": 0.3227142786458159
         },
         {
          "b": 0.9040124730204486,
          "m": 0.2951922279347581
         },
         {
          "b": 0.9040124730204486,
          "m": 0.40299603418989327
         },
         {
          "b": 0.9040124730204486,
          "m": 0.40299603418989327
         },
         {
          "b": 0.9040124730204486,
          "m": 0.40299603418989327
         },
         {
          "b": 0.9040124730204486,
          "m": 0.6238836335409548
         },
         {
          "b": 0.9040124730204486,
          "m": 0.6238836335409548
         },
         {
          "b": 0.9040124730204486,
          "m": 0.6238836335409548
         },
         {
          "b": 0.9040124730204486,
          "m": 0.7902200467629614
         },
         {
          "b": 0.9025240131579795,
          "m": 0.7902200467629614
         },
         {
          "b": 0.9025240131579795,
          "m": 0.50682253137702
         },
         {
          "b": 0.9025240131579795,
          "m": 0.50682253137702
         },
         {
          "b": 0.5549380756646427,
          "m": 0.50682253137702
         },
         {
          "b": 0.5549380756646427,
          "m": 0.50682253137702
         },
         {
          "b": 0.5549380756646427,
          "m": 0.50682253137702
         },
         {
          "b": 0.5549380756646427,
          "m": 0.50682253137702
         },
         {
          "b": 0.5549380756646427,
          "m": 0.50682253137702
         },
         {
          "b": 0.5549380756646427,
          "m": 0.50682253137702
         },
         {
          "b": 0.5549380756646427,
          "m": 0.50682253137702
         },
         {
          "b": 0.5549380756646427,
          "m": -0.36061859356701853
         },
         {
          "b": 0.5549380756646427,
          "m": 0.5070158744561211
         },
         {
          "b": 0.5549380756646427,
          "m": -0.00474527603018271
         },
         {
          "b": 0.5549380756646427,
          "m": -0.00474527603018271
         },
         {
          "b": 0.5549380756646427,
          "m": -0.00474527603018271
         },
         {
          "b": 0.07733456049707388,
          "m": -0.00474527603018271
         },
         {
          "b": 0.44984304636942407,
          "m": -0.00474527603018271
         },
         {
          "b": 0.991763697193843,
          "m": -0.00474527603018271
         },
         {
          "b": 0.991763697193843,
          "m": -0.00474527603018271
         },
         {
          "b": 0.991763697193843,
          "m": 0.5264279070807965
         },
         {
          "b": 0.991763697193843,
          "m": 0.17077020581340752
         },
         {
          "b": 0.991763697193843,
          "m": 0.5829728882096952
         },
         {
          "b": 0.991763697193843,
          "m": -0.659369933531621
         },
         {
          "b": 0.991763697193843,
          "m": 0.7521076628231176
         },
         {
          "b": 0.991763697193843,
          "m": 0.5041571062164516
         },
         {
          "b": 0.991763697193843,
          "m": 0.5041571062164516
         },
         {
          "b": 0.991763697193843,
          "m": 0.5041571062164516
         },
         {
          "b": 0.991763697193843,
          "m": 0.5750697168097865
         },
         {
          "b": 0.991763697193843,
          "m": 0.5750697168097865
         },
         {
          "b": 0.991763697193843,
          "m": 0.5750697168097865
         },
         {
          "b": 0.991763697193843,
          "m": -0.6084223855488757
         },
         {
          "b": 0.991763697193843,
          "m": -0.6084223855488757
         },
         {
          "b": 0.991763697193843,
          "m": -0.6084223855488757
         },
         {
          "b": 0.991763697193843,
          "m": 0.5993678658685855
         },
         {
          "b": 0.991763697193843,
          "m": -0.10637688964057479
         },
         {
          "b": 0.991763697193843,
          "m": 0.5947363217701798
         },
         {
          "b": 0.991763697193843,
          "m": 0.5947363217701798
         },
         {
          "b": 0.991763697193843,
          "m": 0.5947363217701798
         },
         {
          "b": 0.991763697193843,
          "m": 0.4366001578131533
         },
         {
          "b": 0.8277516465267649,
          "m": 0.4366001578131533
         },
         {
          "b": 0.8277516465267649,
          "m": 0.4366001578131533
         },
         {
          "b": 0.8277516465267649,
          "m": -0.4457374955032025
         },
         {
          "b": 0.8277516465267649,
          "m": 0.11367513367485382
         },
         {
          "b": 0.8277516465267649,
          "m": 0.11367513367485382
         },
         {
          "b": 0.5004713734953452,
          "m": 0.11367513367485382
         },
         {
          "b": 0.7607043705883629,
          "m": 0.11367513367485382
         },
         {
          "b": 0.7607043705883629,
          "m": 0.11367513367485382
         },
         {
          "b": 0.7607043705883629,
          "m": 0.11367513367485382
         },
         {
          "b": 0.7607043705883629,
          "m": -0.07243403825012984
         },
         {
          "b": 0.7607043705883629,
          "m": -0.07243403825012984
         },
         {
          "b": 0.6042546676029483,
          "m": -0.07243403825012984
         },
         {
          "b": 0.6042546676029483,
          "m": -0.16545079392830941
         },
         {
          "b": 0.6042546676029483,
          "m": -0.005259730050771294
         },
         {
          "b": 0.6042546676029483,
          "m": -0.005259730050771294
         },
         {
          "b": 0.6042546676029483,
          "m": -0.005259730050771294
         },
         {
          "b": 0.6042546676029483,
          "m": -0.005259730050771294
         },
         {
          "b": 0.6042546676029483,
          "m": -0.005259730050771294
         },
         {
          "b": 0.6042546676029483,
          "m": 0.23122375419404428
         },
         {
          "b": 0.6042546676029483,
          "m": 0.23122375419404428
         },
         {
          "b": 0.6042546676029483,
          "m": 0.23122375419404428
         },
         {
          "b": 0.6042546676029483,
          "m": 0.3382065733905322
         },
         {
          "b": 0.6042546676029483,
          "m": -0.4237622479218002
         },
         {
          "b": 0.6042546676029483,
          "m": -0.4237622479218002
         },
         {
          "b": 0.6042546676029483,
          "m": -0.4237622479218002
         },
         {
          "b": 0.6042546676029483,
          "m": -0.4237622479218002
         },
         {
          "b": 0.5697753095968936,
          "m": -0.4237622479218002
         },
         {
          "b": 0.5927798260970574,
          "m": -0.4237622479218002
         },
         {
          "b": 0.5927798260970574,
          "m": -0.4237622479218002
         },
         {
          "b": 0.5927798260970574,
          "m": -0.4237622479218002
         },
         {
          "b": 0.5927798260970574,
          "m": -0.24056433687603884
         },
         {
          "b": 0.7557949397289334,
          "m": -0.24056433687603884
         },
         {
          "b": 0.32226433683337885,
          "m": -0.24056433687603884
         },
         {
          "b": 0.7387520896807775,
          "m": -0.24056433687603884
         },
         {
          "b": 0.7387520896807775,
          "m": 0.16889259543962054
         },
         {
          "b": 0.7387520896807775,
          "m": 0.5481518831693044
         },
         {
          "b": 0.7387520896807775,
          "m": 0.5481518831693044
         },
         {
          "b": 0.7387520896807775,
          "m": 0.2697963119332274
         },
         {
          "b": 0.6179959759631084,
          "m": 0.2697963119332274
         },
         {
          "b": 0.6179959759631084,
          "m": 0.2697963119332274
         },
         {
          "b": 0.6179959759631084,
          "m": 0.5980972976974812
         },
         {
          "b": 0.6179959759631084,
          "m": 0.5980972976974812
         },
         {
          "b": 0.6179959759631084,
          "m": -0.09586013441778207
         },
         {
          "b": 0.6179959759631084,
          "m": -0.09586013441778207
         },
         {
          "b": 0.6179959759631084,
          "m": -0.09586013441778207
         },
         {
          "b": 0.6179959759631084,
          "m": 0.036028379299494206
         },
         {
          "b": 0.6179959759631084,
          "m": 0.036028379299494206
         },
         {
          "b": 0.725325032211009,
          "m": 0.036028379299494206
         },
         {
          "b": 0.725325032211009,
          "m": 0.005034241948203677
         },
         {
          "b": 0.3395560498263326,
          "m": 0.005034241948203677
         },
         {
          "b": 0.3395560498263326,
          "m": 0.005034241948203677
         },
         {
          "b": 0.19570162756333587,
          "m": 0.005034241948203677
         },
         {
          "b": 0.19570162756333587,
          "m": 0.005034241948203677
         },
         {
          "b": 0.1405030851214677,
          "m": 0.005034241948203677
         },
         {
          "b": 0.1405030851214677,
          "m": 0.005034241948203677
         },
         {
          "b": 0.8438957538012508,
          "m": 0.005034241948203677
         },
         {
          "b": 0.8438957538012508,
          "m": -0.42069046566673474
         },
         {
          "b": 0.8438957538012508,
          "m": -0.42069046566673474
         },
         {
          "b": 0.8438957538012508,
          "m": -0.42069046566673474
         },
         {
          "b": 0.8438957538012508,
          "m": -0.42069046566673474
         },
         {
          "b": 0.8438957538012508,
          "m": 0.5369229984095683
         },
         {
          "b": 0.8438957538012508,
          "m": 0.5369229984095683
         },
         {
          "b": 0.8438957538012508,
          "m": -0.6279098457574974
         },
         {
          "b": 0.8438957538012508,
          "m": -0.6279098457574974
         },
         {
          "b": 0.8438957538012508,
          "m": -0.7313170421795807
         },
         {
          "b": 0.8438957538012508,
          "m": -0.7313170421795807
         },
         {
          "b": 0.8438957538012508,
          "m": -0.7313170421795807
         },
         {
          "b": 0.8438957538012508,
          "m": 0.03001592118586882
         },
         {
          "b": 0.35246985748581916,
          "m": 0.03001592118586882
         },
         {
          "b": 0.5266650976565932,
          "m": 0.03001592118586882
         },
         {
          "b": 0.5266650976565932,
          "m": 0.19836324321034504
         },
         {
          "b": 0.5266650976565932,
          "m": 0.19836324321034504
         },
         {
          "b": 0.5266650976565932,
          "m": 0.04983441767169361
         },
         {
          "b": 0.5266650976565932,
          "m": 0.04983441767169361
         },
         {
          "b": 0.5266650976565932,
          "m": 0.04983441767169361
         },
         {
          "b": 0.5266650976565932,
          "m": 0.04983441767169361
         },
         {
          "b": 0.21911310869817746,
          "m": 0.04983441767169361
         },
         {
          "b": 0.21911310869817746,
          "m": 0.04983441767169361
         },
         {
          "b": 0.21911310869817746,
          "m": 0.04983441767169361
         },
         {
          "b": 0.21911310869817746,
          "m": -0.0032027448637419464
         },
         {
          "b": 0.21911310869817746,
          "m": -0.0032027448637419464
         },
         {
          "b": 0.21911310869817746,
          "m": -0.10776769998230651
         },
         {
          "b": 0.8524641201275969,
          "m": -0.10776769998230651
         },
         {
          "b": 0.3573363297421348,
          "m": -0.10776769998230651
         },
         {
          "b": 0.3573363297421348,
          "m": 0.19323285436442483
         },
         {
          "b": 0.3573363297421348,
          "m": -0.17168854876478634
         },
         {
          "b": 0.3573363297421348,
          "m": -0.14945744379193626
         },
         {
          "b": 0.3573363297421348,
          "m": -0.14945744379193626
         },
         {
          "b": 0.3573363297421348,
          "m": -0.14945744379193626
         },
         {
          "b": 0.3573363297421348,
          "m": -0.14945744379193626
         },
         {
          "b": 0.3573363297421348,
          "m": -0.060703896274123315
         },
         {
          "b": 0.3573363297421348,
          "m": -0.060703896274123315
         },
         {
          "b": 0.3573363297421348,
          "m": -0.060703896274123315
         },
         {
          "b": 0.3573363297421348,
          "m": -0.060703896274123315
         },
         {
          "b": 0.3573363297421348,
          "m": -0.25475496360682315
         },
         {
          "b": 0.4360235156653267,
          "m": -0.25475496360682315
         },
         {
          "b": 0.4360235156653267,
          "m": -0.25475496360682315
         },
         {
          "b": 0.4360235156653267,
          "m": 0.32403664833059387
         },
         {
          "b": 0.4360235156653267,
          "m": 0.32403664833059387
         },
         {
          "b": 0.4360235156653267,
          "m": 0.32403664833059387
         },
         {
          "b": 0.4360235156653267,
          "m": -0.40006741372418575
         },
         {
          "b": 0.4360235156653267,
          "m": 0.3155588733612189
         },
         {
          "b": 0.4360235156653267,
          "m": -0.09989004650076105
         },
         {
          "b": 0.4360235156653267,
          "m": -0.09989004650076105
         },
         {
          "b": 0.16421414448669513,
          "m": -0.09989004650076105
         },
         {
          "b": 0.16421414448669513,
          "m": -0.09989004650076105
         },
         {
          "b": 0.16421414448669513,
          "m": -0.06859512337281726
         },
         {
          "b": 0.16421414448669513,
          "m": -0.06859512337281726
         },
         {
          "b": 0.16421414448669513,
          "m": -0.06859512337281726
         },
         {
          "b": 0.16421414448669513,
          "m": -0.08543191223429214
         },
         {
          "b": 0.25357531998660066,
          "m": -0.08543191223429214
         },
         {
          "b": 0.25357531998660066,
          "m": -0.08543191223429214
         },
         {
          "b": 0.25357531998660066,
          "m": -0.08543191223429214
         },
         {
          "b": 0.25357531998660066,
          "m": 0.20806290567648733
         },
         {
          "b": 0.7567721669987184,
          "m": 0.20806290567648733
         },
         {
          "b": 0.7567721669987184,
          "m": 0.45629280968049657
         },
         {
          "b": 0.7567721669987184,
          "m": 0.45629280968049657
         },
         {
          "b": 0.7567721669987184,
          "m": -0.4052531885848991
         },
         {
          "b": 0.7567721669987184,
          "m": -0.4052531885848991
         },
         {
          "b": 0.7567721669987184,
          "m": -0.08056856371983812
         },
         {
          "b": 0.7567721669987184,
          "m": -0.5789814801235906
         },
         {
          "b": 0.9547019091647486,
          "m": -0.5789814801235906
         },
         {
          "b": 0.9547019091647486,
          "m": 0.10670393214716056
         },
         {
          "b": 0.9547019091647486,
          "m": 0.10670393214716056
         },
         {
          "b": 0.9547019091647486,
          "m": 0.10670393214716056
         },
         {
          "b": 0.38252762255358586,
          "m": 0.10670393214716056
         },
         {
          "b": 0.446745686125823,
          "m": 0.10670393214716056
         },
         {
          "b": 0.6213410716539551,
          "m": 0.10670393214716056
         },
         {
          "b": 0.6213410716539551,
          "m": -0.5494397979978969
         },
         {
          "b": 0.6213410716539551,
          "m": -0.36757517004761087
         },
         {
          "b": 0.6213410716539551,
          "m": -0.36757517004761087
         },
         {
          "b": 0.6213410716539551,
          "m": -0.13097664181275603
         },
         {
          "b": 0.6213410716539551,
          "m": -0.13097664181275603
         },
         {
          "b": 0.5498604200770913,
          "m": -0.13097664181275603
         },
         {
          "b": 0.3675454385471697,
          "m": -0.13097664181275603
         },
         {
          "b": 0.6651075920499132,
          "m": -0.13097664181275603
         },
         {
          "b": 0.5492584042110817,
          "m": -0.13097664181275603
         },
         {
          "b": 0.5492584042110817,
          "m": -0.13097664181275603
         },
         {
          "b": 0.5492584042110817,
          "m": -0.13097664181275603
         },
         {
          "b": 0.2465608986628427,
          "m": -0.13097664181275603
         },
         {
          "b": 0.2465608986628427,
          "m": -0.13097664181275603
         },
         {
          "b": 0.2465608986628427,
          "m": -0.13097664181275603
         },
         {
          "b": 0.2465608986628427,
          "m": -0.13097664181275603
         },
         {
          "b": 0.26909243980406505,
          "m": -0.13097664181275603
         },
         {
          "b": 0.8315947769940275,
          "m": -0.13097664181275603
         },
         {
          "b": 0.8315947769940275,
          "m": -0.13097664181275603
         },
         {
          "b": 0.8315947769940275,
          "m": -0.13097664181275603
         },
         {
          "b": 0.49920407629579766,
          "m": -0.13097664181275603
         },
         {
          "b": 0.7349941972400515,
          "m": -0.13097664181275603
         },
         {
          "b": 0.32089986563443484,
          "m": -0.13097664181275603
         },
         {
          "b": 0.32089986563443484,
          "m": -0.14327092971066846
         },
         {
          "b": 0.32089986563443484,
          "m": -0.14327092971066846
         },
         {
          "b": 0.32089986563443484,
          "m": 0.18785938258434132
         },
         {
          "b": 0.32089986563443484,
          "m": 0.18785938258434132
         },
         {
          "b": 0.5694611792186988,
          "m": 0.18785938258434132
         },
         {
          "b": 0.5694611792186988,
          "m": 0.18785938258434132
         },
         {
          "b": 0.5694611792186988,
          "m": 0.18785938258434132
         },
         {
          "b": 0.5694611792186988,
          "m": -0.144616814234521
         },
         {
          "b": 0.5694611792186988,
          "m": -0.144616814234521
         },
         {
          "b": 0.5694611792186988,
          "m": -0.144616814234521
         },
         {
          "b": 0.7474758657029026,
          "m": -0.144616814234521
         },
         {
          "b": 0.6186044501070727,
          "m": -0.144616814234521
         },
         {
          "b": 0.6186044501070727,
          "m": -0.144616814234521
         },
         {
          "b": 0.6186044501070727,
          "m": -0.144616814234521
         },
         {
          "b": 0.8174551132127463,
          "m": -0.144616814234521
         },
         {
          "b": 0.8174551132127463,
          "m": 0.441061542672293
         },
         {
          "b": 0.8174551132127463,
          "m": 0.441061542672293
         },
         {
          "b": 0.8174551132127463,
          "m": 0.22158834121128357
         },
         {
          "b": 0.9580825110092592,
          "m": 0.22158834121128357
         },
         {
          "b": 0.9580825110092592,
          "m": -0.505034793678319
         },
         {
          "b": 0.9580825110092592,
          "m": -0.505034793678319
         },
         {
          "b": 0.9580825110092592,
          "m": 0.915293595091905
         },
         {
          "b": 0.9580825110092592,
          "m": 0.7696841127603016
         },
         {
          "b": 0.9580825110092592,
          "m": -0.9433213099824134
         },
         {
          "b": 0.9580825110092592,
          "m": 0.8479554618362724
         },
         {
          "b": 0.9580825110092592,
          "m": -0.35389252935520665
         },
         {
          "b": 0.7008397524771695,
          "m": -0.35389252935520665
         },
         {
          "b": 0.7008397524771695,
          "m": -0.35389252935520665
         },
         {
          "b": 0.7008397524771695,
          "m": -0.35389252935520665
         },
         {
          "b": 0.7008397524771695,
          "m": -0.35389252935520665
         },
         {
          "b": 0.7008397524771695,
          "m": -0.35389252935520665
         },
         {
          "b": 0.7008397524771695,
          "m": -0.35389252935520665
         },
         {
          "b": 0.7008397524771695,
          "m": -0.35389252935520665
         },
         {
          "b": 0.7008397524771695,
          "m": -0.6007896184957635
         },
         {
          "b": 0.7008397524771695,
          "m": -0.24417167613951452
         },
         {
          "b": 0.7008397524771695,
          "m": -0.24417167613951452
         },
         {
          "b": 0.629730866099514,
          "m": -0.24417167613951452
         },
         {
          "b": 0.629730866099514,
          "m": -0.24417167613951452
         },
         {
          "b": 0.3154058388248877,
          "m": -0.24417167613951452
         },
         {
          "b": 0.3154058388248877,
          "m": -0.24417167613951452
         },
         {
          "b": 0.620457162149141,
          "m": -0.24417167613951452
         },
         {
          "b": 0.43563071014036914,
          "m": -0.24417167613951452
         },
         {
          "b": 0.43563071014036914,
          "m": -0.24417167613951452
         },
         {
          "b": 0.43563071014036914,
          "m": -0.24417167613951452
         },
         {
          "b": 0.43563071014036914,
          "m": -0.24417167613951452
         },
         {
          "b": 0.43563071014036914,
          "m": -0.24417167613951452
         },
         {
          "b": 0.43563071014036914,
          "m": -0.24417167613951452
         },
         {
          "b": 0.43563071014036914,
          "m": -0.24417167613951452
         },
         {
          "b": 0.43563071014036914,
          "m": -0.24417167613951452
         },
         {
          "b": 0.920918868620834,
          "m": -0.24417167613951452
         },
         {
          "b": 0.2537281234466733,
          "m": -0.24417167613951452
         },
         {
          "b": 0.2537281234466733,
          "m": -0.24417167613951452
         },
         {
          "b": 0.2537281234466733,
          "m": -0.24417167613951452
         },
         {
          "b": 0.2537281234466733,
          "m": -0.24417167613951452
         },
         {
          "b": 0.2537281234466733,
          "m": -0.24417167613951452
         },
         {
          "b": 0.2537281234466733,
          "m": -0.24417167613951452
         },
         {
          "b": 0.4645489938283338,
          "m": -0.24417167613951452
         },
         {
          "b": 0.4645489938283338,
          "m": -0.289798008589482
         },
         {
          "b": 0.4645489938283338,
          "m": -0.289798008589482
         },
         {
          "b": 0.4645489938283338,
          "m": -0.289798008589482
         },
         {
          "b": 0.6818700861049856,
          "m": -0.289798008589482
         },
         {
          "b": 0.5413334529084988,
          "m": -0.289798008589482
         },
         {
          "b": 0.5413334529084988,
          "m": -0.289798008589482
         },
         {
          "b": 0.5413334529084988,
          "m": -0.289798008589482
         },
         {
          "b": 0.5413334529084988,
          "m": -0.289798008589482
         },
         {
          "b": 0.5413334529084988,
          "m": -0.289798008589482
         },
         {
          "b": 0.5413334529084988,
          "m": -0.289798008589482
         },
         {
          "b": 0.5413334529084988,
          "m": -0.289798008589482
         },
         {
          "b": 0.5413334529084988,
          "m": -0.289798008589482
         },
         {
          "b": 0.5413334529084988,
          "m": -0.289798008589482
         },
         {
          "b": 0.5413334529084988,
          "m": -0.3655879256754895
         },
         {
          "b": 0.5413334529084988,
          "m": -0.3655879256754895
         },
         {
          "b": 0.5413334529084988,
          "m": -0.3655879256754895
         },
         {
          "b": 0.5761463196325167,
          "m": -0.3655879256754895
         },
         {
          "b": 0.5761463196325167,
          "m": -0.3655879256754895
         },
         {
          "b": 0.661473664025231,
          "m": -0.3655879256754895
         },
         {
          "b": 0.661473664025231,
          "m": -0.3655879256754895
         },
         {
          "b": 0.8572791452360848,
          "m": -0.3655879256754895
         },
         {
          "b": 0.8572791452360848,
          "m": -0.3655879256754895
         },
         {
          "b": 0.8572791452360848,
          "m": -0.3655879256754895
         },
         {
          "b": 0.8766691995697846,
          "m": -0.3655879256754895
         },
         {
          "b": 0.8766691995697846,
          "m": -0.3655879256754895
         },
         {
          "b": 0.739575660049425,
          "m": -0.3655879256754895
         },
         {
          "b": 0.739575660049425,
          "m": -0.5845526068679316
         },
         {
          "b": 0.739575660049425,
          "m": -0.5845526068679316
         },
         {
          "b": 0.7372824960280477,
          "m": -0.5845526068679316
         },
         {
          "b": 0.7372824960280477,
          "m": -0.5845526068679316
         },
         {
          "b": 0.7372824960280477,
          "m": -0.5845526068679316
         },
         {
          "b": 0.7372824960280477,
          "m": -0.5845526068679316
         },
         {
          "b": 0.7372824960280477,
          "m": -0.5254737092338935
         },
         {
          "b": 0.7372824960280477,
          "m": -0.5254737092338935
         },
         {
          "b": 0.7946189639768602,
          "m": -0.5254737092338935
         },
         {
          "b": 0.7946189639768602,
          "m": -0.2889379406122521
         },
         {
          "b": 0.7946189639768602,
          "m": 0.4396283189776844
         },
         {
          "b": 0.7946189639768602,
          "m": -0.40249054177312904
         },
         {
          "b": 0.7946189639768602,
          "m": -0.40249054177312904
         },
         {
          "b": 0.7946189639768602,
          "m": -0.40249054177312904
         },
         {
          "b": 0.7946189639768602,
          "m": -0.40249054177312904
         },
         {
          "b": 0.7946189639768602,
          "m": -0.40249054177312904
         },
         {
          "b": 0.7946189639768602,
          "m": -0.2083567916939273
         },
         {
          "b": 0.7946189639768602,
          "m": 0.2793326796891449
         },
         {
          "b": 0.7946189639768602,
          "m": 0.2793326796891449
         },
         {
          "b": 0.7946189639768602,
          "m": 0.2793326796891449
         },
         {
          "b": 0.7946189639768602,
          "m": -0.23199312116765625
         },
         {
          "b": 0.7946189639768602,
          "m": -0.23199312116765625
         },
         {
          "b": 0.7739686878530645,
          "m": -0.23199312116765625
         },
         {
          "b": 0.7739686878530645,
          "m": -0.23199312116765625
         },
         {
          "b": 0.7739686878530645,
          "m": -0.23199312116765625
         },
         {
          "b": 0.7739686878530645,
          "m": -0.23199312116765625
         },
         {
          "b": 0.7739686878530645,
          "m": -0.23199312116765625
         },
         {
          "b": 0.7739686878530645,
          "m": -0.23199312116765625
         },
         {
          "b": 0.7739686878530645,
          "m": 0.6131316286391668
         },
         {
          "b": 0.7739686878530645,
          "m": 0.6131316286391668
         },
         {
          "b": 0.7739686878530645,
          "m": 0.6131316286391668
         },
         {
          "b": 0.7739686878530645,
          "m": 0.25219792798210805
         },
         {
          "b": 0.7739686878530645,
          "m": 0.25219792798210805
         },
         {
          "b": 0.7739686878530645,
          "m": -0.3609692230582098
         },
         {
          "b": 0.6882679544969992,
          "m": -0.3609692230582098
         },
         {
          "b": 0.6882679544969992,
          "m": -0.3609692230582098
         },
         {
          "b": 0.6882679544969992,
          "m": -0.07182279045374051
         },
         {
          "b": 0.18456155352301873,
          "m": -0.07182279045374051
         },
         {
          "b": 0.18456155352301873,
          "m": -0.07182279045374051
         },
         {
          "b": 0.18456155352301873,
          "m": 0.11243290110535065
         },
         {
          "b": 0.18456155352301873,
          "m": 0.11243290110535065
         },
         {
          "b": 0.18456155352301873,
          "m": -0.03434231058323589
         },
         {
          "b": 0.18456155352301873,
          "m": -0.03434231058323589
         },
         {
          "b": 0.5861040140052738,
          "m": -0.03434231058323589
         },
         {
          "b": 0.5861040140052738,
          "m": -0.03434231058323589
         },
         {
          "b": 0.8932266973441256,
          "m": -0.03434231058323589
         },
         {
          "b": 0.8932266973441256,
          "m": -0.03434231058323589
         },
         {
          "b": 0.8932266973441256,
          "m": -0.03434231058323589
         },
         {
          "b": 0.8932266973441256,
          "m": -0.657095827217377
         },
         {
          "b": 0.8932266973441256,
          "m": -0.657095827217377
         },
         {
          "b": 0.8932266973441256,
          "m": -0.3942836850509639
         },
         {
          "b": 0.8932266973441256,
          "m": -0.3942836850509639
         },
         {
          "b": 0.8932266973441256,
          "m": -0.3942836850509639
         },
         {
          "b": 0.8932266973441256,
          "m": -0.3942836850509639
         },
         {
          "b": 0.8932266973441256,
          "m": -0.6785785961393642
         },
         {
          "b": 0.8932266973441256,
          "m": -0.6785785961393642
         },
         {
          "b": 0.8932266973441256,
          "m": -0.6785785961393642
         },
         {
          "b": 0.8932266973441256,
          "m": 0.1922170226889277
         },
         {
          "b": 0.8932266973441256,
          "m": 0.1922170226889277
         },
         {
          "b": 0.8932266973441256,
          "m": -0.8860162802424203
         },
         {
          "b": 0.8932266973441256,
          "m": -0.8860162802424203
         },
         {
          "b": 0.8932266973441256,
          "m": -0.31306168580433513
         },
         {
          "b": 0.8932266973441256,
          "m": -0.31306168580433513
         },
         {
          "b": 0.8932266973441256,
          "m": 0.49527595687727044
         },
         {
          "b": 0.8932266973441256,
          "m": 0.272617531864493
         },
         {
          "b": 0.2757975299559179,
          "m": 0.272617531864493
         },
         {
          "b": 0.9723949912341177,
          "m": 0.272617531864493
         },
         {
          "b": 0.9723949912341177,
          "m": 0.272617531864493
         },
         {
          "b": 0.9723949912341177,
          "m": 0.272617531864493
         },
         {
          "b": 0.9723949912341177,
          "m": 0.272617531864493
         },
         {
          "b": 0.9723949912341177,
          "m": 0.272617531864493
         },
         {
          "b": 0.9723949912341177,
          "m": -0.9619812667409933
         },
         {
          "b": 0.9723949912341177,
          "m": -0.8712672632366731
         },
         {
          "b": 0.9723949912341177,
          "m": -0.8712672632366731
         },
         {
          "b": 0.9723949912341177,
          "m": -0.5940218229159593
         },
         {
          "b": 0.9723949912341177,
          "m": -0.5940218229159593
         },
         {
          "b": 0.9723949912341177,
          "m": -0.5940218229159593
         },
         {
          "b": 0.9723949912341177,
          "m": -0.5940218229159593
         },
         {
          "b": 0.9197280137057471,
          "m": -0.5940218229159593
         },
         {
          "b": 0.9197280137057471,
          "m": 0.34407754409725855
         },
         {
          "b": 0.544461043262445,
          "m": 0.34407754409725855
         },
         {
          "b": 0.561047735523257,
          "m": 0.34407754409725855
         },
         {
          "b": 0.561047735523257,
          "m": 0.34407754409725855
         },
         {
          "b": 0.561047735523257,
          "m": -0.4093316951113415
         },
         {
          "b": 0.561047735523257,
          "m": -0.4093316951113415
         },
         {
          "b": 0.561047735523257,
          "m": -0.4093316951113415
         },
         {
          "b": 0.561047735523257,
          "m": -0.36781291195654053
         },
         {
          "b": 0.561047735523257,
          "m": 0.047894372941720276
         },
         {
          "b": 0.669590985367704,
          "m": 0.047894372941720276
         },
         {
          "b": 0.669590985367704,
          "m": 0.047894372941720276
         },
         {
          "b": 0.669590985367704,
          "m": 0.047894372941720276
         },
         {
          "b": 0.669590985367704,
          "m": 0.047894372941720276
         },
         {
          "b": 0.669590985367704,
          "m": 0.047894372941720276
         },
         {
          "b": 0.9330529030086734,
          "m": 0.047894372941720276
         },
         {
          "b": 0.9330529030086734,
          "m": 0.047894372941720276
         },
         {
          "b": 0.2610920059665063,
          "m": 0.047894372941720276
         },
         {
          "b": 0.2610920059665063,
          "m": 0.047894372941720276
         },
         {
          "b": 0.2610920059665063,
          "m": 0.047894372941720276
         },
         {
          "b": 0.2610920059665063,
          "m": 0.047894372941720276
         },
         {
          "b": 0.2610920059665063,
          "m": 0.047894372941720276
         },
         {
          "b": 0.2610920059665063,
          "m": 0.047894372941720276
         },
         {
          "b": 0.2610920059665063,
          "m": 0.14286156372143766
         },
         {
          "b": 0.2212995924827761,
          "m": 0.14286156372143766
         },
         {
          "b": 0.2212995924827761,
          "m": 0.14286156372143766
         },
         {
          "b": 0.2212995924827761,
          "m": 0.14286156372143766
         },
         {
          "b": 0.2212995924827761,
          "m": 0.14286156372143766
         },
         {
          "b": 0.2212995924827761,
          "m": 0.14286156372143766
         },
         {
          "b": 0.2212995924827761,
          "m": 0.14286156372143766
         },
         {
          "b": 0.49149342078582836,
          "m": 0.14286156372143766
         },
         {
          "b": 0.49149342078582836,
          "m": 0.14286156372143766
         },
         {
          "b": 0.37749763597342434,
          "m": 0.14286156372143766
         },
         {
          "b": 0.37749763597342434,
          "m": 0.14286156372143766
         },
         {
          "b": 0.37749763597342434,
          "m": -0.04387061904990408
         },
         {
          "b": 0.37749763597342434,
          "m": -0.04387061904990408
         },
         {
          "b": 0.3508562415147358,
          "m": -0.04387061904990408
         },
         {
          "b": 0.3508562415147358,
          "m": -0.04387061904990408
         },
         {
          "b": 0.3508562415147358,
          "m": -0.04387061904990408
         },
         {
          "b": 0.19823914542940835,
          "m": -0.04387061904990408
         },
         {
          "b": 0.5949309891022103,
          "m": -0.04387061904990408
         },
         {
          "b": 0.5949309891022103,
          "m": -0.04387061904990408
         },
         {
          "b": 0.5949309891022103,
          "m": -0.36828052135971334
         },
         {
          "b": 0.5949309891022103,
          "m": -0.36828052135971334
         },
         {
          "b": 0.5949309891022103,
          "m": -0.07787777554891107
         },
         {
          "b": 0.5949309891022103,
          "m": -0.5002266533742177
         },
         {
          "b": 0.5949309891022103,
          "m": -0.4791277208819975
         },
         {
          "b": 0.5949309891022103,
          "m": -0.4791277208819975
         },
         {
          "b": 0.5949309891022103,
          "m": -0.4791277208819975
         },
         {
          "b": 0.5949309891022103,
          "m": -0.4791277208819975
         },
         {
          "b": 0.5949309891022103,
          "m": -0.4791277208819975
         },
         {
          "b": 0.5949309891022103,
          "m": -0.4791277208819975
         },
         {
          "b": 0.5949309891022103,
          "m": -0.5633966213079196
         },
         {
          "b": 0.5949309891022103,
          "m": -0.5633966213079196
         },
         {
          "b": 0.5949309891022103,
          "m": -0.5633966213079196
         },
         {
          "b": 0.5949309891022103,
          "m": -0.5633966213079196
         },
         {
          "b": 0.5949309891022103,
          "m": -0.2817805666236113
         },
         {
          "b": 0.5949309891022103,
          "m": 0.18891102645108737
         },
         {
          "b": 0.5949309891022103,
          "m": 0.18891102645108737
         },
         {
          "b": 0.5949309891022103,
          "m": -0.410898749736871
         },
         {
          "b": 0.5949309891022103,
          "m": -0.410898749736871
         },
         {
          "b": 0.5949309891022103,
          "m": -0.410898749736871
         },
         {
          "b": 0.9548224328427775,
          "m": -0.410898749736871
         },
         {
          "b": 0.9548224328427775,
          "m": -0.410898749736871
         },
         {
          "b": 0.9548224328427775,
          "m": -0.8056427078784403
         },
         {
          "b": 0.9548224328427775,
          "m": 0.8645033219409124
         },
         {
          "b": 0.9548224328427775,
          "m": 0.8645033219409124
         },
         {
          "b": 0.9548224328427775,
          "m": -0.2661881427570958
         },
         {
          "b": 0.9548224328427775,
          "m": -0.6244961307907368
         },
         {
          "b": 0.9548224328427775,
          "m": 0.57148175192275
         },
         {
          "b": 0.9548224328427775,
          "m": -0.31561176721605677
         },
         {
          "b": 0.9548224328427775,
          "m": 0.3633477763031221
         },
         {
          "b": 0.9548224328427775,
          "m": 0.3633477763031221
         },
         {
          "b": 0.9548224328427775,
          "m": 0.055203234456720596
         },
         {
          "b": 0.9548224328427775,
          "m": 0.055203234456720596
         },
         {
          "b": 0.9548224328427775,
          "m": 0.055203234456720596
         },
         {
          "b": 0.1672795082792422,
          "m": 0.055203234456720596
         },
         {
          "b": 0.1672795082792422,
          "m": 0.055203234456720596
         },
         {
          "b": 0.1672795082792422,
          "m": 0.055203234456720596
         },
         {
          "b": 0.1672795082792422,
          "m": 0.055203234456720596
         },
         {
          "b": 0.1672795082792422,
          "m": 0.055203234456720596
         },
         {
          "b": 0.1672795082792422,
          "m": -0.1383995757468124
         },
         {
          "b": 0.1672795082792422,
          "m": -0.1383995757468124
         },
         {
          "b": 0.1672795082792422,
          "m": -0.1383995757468124
         },
         {
          "b": 0.1672795082792422,
          "m": -0.1383995757468124
         },
         {
          "b": 0.14301267549806496,
          "m": -0.1383995757468124
         },
         {
          "b": 0.14301267549806496,
          "m": -0.1383995757468124
         },
         {
          "b": 0.34323343015827823,
          "m": -0.1383995757468124
         },
         {
          "b": 0.34323343015827823,
          "m": -0.1383995757468124
         },
         {
          "b": 0.34323343015827823,
          "m": -0.1383995757468124
         },
         {
          "b": 0.2151661905944644,
          "m": -0.1383995757468124
         },
         {
          "b": 0.2151661905944644,
          "m": -0.1383995757468124
         },
         {
          "b": 0.2151661905944644,
          "m": -0.1383995757468124
         },
         {
          "b": 0.2151661905944644,
          "m": -0.1383995757468124
         },
         {
          "b": 0.2151661905944644,
          "m": -0.1383995757468124
         },
         {
          "b": 0.2151661905944644,
          "m": -0.14065042959942153
         },
         {
          "b": 0.2151661905944644,
          "m": -0.14065042959942153
         },
         {
          "b": 0.2151661905944644,
          "m": -0.14065042959942153
         },
         {
          "b": 0.2151661905944644,
          "m": 0.16687998911641233
         },
         {
          "b": 0.2151661905944644,
          "m": 0.16687998911641233
         },
         {
          "b": 0.7387926083058691,
          "m": 0.16687998911641233
         },
         {
          "b": 0.18628788732693224,
          "m": 0.16687998911641233
         },
         {
          "b": 0.18628788732693224,
          "m": 0.16687998911641233
         },
         {
          "b": 0.18628788732693224,
          "m": 0.16687998911641233
         },
         {
          "b": 0.2487326895627675,
          "m": 0.16687998911641233
         },
         {
          "b": 0.5621567733014594,
          "m": 0.16687998911641233
         },
         {
          "b": 0.5621567733014594,
          "m": 0.16687998911641233
         },
         {
          "b": 0.5621567733014594,
          "m": 0.16687998911641233
         },
         {
          "b": 0.5621567733014594,
          "m": 0.44571854581831727
         },
         {
          "b": 0.5621567733014594,
          "m": 0.22920041711768646
         },
         {
          "b": 0.7309487404178967,
          "m": 0.22920041711768646
         },
         {
          "b": 0.6041534669749635,
          "m": 0.22920041711768646
         },
         {
          "b": 0.25457715962697436,
          "m": 0.22920041711768646
         },
         {
          "b": 0.25457715962697436,
          "m": 0.22920041711768646
         },
         {
          "b": 0.25457715962697436,
          "m": 0.22920041711768646
         },
         {
          "b": 0.25457715962697436,
          "m": 0.22920041711768646
         },
         {
          "b": 0.25457715962697436,
          "m": 0.05871441306333769
         },
         {
          "b": 0.2082931287245089,
          "m": 0.05871441306333769
         },
         {
          "b": 0.725659792869829,
          "m": 0.05871441306333769
         },
         {
          "b": 0.725659792869829,
          "m": 0.05871441306333769
         },
         {
          "b": 0.725659792869829,
          "m": 0.05871441306333769
         },
         {
          "b": 0.725659792869829,
          "m": 0.05871441306333769
         },
         {
          "b": 0.725659792869829,
          "m": 0.05871441306333769
         },
         {
          "b": 0.725659792869829,
          "m": 0.05871441306333769
         },
         {
          "b": 0.725659792869829,
          "m": 0.05871441306333769
         },
         {
          "b": 0.4271546611333916,
          "m": 0.05871441306333769
         },
         {
          "b": 0.21949454736300056,
          "m": 0.05871441306333769
         },
         {
          "b": 0.605077658099473,
          "m": 0.05871441306333769
         },
         {
          "b": 0.605077658099473,
          "m": 0.5513912724584282
         },
         {
          "b": 0.605077658099473,
          "m": -0.015942956415763154
         },
         {
          "b": 0.605077658099473,
          "m": -0.015942956415763154
         },
         {
          "b": 0.605077658099473,
          "m": -0.010168964389495772
         },
         {
          "b": 0.605077658099473,
          "m": 0.006625073272640725
         },
         {
          "b": 0.605077658099473,
          "m": 0.006625073272640725
         },
         {
          "b": 0.32335610188356045,
          "m": 0.006625073272640725
         },
         {
          "b": 0.32335610188356045,
          "m": 0.006625073272640725
         },
         {
          "b": 0.5489138973793113,
          "m": 0.006625073272640725
         },
         {
          "b": 0.5489138973793113,
          "m": 0.006625073272640725
         },
         {
          "b": 0.31279025238916147,
          "m": 0.006625073272640725
         },
         {
          "b": 0.31279025238916147,
          "m": 0.006625073272640725
         },
         {
          "b": 0.8892160368329594,
          "m": 0.006625073272640725
         },
         {
          "b": 0.8892160368329594,
          "m": -0.1868916885617884
         },
         {
          "b": 0.8944638185303464,
          "m": -0.1868916885617884
         },
         {
          "b": 0.541245572042319,
          "m": -0.1868916885617884
         },
         {
          "b": 0.5051658104066943,
          "m": -0.1868916885617884
         },
         {
          "b": 0.5051658104066943,
          "m": 0.3142682128181715
         },
         {
          "b": 0.5051658104066943,
          "m": 0.3142682128181715
         },
         {
          "b": 0.5051658104066943,
          "m": -0.3605794547778205
         },
         {
          "b": 0.9710133582498577,
          "m": -0.3605794547778205
         },
         {
          "b": 0.5955053520761344,
          "m": -0.3605794547778205
         },
         {
          "b": 0.5955053520761344,
          "m": -0.3605794547778205
         },
         {
          "b": 0.5955053520761344,
          "m": -0.3605794547778205
         },
         {
          "b": 0.5955053520761344,
          "m": -0.3605794547778205
         },
         {
          "b": 0.5955053520761344,
          "m": 0.17944322425765313
         },
         {
          "b": 0.5955053520761344,
          "m": 0.17944322425765313
         },
         {
          "b": 0.9682961451359955,
          "m": 0.17944322425765313
         },
         {
          "b": 0.9682961451359955,
          "m": -0.8070102856656154
         },
         {
          "b": 0.9682961451359955,
          "m": -0.8070102856656154
         },
         {
          "b": 0.8423524919730945,
          "m": -0.8070102856656154
         },
         {
          "b": 0.8423524919730945,
          "m": -0.8070102856656154
         },
         {
          "b": 0.8423524919730945,
          "m": 0.7087333018511999
         },
         {
          "b": 0.8423524919730945,
          "m": 0.7087333018511999
         },
         {
          "b": 0.8423524919730945,
          "m": 0.7087333018511999
         },
         {
          "b": 0.8423524919730945,
          "m": -0.4244204269603522
         },
         {
          "b": 0.8423524919730945,
          "m": -0.4244204269603522
         },
         {
          "b": 0.8423524919730945,
          "m": -0.4244204269603522
         },
         {
          "b": 0.8423524919730945,
          "m": -0.5735160231012675
         },
         {
          "b": 0.8423524919730945,
          "m": -0.5735160231012675
         },
         {
          "b": 0.8423524919730945,
          "m": -0.5735160231012675
         },
         {
          "b": 0.8423524919730945,
          "m": -0.5735160231012675
         },
         {
          "b": 0.8423524919730945,
          "m": 0.0977219158824918
         },
         {
          "b": 0.8423524919730945,
          "m": 0.0977219158824918
         },
         {
          "b": 0.8423524919730945,
          "m": -0.7999732462218729
         },
         {
          "b": 0.8423524919730945,
          "m": -0.7999732462218729
         },
         {
          "b": 0.8423524919730945,
          "m": -0.7999732462218729
         },
         {
          "b": 0.8423524919730945,
          "m": 0.40064277834800266
         },
         {
          "b": 0.8423524919730945,
          "m": 0.40064277834800266
         },
         {
          "b": 0.4911142005919944,
          "m": 0.40064277834800266
         },
         {
          "b": 0.4911142005919944,
          "m": 0.4077328361576702
         },
         {
          "b": 0.4911142005919944,
          "m": 0.4077328361576702
         },
         {
          "b": 0.4911142005919944,
          "m": 0.4077328361576702
         },
         {
          "b": 0.4911142005919944,
          "m": 0.4077328361576702
         },
         {
          "b": 0.4911142005919944,
          "m": 0.4077328361576702
         },
         {
          "b": 0.5247146501387372,
          "m": 0.4077328361576702
         },
         {
          "b": 0.5247146501387372,
          "m": 0.4077328361576702
         },
         {
          "b": 0.5247146501387372,
          "m": 0.4077328361576702
         },
         {
          "b": 0.9354928990216742,
          "m": 0.4077328361576702
         },
         {
          "b": 0.9354928990216742,
          "m": -0.6703444277743558
         },
         {
          "b": 0.9354928990216742,
          "m": -0.6291559133031155
         },
         {
          "b": 0.9354928990216742,
          "m": 0.29799601304059586
         },
         {
          "b": 0.9354928990216742,
          "m": 0.36214397219301575
         },
         {
          "b": 0.9354928990216742,
          "m": -0.8757646054076875
         },
         {
          "b": 0.9354928990216742,
          "m": -0.8757646054076875
         },
         {
          "b": 0.9354928990216742,
          "m": -0.30138683473993333
         },
         {
          "b": 0.4317093552563429,
          "m": -0.30138683473993333
         },
         {
          "b": 0.4317093552563429,
          "m": -0.30138683473993333
         },
         {
          "b": 0.4317093552563429,
          "m": 0.25784982745677865
         },
         {
          "b": 0.4317093552563429,
          "m": 0.25784982745677865
         },
         {
          "b": 0.4317093552563429,
          "m": 0.25784982745677865
         },
         {
          "b": 0.4317093552563429,
          "m": 0.25784982745677865
         },
         {
          "b": 0.4317093552563429,
          "m": 0.25784982745677865
         },
         {
          "b": 0.4317093552563429,
          "m": 0.25784982745677865
         },
         {
          "b": 0.4317093552563429,
          "m": -0.2301289680045404
         },
         {
          "b": 0.4317093552563429,
          "m": -0.25240021954834346
         },
         {
          "b": 0.4317093552563429,
          "m": -0.25240021954834346
         },
         {
          "b": 0.4317093552563429,
          "m": -0.25240021954834346
         },
         {
          "b": 0.4317093552563429,
          "m": -0.25240021954834346
         },
         {
          "b": 0.4317093552563429,
          "m": 0.050327808466421375
         },
         {
          "b": 0.5457555336110296,
          "m": 0.050327808466421375
         },
         {
          "b": 0.5457555336110296,
          "m": 0.050327808466421375
         },
         {
          "b": 0.5457555336110296,
          "m": 0.17784317149275286
         },
         {
          "b": 0.5457555336110296,
          "m": -0.1991628272125856
         },
         {
          "b": 0.5457555336110296,
          "m": -0.1991628272125856
         },
         {
          "b": 0.5457555336110296,
          "m": 0.2866373358608929
         },
         {
          "b": 0.5457555336110296,
          "m": 0.2866373358608929
         },
         {
          "b": 0.5457555336110296,
          "m": -0.471187410089996
         },
         {
          "b": 0.5457555336110296,
          "m": -0.471187410089996
         },
         {
          "b": 0.5366625671498058,
          "m": -0.471187410089996
         },
         {
          "b": 0.5366625671498058,
          "m": 0.03493407150913641
         },
         {
          "b": 0.5366625671498058,
          "m": -0.03659835199798933
         },
         {
          "b": 0.55600660668586,
          "m": -0.03659835199798933
         },
         {
          "b": 0.55600660668586,
          "m": 0.48868582515944037
         },
         {
          "b": 0.55600660668586,
          "m": 0.48868582515944037
         },
         {
          "b": 0.55600660668586,
          "m": 0.48868582515944037
         },
         {
          "b": 0.55600660668586,
          "m": 0.48868582515944037
         },
         {
          "b": 0.5450674833916727,
          "m": 0.48868582515944037
         },
         {
          "b": 0.5450674833916727,
          "m": 0.48868582515944037
         },
         {
          "b": 0.5450674833916727,
          "m": 0.48868582515944037
         },
         {
          "b": 0.5450674833916727,
          "m": -0.208363953638677
         },
         {
          "b": 0.5450674833916727,
          "m": -0.208363953638677
         },
         {
          "b": 0.5450674833916727,
          "m": -0.43555997597713714
         },
         {
          "b": 0.9054537112666068,
          "m": -0.43555997597713714
         },
         {
          "b": 0.8515994736871153,
          "m": -0.43555997597713714
         },
         {
          "b": 0.8515994736871153,
          "m": -0.23411745652166904
         },
         {
          "b": 0.8515994736871153,
          "m": -0.23411745652166904
         },
         {
          "b": 0.8515994736871153,
          "m": -0.23411745652166904
         },
         {
          "b": 0.7937452512195147,
          "m": -0.23411745652166904
         },
         {
          "b": 0.7937452512195147,
          "m": -0.23411745652166904
         },
         {
          "b": 0.7937452512195147,
          "m": -0.05963088501320635
         },
         {
          "b": 0.7937452512195147,
          "m": 0.6178532740592677
         },
         {
          "b": 0.7937452512195147,
          "m": -0.016405266387292672
         },
         {
          "b": 0.7937452512195147,
          "m": -0.016405266387292672
         },
         {
          "b": 0.7937452512195147,
          "m": -0.34739331379596927
         },
         {
          "b": 0.7937452512195147,
          "m": -0.34739331379596927
         },
         {
          "b": 0.7937452512195147,
          "m": -0.34739331379596927
         },
         {
          "b": 0.7430756837883925,
          "m": -0.34739331379596927
         },
         {
          "b": 0.7430756837883925,
          "m": -0.716377458320806
         },
         {
          "b": 0.7430756837883925,
          "m": -0.1347674669827319
         },
         {
          "b": 0.7430756837883925,
          "m": -0.1347674669827319
         },
         {
          "b": 0.7621185860903481,
          "m": -0.1347674669827319
         },
         {
          "b": 0.7621185860903481,
          "m": -0.1347674669827319
         },
         {
          "b": 0.7621185860903481,
          "m": -0.1347674669827319
         },
         {
          "b": 0.7621185860903481,
          "m": -0.1347674669827319
         },
         {
          "b": 0.7621185860903481,
          "m": 0.6895465656416035
         },
         {
          "b": 0.7621185860903481,
          "m": 0.6895465656416035
         },
         {
          "b": 0.7621185860903481,
          "m": 0.6895465656416035
         },
         {
          "b": 0.7621185860903481,
          "m": -0.7029040607661143
         },
         {
          "b": 0.7621185860903481,
          "m": -0.7029040607661143
         },
         {
          "b": 0.7621185860903481,
          "m": -0.7029040607661143
         },
         {
          "b": 0.7621185860903481,
          "m": -0.7029040607661143
         },
         {
          "b": 0.7621185860903481,
          "m": -0.7029040607661143
         },
         {
          "b": 0.7621185860903481,
          "m": -0.7029040607661143
         },
         {
          "b": 0.8003357956052299,
          "m": -0.7029040607661143
         },
         {
          "b": 0.8797700353069107,
          "m": -0.7029040607661143
         },
         {
          "b": 0.8797700353069107,
          "m": -0.7029040607661143
         },
         {
          "b": 0.8797700353069107,
          "m": 0.49282061614311456
         },
         {
          "b": 0.8797700353069107,
          "m": 0.49282061614311456
         },
         {
          "b": 0.8797700353069107,
          "m": 0.7994396355536197
         },
         {
          "b": 0.8797700353069107,
          "m": -0.5096856823940639
         },
         {
          "b": 0.8797700353069107,
          "m": -0.5096856823940639
         },
         {
          "b": 0.9158788938999984,
          "m": -0.5096856823940639
         },
         {
          "b": 0.9158788938999984,
          "m": -0.5096856823940639
         },
         {
          "b": 0.9158788938999984,
          "m": -0.5096856823940639
         },
         {
          "b": 0.9158788938999984,
          "m": -0.5096856823940639
         },
         {
          "b": 0.9158788938999984,
          "m": 0.4872181645875322
         },
         {
          "b": 0.9158788938999984,
          "m": 0.4872181645875322
         },
         {
          "b": 0.9158788938999984,
          "m": -0.8948248926421913
         },
         {
          "b": 0.9158788938999984,
          "m": -0.4628412777505335
         },
         {
          "b": 0.9158788938999984,
          "m": 0.5450905747554728
         },
         {
          "b": 0.7051122642962115,
          "m": 0.5450905747554728
         },
         {
          "b": 0.7051122642962115,
          "m": 0.5450905747554728
         },
         {
          "b": 0.7051122642962115,
          "m": -0.20530350056388458
         },
         {
          "b": 0.8335540554878353,
          "m": -0.20530350056388458
         },
         {
          "b": 0.8335540554878353,
          "m": -0.20530350056388458
         },
         {
          "b": 0.8335540554878353,
          "m": 0.7772417940853253
         },
         {
          "b": 0.8335540554878353,
          "m": -0.25530595460869754
         },
         {
          "b": 0.8335540554878353,
          "m": 0.5147016830970237
         },
         {
          "b": 0.8335540554878353,
          "m": -0.03194656497168524
         },
         {
          "b": 0.8335540554878353,
          "m": -0.03194656497168524
         },
         {
          "b": 0.8335540554878353,
          "m": 0.30538445146988
         },
         {
          "b": 0.8335540554878353,
          "m": 0.30538445146988
         },
         {
          "b": 0.8335540554878353,
          "m": -0.8072746560735895
         },
         {
          "b": 0.8335540554878353,
          "m": -0.8072746560735895
         },
         {
          "b": 0.8335540554878353,
          "m": -0.8072746560735895
         },
         {
          "b": 0.8335540554878353,
          "m": -0.7147755288997224
         },
         {
          "b": 0.8724145788529534,
          "m": -0.7147755288997224
         },
         {
          "b": 0.8724145788529534,
          "m": -0.2617042475458511
         },
         {
          "b": 0.36628723462133306,
          "m": -0.2617042475458511
         },
         {
          "b": 0.36628723462133306,
          "m": -0.2617042475458511
         },
         {
          "b": 0.36628723462133306,
          "m": -0.2617042475458511
         },
         {
          "b": 0.36628723462133306,
          "m": -0.2617042475458511
         },
         {
          "b": 0.36628723462133306,
          "m": -0.2617042475458511
         },
         {
          "b": 0.36628723462133306,
          "m": -0.2617042475458511
         },
         {
          "b": 0.7721492113194148,
          "m": -0.2617042475458511
         },
         {
          "b": 0.7721492113194148,
          "m": 0.3686512446176302
         },
         {
          "b": 0.7721492113194148,
          "m": -0.6840896572260495
         },
         {
          "b": 0.7721492113194148,
          "m": -0.6840896572260495
         },
         {
          "b": 0.7721492113194148,
          "m": -0.6840896572260495
         },
         {
          "b": 0.7721492113194148,
          "m": -0.6840896572260495
         },
         {
          "b": 0.7721492113194148,
          "m": 0.5365148400728181
         },
         {
          "b": 0.7181734471169323,
          "m": 0.5365148400728181
         },
         {
          "b": 0.7181734471169323,
          "m": -0.5663191945352877
         },
         {
          "b": 0.7181734471169323,
          "m": -0.5663191945352877
         },
         {
          "b": 0.7181734471169323,
          "m": -0.5663191945352877
         },
         {
          "b": 0.7181734471169323,
          "m": -0.5663191945352877
         },
         {
          "b": 0.7181734471169323,
          "m": 0.085381263146741
         },
         {
          "b": 0.7181734471169323,
          "m": 0.44760647655099617
         },
         {
          "b": 0.7181734471169323,
          "m": 0.44760647655099617
         },
         {
          "b": 0.7181734471169323,
          "m": 0.608817145453785
         },
         {
          "b": 0.7181734471169323,
          "m": 0.608817145453785
         },
         {
          "b": 0.7181734471169323,
          "m": 0.608817145453785
         },
         {
          "b": 0.7181734471169323,
          "m": 0.608817145453785
         },
         {
          "b": 0.7181734471169323,
          "m": 0.608817145453785
         },
         {
          "b": 0.7181734471169323,
          "m": -0.2065826239239874
         },
         {
          "b": 0.7181734471169323,
          "m": 0.28597912791609814
         },
         {
          "b": 0.7181734471169323,
          "m": 0.28597912791609814
         },
         {
          "b": 0.7181734471169323,
          "m": 0.28597912791609814
         },
         {
          "b": 0.4920674776468792,
          "m": 0.28597912791609814
         },
         {
          "b": 0.4920674776468792,
          "m": 0.18284339922655302
         },
         {
          "b": 0.4920674776468792,
          "m": -0.29419986518916263
         },
         {
          "b": 0.4920674776468792,
          "m": -0.29419986518916263
         },
         {
          "b": 0.4920674776468792,
          "m": -0.0754309098798831
         },
         {
          "b": 0.4920674776468792,
          "m": -0.0754309098798831
         },
         {
          "b": 0.4920674776468792,
          "m": -0.0754309098798831
         },
         {
          "b": 0.4920674776468792,
          "m": -0.0754309098798831
         },
         {
          "b": 0.28889121896778724,
          "m": -0.0754309098798831
         },
         {
          "b": 0.28889121896778724,
          "m": -0.0754309098798831
         },
         {
          "b": 0.28889121896778724,
          "m": -0.0754309098798831
         },
         {
          "b": 0.28889121896778724,
          "m": -0.0754309098798831
         },
         {
          "b": 0.28889121896778724,
          "m": 0.11418804121145931
         },
         {
          "b": 0.19220720527838098,
          "m": 0.11418804121145931
         },
         {
          "b": 0.19220720527838098,
          "m": 0.11418804121145931
         },
         {
          "b": 0.19220720527838098,
          "m": 0.11418804121145931
         },
         {
          "b": 0.9388124349542764,
          "m": 0.11418804121145931
         },
         {
          "b": 0.9388124349542764,
          "m": 0.11418804121145931
         },
         {
          "b": 0.9388124349542764,
          "m": -0.6189609265871738
         },
         {
          "b": 0.9388124349542764,
          "m": -0.4718538177588172
         },
         {
          "b": 0.9388124349542764,
          "m": 0.5967680540273566
         },
         {
          "b": 0.9388124349542764,
          "m": -0.8226414259125254
         },
         {
          "b": 0.9388124349542764,
          "m": -0.9264658070270559
         },
         {
          "b": 0.9388124349542764,
          "m": -0.9264658070270559
         },
         {
          "b": 0.9388124349542764,
          "m": -0.9264658070270559
         },
         {
          "b": 0.9388124349542764,
          "m": -0.9264658070270559
         },
         {
          "b": 0.9388124349542764,
          "m": -0.9264658070270559
         },
         {
          "b": 0.9388124349542764,
          "m": -0.9264658070270559
         },
         {
          "b": 0.9388124349542764,
          "m": -0.9264658070270559
         },
         {
          "b": 0.9388124349542764,
          "m": -0.5303490512610896
         },
         {
          "b": 0.9710166057631346,
          "m": -0.5303490512610896
         },
         {
          "b": 0.9710166057631346,
          "m": 0.528489925846084
         },
         {
          "b": 0.9710166057631346,
          "m": 0.5643600413990233
         },
         {
          "b": 0.9710166057631346,
          "m": 0.5643600413990233
         },
         {
          "b": 0.9710166057631346,
          "m": 0.5643600413990233
         },
         {
          "b": 0.9710166057631346,
          "m": -0.5757831674366594
         },
         {
          "b": 0.9710166057631346,
          "m": -0.5757831674366594
         },
         {
          "b": 0.9710166057631346,
          "m": 0.7117555751080695
         },
         {
          "b": 0.9710166057631346,
          "m": 0.7117555751080695
         },
         {
          "b": 0.9710166057631346,
          "m": 0.08886754828973609
         },
         {
          "b": 0.9710166057631346,
          "m": 0.08886754828973609
         },
         {
          "b": 0.9710166057631346,
          "m": -0.5209480807125184
         },
         {
          "b": 0.6879278591047917,
          "m": -0.5209480807125184
         },
         {
          "b": 0.6879278591047917,
          "m": -0.04949321653888439
         },
         {
          "b": 0.6879278591047917,
          "m": -0.3160188246421487
         },
         {
          "b": 0.6879278591047917,
          "m": -0.3160188246421487
         },
         {
          "b": 0.6879278591047917,
          "m": -0.3160188246421487
         },
         {
          "b": 0.6879278591047917,
          "m": -0.3160188246421487
         },
         {
          "b": 0.6879278591047917,
          "m": -0.3160188246421487
         },
         {
          "b": 0.6879278591047917,
          "m": -0.3160188246421487
         },
         {
          "b": 0.7617093768003895,
          "m": -0.3160188246421487
         },
         {
          "b": 0.7617093768003895,
          "m": -0.3160188246421487
         },
         {
          "b": 0.5477333834153433,
          "m": -0.3160188246421487
         },
         {
          "b": 0.5477333834153433,
          "m": -0.3160188246421487
         },
         {
          "b": 0.5477333834153433,
          "m": -0.3160188246421487
         },
         {
          "b": 0.6838650648296023,
          "m": -0.3160188246421487
         },
         {
          "b": 0.6838650648296023,
          "m": 0.22629025950776094
         },
         {
          "b": 0.6838650648296023,
          "m": -0.3807755212627326
         },
         {
          "b": 0.6838650648296023,
          "m": -0.3807755212627326
         },
         {
          "b": 0.6838650648296023,
          "m": -0.3807755212627326
         },
         {
          "b": 0.6838650648296023,
          "m": -0.3807755212627326
         },
         {
          "b": 0.6838650648296023,
          "m": -0.3807755212627326
         },
         {
          "b": 0.6838650648296023,
          "m": -0.3807755212627326
         },
         {
          "b": 0.6838650648296023,
          "m": -0.3807755212627326
         },
         {
          "b": 0.6838650648296023,
          "m": 0.4097939041572196
         },
         {
          "b": 0.6838650648296023,
          "m": 0.4454048012747569
         },
         {
          "b": 0.6838650648296023,
          "m": 0.4454048012747569
         },
         {
          "b": 0.6838650648296023,
          "m": 0.4454048012747569
         },
         {
          "b": 0.6838650648296023,
          "m": 0.4454048012747569
         },
         {
          "b": 0.6838650648296023,
          "m": 0.4454048012747569
         },
         {
          "b": 0.6838650648296023,
          "m": 0.5835810406244561
         },
         {
          "b": 0.6838650648296023,
          "m": 0.5835810406244561
         },
         {
          "b": 0.6838650648296023,
          "m": 0.5948104148751321
         },
         {
          "b": 0.6838650648296023,
          "m": 0.5948104148751321
         },
         {
          "b": 0.9757317071218725,
          "m": 0.5948104148751321
         },
         {
          "b": 0.6826063311267838,
          "m": 0.5948104148751321
         },
         {
          "b": 0.6826063311267838,
          "m": 0.5948104148751321
         },
         {
          "b": 0.6826063311267838,
          "m": 0.5948104148751321
         },
         {
          "b": 0.6826063311267838,
          "m": 0.16410232290739146
         },
         {
          "b": 0.6826063311267838,
          "m": 0.5764738699319436
         },
         {
          "b": 0.8293557784748062,
          "m": 0.5764738699319436
         },
         {
          "b": 0.8293557784748062,
          "m": -0.673781197694032
         },
         {
          "b": 0.8293557784748062,
          "m": -0.673781197694032
         },
         {
          "b": 0.8293557784748062,
          "m": -0.673781197694032
         },
         {
          "b": 0.8293557784748062,
          "m": 0.4444243668184107
         },
         {
          "b": 0.8293557784748062,
          "m": 0.4444243668184107
         },
         {
          "b": 0.8293557784748062,
          "m": 0.32792848968741883
         },
         {
          "b": 0.8293557784748062,
          "m": 0.32792848968741883
         },
         {
          "b": 0.8293557784748062,
          "m": 0.22336472042822186
         },
         {
          "b": 0.8293557784748062,
          "m": 0.22336472042822186
         },
         {
          "b": 0.8293557784748062,
          "m": 0.03425877344559658
         },
         {
          "b": 0.8989579134050321,
          "m": 0.03425877344559658
         },
         {
          "b": 0.9762825006913392,
          "m": 0.03425877344559658
         },
         {
          "b": 0.9762825006913392,
          "m": 0.6588814422850906
         },
         {
          "b": 0.9762825006913392,
          "m": 0.6588814422850906
         },
         {
          "b": 0.9762825006913392,
          "m": 0.6588814422850906
         },
         {
          "b": 0.9762825006913392,
          "m": 0.03690086781357249
         },
         {
          "b": 0.9762825006913392,
          "m": 0.03690086781357249
         },
         {
          "b": 0.9762825006913392,
          "m": 0.8239041929364228
         },
         {
          "b": 0.9762825006913392,
          "m": -0.06812913614798499
         },
         {
          "b": 0.16463567567390158,
          "m": -0.06812913614798499
         },
         {
          "b": 0.16463567567390158,
          "m": -0.06812913614798499
         },
         {
          "b": 0.5082247691274688,
          "m": -0.06812913614798499
         },
         {
          "b": 0.5082247691274688,
          "m": -0.33098053620956125
         },
         {
          "b": 0.7293673553765478,
          "m": -0.33098053620956125
         },
         {
          "b": 0.7293673553765478,
          "m": 0.30692278058067424
         },
         {
          "b": 0.4363288422799856,
          "m": 0.30692278058067424
         },
         {
          "b": 0.4363288422799856,
          "m": 0.30692278058067424
         },
         {
          "b": 0.35867505865331784,
          "m": 0.30692278058067424
         },
         {
          "b": 0.3532571327084286,
          "m": 0.30692278058067424
         },
         {
          "b": 0.3532571327084286,
          "m": -0.292469532881414
         },
         {
          "b": 0.3532571327084286,
          "m": -0.292469532881414
         },
         {
          "b": 0.3532571327084286,
          "m": -0.292469532881414
         },
         {
          "b": 0.3532571327084286,
          "m": -0.292469532881414
         },
         {
          "b": 0.3532571327084286,
          "m": 0.1518207644865177
         },
         {
          "b": 0.3532571327084286,
          "m": -0.06420666761861749
         },
         {
          "b": 0.3532571327084286,
          "m": -0.06420666761861749
         },
         {
          "b": 0.3532571327084286,
          "m": -0.06420666761861749
         },
         {
          "b": 0.3532571327084286,
          "m": -0.06420666761861749
         },
         {
          "b": 0.3532571327084286,
          "m": -0.06420666761861749
         },
         {
          "b": 0.3532571327084286,
          "m": -0.06420666761861749
         },
         {
          "b": 0.3532571327084286,
          "m": -0.06420666761861749
         },
         {
          "b": 0.35112699023126326,
          "m": -0.06420666761861749
         },
         {
          "b": 0.35112699023126326,
          "m": -0.22247219478654823
         },
         {
          "b": 0.6588961227575234,
          "m": -0.22247219478654823
         },
         {
          "b": 0.6588961227575234,
          "m": -0.4374477693314265
         },
         {
          "b": 0.6588961227575234,
          "m": -0.4374477693314265
         },
         {
          "b": 0.6588961227575234,
          "m": 0.5459181740132932
         },
         {
          "b": 0.6588961227575234,
          "m": 0.40491699259308356
         },
         {
          "b": 0.6588961227575234,
          "m": 0.40491699259308356
         },
         {
          "b": 0.6588961227575234,
          "m": 0.40491699259308356
         },
         {
          "b": 0.6588961227575234,
          "m": 0.40491699259308356
         },
         {
          "b": 0.6588961227575234,
          "m": 0.40491699259308356
         },
         {
          "b": 0.7158525711991663,
          "m": 0.40491699259308356
         },
         {
          "b": 0.46252070480918683,
          "m": 0.40491699259308356
         },
         {
          "b": 0.46252070480918683,
          "m": 0.3593819102433675
         },
         {
          "b": 0.46252070480918683,
          "m": 0.3593819102433675
         },
         {
          "b": 0.56610218328657,
          "m": 0.3593819102433675
         },
         {
          "b": 0.56610218328657,
          "m": 0.3593819102433675
         },
         {
          "b": 0.56610218328657,
          "m": 0.37957141527111626
         },
         {
          "b": 0.56610218328657,
          "m": 0.5601106227303283
         },
         {
          "b": 0.56610218328657,
          "m": 0.10178977336113015
         },
         {
          "b": 0.56610218328657,
          "m": 0.10178977336113015
         },
         {
          "b": 0.56610218328657,
          "m": -0.287221425154099
         },
         {
          "b": 0.56610218328657,
          "m": -0.287221425154099
         },
         {
          "b": 0.8989213098548687,
          "m": -0.287221425154099
         },
         {
          "b": 0.8989213098548687,
          "m": -0.04415831326397579
         },
         {
          "b": 0.8989213098548687,
          "m": -0.04415831326397579
         },
         {
          "b": 0.4439136629056313,
          "m": -0.04415831326397579
         },
         {
          "b": 0.4439136629056313,
          "m": -0.04415831326397579
         },
         {
          "b": 0.4439136629056313,
          "m": -0.04415831326397579
         },
         {
          "b": 0.4439136629056313,
          "m": -0.36331645846819405
         },
         {
          "b": 0.4439136629056313,
          "m": -0.11013331895378564
         },
         {
          "b": 0.4439136629056313,
          "m": -0.11013331895378564
         },
         {
          "b": 0.4439136629056313,
          "m": -0.11013331895378564
         },
         {
          "b": 0.8901053069247953,
          "m": -0.11013331895378564
         },
         {
          "b": 0.8901053069247953,
          "m": -0.11013331895378564
         },
         {
          "b": 0.8901053069247953,
          "m": -0.11013331895378564
         },
         {
          "b": 0.8901053069247953,
          "m": 0.46712816856313233
         },
         {
          "b": 0.8901053069247953,
          "m": -0.6473389532086238
         },
         {
          "b": 0.8901053069247953,
          "m": 0.14391564037719307
         },
         {
          "b": 0.4605957134994798,
          "m": 0.14391564037719307
         },
         {
          "b": 0.4605957134994798,
          "m": 0.14391564037719307
         },
         {
          "b": 0.4605957134994798,
          "m": -0.16444188057713904
         },
         {
          "b": 0.21922434561044324,
          "m": -0.16444188057713904
         },
         {
          "b": 0.21922434561044324,
          "m": -0.16444188057713904
         },
         {
          "b": 0.4812292128657998,
          "m": -0.16444188057713904
         },
         {
          "b": 0.4812292128657998,
          "m": -0.16444188057713904
         },
         {
          "b": 0.4812292128657998,
          "m": 0.04359709556086844
         },
         {
          "b": 0.4812292128657998,
          "m": 0.04359709556086844
         },
         {
          "b": 0.6703336845415706,
          "m": 0.04359709556086844
         },
         {
          "b": 0.20270711786480056,
          "m": 0.04359709556086844
         },
         {
          "b": 0.20270711786480056,
          "m": 0.04359709556086844
         },
         {
          "b": 0.20270711786480056,
          "m": 0.04359709556086844
         },
         {
          "b": 0.20270711786480056,
          "m": 0.04359709556086844
         },
         {
          "b": 0.8634428433577008,
          "m": 0.04359709556086844
         },
         {
          "b": 0.8801098346566396,
          "m": 0.04359709556086844
         },
         {
          "b": 0.8801098346566396,
          "m": 0.35762798290672193
         },
         {
          "b": 0.8801098346566396,
          "m": 0.35762798290672193
         },
         {
          "b": 0.8801098346566396,
          "m": 0.0001800670723228759
         },
         {
          "b": 0.8801098346566396,
          "m": 0.0001800670723228759
         },
         {
          "b": 0.8801098346566396,
          "m": 0.0001800670723228759
         },
         {
          "b": 0.9313526093815174,
          "m": 0.0001800670723228759
         },
         {
          "b": 0.9313526093815174,
          "m": 0.490825489399785
         },
         {
          "b": 0.9313526093815174,
          "m": 0.4033618248510249
         },
         {
          "b": 0.9313526093815174,
          "m": -0.06255608996845585
         },
         {
          "b": 0.9313526093815174,
          "m": 0.40514695217512453
         },
         {
          "b": 0.9313526093815174,
          "m": -0.22656943944618235
         },
         {
          "b": 0.9313526093815174,
          "m": -0.22656943944618235
         },
         {
          "b": 0.9313526093815174,
          "m": 0.35752467204106586
         },
         {
          "b": 0.9313526093815174,
          "m": 0.35752467204106586
         },
         {
          "b": 0.5423677216909895,
          "m": 0.35752467204106586
         },
         {
          "b": 0.49217506733614313,
          "m": 0.35752467204106586
         },
         {
          "b": 0.49217506733614313,
          "m": 0.35752467204106586
         },
         {
          "b": 0.49217506733614313,
          "m": 0.09815684425126414
         },
         {
          "b": 0.49217506733614313,
          "m": 0.09815684425126414
         },
         {
          "b": 0.49217506733614313,
          "m": -0.06810687789391445
         },
         {
          "b": 0.49217506733614313,
          "m": -0.06810687789391445
         },
         {
          "b": 0.49217506733614313,
          "m": -0.06810687789391445
         },
         {
          "b": 0.49217506733614313,
          "m": -0.06810687789391445
         },
         {
          "b": 0.49217506733614313,
          "m": -0.1434331077713995
         },
         {
          "b": 0.49217506733614313,
          "m": -0.1434331077713995
         },
         {
          "b": 0.49217506733614313,
          "m": -0.37718408823042204
         },
         {
          "b": 0.8175312995058841,
          "m": -0.37718408823042204
         },
         {
          "b": 0.8175312995058841,
          "m": -0.37718408823042204
         },
         {
          "b": 0.8232448049928263,
          "m": -0.37718408823042204
         },
         {
          "b": 0.8232448049928263,
          "m": 0.8107163491318754
         },
         {
          "b": 0.8232448049928263,
          "m": 0.8107163491318754
         },
         {
          "b": 0.8232448049928263,
          "m": -0.4938161164902215
         },
         {
          "b": 0.8232448049928263,
          "m": -0.07746091721348347
         },
         {
          "b": 0.8232448049928263,
          "m": -0.07746091721348347
         },
         {
          "b": 0.8232448049928263,
          "m": -0.07746091721348347
         },
         {
          "b": 0.8232448049928263,
          "m": -0.5278411129074569
         },
         {
          "b": 0.8232448049928263,
          "m": -0.5802936980585727
         },
         {
          "b": 0.8232448049928263,
          "m": -0.5802936980585727
         },
         {
          "b": 0.8232448049928263,
          "m": -0.5802936980585727
         },
         {
          "b": 0.8232448049928263,
          "m": -0.5101356554068641
         },
         {
          "b": 0.8232448049928263,
          "m": -0.7136541163477903
         },
         {
          "b": 0.8232448049928263,
          "m": -0.7136541163477903
         },
         {
          "b": 0.8232448049928263,
          "m": 0.4162188463420764
         },
         {
          "b": 0.8232448049928263,
          "m": 0.4162188463420764
         },
         {
          "b": 0.8232448049928263,
          "m": 0.4162188463420764
         },
         {
          "b": 0.8232448049928263,
          "m": 0.4162188463420764
         },
         {
          "b": 0.5875215889961851,
          "m": 0.4162188463420764
         },
         {
          "b": 0.5875215889961851,
          "m": 0.4942115400002216
         },
         {
          "b": 0.5875215889961851,
          "m": 0.4942115400002216
         },
         {
          "b": 0.5875215889961851,
          "m": 0.024801988883788928
         },
         {
          "b": 0.5875215889961851,
          "m": 0.024801988883788928
         },
         {
          "b": 0.5875215889961851,
          "m": -0.5844965562835085
         },
         {
          "b": 0.5875215889961851,
          "m": -0.5844965562835085
         },
         {
          "b": 0.5875215889961851,
          "m": -0.5844965562835085
         },
         {
          "b": 0.7173828911466502,
          "m": -0.5844965562835085
         },
         {
          "b": 0.7173828911466502,
          "m": -0.5844965562835085
         },
         {
          "b": 0.7173828911466502,
          "m": -0.46639637164228476
         },
         {
          "b": 0.620161993134319,
          "m": -0.46639637164228476
         },
         {
          "b": 0.620161993134319,
          "m": 0.18288155465146771
         },
         {
          "b": 0.620161993134319,
          "m": -0.5275397370836383
         },
         {
          "b": 0.620161993134319,
          "m": -0.5275397370836383
         },
         {
          "b": 0.620161993134319,
          "m": -0.5106347684639048
         },
         {
          "b": 0.620161993134319,
          "m": -0.5106347684639048
         },
         {
          "b": 0.620161993134319,
          "m": -0.5106347684639048
         },
         {
          "b": 0.620161993134319,
          "m": -0.19234273184636774
         },
         {
          "b": 0.785282859812036,
          "m": -0.19234273184636774
         },
         {
          "b": 0.785282859812036,
          "m": 0.0960276745513291
         },
         {
          "b": 0.785282859812036,
          "m": 0.0960276745513291
         },
         {
          "b": 0.785282859812036,
          "m": -0.4776942045631636
         },
         {
          "b": 0.785282859812036,
          "m": -0.6353813203699408
         },
         {
          "b": 0.785282859812036,
          "m": -0.6353813203699408
         },
         {
          "b": 0.785282859812036,
          "m": -0.22749786489783141
         },
         {
          "b": 0.785282859812036,
          "m": -0.5005313554300657
         },
         {
          "b": 0.785282859812036,
          "m": 0.25598015031454824
         },
         {
          "b": 0.785282859812036,
          "m": 0.25598015031454824
         },
         {
          "b": 0.785282859812036,
          "m": -0.6321208294283835
         },
         {
          "b": 0.785282859812036,
          "m": -0.35597739042908194
         },
         {
          "b": 0.785282859812036,
          "m": -0.35597739042908194
         },
         {
          "b": 0.785282859812036,
          "m": -0.35597739042908194
         },
         {
          "b": 0.785282859812036,
          "m": -0.35597739042908194
         },
         {
          "b": 0.785282859812036,
          "m": -0.35597739042908194
         },
         {
          "b": 0.785282859812036,
          "m": 0.1721092420563053
         },
         {
          "b": 0.9889851439344561,
          "m": 0.1721092420563053
         },
         {
          "b": 0.9889851439344561,
          "m": 0.1721092420563053
         },
         {
          "b": 0.9889851439344561,
          "m": 0.1721092420563053
         },
         {
          "b": 0.9889851439344561,
          "m": -0.25189934606209374
         },
         {
          "b": 0.9889851439344561,
          "m": -0.25189934606209374
         },
         {
          "b": 0.42506806930502194,
          "m": -0.25189934606209374
         },
         {
          "b": 0.9494073058133676,
          "m": -0.25189934606209374
         },
         {
          "b": 0.9494073058133676,
          "m": -0.7413370586699706
         },
         {
          "b": 0.9494073058133676,
          "m": -0.7413370586699706
         },
         {
          "b": 0.9494073058133676,
          "m": -0.6362765303749158
         },
         {
          "b": 0.9494073058133676,
          "m": 0.3845114970740704
         },
         {
          "b": 0.9494073058133676,
          "m": 0.5986249046796301
         },
         {
          "b": 0.9494073058133676,
          "m": 0.5986249046796301
         },
         {
          "b": 0.9494073058133676,
          "m": 0.5986249046796301
         },
         {
          "b": 0.9494073058133676,
          "m": -0.4435729463508864
         },
         {
          "b": 0.9494073058133676,
          "m": -0.08243569578264442
         },
         {
          "b": 0.9494073058133676,
          "m": -0.08243569578264442
         },
         {
          "b": 0.9494073058133676,
          "m": -0.3925935202024655
         },
         {
          "b": 0.9494073058133676,
          "m": -0.3113801694512828
         },
         {
          "b": 0.9494073058133676,
          "m": 0.045896370443658574
         },
         {
          "b": 0.9494073058133676,
          "m": -0.8494815076068327
         },
         {
          "b": 0.9494073058133676,
          "m": -0.8494815076068327
         },
         {
          "b": 0.9494073058133676,
          "m": -0.8494815076068327
         },
         {
          "b": 0.9494073058133676,
          "m": 0.8826717035021605
         },
         {
          "b": 0.9494073058133676,
          "m": -0.17497607639419788
         },
         {
          "b": 0.9494073058133676,
          "m": -0.010899232364204758
         },
         {
          "b": 0.41739621997922005,
          "m": -0.010899232364204758
         },
         {
          "b": 0.41739621997922005,
          "m": 0.09687057832148427
         },
         {
          "b": 0.41739621997922005,
          "m": 0.09687057832148427
         },
         {
          "b": 0.41739621997922005,
          "m": 0.09687057832148427
         },
         {
          "b": 0.41739621997922005,
          "m": -0.4135699796197454
         },
         {
          "b": 0.41739621997922005,
          "m": -0.4135699796197454
         },
         {
          "b": 0.41739621997922005,
          "m": -0.4135699796197454
         },
         {
          "b": 0.5399224418402391,
          "m": -0.4135699796197454
         },
         {
          "b": 0.5399224418402391,
          "m": 0.17130257114632275
         },
         {
          "b": 0.5399224418402391,
          "m": 0.17130257114632275
         },
         {
          "b": 0.5399224418402391,
          "m": 0.17130257114632275
         },
         {
          "b": 0.5399224418402391,
          "m": -0.33964293469477735
         },
         {
          "b": 0.9174201501876278,
          "m": -0.33964293469477735
         },
         {
          "b": 0.9174201501876278,
          "m": -0.10401022656886716
         },
         {
          "b": 0.9174201501876278,
          "m": -0.47348026491353434
         },
         {
          "b": 0.9174201501876278,
          "m": -0.47348026491353434
         },
         {
          "b": 0.5273366850577828,
          "m": -0.47348026491353434
         },
         {
          "b": 0.5273366850577828,
          "m": -0.47348026491353434
         },
         {
          "b": 0.5273366850577828,
          "m": -0.47348026491353434
         },
         {
          "b": 0.5273366850577828,
          "m": -0.47348026491353434
         },
         {
          "b": 0.5273366850577828,
          "m": -0.47348026491353434
         },
         {
          "b": 0.5273366850577828,
          "m": -0.47348026491353434
         },
         {
          "b": 0.5273366850577828,
          "m": -0.34956602763761224
         },
         {
          "b": 0.5273366850577828,
          "m": -0.34956602763761224
         },
         {
          "b": 0.5273366850577828,
          "m": -0.24691778812324272
         },
         {
          "b": 0.5273366850577828,
          "m": -0.24691778812324272
         },
         {
          "b": 0.5273366850577828,
          "m": -0.24691778812324272
         },
         {
          "b": 0.5273366850577828,
          "m": -0.5058714694512483
         },
         {
          "b": 0.5273366850577828,
          "m": 0.2641332070086311
         },
         {
          "b": 0.5273366850577828,
          "m": 0.2641332070086311
         },
         {
          "b": 0.5273366850577828,
          "m": 0.2641332070086311
         },
         {
          "b": 0.31535442262043634,
          "m": 0.2641332070086311
         },
         {
          "b": 0.31535442262043634,
          "m": 0.2641332070086311
         },
         {
          "b": 0.31535442262043634,
          "m": 0.2641332070086311
         },
         {
          "b": 0.31535442262043634,
          "m": 0.2641332070086311
         },
         {
          "b": 0.31535442262043634,
          "m": -0.11133996306934768
         },
         {
          "b": 0.31535442262043634,
          "m": -0.08860514343189752
         },
         {
          "b": 0.31535442262043634,
          "m": -0.08860514343189752
         },
         {
          "b": 0.3701381932550871,
          "m": -0.08860514343189752
         },
         {
          "b": 0.3701381932550871,
          "m": -0.08860514343189752
         },
         {
          "b": 0.3701381932550871,
          "m": -0.08860514343189752
         },
         {
          "b": 0.4613496606984058,
          "m": -0.08860514343189752
         },
         {
          "b": 0.3964552700650328,
          "m": -0.08860514343189752
         },
         {
          "b": 0.3964552700650328,
          "m": -0.08860514343189752
         },
         {
          "b": 0.3964552700650328,
          "m": -0.08860514343189752
         },
         {
          "b": 0.5731087063886287,
          "m": -0.08860514343189752
         },
         {
          "b": 0.5731087063886287,
          "m": -0.08860514343189752
         },
         {
          "b": 0.7925874524587904,
          "m": -0.08860514343189752
         },
         {
          "b": 0.7925874524587904,
          "m": -0.08860514343189752
         },
         {
          "b": 0.7925874524587904,
          "m": -0.08860514343189752
         },
         {
          "b": 0.7925874524587904,
          "m": -0.08860514343189752
         },
         {
          "b": 0.7982491600227506,
          "m": -0.08860514343189752
         },
         {
          "b": 0.7982491600227506,
          "m": -0.08860514343189752
         },
         {
          "b": 0.8437087727807893,
          "m": -0.08860514343189752
         },
         {
          "b": 0.8437087727807893,
          "m": -0.7698468328248851
         },
         {
          "b": 0.8437087727807893,
          "m": -0.7698468328248851
         },
         {
          "b": 0.8437087727807893,
          "m": -0.7698468328248851
         },
         {
          "b": 0.8437087727807893,
          "m": -0.7698468328248851
         },
         {
          "b": 0.8437087727807893,
          "m": -0.01857745415538692
         },
         {
          "b": 0.8437087727807893,
          "m": -0.01857745415538692
         },
         {
          "b": 0.8437087727807893,
          "m": -0.8080300590263481
         },
         {
          "b": 0.8437087727807893,
          "m": -0.76681946150541
         },
         {
          "b": 0.8437087727807893,
          "m": -0.76681946150541
         },
         {
          "b": 0.8437087727807893,
          "m": -0.5789010460906832
         },
         {
          "b": 0.8437087727807893,
          "m": 0.24345511692578348
         },
         {
          "b": 0.8437087727807893,
          "m": 0.24345511692578348
         },
         {
          "b": 0.8437087727807893,
          "m": 0.24345511692578348
         },
         {
          "b": 0.8437087727807893,
          "m": 0.24345511692578348
         },
         {
          "b": 0.8437087727807893,
          "m": -0.44424359058094764
         },
         {
          "b": 0.8437087727807893,
          "m": -0.44424359058094764
         },
         {
          "b": 0.8437087727807893,
          "m": -0.34628129643473904
         },
         {
          "b": 0.8437087727807893,
          "m": -0.34628129643473904
         },
         {
          "b": 0.8437087727807893,
          "m": 0.6533784518058361
         },
         {
          "b": 0.8437087727807893,
          "m": 0.6533784518058361
         },
         {
          "b": 0.8437087727807893,
          "m": -0.5479456556359159
         },
         {
          "b": 0.8437087727807893,
          "m": -0.5479456556359159
         },
         {
          "b": 0.8437087727807893,
          "m": -0.6336608931338625
         },
         {
          "b": 0.8437087727807893,
          "m": -0.6336608931338625
         },
         {
          "b": 0.8437087727807893,
          "m": 0.07542558568645741
         },
         {
          "b": 0.8437087727807893,
          "m": 0.07542558568645741
         },
         {
          "b": 0.8437087727807893,
          "m": 0.07542558568645741
         },
         {
          "b": 0.8437087727807893,
          "m": 0.6168927695308384
         },
         {
          "b": 0.8437087727807893,
          "m": -0.2580898030013976
         },
         {
          "b": 0.8437087727807893,
          "m": -0.2580898030013976
         },
         {
          "b": 0.8437087727807893,
          "m": -0.2580898030013976
         },
         {
          "b": 0.29890097417429984,
          "m": -0.2580898030013976
         },
         {
          "b": 0.29890097417429984,
          "m": -0.2580898030013976
         },
         {
          "b": 0.29890097417429984,
          "m": -0.2580898030013976
         },
         {
          "b": 0.29890097417429984,
          "m": -0.21033091118879876
         },
         {
          "b": 0.29890097417429984,
          "m": -0.21033091118879876
         },
         {
          "b": 0.29890097417429984,
          "m": -0.21033091118879876
         },
         {
          "b": 0.29890097417429984,
          "m": -0.21033091118879876
         },
         {
          "b": 0.29890097417429984,
          "m": -0.21033091118879876
         },
         {
          "b": 0.29890097417429984,
          "m": -0.21033091118879876
         },
         {
          "b": 0.29890097417429984,
          "m": -0.2933023348223849
         },
         {
          "b": 0.9406752226523845,
          "m": -0.2933023348223849
         },
         {
          "b": 0.9406752226523845,
          "m": -0.2933023348223849
         },
         {
          "b": 0.9406752226523845,
          "m": -0.7066899917292953
         },
         {
          "b": 0.9406752226523845,
          "m": -0.7066899917292953
         },
         {
          "b": 0.9406752226523845,
          "m": -0.14744751704767434
         },
         {
          "b": 0.9406752226523845,
          "m": -0.4312648178188281
         },
         {
          "b": 0.9406752226523845,
          "m": -0.4312648178188281
         },
         {
          "b": 0.9406752226523845,
          "m": -0.4312648178188281
         },
         {
          "b": 0.5148185971726338,
          "m": -0.4312648178188281
         },
         {
          "b": 0.5148185971726338,
          "m": -0.4312648178188281
         },
         {
          "b": 0.5148185971726338,
          "m": -0.4312648178188281
         },
         {
          "b": 0.5148185971726338,
          "m": -0.4312648178188281
         },
         {
          "b": 0.5148185971726338,
          "m": -0.4312648178188281
         },
         {
          "b": 0.5148185971726338,
          "m": 0.12378697156480167
         },
         {
          "b": 0.5148185971726338,
          "m": 0.12378697156480167
         },
         {
          "b": 0.5148185971726338,
          "m": 0.12378697156480167
         },
         {
          "b": 0.5148185971726338,
          "m": 0.12378697156480167
         },
         {
          "b": 0.5148185971726338,
          "m": 0.12378697156480167
         },
         {
          "b": 0.580520645257425,
          "m": 0.12378697156480167
         },
         {
          "b": 0.580520645257425,
          "m": 0.45098422464020715
         },
         {
          "b": 0.580520645257425,
          "m": 0.45098422464020715
         },
         {
          "b": 0.580520645257425,
          "m": 0.45098422464020715
         },
         {
          "b": 0.580520645257425,
          "m": 0.45098422464020715
         },
         {
          "b": 0.580520645257425,
          "m": -0.3276194813156932
         },
         {
          "b": 0.7830743558893427,
          "m": -0.3276194813156932
         },
         {
          "b": 0.7830743558893427,
          "m": 0.3216955177588179
         },
         {
          "b": 0.7830743558893427,
          "m": -0.16794089925198796
         },
         {
          "b": 0.3752797933734511,
          "m": -0.16794089925198796
         },
         {
          "b": 0.3752797933734511,
          "m": -0.16794089925198796
         },
         {
          "b": 0.6495860707538783,
          "m": -0.16794089925198796
         },
         {
          "b": 0.6495860707538783,
          "m": 0.6452768279035459
         },
         {
          "b": 0.6495860707538783,
          "m": 0.6452768279035459
         },
         {
          "b": 0.6495860707538783,
          "m": 0.6452768279035459
         },
         {
          "b": 0.6495860707538783,
          "m": 0.6452768279035459
         },
         {
          "b": 0.6495860707538783,
          "m": 0.02727822727918716
         },
         {
          "b": 0.6495860707538783,
          "m": 0.44658744547394247
         },
         {
          "b": 0.6495860707538783,
          "m": 0.44658744547394247
         },
         {
          "b": 0.6495860707538783,
          "m": 0.39793100708185514
         },
         {
          "b": 0.6495860707538783,
          "m": 0.39793100708185514
         },
         {
          "b": 0.6495860707538783,
          "m": 0.39793100708185514
         },
         {
          "b": 0.6495860707538783,
          "m": 0.39793100708185514
         },
         {
          "b": 0.6495860707538783,
          "m": 0.39793100708185514
         },
         {
          "b": 0.6495860707538783,
          "m": 0.5437113878600826
         },
         {
          "b": 0.6495860707538783,
          "m": -0.3343395933755209
         },
         {
          "b": 0.6495860707538783,
          "m": -0.3343395933755209
         },
         {
          "b": 0.6495860707538783,
          "m": -0.3343395933755209
         },
         {
          "b": 0.6495860707538783,
          "m": -0.3343395933755209
         },
         {
          "b": 0.6495860707538783,
          "m": -0.3343395933755209
         },
         {
          "b": 0.6495860707538783,
          "m": -0.3343395933755209
         },
         {
          "b": 0.6495860707538783,
          "m": 0.4437689384840693
         },
         {
          "b": 0.6495860707538783,
          "m": 0.4437689384840693
         },
         {
          "b": 0.6495860707538783,
          "m": 0.32089682371187567
         },
         {
          "b": 0.6495860707538783,
          "m": 0.32089682371187567
         },
         {
          "b": 0.6495860707538783,
          "m": 0.32089682371187567
         },
         {
          "b": 0.6495860707538783,
          "m": 0.32089682371187567
         },
         {
          "b": 0.6495860707538783,
          "m": 0.23224840932452273
         },
         {
          "b": 0.6495860707538783,
          "m": 0.23224840932452273
         },
         {
          "b": 0.6495860707538783,
          "m": 0.23224840932452273
         },
         {
          "b": 0.6495860707538783,
          "m": 0.23224840932452273
         },
         {
          "b": 0.6495860707538783,
          "m": 0.23224840932452273
         },
         {
          "b": 0.6495860707538783,
          "m": 0.15741843307424142
         },
         {
          "b": 0.6495860707538783,
          "m": 0.15741843307424142
         },
         {
          "b": 0.6495860707538783,
          "m": 0.15741843307424142
         },
         {
          "b": 0.6495860707538783,
          "m": 0.5167036862754
         },
         {
          "b": 0.6495860707538783,
          "m": 0.40360257562477764
         },
         {
          "b": 0.6495860707538783,
          "m": 0.40360257562477764
         },
         {
          "b": 0.6495860707538783,
          "m": 0.11026425088122882
         },
         {
          "b": 0.6495860707538783,
          "m": 0.11026425088122882
         },
         {
          "b": 0.6495860707538783,
          "m": 0.11026425088122882
         },
         {
          "b": 0.6495860707538783,
          "m": 0.11026425088122882
         },
         {
          "b": 0.6495860707538783,
          "m": 0.11026425088122882
         },
         {
          "b": 0.6495860707538783,
          "m": 0.11026425088122882
         },
         {
          "b": 0.6495860707538783,
          "m": -0.06820574046422156
         },
         {
          "b": 0.6495860707538783,
          "m": -0.06820574046422156
         },
         {
          "b": 0.6495860707538783,
          "m": -0.06820574046422156
         },
         {
          "b": 0.6495860707538783,
          "m": 0.6088250748612609
         },
         {
          "b": 0.6495860707538783,
          "m": 0.6088250748612609
         },
         {
          "b": 0.6495860707538783,
          "m": 0.6088250748612609
         },
         {
          "b": 0.6495860707538783,
          "m": 0.312964892209209
         },
         {
          "b": 0.6495860707538783,
          "m": 0.4196772888592173
         },
         {
          "b": 0.6495860707538783,
          "m": 0.20228926700704908
         },
         {
          "b": 0.5097525631333333,
          "m": 0.20228926700704908
         },
         {
          "b": 0.5881840325764716,
          "m": 0.20228926700704908
         },
         {
          "b": 0.5881840325764716,
          "m": 0.20228926700704908
         },
         {
          "b": 0.5881840325764716,
          "m": 0.4092729211905912
         },
         {
          "b": 0.5881840325764716,
          "m": 0.4092729211905912
         },
         {
          "b": 0.5881840325764716,
          "m": 0.4092729211905912
         },
         {
          "b": 0.5881840325764716,
          "m": 0.4092729211905912
         },
         {
          "b": 0.5881840325764716,
          "m": 0.4092729211905912
         },
         {
          "b": 0.5881840325764716,
          "m": 0.4092729211905912
         },
         {
          "b": 0.5881840325764716,
          "m": 0.4092729211905912
         },
         {
          "b": 0.6371829585410722,
          "m": 0.4092729211905912
         },
         {
          "b": 0.6371829585410722,
          "m": 0.4092729211905912
         },
         {
          "b": 0.6371829585410722,
          "m": 0.46047992189649434
         },
         {
          "b": 0.6371829585410722,
          "m": 0.46047992189649434
         },
         {
          "b": 0.6371829585410722,
          "m": 0.46047992189649434
         },
         {
          "b": 0.6371829585410722,
          "m": 0.46047992189649434
         },
         {
          "b": 0.6371829585410722,
          "m": 0.46047992189649434
         },
         {
          "b": 0.6371829585410722,
          "m": 0.28051736460214305
         },
         {
          "b": 0.6371829585410722,
          "m": 0.28051736460214305
         },
         {
          "b": 0.6371829585410722,
          "m": -0.08394737191074664
         },
         {
          "b": 0.6371829585410722,
          "m": -0.08394737191074664
         },
         {
          "b": 0.6371829585410722,
          "m": -0.0833152436789486
         },
         {
          "b": 0.6371829585410722,
          "m": -0.0833152436789486
         },
         {
          "b": 0.6371829585410722,
          "m": -0.0833152436789486
         },
         {
          "b": 0.6371829585410722,
          "m": -0.0833152436789486
         },
         {
          "b": 0.6371829585410722,
          "m": -0.1605942162955063
         },
         {
          "b": 0.5027757282085836,
          "m": -0.1605942162955063
         },
         {
          "b": 0.5027757282085836,
          "m": -0.1605942162955063
         },
         {
          "b": 0.5027757282085836,
          "m": -0.1605942162955063
         },
         {
          "b": 0.9226462685920434,
          "m": -0.1605942162955063
         },
         {
          "b": 0.9226462685920434,
          "m": -0.1605942162955063
         },
         {
          "b": 0.9226462685920434,
          "m": -0.1605942162955063
         },
         {
          "b": 0.5957413322242873,
          "m": -0.1605942162955063
         },
         {
          "b": 0.5957413322242873,
          "m": 0.1176524624285038
         },
         {
          "b": 0.681880060525655,
          "m": 0.1176524624285038
         },
         {
          "b": 0.681880060525655,
          "m": 0.3902986134108246
         },
         {
          "b": 0.681880060525655,
          "m": 0.3902986134108246
         },
         {
          "b": 0.681880060525655,
          "m": 0.3902986134108246
         },
         {
          "b": 0.681880060525655,
          "m": 0.3902986134108246
         },
         {
          "b": 0.681880060525655,
          "m": -0.3307446780618777
         },
         {
          "b": 0.681880060525655,
          "m": -0.3307446780618777
         },
         {
          "b": 0.681880060525655,
          "m": 0.5838166577493753
         },
         {
          "b": 0.681880060525655,
          "m": -0.19066613357532813
         },
         {
          "b": 0.681880060525655,
          "m": 0.6019423934808616
         },
         {
          "b": 0.681880060525655,
          "m": 0.6019423934808616
         },
         {
          "b": 0.681880060525655,
          "m": 0.062244821401761685
         },
         {
          "b": 0.47381624753804163,
          "m": 0.062244821401761685
         },
         {
          "b": 0.47381624753804163,
          "m": 0.062244821401761685
         },
         {
          "b": 0.47381624753804163,
          "m": 0.062244821401761685
         },
         {
          "b": 0.47381624753804163,
          "m": 0.4214724791204667
         },
         {
          "b": 0.6148023178862065,
          "m": 0.4214724791204667
         },
         {
          "b": 0.6148023178862065,
          "m": -0.5599450545964808
         },
         {
          "b": 0.6148023178862065,
          "m": -0.5599450545964808
         },
         {
          "b": 0.6148023178862065,
          "m": -0.5599450545964808
         },
         {
          "b": 0.7573989640028189,
          "m": -0.5599450545964808
         },
         {
          "b": 0.7573989640028189,
          "m": -0.7376960162226045
         },
         {
          "b": 0.7573989640028189,
          "m": -0.7376960162226045
         },
         {
          "b": 0.7573989640028189,
          "m": 0.32335913287495655
         },
         {
          "b": 0.7573989640028189,
          "m": 0.32335913287495655
         },
         {
          "b": 0.7573989640028189,
          "m": 0.32335913287495655
         },
         {
          "b": 0.7573989640028189,
          "m": 0.32335913287495655
         },
         {
          "b": 0.7573989640028189,
          "m": -0.24127121351632064
         },
         {
          "b": 0.7573989640028189,
          "m": -0.2692752941902754
         },
         {
          "b": 0.6332722504063082,
          "m": -0.2692752941902754
         },
         {
          "b": 0.6332722504063082,
          "m": -0.6266877686671719
         },
         {
          "b": 0.6332722504063082,
          "m": -0.4384660205909252
         },
         {
          "b": 0.6332722504063082,
          "m": -0.4384660205909252
         },
         {
          "b": 0.6332722504063082,
          "m": -0.4384660205909252
         },
         {
          "b": 0.6332722504063082,
          "m": -0.42382298917623173
         },
         {
          "b": 0.6332722504063082,
          "m": -0.42382298917623173
         },
         {
          "b": 0.8122151956133521,
          "m": -0.42382298917623173
         },
         {
          "b": 0.8122151956133521,
          "m": 0.6763720424570685
         },
         {
          "b": 0.8122151956133521,
          "m": 0.6763720424570685
         },
         {
          "b": 0.8122151956133521,
          "m": 0.6763720424570685
         },
         {
          "b": 0.8122151956133521,
          "m": 0.24630261425201883
         },
         {
          "b": 0.8122151956133521,
          "m": 0.4539216474754142
         },
         {
          "b": 0.8122151956133521,
          "m": 0.4539216474754142
         },
         {
          "b": 0.8122151956133521,
          "m": 0.4539216474754142
         },
         {
          "b": 0.8122151956133521,
          "m": 0.4539216474754142
         },
         {
          "b": 0.8122151956133521,
          "m": -0.3081836804290512
         },
         {
          "b": 0.6522647343907819,
          "m": -0.3081836804290512
         },
         {
          "b": 0.6522647343907819,
          "m": -0.6346250747801998
         },
         {
          "b": 0.6522647343907819,
          "m": -0.6346250747801998
         },
         {
          "b": 0.978287702457336,
          "m": -0.6346250747801998
         },
         {
          "b": 0.978287702457336,
          "m": -0.6346250747801998
         },
         {
          "b": 0.9108719454305569,
          "m": -0.6346250747801998
         },
         {
          "b": 0.9108719454305569,
          "m": -0.5909251143454319
         },
         {
          "b": 0.9108719454305569,
          "m": -0.7962152365062536
         },
         {
          "b": 0.9108719454305569,
          "m": -0.7962152365062536
         },
         {
          "b": 0.9108719454305569,
          "m": -0.7962152365062536
         },
         {
          "b": 0.9108719454305569,
          "m": -0.7962152365062536
         },
         {
          "b": 0.9108719454305569,
          "m": -0.7962152365062536
         },
         {
          "b": 0.9108719454305569,
          "m": -0.7962152365062536
         },
         {
          "b": 0.9108719454305569,
          "m": -0.6108131025683965
         },
         {
          "b": 0.8819517004599275,
          "m": -0.6108131025683965
         },
         {
          "b": 0.8819517004599275,
          "m": -0.6108131025683965
         },
         {
          "b": 0.8819517004599275,
          "m": -0.858661085656865
         },
         {
          "b": 0.8819517004599275,
          "m": -0.858661085656865
         },
         {
          "b": 0.8819517004599275,
          "m": 0.8407772967794032
         },
         {
          "b": 0.8819517004599275,
          "m": 0.8407772967794032
         },
         {
          "b": 0.8819517004599275,
          "m": 0.41453824595951105
         },
         {
          "b": 0.8819517004599275,
          "m": 0.3710205877876056
         },
         {
          "b": 0.6873777260661924,
          "m": 0.3710205877876056
         },
         {
          "b": 0.6873777260661924,
          "m": -0.2980189187928659
         },
         {
          "b": 0.745529976362924,
          "m": -0.2980189187928659
         },
         {
          "b": 0.745529976362924,
          "m": -0.2829027452979329
         },
         {
          "b": 0.745529976362924,
          "m": -0.2829027452979329
         },
         {
          "b": 0.745529976362924,
          "m": -0.2829027452979329
         },
         {
          "b": 0.745529976362924,
          "m": -0.2829027452979329
         },
         {
          "b": 0.6588060970396852,
          "m": -0.2829027452979329
         },
         {
          "b": 0.6588060970396852,
          "m": -0.2829027452979329
         },
         {
          "b": 0.6588060970396852,
          "m": 0.4597170656032541
         },
         {
          "b": 0.6588060970396852,
          "m": 0.09184912905326104
         },
         {
          "b": 0.41091939753708684,
          "m": 0.09184912905326104
         },
         {
          "b": 0.41091939753708684,
          "m": 0.09184912905326104
         },
         {
          "b": 0.41091939753708684,
          "m": 0.09184912905326104
         },
         {
          "b": 0.41091939753708684,
          "m": 0.09184912905326104
         },
         {
          "b": 0.41091939753708684,
          "m": -0.28103654330109484
         },
         {
          "b": 0.41091939753708684,
          "m": -0.28103654330109484
         },
         {
          "b": 0.41091939753708684,
          "m": -0.04120068258377718
         },
         {
          "b": 0.41091939753708684,
          "m": -0.04120068258377718
         },
         {
          "b": 0.41091939753708684,
          "m": -0.04120068258377718
         },
         {
          "b": 0.41091939753708684,
          "m": -0.04120068258377718
         },
         {
          "b": 0.41091939753708684,
          "m": -0.04120068258377718
         },
         {
          "b": 0.41091939753708684,
          "m": -0.17794449937834478
         },
         {
          "b": 0.41091939753708684,
          "m": -0.17794449937834478
         },
         {
          "b": 0.633834472543789,
          "m": -0.17794449937834478
         },
         {
          "b": 0.633834472543789,
          "m": -0.17794449937834478
         },
         {
          "b": 0.633834472543789,
          "m": -0.17794449937834478
         },
         {
          "b": 0.633834472543789,
          "m": -0.2809739918971841
         },
         {
          "b": 0.633834472543789,
          "m": -0.23898387156020973
         },
         {
          "b": 0.633834472543789,
          "m": -0.23898387156020973
         },
         {
          "b": 0.5599797720710142,
          "m": -0.23898387156020973
         },
         {
          "b": 0.5089277661207043,
          "m": -0.23898387156020973
         },
         {
          "b": 0.5089277661207043,
          "m": 0.40346843560562573
         },
         {
          "b": 0.5089277661207043,
          "m": 0.40346843560562573
         },
         {
          "b": 0.5089277661207043,
          "m": 0.48016299664196693
         },
         {
          "b": 0.5089277661207043,
          "m": 0.48016299664196693
         },
         {
          "b": 0.5089277661207043,
          "m": 0.48016299664196693
         },
         {
          "b": 0.5089277661207043,
          "m": 0.48016299664196693
         },
         {
          "b": 0.5089277661207043,
          "m": 0.48016299664196693
         },
         {
          "b": 0.5089277661207043,
          "m": 0.48016299664196693
         },
         {
          "b": 0.5089277661207043,
          "m": 0.48016299664196693
         },
         {
          "b": 0.8173296489989299,
          "m": 0.48016299664196693
         },
         {
          "b": 0.8173296489989299,
          "m": 0.48290876324748155
         },
         {
          "b": 0.8173296489989299,
          "m": 0.48290876324748155
         },
         {
          "b": 0.8173296489989299,
          "m": 0.48290876324748155
         },
         {
          "b": 0.8173296489989299,
          "m": 0.48290876324748155
         },
         {
          "b": 0.8173296489989299,
          "m": 0.48290876324748155
         },
         {
          "b": 0.8173296489989299,
          "m": 0.48290876324748155
         },
         {
          "b": 0.8173296489989299,
          "m": 0.48290876324748155
         },
         {
          "b": 0.8173296489989299,
          "m": 0.12284814689186052
         },
         {
          "b": 0.8173296489989299,
          "m": -0.4867850445113071
         },
         {
          "b": 0.8173296489989299,
          "m": -0.4867850445113071
         },
         {
          "b": 0.8173296489989299,
          "m": 0.7087124536814733
         },
         {
          "b": 0.9809716669721971,
          "m": 0.7087124536814733
         },
         {
          "b": 0.9809716669721971,
          "m": 0.7087124536814733
         },
         {
          "b": 0.9809716669721971,
          "m": -0.7759969985569171
         },
         {
          "b": 0.9809716669721971,
          "m": 0.693557976641187
         },
         {
          "b": 0.9809716669721971,
          "m": 0.693557976641187
         },
         {
          "b": 0.9809716669721971,
          "m": 0.693557976641187
         },
         {
          "b": 0.9809716669721971,
          "m": 0.693557976641187
         },
         {
          "b": 0.7826481820395983,
          "m": 0.693557976641187
         },
         {
          "b": 0.7826481820395983,
          "m": 0.693557976641187
         },
         {
          "b": 0.7826481820395983,
          "m": -0.6511887694113783
         },
         {
          "b": 0.7826481820395983,
          "m": -0.6511887694113783
         },
         {
          "b": 0.7438663339270521,
          "m": -0.6511887694113783
         },
         {
          "b": 0.7438663339270521,
          "m": -0.13263543251508447
         },
         {
          "b": 0.7438663339270521,
          "m": -0.13263543251508447
         },
         {
          "b": 0.7438663339270521,
          "m": 0.3072423470023795
         },
         {
          "b": 0.7067576589029254,
          "m": 0.3072423470023795
         },
         {
          "b": 0.7067576589029254,
          "m": 0.02736239015964803
         },
         {
          "b": 0.7067576589029254,
          "m": 0.02736239015964803
         },
         {
          "b": 0.7067576589029254,
          "m": 0.02736239015964803
         },
         {
          "b": 0.7067576589029254,
          "m": 0.25578762698431246
         },
         {
          "b": 0.7067576589029254,
          "m": -0.2514182038965751
         },
         {
          "b": 0.7067576589029254,
          "m": -0.2514182038965751
         },
         {
          "b": 0.7067576589029254,
          "m": 0.3947567300451109
         },
         {
          "b": 0.7067576589029254,
          "m": -0.6110822260686872
         },
         {
          "b": 0.7067576589029254,
          "m": -0.4329190248284196
         },
         {
          "b": 0.7067576589029254,
          "m": -0.4329190248284196
         },
         {
          "b": 0.7067576589029254,
          "m": -0.4329190248284196
         },
         {
          "b": 0.7067576589029254,
          "m": -0.30383006794363854
         },
         {
          "b": 0.7067576589029254,
          "m": 0.25217633474300105
         },
         {
          "b": 0.7067576589029254,
          "m": 0.25217633474300105
         },
         {
          "b": 0.7067576589029254,
          "m": -0.3282724194500901
         },
         {
          "b": 0.7067576589029254,
          "m": 0.2320864437912522
         },
         {
          "b": 0.7067576589029254,
          "m": 0.2320864437912522
         },
         {
          "b": 0.7067576589029254,
          "m": 0.2320864437912522
         },
         {
          "b": 0.7067576589029254,
          "m": -0.43761212508192426
         },
         {
          "b": 0.7067576589029254,
          "m": -0.43761212508192426
         },
         {
          "b": 0.7067576589029254,
          "m": -0.43761212508192426
         },
         {
          "b": 0.7067576589029254,
          "m": -0.43761212508192426
         },
         {
          "b": 0.7067576589029254,
          "m": -0.43761212508192426
         },
         {
          "b": 0.7067576589029254,
          "m": -0.11762736592742118
         },
         {
          "b": 0.7067576589029254,
          "m": -0.09102596832947873
         },
         {
          "b": 0.7067576589029254,
          "m": -0.09102596832947873
         },
         {
          "b": 0.48589760758854417,
          "m": -0.09102596832947873
         },
         {
          "b": 0.48589760758854417,
          "m": -0.3513340201602462
         },
         {
          "b": 0.48589760758854417,
          "m": -0.3513340201602462
         },
         {
          "b": 0.48589760758854417,
          "m": -0.4014004238649591
         },
         {
          "b": 0.48589760758854417,
          "m": -0.4014004238649591
         },
         {
          "b": 0.48589760758854417,
          "m": -0.4014004238649591
         },
         {
          "b": 0.48589760758854417,
          "m": -0.05988958543060474
         },
         {
          "b": 0.48589760758854417,
          "m": -0.05988958543060474
         },
         {
          "b": 0.3280662733418256,
          "m": -0.05988958543060474
         },
         {
          "b": 0.7207336234531085,
          "m": -0.05988958543060474
         },
         {
          "b": 0.7207336234531085,
          "m": -0.05988958543060474
         },
         {
          "b": 0.7207336234531085,
          "m": -0.05988958543060474
         },
         {
          "b": 0.7207336234531085,
          "m": -0.05988958543060474
         },
         {
          "b": 0.07186953496841952,
          "m": -0.05988958543060474
         },
         {
          "b": 0.07186953496841952,
          "m": -0.05988958543060474
         },
         {
          "b": 0.07186953496841952,
          "m": -0.05988958543060474
         },
         {
          "b": 0.07186953496841952,
          "m": -0.05988958543060474
         },
         {
          "b": 0.07186953496841952,
          "m": -0.015997515472773616
         },
         {
          "b": 0.07186953496841952,
          "m": -0.015997515472773616
         },
         {
          "b": 0.07186953496841952,
          "m": -0.015997515472773616
         },
         {
          "b": 0.07186953496841952,
          "m": -0.015997515472773616
         },
         {
          "b": 0.1931118702946344,
          "m": -0.015997515472773616
         },
         {
          "b": 0.1931118702946344,
          "m": -0.015997515472773616
         },
         {
          "b": 0.1931118702946344,
          "m": -0.015997515472773616
         },
         {
          "b": 0.1931118702946344,
          "m": -0.015997515472773616
         },
         {
          "b": 0.873161234723989,
          "m": -0.015997515472773616
         },
         {
          "b": 0.873161234723989,
          "m": -0.015997515472773616
         },
         {
          "b": 0.873161234723989,
          "m": -0.015997515472773616
         },
         {
          "b": 0.873161234723989,
          "m": -0.015997515472773616
         },
         {
          "b": 0.801727012650493,
          "m": -0.015997515472773616
         },
         {
          "b": 0.801727012650493,
          "m": -0.015997515472773616
         },
         {
          "b": 0.5577688827352001,
          "m": -0.015997515472773616
         },
         {
          "b": 0.5577688827352001,
          "m": 0.3209987369082896
         },
         {
          "b": 0.5577688827352001,
          "m": 0.4645949932471922
         },
         {
          "b": 0.5577688827352001,
          "m": 0.4645949932471922
         },
         {
          "b": 0.8217598114260121,
          "m": 0.4645949932471922
         },
         {
          "b": 0.8217598114260121,
          "m": 0.4645949932471922
         },
         {
          "b": 0.8217598114260121,
          "m": 0.4645949932471922
         },
         {
          "b": 0.5784244361990554,
          "m": 0.4645949932471922
         },
         {
          "b": 0.5784244361990554,
          "m": 0.23149699483509045
         },
         {
          "b": 0.5784244361990554,
          "m": 0.23149699483509045
         },
         {
          "b": 0.5784244361990554,
          "m": 0.23149699483509045
         },
         {
          "b": 0.5784244361990554,
          "m": 0.23149699483509045
         },
         {
          "b": 0.5784244361990554,
          "m": -0.2879722719854543
         },
         {
          "b": 0.5784244361990554,
          "m": 0.4473224568007985
         },
         {
          "b": 0.5784244361990554,
          "m": 0.4473224568007985
         },
         {
          "b": 0.5784244361990554,
          "m": 0.17929774285025446
         },
         {
          "b": 0.5784244361990554,
          "m": 0.17929774285025446
         },
         {
          "b": 0.5784244361990554,
          "m": 0.17929774285025446
         },
         {
          "b": 0.5784244361990554,
          "m": 0.17929774285025446
         },
         {
          "b": 0.5784244361990554,
          "m": 0.17929774285025446
         },
         {
          "b": 0.5784244361990554,
          "m": 0.17929774285025446
         },
         {
          "b": 0.5784244361990554,
          "m": 0.17929774285025446
         },
         {
          "b": 0.5784244361990554,
          "m": 0.17929774285025446
         },
         {
          "b": 0.8045932237108968,
          "m": 0.17929774285025446
         },
         {
          "b": 0.5128551017271044,
          "m": 0.17929774285025446
         },
         {
          "b": 0.5128551017271044,
          "m": -0.3781935874734701
         },
         {
          "b": 0.5128551017271044,
          "m": -0.3781935874734701
         },
         {
          "b": 0.5128551017271044,
          "m": -0.3781935874734701
         },
         {
          "b": 0.5128551017271044,
          "m": -0.3781935874734701
         },
         {
          "b": 0.5128551017271044,
          "m": -0.3781935874734701
         },
         {
          "b": 0.5128551017271044,
          "m": -0.3781935874734701
         },
         {
          "b": 0.5128551017271044,
          "m": -0.3781935874734701
         },
         {
          "b": 0.5128551017271044,
          "m": -0.3781935874734701
         },
         {
          "b": 0.5128551017271044,
          "m": -0.3781935874734701
         },
         {
          "b": 0.9171311458047027,
          "m": -0.3781935874734701
         },
         {
          "b": 0.9171311458047027,
          "m": -0.3781935874734701
         },
         {
          "b": 0.9171311458047027,
          "m": -0.047199035316746185
         },
         {
          "b": 0.9171311458047027,
          "m": -0.01787977802634555
         },
         {
          "b": 0.22258557138807045,
          "m": -0.01787977802634555
         },
         {
          "b": 0.22258557138807045,
          "m": 0.08977818024690953
         },
         {
          "b": 0.22258557138807045,
          "m": -0.12292600756461503
         },
         {
          "b": 0.22258557138807045,
          "m": -0.12292600756461503
         },
         {
          "b": 0.22258557138807045,
          "m": -0.12292600756461503
         },
         {
          "b": 0.22258557138807045,
          "m": -0.17833910258207264
         },
         {
          "b": 0.22258557138807045,
          "m": -0.17833910258207264
         },
         {
          "b": 0.5223836342304147,
          "m": -0.17833910258207264
         },
         {
          "b": 0.5223836342304147,
          "m": -0.17833910258207264
         },
         {
          "b": 0.5223836342304147,
          "m": -0.17833910258207264
         },
         {
          "b": 0.5223836342304147,
          "m": -0.17833910258207264
         },
         {
          "b": 0.5223836342304147,
          "m": -0.17833910258207264
         },
         {
          "b": 0.5223836342304147,
          "m": -0.17833910258207264
         },
         {
          "b": 0.5223836342304147,
          "m": -0.17833910258207264
         },
         {
          "b": 0.5223836342304147,
          "m": -0.17833910258207264
         },
         {
          "b": 0.2628756928379101,
          "m": -0.17833910258207264
         },
         {
          "b": 0.2628756928379101,
          "m": -0.17833910258207264
         },
         {
          "b": 0.2628756928379101,
          "m": 0.18887344338651135
         },
         {
          "b": 0.2628756928379101,
          "m": 0.03584600755729883
         },
         {
          "b": 0.29682573625047604,
          "m": 0.03584600755729883
         },
         {
          "b": 0.29682573625047604,
          "m": 0.03584600755729883
         },
         {
          "b": 0.29682573625047604,
          "m": 0.03584600755729883
         },
         {
          "b": 0.5508952243171417,
          "m": 0.03584600755729883
         },
         {
          "b": 0.36942217468739247,
          "m": 0.03584600755729883
         },
         {
          "b": 0.17443660060008948,
          "m": 0.03584600755729883
         },
         {
          "b": 0.17443660060008948,
          "m": 0.03584600755729883
         },
         {
          "b": 0.17443660060008948,
          "m": 0.03584600755729883
         },
         {
          "b": 0.17443660060008948,
          "m": 0.03584600755729883
         },
         {
          "b": 0.9098265607419507,
          "m": 0.03584600755729883
         },
         {
          "b": 0.9098265607419507,
          "m": 0.03584600755729883
         },
         {
          "b": 0.9098265607419507,
          "m": 0.03584600755729883
         },
         {
          "b": 0.8083726067932908,
          "m": 0.03584600755729883
         },
         {
          "b": 0.8083726067932908,
          "m": 0.7724199216940713
         },
         {
          "b": 0.8083726067932908,
          "m": 0.7724199216940713
         },
         {
          "b": 0.8083726067932908,
          "m": 0.7724199216940713
         },
         {
          "b": 0.8083726067932908,
          "m": 0.7724199216940713
         },
         {
          "b": 0.8083726067932908,
          "m": 0.7724199216940713
         },
         {
          "b": 0.8083726067932908,
          "m": 0.7724199216940713
         },
         {
          "b": 0.8083726067932908,
          "m": 0.805640902032075
         },
         {
          "b": 0.8083726067932908,
          "m": 0.6470550203385559
         },
         {
          "b": 0.8083726067932908,
          "m": 0.6470550203385559
         },
         {
          "b": 0.8083726067932908,
          "m": -0.5295758094882739
         },
         {
          "b": 0.8083726067932908,
          "m": 0.31292624952253134
         },
         {
          "b": 0.8083726067932908,
          "m": 0.31292624952253134
         },
         {
          "b": 0.8083726067932908,
          "m": 0.31292624952253134
         },
         {
          "b": 0.8083726067932908,
          "m": 0.31292624952253134
         },
         {
          "b": 0.8083726067932908,
          "m": -0.10969271927926383
         },
         {
          "b": 0.8083726067932908,
          "m": -0.7594118534312628
         },
         {
          "b": 0.8083726067932908,
          "m": -0.7594118534312628
         },
         {
          "b": 0.8083726067932908,
          "m": -0.7594118534312628
         },
         {
          "b": 0.8083726067932908,
          "m": -0.7594118534312628
         },
         {
          "b": 0.8083726067932908,
          "m": -0.7594118534312628
         },
         {
          "b": 0.8083726067932908,
          "m": -0.35239829026486036
         },
         {
          "b": 0.8083726067932908,
          "m": 0.7706162262100384
         },
         {
          "b": 0.8083726067932908,
          "m": 0.4246373080016743
         },
         {
          "b": 0.7797146846001384,
          "m": 0.4246373080016743
         },
         {
          "b": 0.7797146846001384,
          "m": -0.5453224784239044
         },
         {
          "b": 0.7797146846001384,
          "m": -0.2486501302768127
         },
         {
          "b": 0.7797146846001384,
          "m": -0.2486501302768127
         },
         {
          "b": 0.7797146846001384,
          "m": 0.38838817601086606
         },
         {
          "b": 0.7797146846001384,
          "m": 0.38838817601086606
         },
         {
          "b": 0.7797146846001384,
          "m": 0.38838817601086606
         },
         {
          "b": 0.7797146846001384,
          "m": 0.38838817601086606
         },
         {
          "b": 0.7797146846001384,
          "m": 0.38838817601086606
         },
         {
          "b": 0.6269563411965968,
          "m": 0.38838817601086606
         },
         {
          "b": 0.6269563411965968,
          "m": 0.0603372039127994
         },
         {
          "b": 0.6269563411965968,
          "m": 0.0603372039127994
         },
         {
          "b": 0.3291432767377669,
          "m": 0.0603372039127994
         },
         {
          "b": 0.319629913447143,
          "m": 0.0603372039127994
         },
         {
          "b": 0.319629913447143,
          "m": 0.0603372039127994
         },
         {
          "b": 0.2674278432551438,
          "m": 0.0603372039127994
         },
         {
          "b": 0.2674278432551438,
          "m": 0.0603372039127994
         },
         {
          "b": 0.2674278432551438,
          "m": 0.0603372039127994
         },
         {
          "b": 0.2674278432551438,
          "m": 0.0603372039127994
         },
         {
          "b": 0.2674278432551438,
          "m": 0.0603372039127994
         },
         {
          "b": 0.1272366411523047,
          "m": 0.0603372039127994
         },
         {
          "b": 0.1272366411523047,
          "m": 0.006745040277486014
         },
         {
          "b": 0.1272366411523047,
          "m": -0.10855656494194288
         },
         {
          "b": 0.1272366411523047,
          "m": -0.10855656494194288
         },
         {
          "b": 0.308985204179389,
          "m": -0.10855656494194288
         },
         {
          "b": 0.308985204179389,
          "m": -0.10855656494194288
         },
         {
          "b": 0.308985204179389,
          "m": -0.10855656494194288
         },
         {
          "b": 0.308985204179389,
          "m": -0.10855656494194288
         },
         {
          "b": 0.308985204179389,
          "m": -0.10855656494194288
         },
         {
          "b": 0.308985204179389,
          "m": -0.10855656494194288
         },
         {
          "b": 0.308985204179389,
          "m": -0.10855656494194288
         },
         {
          "b": 0.308985204179389,
          "m": -0.10855656494194288
         },
         {
          "b": 0.308985204179389,
          "m": -0.10855656494194288
         },
         {
          "b": 0.308985204179389,
          "m": 0.12669647685528607
         },
         {
          "b": 0.33385574015504127,
          "m": 0.12669647685528607
         },
         {
          "b": 0.33385574015504127,
          "m": 0.12669647685528607
         },
         {
          "b": 0.33385574015504127,
          "m": 0.11786536635107736
         },
         {
          "b": 0.8123941373763557,
          "m": 0.11786536635107736
         },
         {
          "b": 0.8123941373763557,
          "m": -0.19323354664029435
         },
         {
          "b": 0.8123941373763557,
          "m": -0.19323354664029435
         },
         {
          "b": 0.45325430277900103,
          "m": -0.19323354664029435
         },
         {
          "b": 0.45325430277900103,
          "m": 0.039933433070557856
         },
         {
          "b": 0.45325430277900103,
          "m": 0.039933433070557856
         },
         {
          "b": 0.45325430277900103,
          "m": 0.3014606644101099
         },
         {
          "b": 0.45325430277900103,
          "m": 0.3014606644101099
         },
         {
          "b": 0.45325430277900103,
          "m": 0.3014606644101099
         },
         {
          "b": 0.45325430277900103,
          "m": 0.003315628548925309
         },
         {
          "b": 0.45325430277900103,
          "m": 0.003315628548925309
         },
         {
          "b": 0.43334753182429453,
          "m": 0.003315628548925309
         },
         {
          "b": 0.43334753182429453,
          "m": -0.18848881879154455
         },
         {
          "b": 0.43334753182429453,
          "m": -0.18848881879154455
         },
         {
          "b": 0.43334753182429453,
          "m": -0.18848881879154455
         },
         {
          "b": 0.43334753182429453,
          "m": -0.18848881879154455
         },
         {
          "b": 0.43334753182429453,
          "m": -0.18848881879154455
         },
         {
          "b": 0.4940311854901551,
          "m": -0.18848881879154455
         },
         {
          "b": 0.4940311854901551,
          "m": -0.1617113507375756
         },
         {
          "b": 0.4940311854901551,
          "m": -0.1617113507375756
         },
         {
          "b": 0.4940311854901551,
          "m": -0.3282846784262825
         },
         {
          "b": 0.4940311854901551,
          "m": -0.3282846784262825
         },
         {
          "b": 0.4940311854901551,
          "m": -0.3282846784262825
         },
         {
          "b": 0.4940311854901551,
          "m": -0.3282846784262825
         },
         {
          "b": 0.4940311854901551,
          "m": -0.3282846784262825
         },
         {
          "b": 0.4940311854901551,
          "m": -0.3282846784262825
         },
         {
          "b": 0.4940311854901551,
          "m": -0.3282846784262825
         },
         {
          "b": 0.4940311854901551,
          "m": -0.12546676446774563
         },
         {
          "b": 0.4940311854901551,
          "m": 0.15711986870110262
         },
         {
          "b": 0.4940311854901551,
          "m": 0.15711986870110262
         },
         {
          "b": 0.4940311854901551,
          "m": 0.15711986870110262
         },
         {
          "b": 0.4940311854901551,
          "m": 0.15711986870110262
         },
         {
          "b": 0.953099214333138,
          "m": 0.15711986870110262
         },
         {
          "b": 0.953099214333138,
          "m": -0.7671000013135856
         },
         {
          "b": 0.953099214333138,
          "m": -0.2993820425474316
         },
         {
          "b": 0.953099214333138,
          "m": -0.2993820425474316
         },
         {
          "b": 0.40798443313074784,
          "m": -0.2993820425474316
         },
         {
          "b": 0.40798443313074784,
          "m": -0.2993820425474316
         },
         {
          "b": 0.40798443313074784,
          "m": -0.2993820425474316
         },
         {
          "b": 0.40798443313074784,
          "m": -0.2993820425474316
         },
         {
          "b": 0.40798443313074784,
          "m": -0.2993820425474316
         },
         {
          "b": 0.5281595383471729,
          "m": -0.2993820425474316
         },
         {
          "b": 0.5281595383471729,
          "m": -0.2993820425474316
         },
         {
          "b": 0.5281595383471729,
          "m": -0.2993820425474316
         },
         {
          "b": 0.5281595383471729,
          "m": -0.2993820425474316
         },
         {
          "b": 0.5281595383471729,
          "m": 0.2806334357571718
         },
         {
          "b": 0.5281595383471729,
          "m": -0.20302653580125596
         },
         {
          "b": 0.9533711828231832,
          "m": -0.20302653580125596
         },
         {
          "b": 0.9533711828231832,
          "m": -0.20302653580125596
         },
         {
          "b": 0.9533711828231832,
          "m": -0.20302653580125596
         },
         {
          "b": 0.253854525427031,
          "m": -0.20302653580125596
         },
         {
          "b": 0.253854525427031,
          "m": -0.20302653580125596
         },
         {
          "b": 0.253854525427031,
          "m": -0.20302653580125596
         },
         {
          "b": 0.253854525427031,
          "m": -0.20302653580125596
         },
         {
          "b": 0.9114526321027505,
          "m": -0.20302653580125596
         },
         {
          "b": 0.9114526321027505,
          "m": -0.20302653580125596
         },
         {
          "b": 0.9114526321027505,
          "m": -0.20302653580125596
         },
         {
          "b": 0.9114526321027505,
          "m": 0.7997504778267055
         },
         {
          "b": 0.9114526321027505,
          "m": 0.8814960919671717
         },
         {
          "b": 0.9114526321027505,
          "m": 0.8814960919671717
         },
         {
          "b": 0.9114526321027505,
          "m": 0.8814960919671717
         },
         {
          "b": 0.9114526321027505,
          "m": -0.27798234989368376
         },
         {
          "b": 0.9114526321027505,
          "m": -0.27798234989368376
         },
         {
          "b": 0.9114526321027505,
          "m": -0.27798234989368376
         },
         {
          "b": 0.9710003281067088,
          "m": -0.27798234989368376
         },
         {
          "b": 0.9710003281067088,
          "m": 0.30417367245173366
         },
         {
          "b": 0.4714146527902663,
          "m": 0.30417367245173366
         },
         {
          "b": 0.4714146527902663,
          "m": 0.30417367245173366
         },
         {
          "b": 0.4714146527902663,
          "m": 0.3119458329224851
         },
         {
          "b": 0.5526402328944953,
          "m": 0.3119458329224851
         },
         {
          "b": 0.5526402328944953,
          "m": 0.3119458329224851
         },
         {
          "b": 0.5526402328944953,
          "m": 0.3119458329224851
         },
         {
          "b": 0.5526402328944953,
          "m": 0.4597152737518757
         },
         {
          "b": 0.6319180811131535,
          "m": 0.4597152737518757
         },
         {
          "b": 0.6319180811131535,
          "m": 0.4597152737518757
         },
         {
          "b": 0.6319180811131535,
          "m": 0.4597152737518757
         },
         {
          "b": 0.6490794797395305,
          "m": 0.4597152737518757
         },
         {
          "b": 0.6490794797395305,
          "m": 0.4597152737518757
         },
         {
          "b": 0.6490794797395305,
          "m": 0.4597152737518757
         },
         {
          "b": 0.6490794797395305,
          "m": 0.4597152737518757
         },
         {
          "b": 0.6490794797395305,
          "m": 0.4597152737518757
         },
         {
          "b": 0.5291703634520248,
          "m": 0.4597152737518757
         },
         {
          "b": 0.5291703634520248,
          "m": 0.4597152737518757
         },
         {
          "b": 0.5291703634520248,
          "m": 0.4597152737518757
         },
         {
          "b": 0.6509885917176794,
          "m": 0.4597152737518757
         },
         {
          "b": 0.6509885917176794,
          "m": 0.22283809659435128
         },
         {
          "b": 0.6509885917176794,
          "m": 0.22283809659435128
         },
         {
          "b": 0.25589481683468907,
          "m": 0.22283809659435128
         },
         {
          "b": 0.25589481683468907,
          "m": 0.13024823947499953
         },
         {
          "b": 0.25589481683468907,
          "m": 0.13024823947499953
         },
         {
          "b": 0.17785669982612595,
          "m": 0.13024823947499953
         },
         {
          "b": 0.17785669982612595,
          "m": 0.13024823947499953
         },
         {
          "b": 0.8881741824472396,
          "m": 0.13024823947499953
         },
         {
          "b": 0.8881741824472396,
          "m": -0.5197364842087306
         },
         {
          "b": 0.8881741824472396,
          "m": 0.35340277843322654
         },
         {
          "b": 0.6170070616573422,
          "m": 0.35340277843322654
         },
         {
          "b": 0.6170070616573422,
          "m": 0.35340277843322654
         },
         {
          "b": 0.6170070616573422,
          "m": 0.35340277843322654
         },
         {
          "b": 0.6170070616573422,
          "m": -0.371651027744609
         },
         {
          "b": 0.6170070616573422,
          "m": 0.35183970118269925
         },
         {
          "b": 0.6170070616573422,
          "m": -0.12704492731146932
         },
         {
          "b": 0.6170070616573422,
          "m": 0.354549454217709
         },
         {
          "b": 0.6170070616573422,
          "m": -0.4349614975581526
         },
         {
          "b": 0.6170070616573422,
          "m": -0.4349614975581526
         },
         {
          "b": 0.6170070616573422,
          "m": -0.4301714552422491
         },
         {
          "b": 0.6170070616573422,
          "m": 0.48791719554607815
         },
         {
          "b": 0.6170070616573422,
          "m": 0.5340485063460034
         },
         {
          "b": 0.850066800920249,
          "m": 0.5340485063460034
         },
         {
          "b": 0.850066800920249,
          "m": 0.5340485063460034
         },
         {
          "b": 0.850066800920249,
          "m": 0.6213914764264958
         },
         {
          "b": 0.8002925546257218,
          "m": 0.6213914764264958
         },
         {
          "b": 0.8002925546257218,
          "m": 0.6213914764264958
         },
         {
          "b": 0.8002925546257218,
          "m": -0.5521683103429995
         },
         {
          "b": 0.8002925546257218,
          "m": -0.5521683103429995
         },
         {
          "b": 0.8002925546257218,
          "m": 0.6401427824673582
         },
         {
          "b": 0.8002925546257218,
          "m": 0.21765977326883434
         },
         {
          "b": 0.8002925546257218,
          "m": 0.08750087901991654
         },
         {
          "b": 0.8002925546257218,
          "m": 0.08750087901991654
         },
         {
          "b": 0.18764555003663586,
          "m": 0.08750087901991654
         },
         {
          "b": 0.18764555003663586,
          "m": 0.08750087901991654
         },
         {
          "b": 0.18764555003663586,
          "m": 0.08750087901991654
         },
         {
          "b": 0.18764555003663586,
          "m": 0.08750087901991654
         },
         {
          "b": 0.18764555003663586,
          "m": 0.08750087901991654
         },
         {
          "b": 0.18764555003663586,
          "m": 0.08750087901991654
         },
         {
          "b": 0.18764555003663586,
          "m": 0.10983741983837425
         },
         {
          "b": 0.18764555003663586,
          "m": 0.10983741983837425
         },
         {
          "b": 0.18764555003663586,
          "m": 0.10983741983837425
         },
         {
          "b": 0.18764555003663586,
          "m": 0.10983741983837425
         },
         {
          "b": 0.18764555003663586,
          "m": 0.10983741983837425
         },
         {
          "b": 0.4896398838067799,
          "m": 0.10983741983837425
         },
         {
          "b": 0.4896398838067799,
          "m": 0.10983741983837425
         },
         {
          "b": 0.35955248456893973,
          "m": 0.10983741983837425
         },
         {
          "b": 0.35955248456893973,
          "m": 0.10983741983837425
         },
         {
          "b": 0.35955248456893973,
          "m": 0.10983741983837425
         },
         {
          "b": 0.7601883027929099,
          "m": 0.10983741983837425
         },
         {
          "b": 0.1806585549800086,
          "m": 0.10983741983837425
         },
         {
          "b": 0.1806585549800086,
          "m": 0.10983741983837425
         },
         {
          "b": 0.1806585549800086,
          "m": 0.10983741983837425
         },
         {
          "b": 0.1806585549800086,
          "m": 0.10983741983837425
         },
         {
          "b": 0.1806585549800086,
          "m": 0.014819654561043505
         },
         {
          "b": 0.8909689970425771,
          "m": 0.014819654561043505
         },
         {
          "b": 0.8909689970425771,
          "m": -0.7506087067213041
         },
         {
          "b": 0.8909689970425771,
          "m": 0.8750652064452564
         },
         {
          "b": 0.8909689970425771,
          "m": -0.8410425532745542
         },
         {
          "b": 0.8909689970425771,
          "m": -0.49044150519602714
         },
         {
          "b": 0.8909689970425771,
          "m": 0.4164272997323828
         },
         {
          "b": 0.7341421725385324,
          "m": 0.4164272997323828
         },
         {
          "b": 0.7341421725385324,
          "m": 0.4164272997323828
         },
         {
          "b": 0.6491414262568982,
          "m": 0.4164272997323828
         },
         {
          "b": 0.5344740640474608,
          "m": 0.4164272997323828
         },
         {
          "b": 0.5344740640474608,
          "m": -0.2025118655860607
         },
         {
          "b": 0.5344740640474608,
          "m": -0.5211892114616952
         },
         {
          "b": 0.5344740640474608,
          "m": -0.5211892114616952
         },
         {
          "b": 0.5344740640474608,
          "m": -0.5211892114616952
         },
         {
          "b": 0.5344740640474608,
          "m": -0.5211892114616952
         },
         {
          "b": 0.7820207642432788,
          "m": -0.5211892114616952
         },
         {
          "b": 0.7820207642432788,
          "m": -0.5211892114616952
         },
         {
          "b": 0.7820207642432788,
          "m": -0.7315675485519775
         },
         {
          "b": 0.7820207642432788,
          "m": -0.7315675485519775
         },
         {
          "b": 0.7820207642432788,
          "m": -0.7315675485519775
         },
         {
          "b": 0.7820207642432788,
          "m": 0.5703240411307615
         },
         {
          "b": 0.7820207642432788,
          "m": -0.465496563248051
         },
         {
          "b": 0.7820207642432788,
          "m": -0.465496563248051
         },
         {
          "b": 0.8934195995700704,
          "m": -0.465496563248051
         },
         {
          "b": 0.8934195995700704,
          "m": 0.1482356967793652
         },
         {
          "b": 0.8934195995700704,
          "m": 0.41829520429959977
         },
         {
          "b": 0.8934195995700704,
          "m": -0.16153573843205504
         },
         {
          "b": 0.8934195995700704,
          "m": 0.37945875996616985
         },
         {
          "b": 0.8934195995700704,
          "m": 0.08364578664647238
         },
         {
          "b": 0.8934195995700704,
          "m": 0.6739014487163961
         },
         {
          "b": 0.8934195995700704,
          "m": -0.7768961243018244
         },
         {
          "b": 0.8934195995700704,
          "m": -0.7768961243018244
         },
         {
          "b": 0.8934195995700704,
          "m": -0.7768961243018244
         },
         {
          "b": 0.8934195995700704,
          "m": -0.09313494386482923
         },
         {
          "b": 0.8934195995700704,
          "m": -0.09313494386482923
         },
         {
          "b": 0.8934195995700704,
          "m": -0.09313494386482923
         },
         {
          "b": 0.20963585757588032,
          "m": -0.09313494386482923
         },
         {
          "b": 0.20963585757588032,
          "m": 0.01266505937428719
         },
         {
          "b": 0.9305215009971846,
          "m": 0.01266505937428719
         },
         {
          "b": 0.9305215009971846,
          "m": 0.01266505937428719
         },
         {
          "b": 0.9305215009971846,
          "m": 0.5780687008670105
         },
         {
          "b": 0.9305215009971846,
          "m": 0.5780687008670105
         },
         {
          "b": 0.9305215009971846,
          "m": 0.136331361717003
         },
         {
          "b": 0.9305215009971846,
          "m": -0.12805047744715847
         },
         {
          "b": 0.41320964186932785,
          "m": -0.12805047744715847
         },
         {
          "b": 0.41320964186932785,
          "m": -0.0002923245714778755
         },
         {
          "b": 0.41320964186932785,
          "m": 0.04145138331580811
         },
         {
          "b": 0.41976111302825614,
          "m": 0.04145138331580811
         },
         {
          "b": 0.41976111302825614,
          "m": 0.04145138331580811
         },
         {
          "b": 0.41976111302825614,
          "m": 0.04145138331580811
         },
         {
          "b": 0.41976111302825614,
          "m": 0.41655539642520956
         },
         {
          "b": 0.41976111302825614,
          "m": 0.41655539642520956
         },
         {
          "b": 0.41976111302825614,
          "m": 0.41655539642520956
         },
         {
          "b": 0.41976111302825614,
          "m": 0.41655539642520956
         },
         {
          "b": 0.6970828078140123,
          "m": 0.41655539642520956
         },
         {
          "b": 0.6970828078140123,
          "m": -0.6884685985814507
         },
         {
          "b": 0.6970828078140123,
          "m": 0.6229482161112971
         },
         {
          "b": 0.6970828078140123,
          "m": 0.6229482161112971
         },
         {
          "b": 0.6970828078140123,
          "m": 0.6229482161112971
         },
         {
          "b": 0.84893877834275,
          "m": 0.6229482161112971
         },
         {
          "b": 0.84893877834275,
          "m": 0.6229482161112971
         },
         {
          "b": 0.84893877834275,
          "m": 0.6229482161112971
         },
         {
          "b": 0.6961890011334437,
          "m": 0.6229482161112971
         },
         {
          "b": 0.6961890011334437,
          "m": -0.5059535852561032
         },
         {
          "b": 0.7495985807640204,
          "m": -0.5059535852561032
         },
         {
          "b": 0.6720618648001337,
          "m": -0.5059535852561032
         },
         {
          "b": 0.6720618648001337,
          "m": -0.34779174236959576
         },
         {
          "b": 0.9952459951214918,
          "m": -0.34779174236959576
         },
         {
          "b": 0.9952459951214918,
          "m": -0.6797653773750147
         },
         {
          "b": 0.9952459951214918,
          "m": -0.6797653773750147
         },
         {
          "b": 0.9952459951214918,
          "m": -0.6797653773750147
         },
         {
          "b": 0.9952459951214918,
          "m": -0.6797653773750147
         },
         {
          "b": 0.9952459951214918,
          "m": -0.6797653773750147
         },
         {
          "b": 0.9952459951214918,
          "m": -0.6797653773750147
         },
         {
          "b": 0.9952459951214918,
          "m": -0.6797653773750147
         },
         {
          "b": 0.9952459951214918,
          "m": -0.22760113257778047
         },
         {
          "b": 0.9952459951214918,
          "m": -0.22760113257778047
         },
         {
          "b": 0.9952459951214918,
          "m": 0.3083343432533041
         },
         {
          "b": 0.8332364866425481,
          "m": 0.3083343432533041
         },
         {
          "b": 0.8332364866425481,
          "m": 0.3083343432533041
         },
         {
          "b": 0.8332364866425481,
          "m": 0.3083343432533041
         },
         {
          "b": 0.8332364866425481,
          "m": -0.4253209911241773
         },
         {
          "b": 0.8332364866425481,
          "m": 0.19770300717215794
         },
         {
          "b": 0.8332364866425481,
          "m": -0.831349631273177
         },
         {
          "b": 0.8332364866425481,
          "m": -0.831349631273177
         },
         {
          "b": 0.8332364866425481,
          "m": -0.831349631273177
         },
         {
          "b": 0.8332364866425481,
          "m": -0.46413803924167163
         },
         {
          "b": 0.8332364866425481,
          "m": -0.46413803924167163
         },
         {
          "b": 0.8332364866425481,
          "m": -0.46413803924167163
         },
         {
          "b": 0.8332364866425481,
          "m": -0.46413803924167163
         },
         {
          "b": 0.8332364866425481,
          "m": 0.5225290727934253
         },
         {
          "b": 0.8332364866425481,
          "m": 0.5225290727934253
         },
         {
          "b": 0.8332364866425481,
          "m": 0.8140881325003086
         },
         {
          "b": 0.8332364866425481,
          "m": 0.8140881325003086
         },
         {
          "b": 0.8332364866425481,
          "m": 0.8140881325003086
         },
         {
          "b": 0.8332364866425481,
          "m": 0.8140881325003086
         },
         {
          "b": 0.8332364866425481,
          "m": 0.8140881325003086
         },
         {
          "b": 0.8332364866425481,
          "m": -0.36920649965681007
         },
         {
          "b": 0.987992733995023,
          "m": -0.36920649965681007
         },
         {
          "b": 0.987992733995023,
          "m": 0.9501492730515386
         },
         {
          "b": 0.987992733995023,
          "m": 0.004801485968648267
         },
         {
          "b": 0.987992733995023,
          "m": -0.42843832967004025
         },
         {
          "b": 0.987992733995023,
          "m": -0.19608204823331898
         },
         {
          "b": 0.987992733995023,
          "m": -0.19608204823331898
         },
         {
          "b": 0.987992733995023,
          "m": -0.6394218724633693
         },
         {
          "b": 0.987992733995023,
          "m": -0.6394218724633693
         },
         {
          "b": 0.987992733995023,
          "m": -0.6394218724633693
         },
         {
          "b": 0.846036264641181,
          "m": -0.6394218724633693
         },
         {
          "b": 0.846036264641181,
          "m": 0.20145001962753795
         },
         {
          "b": 0.846036264641181,
          "m": -0.6302341697945233
         },
         {
          "b": 0.7033320562824168,
          "m": -0.6302341697945233
         },
         {
          "b": 0.7033320562824168,
          "m": -0.6302341697945233
         },
         {
          "b": 0.7033320562824168,
          "m": 0.10323882893943215
         },
         {
          "b": 0.8858234232984572,
          "m": 0.10323882893943215
         },
         {
          "b": 0.8858234232984572,
          "m": 0.10323882893943215
         },
         {
          "b": 0.8858234232984572,
          "m": 0.10323882893943215
         },
         {
          "b": 0.8858234232984572,
          "m": 0.10323882893943215
         },
         {
          "b": 0.8858234232984572,
          "m": 0.05111939489482942
         },
         {
          "b": 0.8858234232984572,
          "m": 0.05111939489482942
         },
         {
          "b": 0.5043114199590202,
          "m": 0.05111939489482942
         },
         {
          "b": 0.5043114199590202,
          "m": 0.05111939489482942
         },
         {
          "b": 0.5043114199590202,
          "m": -0.18994215601116937
         },
         {
          "b": 0.5043114199590202,
          "m": -0.18994215601116937
         },
         {
          "b": 0.5043114199590202,
          "m": -0.16900532291031367
         },
         {
          "b": 0.5043114199590202,
          "m": -0.16900532291031367
         },
         {
          "b": 0.5043114199590202,
          "m": 0.06866781360703178
         },
         {
          "b": 0.8646934197831133,
          "m": 0.06866781360703178
         },
         {
          "b": 0.8646934197831133,
          "m": -0.26145290444243785
         },
         {
          "b": 0.8646934197831133,
          "m": 0.4122685539788795
         },
         {
          "b": 0.8646934197831133,
          "m": -0.27824660328508277
         },
         {
          "b": 0.8646934197831133,
          "m": -0.035130930658887616
         },
         {
          "b": 0.8646934197831133,
          "m": -0.035130930658887616
         },
         {
          "b": 0.10119862167815907,
          "m": -0.035130930658887616
         },
         {
          "b": 0.10119862167815907,
          "m": -0.08964930822883432
         },
         {
          "b": 0.34324967633239534,
          "m": -0.08964930822883432
         },
         {
          "b": 0.34324967633239534,
          "m": -0.08964930822883432
         },
         {
          "b": 0.30248487002314195,
          "m": -0.08964930822883432
         },
         {
          "b": 0.30248487002314195,
          "m": -0.08964930822883432
         },
         {
          "b": 0.30248487002314195,
          "m": -0.08964930822883432
         },
         {
          "b": 0.30248487002314195,
          "m": -0.08964930822883432
         },
         {
          "b": 0.30248487002314195,
          "m": -0.02410338698710235
         },
         {
          "b": 0.30248487002314195,
          "m": -0.02410338698710235
         },
         {
          "b": 0.30248487002314195,
          "m": -0.02410338698710235
         },
         {
          "b": 0.30248487002314195,
          "m": -0.02410338698710235
         },
         {
          "b": 0.30248487002314195,
          "m": -0.02410338698710235
         },
         {
          "b": 0.30248487002314195,
          "m": -0.02410338698710235
         },
         {
          "b": 0.30248487002314195,
          "m": 0.21447262947288892
         },
         {
          "b": 0.30248487002314195,
          "m": 0.21447262947288892
         },
         {
          "b": 0.30248487002314195,
          "m": -0.26795686946580655
         },
         {
          "b": 0.30248487002314195,
          "m": -0.26795686946580655
         },
         {
          "b": 0.49871432221105816,
          "m": -0.26795686946580655
         },
         {
          "b": 0.49871432221105816,
          "m": -0.26795686946580655
         },
         {
          "b": 0.49871432221105816,
          "m": -0.26795686946580655
         },
         {
          "b": 0.49871432221105816,
          "m": -0.2732698538645979
         },
         {
          "b": 0.49871432221105816,
          "m": -0.2732698538645979
         },
         {
          "b": 0.49871432221105816,
          "m": -0.2732698538645979
         },
         {
          "b": 0.49871432221105816,
          "m": -0.2732698538645979
         },
         {
          "b": 0.49871432221105816,
          "m": -0.2732698538645979
         },
         {
          "b": 0.49900622058240107,
          "m": -0.2732698538645979
         },
         {
          "b": 0.49900622058240107,
          "m": -0.2732698538645979
         },
         {
          "b": 0.49900622058240107,
          "m": -0.2732698538645979
         },
         {
          "b": 0.49900622058240107,
          "m": -0.2732698538645979
         },
         {
          "b": 0.5754789535592713,
          "m": -0.2732698538645979
         },
         {
          "b": 0.5754789535592713,
          "m": -0.4455183172703563
         },
         {
          "b": 0.5754789535592713,
          "m": -0.4455183172703563
         },
         {
          "b": 0.5754789535592713,
          "m": -0.4455183172703563
         },
         {
          "b": 0.5754789535592713,
          "m": -0.4455183172703563
         },
         {
          "b": 0.6942619322590422,
          "m": -0.4455183172703563
         },
         {
          "b": 0.6942619322590422,
          "m": 0.5087832132999066
         },
         {
          "b": 0.6942619322590422,
          "m": 0.45181860838470134
         },
         {
          "b": 0.6942619322590422,
          "m": 0.45181860838470134
         },
         {
          "b": 0.8400706272008309,
          "m": 0.45181860838470134
         },
         {
          "b": 0.8400706272008309,
          "m": 0.45181860838470134
         },
         {
          "b": 0.8400706272008309,
          "m": 0.369402971695606
         },
         {
          "b": 0.8400706272008309,
          "m": 0.369402971695606
         },
         {
          "b": 0.8400706272008309,
          "m": 0.369402971695606
         },
         {
          "b": 0.8400706272008309,
          "m": 0.23288675703387773
         },
         {
          "b": 0.8400706272008309,
          "m": 0.1809038379480412
         },
         {
          "b": 0.365911387195357,
          "m": 0.1809038379480412
         },
         {
          "b": 0.365911387195357,
          "m": 0.1809038379480412
         },
         {
          "b": 0.365911387195357,
          "m": 0.1809038379480412
         },
         {
          "b": 0.8880838392734691,
          "m": 0.1809038379480412
         },
         {
          "b": 0.589066427530353,
          "m": 0.1809038379480412
         },
         {
          "b": 0.589066427530353,
          "m": 0.1809038379480412
         },
         {
          "b": 0.39613287887777804,
          "m": 0.1809038379480412
         },
         {
          "b": 0.5350019966304258,
          "m": 0.1809038379480412
         },
         {
          "b": 0.5350019966304258,
          "m": 0.1809038379480412
         },
         {
          "b": 0.5350019966304258,
          "m": -0.029029930934531434
         },
         {
          "b": 0.5350019966304258,
          "m": -0.029029930934531434
         },
         {
          "b": 0.5350019966304258,
          "m": -0.029029930934531434
         },
         {
          "b": 0.5350019966304258,
          "m": -0.029029930934531434
         },
         {
          "b": 0.5350019966304258,
          "m": -0.029029930934531434
         },
         {
          "b": 0.5350019966304258,
          "m": -0.029029930934531434
         },
         {
          "b": 0.4608988457068055,
          "m": -0.029029930934531434
         },
         {
          "b": 0.791245622855768,
          "m": -0.029029930934531434
         },
         {
          "b": 0.948942849344067,
          "m": -0.029029930934531434
         },
         {
          "b": 0.948942849344067,
          "m": -0.04243450770164414
         },
         {
          "b": 0.948942849344067,
          "m": 0.37664451423893497
         },
         {
          "b": 0.5144152025610962,
          "m": 0.37664451423893497
         },
         {
          "b": 0.5144152025610962,
          "m": 0.37664451423893497
         },
         {
          "b": 0.5144152025610962,
          "m": 0.37664451423893497
         },
         {
          "b": 0.5144152025610962,
          "m": 0.37664451423893497
         },
         {
          "b": 0.5144152025610962,
          "m": 0.37664451423893497
         },
         {
          "b": 0.3880988211172187,
          "m": 0.37664451423893497
         },
         {
          "b": 0.3880988211172187,
          "m": -0.062042428001434
         },
         {
          "b": 0.9425488530770412,
          "m": -0.062042428001434
         },
         {
          "b": 0.062106868392625136,
          "m": -0.062042428001434
         },
         {
          "b": 0.062106868392625136,
          "m": -0.062042428001434
         },
         {
          "b": 0.062106868392625136,
          "m": -0.062042428001434
         },
         {
          "b": 0.062106868392625136,
          "m": -0.062042428001434
         },
         {
          "b": 0.062106868392625136,
          "m": -0.062042428001434
         },
         {
          "b": 0.062106868392625136,
          "m": -0.062042428001434
         },
         {
          "b": 0.062106868392625136,
          "m": -0.062042428001434
         },
         {
          "b": 0.4796966579156996,
          "m": -0.062042428001434
         },
         {
          "b": 0.4796966579156996,
          "m": 0.1236936192256215
         },
         {
          "b": 0.33805872022204597,
          "m": 0.1236936192256215
         },
         {
          "b": 0.33805872022204597,
          "m": 0.1236936192256215
         },
         {
          "b": 0.33805872022204597,
          "m": -0.2180577639082617
         },
         {
          "b": 0.33805872022204597,
          "m": -0.2180577639082617
         },
         {
          "b": 0.33805872022204597,
          "m": -0.2180577639082617
         },
         {
          "b": 0.9737656900347653,
          "m": -0.2180577639082617
         },
         {
          "b": 0.9737656900347653,
          "m": 0.5537906460684627
         },
         {
          "b": 0.9737656900347653,
          "m": 0.5537906460684627
         },
         {
          "b": 0.9737656900347653,
          "m": 0.5537906460684627
         },
         {
          "b": 0.9737656900347653,
          "m": 0.5537906460684627
         },
         {
          "b": 0.9737656900347653,
          "m": -0.3416182953801059
         },
         {
          "b": 0.9737656900347653,
          "m": 0.49900678295191825
         },
         {
          "b": 0.9737656900347653,
          "m": 0.49900678295191825
         },
         {
          "b": 0.5102154386550974,
          "m": 0.49900678295191825
         },
         {
          "b": 0.5102154386550974,
          "m": 0.49900678295191825
         },
         {
          "b": 0.5102154386550974,
          "m": 0.49900678295191825
         },
         {
          "b": 0.5102154386550974,
          "m": 0.49900678295191825
         },
         {
          "b": 0.5102154386550974,
          "m": -0.3869255108244014
         },
         {
          "b": 0.5102154386550974,
          "m": -0.3869255108244014
         },
         {
          "b": 0.5102154386550974,
          "m": 0.26635076813370406
         },
         {
          "b": 0.5102154386550974,
          "m": 0.26635076813370406
         },
         {
          "b": 0.9494549326541286,
          "m": 0.26635076813370406
         },
         {
          "b": 0.9494549326541286,
          "m": 0.5563581010104486
         },
         {
          "b": 0.9494549326541286,
          "m": 0.03262805778732303
         },
         {
          "b": 0.9494549326541286,
          "m": 0.7421320447295516
         },
         {
          "b": 0.9494549326541286,
          "m": 0.5677708978982492
         },
         {
          "b": 0.9494549326541286,
          "m": -0.8565875046771938
         },
         {
          "b": 0.9494549326541286,
          "m": -0.8565875046771938
         },
         {
          "b": 0.9494549326541286,
          "m": 0.21620761369107666
         },
         {
          "b": 0.8405048254849301,
          "m": 0.21620761369107666
         },
         {
          "b": 0.8405048254849301,
          "m": 0.8003509765657981
         },
         {
          "b": 0.8405048254849301,
          "m": 0.8003509765657981
         },
         {
          "b": 0.8405048254849301,
          "m": -0.807665985203349
         },
         {
          "b": 0.8405048254849301,
          "m": -0.807665985203349
         },
         {
          "b": 0.8405048254849301,
          "m": -0.807665985203349
         },
         {
          "b": 0.8405048254849301,
          "m": -0.2696643885524519
         },
         {
          "b": 0.8405048254849301,
          "m": 0.43161985914154033
         },
         {
          "b": 0.48688015549166574,
          "m": 0.43161985914154033
         },
         {
          "b": 0.48688015549166574,
          "m": 0.43161985914154033
         },
         {
          "b": 0.48688015549166574,
          "m": 0.43161985914154033
         },
         {
          "b": 0.48688015549166574,
          "m": 0.43161985914154033
         },
         {
          "b": 0.48688015549166574,
          "m": 0.43161985914154033
         },
         {
          "b": 0.48688015549166574,
          "m": 0.43161985914154033
         },
         {
          "b": 0.48688015549166574,
          "m": 0.43161985914154033
         },
         {
          "b": 0.48688015549166574,
          "m": -0.1219071489174881
         },
         {
          "b": 0.48688015549166574,
          "m": -0.1219071489174881
         },
         {
          "b": 0.48688015549166574,
          "m": -0.1219071489174881
         },
         {
          "b": 0.48688015549166574,
          "m": -0.1219071489174881
         },
         {
          "b": 0.48688015549166574,
          "m": -0.1219071489174881
         },
         {
          "b": 0.48688015549166574,
          "m": -0.1219071489174881
         },
         {
          "b": 0.48688015549166574,
          "m": -0.3298142727909654
         },
         {
          "b": 0.48688015549166574,
          "m": -0.3298142727909654
         },
         {
          "b": 0.4439600884009638,
          "m": -0.3298142727909654
         },
         {
          "b": 0.4439600884009638,
          "m": -0.32354639000346563
         },
         {
          "b": 0.4439600884009638,
          "m": -0.32354639000346563
         },
         {
          "b": 0.4439600884009638,
          "m": 0.09439538630607669
         },
         {
          "b": 0.4439600884009638,
          "m": 0.09439538630607669
         },
         {
          "b": 0.4439600884009638,
          "m": 0.4202720198883887
         },
         {
          "b": 0.4439600884009638,
          "m": 0.4202720198883887
         },
         {
          "b": 0.4439600884009638,
          "m": 0.4202720198883887
         },
         {
          "b": 0.4439600884009638,
          "m": 0.4202720198883887
         },
         {
          "b": 0.4439600884009638,
          "m": 0.4202720198883887
         },
         {
          "b": 0.4439600884009638,
          "m": 0.4202720198883887
         },
         {
          "b": 0.4439600884009638,
          "m": 0.4202720198883887
         },
         {
          "b": 0.4439600884009638,
          "m": 0.4202720198883887
         },
         {
          "b": 0.4439600884009638,
          "m": 0.4202720198883887
         },
         {
          "b": 0.4439600884009638,
          "m": -0.17075706003287805
         },
         {
          "b": 0.4439600884009638,
          "m": -0.17075706003287805
         },
         {
          "b": 0.4439600884009638,
          "m": -0.17075706003287805
         },
         {
          "b": 0.4493884196685485,
          "m": -0.17075706003287805
         },
         {
          "b": 0.4493884196685485,
          "m": -0.17075706003287805
         },
         {
          "b": 0.7308223011948158,
          "m": -0.17075706003287805
         },
         {
          "b": 0.7308223011948158,
          "m": -0.15732544135540105
         },
         {
          "b": 0.7308223011948158,
          "m": -0.016927326378622043
         },
         {
          "b": 0.5917971865264098,
          "m": -0.016927326378622043
         },
         {
          "b": 0.5917971865264098,
          "m": -0.3689455134686159
         },
         {
          "b": 0.5917971865264098,
          "m": -0.45175975612907115
         },
         {
          "b": 0.5917971865264098,
          "m": -0.45175975612907115
         },
         {
          "b": 0.5917971865264098,
          "m": -0.45175975612907115
         },
         {
          "b": 0.5917971865264098,
          "m": -0.45175975612907115
         },
         {
          "b": 0.5917971865264098,
          "m": 0.41971470214868023
         },
         {
          "b": 0.5917971865264098,
          "m": 0.07707962691391335
         },
         {
          "b": 0.6836795740188071,
          "m": 0.07707962691391335
         },
         {
          "b": 0.6836795740188071,
          "m": 0.07707962691391335
         },
         {
          "b": 0.2754555243126606,
          "m": 0.07707962691391335
         },
         {
          "b": 0.2754555243126606,
          "m": 0.07707962691391335
         },
         {
          "b": 0.8427854188576556,
          "m": 0.07707962691391335
         },
         {
          "b": 0.4928643126603631,
          "m": 0.07707962691391335
         },
         {
          "b": 0.4928643126603631,
          "m": 0.07707962691391335
         },
         {
          "b": 0.4928643126603631,
          "m": 0.07707962691391335
         },
         {
          "b": 0.4928643126603631,
          "m": 0.011067165720055838
         },
         {
          "b": 0.4928643126603631,
          "m": 0.011067165720055838
         },
         {
          "b": 0.09327311996774079,
          "m": 0.011067165720055838
         },
         {
          "b": 0.09327311996774079,
          "m": 0.011067165720055838
         },
         {
          "b": 0.09327311996774079,
          "m": 0.011067165720055838
         },
         {
          "b": 0.09327311996774079,
          "m": 0.011067165720055838
         },
         {
          "b": 0.09327311996774079,
          "m": 0.011067165720055838
         },
         {
          "b": 0.09327311996774079,
          "m": 0.011067165720055838
         },
         {
          "b": 0.09327311996774079,
          "m": 0.011067165720055838
         },
         {
          "b": 0.09327311996774079,
          "m": 0.011067165720055838
         },
         {
          "b": 0.09327311996774079,
          "m": 0.011067165720055838
         },
         {
          "b": 0.09327311996774079,
          "m": 0.011067165720055838
         },
         {
          "b": 0.09327311996774079,
          "m": 0.011067165720055838
         },
         {
          "b": 0.09327311996774079,
          "m": 0.011067165720055838
         },
         {
          "b": 0.09327311996774079,
          "m": 0.011067165720055838
         },
         {
          "b": 0.09327311996774079,
          "m": 0.011067165720055838
         },
         {
          "b": 0.09327311996774079,
          "m": 0.011067165720055838
         },
         {
          "b": 0.09327311996774079,
          "m": 0.011067165720055838
         },
         {
          "b": 0.09327311996774079,
          "m": 0.011067165720055838
         },
         {
          "b": 0.09327311996774079,
          "m": 0.011067165720055838
         },
         {
          "b": 0.09327311996774079,
          "m": 0.011067165720055838
         },
         {
          "b": 0.09327311996774079,
          "m": 0.011067165720055838
         },
         {
          "b": 0.09327311996774079,
          "m": 0.011067165720055838
         },
         {
          "b": 0.09327311996774079,
          "m": 0.011067165720055838
         },
         {
          "b": 0.09327311996774079,
          "m": 0.011067165720055838
         },
         {
          "b": 0.09327311996774079,
          "m": 0.011067165720055838
         },
         {
          "b": 0.09327311996774079,
          "m": 0.011067165720055838
         },
         {
          "b": 0.09480592440406554,
          "m": 0.011067165720055838
         },
         {
          "b": 0.09480592440406554,
          "m": 0.011067165720055838
         },
         {
          "b": 0.09480592440406554,
          "m": 0.011067165720055838
         },
         {
          "b": 0.09480592440406554,
          "m": 0.011067165720055838
         },
         {
          "b": 0.09480592440406554,
          "m": 0.011067165720055838
         },
         {
          "b": 0.21345438296912156,
          "m": 0.011067165720055838
         },
         {
          "b": 0.21345438296912156,
          "m": 0.011067165720055838
         },
         {
          "b": 0.341858146863095,
          "m": 0.011067165720055838
         },
         {
          "b": 0.4847437660050973,
          "m": 0.011067165720055838
         },
         {
          "b": 0.4847437660050973,
          "m": -0.453443086438859
         },
         {
          "b": 0.4847437660050973,
          "m": -0.453443086438859
         },
         {
          "b": 0.5970282343333138,
          "m": -0.453443086438859
         },
         {
          "b": 0.5970282343333138,
          "m": 0.12848233851366886
         },
         {
          "b": 0.8837198943296987,
          "m": 0.12848233851366886
         },
         {
          "b": 0.8837198943296987,
          "m": 0.12848233851366886
         },
         {
          "b": 0.8837198943296987,
          "m": 0.012597161743164387
         },
         {
          "b": 0.8837198943296987,
          "m": 0.16154406879316308
         },
         {
          "b": 0.675937632883447,
          "m": 0.16154406879316308
         },
         {
          "b": 0.5222929823833617,
          "m": 0.16154406879316308
         },
         {
          "b": 0.5222929823833617,
          "m": 0.16154406879316308
         },
         {
          "b": 0.3553678090473784,
          "m": 0.16154406879316308
         },
         {
          "b": 0.3553678090473784,
          "m": 0.1265961215902467
         },
         {
          "b": 0.5509724868473402,
          "m": 0.1265961215902467
         },
         {
          "b": 0.8520083971914623,
          "m": 0.1265961215902467
         },
         {
          "b": 0.8520083971914623,
          "m": -0.4654214143629234
         },
         {
          "b": 0.8520083971914623,
          "m": -0.4654214143629234
         },
         {
          "b": 0.8520083971914623,
          "m": -0.6774809822088572
         },
         {
          "b": 0.8972576637042649,
          "m": -0.6774809822088572
         },
         {
          "b": 0.8972576637042649,
          "m": -0.6774809822088572
         },
         {
          "b": 0.8977344574117112,
          "m": -0.6774809822088572
         },
         {
          "b": 0.8977344574117112,
          "m": 0.5576400759367932
         },
         {
          "b": 0.8977344574117112,
          "m": -0.5319500532034709
         },
         {
          "b": 0.8977344574117112,
          "m": -0.8457875483881445
         },
         {
          "b": 0.8977344574117112,
          "m": 0.6139038971127688
         },
         {
          "b": 0.8977344574117112,
          "m": 0.2060398611487566
         },
         {
          "b": 0.8977344574117112,
          "m": 0.1803331293842596
         },
         {
          "b": 0.8977344574117112,
          "m": -0.803756223330345
         },
         {
          "b": 0.8977344574117112,
          "m": 0.8713051997183656
         },
         {
          "b": 0.8977344574117112,
          "m": 0.654899671045093
         },
         {
          "b": 0.8977344574117112,
          "m": 0.654899671045093
         },
         {
          "b": 0.8977344574117112,
          "m": -0.811975708871097
         },
         {
          "b": 0.8909253553418284,
          "m": -0.811975708871097
         },
         {
          "b": 0.8909253553418284,
          "m": 0.7261497566917605
         },
         {
          "b": 0.8909253553418284,
          "m": 0.4793592868302421
         },
         {
          "b": 0.8909253553418284,
          "m": 0.024102400046800865
         },
         {
          "b": 0.8909253553418284,
          "m": 0.4986091078558472
         },
         {
          "b": 0.8909253553418284,
          "m": 0.7582433075218218
         },
         {
          "b": 0.8909253553418284,
          "m": 0.7582433075218218
         },
         {
          "b": 0.8909253553418284,
          "m": 0.18685017001838733
         },
         {
          "b": 0.8909253553418284,
          "m": 0.2713331167140798
         },
         {
          "b": 0.8909253553418284,
          "m": 0.7130080622412318
         },
         {
          "b": 0.8909253553418284,
          "m": 0.7130080622412318
         },
         {
          "b": 0.8909253553418284,
          "m": -0.6779825312416621
         },
         {
          "b": 0.8909253553418284,
          "m": 0.4560217136002256
         },
         {
          "b": 0.48547313822928584,
          "m": 0.4560217136002256
         },
         {
          "b": 0.48547313822928584,
          "m": 0.4560217136002256
         },
         {
          "b": 0.48547313822928584,
          "m": 0.4560217136002256
         },
         {
          "b": 0.48547313822928584,
          "m": 0.4560217136002256
         },
         {
          "b": 0.48547313822928584,
          "m": -0.46306161130554924
         },
         {
          "b": 0.48547313822928584,
          "m": -0.46306161130554924
         },
         {
          "b": 0.48547313822928584,
          "m": 0.10987532729396654
         },
         {
          "b": 0.48547313822928584,
          "m": 0.10987532729396654
         },
         {
          "b": 0.7150402236889517,
          "m": 0.10987532729396654
         },
         {
          "b": 0.7150402236889517,
          "m": -0.6873414860566285
         },
         {
          "b": 0.7150402236889517,
          "m": -0.6873414860566285
         },
         {
          "b": 0.7150402236889517,
          "m": -0.2914800086833289
         },
         {
          "b": 0.7150402236889517,
          "m": 0.5731939229657079
         },
         {
          "b": 0.7150402236889517,
          "m": -0.1365988847526507
         },
         {
          "b": 0.7150402236889517,
          "m": -0.1365988847526507
         },
         {
          "b": 0.7150402236889517,
          "m": -0.10955899711257255
         },
         {
          "b": 0.7150402236889517,
          "m": -0.10955899711257255
         },
         {
          "b": 0.7150402236889517,
          "m": -0.10955899711257255
         },
         {
          "b": 0.8441163783708523,
          "m": -0.10955899711257255
         },
         {
          "b": 0.8335026809743791,
          "m": -0.10955899711257255
         },
         {
          "b": 0.8335026809743791,
          "m": 0.308639437577485
         },
         {
          "b": 0.8335026809743791,
          "m": 0.7288333952875645
         },
         {
          "b": 0.8335026809743791,
          "m": 0.7288333952875645
         },
         {
          "b": 0.8335026809743791,
          "m": 0.21174432469366677
         },
         {
          "b": 0.8335026809743791,
          "m": 0.21174432469366677
         },
         {
          "b": 0.8335026809743791,
          "m": 0.5593360705526693
         },
         {
          "b": 0.8335026809743791,
          "m": 0.102597131069176
         },
         {
          "b": 0.8335026809743791,
          "m": 0.102597131069176
         },
         {
          "b": 0.8335026809743791,
          "m": 0.102597131069176
         },
         {
          "b": 0.6306067583561503,
          "m": 0.102597131069176
         },
         {
          "b": 0.6306067583561503,
          "m": 0.102597131069176
         },
         {
          "b": 0.6306067583561503,
          "m": 0.102597131069176
         },
         {
          "b": 0.44023847182707043,
          "m": 0.102597131069176
         },
         {
          "b": 0.46918732499730953,
          "m": 0.102597131069176
         },
         {
          "b": 0.46918732499730953,
          "m": 0.102597131069176
         },
         {
          "b": 0.46918732499730953,
          "m": -0.34197485274482964
         },
         {
          "b": 0.46918732499730953,
          "m": -0.34197485274482964
         },
         {
          "b": 0.5844561765607794,
          "m": -0.34197485274482964
         },
         {
          "b": 0.5844561765607794,
          "m": -0.4106140929839943
         },
         {
          "b": 0.5844561765607794,
          "m": -0.4106140929839943
         },
         {
          "b": 0.5844561765607794,
          "m": -0.4106140929839943
         },
         {
          "b": 0.5844561765607794,
          "m": 0.21668438841777893
         },
         {
          "b": 0.5844561765607794,
          "m": 0.06610824695885165
         },
         {
          "b": 0.5844561765607794,
          "m": 0.06610824695885165
         },
         {
          "b": 0.5844561765607794,
          "m": -0.06969491280466289
         },
         {
          "b": 0.5844561765607794,
          "m": -0.06969491280466289
         },
         {
          "b": 0.5844561765607794,
          "m": -0.06969491280466289
         },
         {
          "b": 0.5844561765607794,
          "m": -0.06969491280466289
         },
         {
          "b": 0.5844561765607794,
          "m": -0.06969491280466289
         },
         {
          "b": 0.5844561765607794,
          "m": -0.06969491280466289
         },
         {
          "b": 0.32307409574780777,
          "m": -0.06969491280466289
         },
         {
          "b": 0.32307409574780777,
          "m": -0.06969491280466289
         },
         {
          "b": 0.32307409574780777,
          "m": -0.06969491280466289
         },
         {
          "b": 0.32307409574780777,
          "m": -0.06969491280466289
         },
         {
          "b": 0.32307409574780777,
          "m": 0.28914199516660166
         },
         {
          "b": 0.32307409574780777,
          "m": 0.28914199516660166
         },
         {
          "b": 0.32307409574780777,
          "m": -0.03669493929556
         },
         {
          "b": 0.32307409574780777,
          "m": -0.03669493929556
         },
         {
          "b": 0.7002265980188043,
          "m": -0.03669493929556
         },
         {
          "b": 0.7002265980188043,
          "m": -0.03669493929556
         },
         {
          "b": 0.7002265980188043,
          "m": -0.03669493929556
         },
         {
          "b": 0.504478113410652,
          "m": -0.03669493929556
         },
         {
          "b": 0.504478113410652,
          "m": 0.24128001295717705
         },
         {
          "b": 0.504478113410652,
          "m": 0.24128001295717705
         },
         {
          "b": 0.5790689825269448,
          "m": 0.24128001295717705
         },
         {
          "b": 0.5790689825269448,
          "m": 0.24128001295717705
         },
         {
          "b": 0.5790689825269448,
          "m": 0.24128001295717705
         },
         {
          "b": 0.5790689825269448,
          "m": 0.24128001295717705
         },
         {
          "b": 0.5790689825269448,
          "m": -0.5393872977714655
         },
         {
          "b": 0.5790689825269448,
          "m": -0.5537554059198861
         },
         {
          "b": 0.5790689825269448,
          "m": -0.5537554059198861
         },
         {
          "b": 0.8822251934625862,
          "m": -0.5537554059198861
         },
         {
          "b": 0.8822251934625862,
          "m": -0.5537554059198861
         },
         {
          "b": 0.8822251934625862,
          "m": -0.5537554059198861
         },
         {
          "b": 0.7445385608078119,
          "m": -0.5537554059198861
         },
         {
          "b": 0.6751163987694768,
          "m": -0.5537554059198861
         },
         {
          "b": 0.6751163987694768,
          "m": -0.5537554059198861
         },
         {
          "b": 0.6751163987694768,
          "m": -0.5537554059198861
         },
         {
          "b": 0.6751163987694768,
          "m": 0.6639291448162836
         },
         {
          "b": 0.6751163987694768,
          "m": 0.6639291448162836
         },
         {
          "b": 0.6751163987694768,
          "m": 0.6639291448162836
         },
         {
          "b": 0.6751163987694768,
          "m": 0.6639291448162836
         },
         {
          "b": 0.6751163987694768,
          "m": 0.6639291448162836
         },
         {
          "b": 0.9420793194880621,
          "m": 0.6639291448162836
         },
         {
          "b": 0.9420793194880621,
          "m": 0.6639291448162836
         },
         {
          "b": 0.7422858572531179,
          "m": 0.6639291448162836
         },
         {
          "b": 0.7422858572531179,
          "m": 0.6639291448162836
         },
         {
          "b": 0.7422858572531179,
          "m": 0.6639291448162836
         },
         {
          "b": 0.7422858572531179,
          "m": -0.5228503765792987
         },
         {
          "b": 0.7422858572531179,
          "m": -0.17254527534765773
         },
         {
          "b": 0.7564543202762481,
          "m": -0.17254527534765773
         },
         {
          "b": 0.7564543202762481,
          "m": -0.17254527534765773
         },
         {
          "b": 0.7564543202762481,
          "m": -0.5356532332481831
         },
         {
          "b": 0.7564543202762481,
          "m": -0.5356532332481831
         },
         {
          "b": 0.7564543202762481,
          "m": 0.21906894747249317
         },
         {
          "b": 0.7564543202762481,
          "m": 0.4674414797044488
         },
         {
          "b": 0.7564543202762481,
          "m": -0.5769197577340435
         },
         {
          "b": 0.7564543202762481,
          "m": -0.5769197577340435
         },
         {
          "b": 0.7564543202762481,
          "m": -0.5769197577340435
         },
         {
          "b": 0.7564543202762481,
          "m": -0.5769197577340435
         },
         {
          "b": 0.7564543202762481,
          "m": -0.5769197577340435
         },
         {
          "b": 0.7564543202762481,
          "m": -0.5769197577340435
         },
         {
          "b": 0.7574018024371363,
          "m": -0.5769197577340435
         },
         {
          "b": 0.7574018024371363,
          "m": 0.0335487943798094
         },
         {
          "b": 0.26457342422865904,
          "m": 0.0335487943798094
         },
         {
          "b": 0.26457342422865904,
          "m": 0.0335487943798094
         },
         {
          "b": 0.26457342422865904,
          "m": 0.0335487943798094
         },
         {
          "b": 0.4358385540239411,
          "m": 0.0335487943798094
         },
         {
          "b": 0.4358385540239411,
          "m": 0.0335487943798094
         },
         {
          "b": 0.4358385540239411,
          "m": 0.4241068068273701
         },
         {
          "b": 0.4358385540239411,
          "m": 0.4241068068273701
         },
         {
          "b": 0.4358385540239411,
          "m": 0.4241068068273701
         },
         {
          "b": 0.4358385540239411,
          "m": 0.4241068068273701
         },
         {
          "b": 0.4275956372073677,
          "m": 0.4241068068273701
         },
         {
          "b": 0.4275956372073677,
          "m": 0.4241068068273701
         },
         {
          "b": 0.4275956372073677,
          "m": 0.4241068068273701
         },
         {
          "b": 0.4275956372073677,
          "m": 0.17080364280947857
         },
         {
          "b": 0.4275956372073677,
          "m": 0.17080364280947857
         },
         {
          "b": 0.4275956372073677,
          "m": 0.17080364280947857
         },
         {
          "b": 0.4275956372073677,
          "m": 0.07176465600240589
         },
         {
          "b": 0.4275956372073677,
          "m": 0.28661133311835685
         },
         {
          "b": 0.4275956372073677,
          "m": 0.28661133311835685
         },
         {
          "b": 0.3678714946308401,
          "m": 0.28661133311835685
         },
         {
          "b": 0.3678714946308401,
          "m": 0.28661133311835685
         },
         {
          "b": 0.3678714946308401,
          "m": 0.28661133311835685
         },
         {
          "b": 0.3678714946308401,
          "m": 0.28661133311835685
         },
         {
          "b": 0.3678714946308401,
          "m": 0.28661133311835685
         },
         {
          "b": 0.3678714946308401,
          "m": 0.28661133311835685
         },
         {
          "b": 0.3678714946308401,
          "m": 0.28661133311835685
         },
         {
          "b": 0.3678714946308401,
          "m": 0.28661133311835685
         },
         {
          "b": 0.3678714946308401,
          "m": 0.28661133311835685
         },
         {
          "b": 0.3678714946308401,
          "m": 0.28661133311835685
         },
         {
          "b": 0.3678714946308401,
          "m": 0.28661133311835685
         },
         {
          "b": 0.3678714946308401,
          "m": -0.1431012655105437
         },
         {
          "b": 0.3678714946308401,
          "m": -0.1431012655105437
         },
         {
          "b": 0.3678714946308401,
          "m": -0.1431012655105437
         },
         {
          "b": 0.3678714946308401,
          "m": -0.1431012655105437
         },
         {
          "b": 0.3678714946308401,
          "m": -0.1431012655105437
         },
         {
          "b": 0.3678714946308401,
          "m": -0.1431012655105437
         },
         {
          "b": 0.3678714946308401,
          "m": -0.05262217864468677
         },
         {
          "b": 0.1733122831798386,
          "m": -0.05262217864468677
         },
         {
          "b": 0.1733122831798386,
          "m": -0.05262217864468677
         },
         {
          "b": 0.1733122831798386,
          "m": -0.05262217864468677
         },
         {
          "b": 0.1733122831798386,
          "m": -0.05262217864468677
         },
         {
          "b": 0.1733122831798386,
          "m": -0.05262217864468677
         },
         {
          "b": 0.1733122831798386,
          "m": -0.05262217864468677
         },
         {
          "b": 0.3274550695242191,
          "m": -0.05262217864468677
         },
         {
          "b": 0.3274550695242191,
          "m": -0.05262217864468677
         },
         {
          "b": 0.3274550695242191,
          "m": -0.05262217864468677
         },
         {
          "b": 0.9691608664372866,
          "m": -0.05262217864468677
         },
         {
          "b": 0.9691608664372866,
          "m": -0.05262217864468677
         },
         {
          "b": 0.9691608664372866,
          "m": -0.17966224285480137
         },
         {
          "b": 0.9691608664372866,
          "m": -0.17966224285480137
         },
         {
          "b": 0.9691608664372866,
          "m": -0.5081815491121715
         },
         {
          "b": 0.9691608664372866,
          "m": 0.6162217187694374
         },
         {
          "b": 0.9691608664372866,
          "m": 0.8527651935086416
         },
         {
          "b": 0.9691608664372866,
          "m": 0.8527651935086416
         },
         {
          "b": 0.9691608664372866,
          "m": 0.8527651935086416
         },
         {
          "b": 0.9691608664372866,
          "m": 0.47303207692846105
         },
         {
          "b": 0.9691608664372866,
          "m": 0.47303207692846105
         },
         {
          "b": 0.9691608664372866,
          "m": -0.11988195228929022
         },
         {
          "b": 0.9691608664372866,
          "m": 0.22703345149140408
         },
         {
          "b": 0.9691608664372866,
          "m": 0.22703345149140408
         },
         {
          "b": 0.26982216548926385,
          "m": 0.22703345149140408
         },
         {
          "b": 0.26982216548926385,
          "m": 0.22703345149140408
         },
         {
          "b": 0.26982216548926385,
          "m": 0.22703345149140408
         },
         {
          "b": 0.26982216548926385,
          "m": 0.22703345149140408
         },
         {
          "b": 0.26982216548926385,
          "m": 0.22703345149140408
         },
         {
          "b": 0.26982216548926385,
          "m": 0.22703345149140408
         },
         {
          "b": 0.26982216548926385,
          "m": 0.22703345149140408
         },
         {
          "b": 0.26982216548926385,
          "m": -0.13095243319281402
         },
         {
          "b": 0.26982216548926385,
          "m": -0.13095243319281402
         },
         {
          "b": 0.5803721751628947,
          "m": -0.13095243319281402
         },
         {
          "b": 0.5923169264808814,
          "m": -0.13095243319281402
         },
         {
          "b": 0.5923169264808814,
          "m": -0.13095243319281402
         },
         {
          "b": 0.5923169264808814,
          "m": -0.13095243319281402
         },
         {
          "b": 0.5923169264808814,
          "m": -0.13095243319281402
         },
         {
          "b": 0.5923169264808814,
          "m": -0.13095243319281402
         },
         {
          "b": 0.5209554965175631,
          "m": -0.13095243319281402
         },
         {
          "b": 0.5903194851738125,
          "m": -0.13095243319281402
         },
         {
          "b": 0.5903194851738125,
          "m": 0.28089506123685326
         },
         {
          "b": 0.6576373733174268,
          "m": 0.28089506123685326
         },
         {
          "b": 0.6576373733174268,
          "m": 0.28089506123685326
         },
         {
          "b": 0.5916503737791696,
          "m": 0.28089506123685326
         },
         {
          "b": 0.5916503737791696,
          "m": 0.4155636648640366
         },
         {
          "b": 0.5916503737791696,
          "m": 0.4155636648640366
         },
         {
          "b": 0.5916503737791696,
          "m": 0.4155636648640366
         },
         {
          "b": 0.5916503737791696,
          "m": 0.4155636648640366
         },
         {
          "b": 0.931319259506785,
          "m": 0.4155636648640366
         },
         {
          "b": 0.931319259506785,
          "m": 0.4155636648640366
         },
         {
          "b": 0.931319259506785,
          "m": 0.4155636648640366
         },
         {
          "b": 0.4220786526152416,
          "m": 0.4155636648640366
         },
         {
          "b": 0.4220786526152416,
          "m": 0.4155636648640366
         },
         {
          "b": 0.4220786526152416,
          "m": 0.15666757285165267
         },
         {
          "b": 0.4220786526152416,
          "m": 0.15666757285165267
         },
         {
          "b": 0.4220786526152416,
          "m": 0.15666757285165267
         },
         {
          "b": 0.4220786526152416,
          "m": 0.15666757285165267
         },
         {
          "b": 0.4220786526152416,
          "m": 0.15666757285165267
         },
         {
          "b": 0.4220786526152416,
          "m": 0.15666757285165267
         },
         {
          "b": 0.4220786526152416,
          "m": 0.29006016681446156
         },
         {
          "b": 0.4220786526152416,
          "m": 0.29006016681446156
         },
         {
          "b": 0.4220786526152416,
          "m": 0.29006016681446156
         },
         {
          "b": 0.4220786526152416,
          "m": 0.29006016681446156
         },
         {
          "b": 0.4220786526152416,
          "m": 0.29006016681446156
         },
         {
          "b": 0.4220786526152416,
          "m": -0.29515727807298453
         },
         {
          "b": 0.4220786526152416,
          "m": -0.29515727807298453
         },
         {
          "b": 0.4220786526152416,
          "m": -0.29515727807298453
         },
         {
          "b": 0.4220786526152416,
          "m": -0.29515727807298453
         },
         {
          "b": 0.4220786526152416,
          "m": -0.29515727807298453
         },
         {
          "b": 0.4220786526152416,
          "m": -0.29515727807298453
         },
         {
          "b": 0.4220786526152416,
          "m": -0.29515727807298453
         },
         {
          "b": 0.4220786526152416,
          "m": -0.29515727807298453
         },
         {
          "b": 0.4220786526152416,
          "m": 0.38809526909721614
         },
         {
          "b": 0.4220786526152416,
          "m": 0.38809526909721614
         },
         {
          "b": 0.4220786526152416,
          "m": 0.38809526909721614
         },
         {
          "b": 0.4220786526152416,
          "m": 0.38809526909721614
         },
         {
          "b": 0.4220786526152416,
          "m": 0.38809526909721614
         },
         {
          "b": 0.4220786526152416,
          "m": 0.38809526909721614
         },
         {
          "b": 0.4220786526152416,
          "m": 0.38809526909721614
         },
         {
          "b": 0.4220786526152416,
          "m": 0.38809526909721614
         },
         {
          "b": 0.4220786526152416,
          "m": 0.38809526909721614
         },
         {
          "b": 0.4220786526152416,
          "m": 0.38809526909721614
         },
         {
          "b": 0.4220786526152416,
          "m": 0.38809526909721614
         },
         {
          "b": 0.4220786526152416,
          "m": 0.28341550961448614
         },
         {
          "b": 0.4220786526152416,
          "m": 0.28341550961448614
         },
         {
          "b": 0.4220786526152416,
          "m": 0.28341550961448614
         },
         {
          "b": 0.4220786526152416,
          "m": 0.28341550961448614
         },
         {
          "b": 0.4220786526152416,
          "m": 0.28341550961448614
         },
         {
          "b": 0.4220786526152416,
          "m": 0.22628930282312587
         },
         {
          "b": 0.4220786526152416,
          "m": 0.22628930282312587
         },
         {
          "b": 0.4220786526152416,
          "m": 0.22628930282312587
         },
         {
          "b": 0.4220786526152416,
          "m": 0.22628930282312587
         },
         {
          "b": 0.4220786526152416,
          "m": 0.22628930282312587
         },
         {
          "b": 0.6160759072082989,
          "m": 0.22628930282312587
         },
         {
          "b": 0.6160759072082989,
          "m": 0.3575979876454094
         },
         {
          "b": 0.6160759072082989,
          "m": -0.41640637930983915
         },
         {
          "b": 0.6160759072082989,
          "m": -0.41640637930983915
         },
         {
          "b": 0.6160759072082989,
          "m": -0.41640637930983915
         },
         {
          "b": 0.6160759072082989,
          "m": -0.24168350190276544
         },
         {
          "b": 0.6160759072082989,
          "m": -0.24168350190276544
         },
         {
          "b": 0.6160759072082989,
          "m": -0.5830714741015985
         },
         {
          "b": 0.6160759072082989,
          "m": -0.5830714741015985
         },
         {
          "b": 0.6160759072082989,
          "m": -0.5830714741015985
         },
         {
          "b": 0.6160759072082989,
          "m": 0.30653235373445464
         },
         {
          "b": 0.5225014992160821,
          "m": 0.30653235373445464
         },
         {
          "b": 0.5225014992160821,
          "m": 0.30653235373445464
         },
         {
          "b": 0.5225014992160821,
          "m": -0.41583534999063754
         },
         {
          "b": 0.5225014992160821,
          "m": -0.21963485897076773
         },
         {
          "b": 0.5225014992160821,
          "m": -0.21963485897076773
         },
         {
          "b": 0.5225014992160821,
          "m": -0.21963485897076773
         },
         {
          "b": 0.5225014992160821,
          "m": 0.43938602653361003
         },
         {
          "b": 0.5225014992160821,
          "m": 0.43938602653361003
         },
         {
          "b": 0.5225014992160821,
          "m": 0.43938602653361003
         },
         {
          "b": 0.5225014992160821,
          "m": 0.43938602653361003
         },
         {
          "b": 0.5225014992160821,
          "m": 0.43938602653361003
         },
         {
          "b": 0.5225014992160821,
          "m": 0.43938602653361003
         },
         {
          "b": 0.5225014992160821,
          "m": 0.43938602653361003
         },
         {
          "b": 0.5225014992160821,
          "m": 0.43938602653361003
         },
         {
          "b": 0.5225014992160821,
          "m": 0.43938602653361003
         },
         {
          "b": 0.5225014992160821,
          "m": 0.45736656236148643
         },
         {
          "b": 0.5225014992160821,
          "m": 0.45736656236148643
         },
         {
          "b": 0.5225014992160821,
          "m": 0.45736656236148643
         },
         {
          "b": 0.5225014992160821,
          "m": -0.2961412031473387
         },
         {
          "b": 0.5225014992160821,
          "m": -0.2961412031473387
         },
         {
          "b": 0.8316767825489155,
          "m": -0.2961412031473387
         },
         {
          "b": 0.8316767825489155,
          "m": 0.537762103705911
         },
         {
          "b": 0.8316767825489155,
          "m": 0.537762103705911
         },
         {
          "b": 0.8316767825489155,
          "m": 0.537762103705911
         },
         {
          "b": 0.8316767825489155,
          "m": 0.537762103705911
         },
         {
          "b": 0.8316767825489155,
          "m": -0.5900059432375964
         },
         {
          "b": 0.8316767825489155,
          "m": 0.437151646510779
         },
         {
          "b": 0.8316767825489155,
          "m": 0.437151646510779
         },
         {
          "b": 0.8316767825489155,
          "m": 0.437151646510779
         },
         {
          "b": 0.8316767825489155,
          "m": -0.618433294742925
         },
         {
          "b": 0.9622745059933158,
          "m": -0.618433294742925
         },
         {
          "b": 0.9622745059933158,
          "m": 0.606584578289415
         },
         {
          "b": 0.9622745059933158,
          "m": -0.49758984085960534
         },
         {
          "b": 0.7487683332326298,
          "m": -0.49758984085960534
         },
         {
          "b": 0.7487683332326298,
          "m": -0.1620900455341221
         },
         {
          "b": 0.586514269636371,
          "m": -0.1620900455341221
         },
         {
          "b": 0.586514269636371,
          "m": -0.1620900455341221
         },
         {
          "b": 0.586514269636371,
          "m": -0.1507025138544711
         },
         {
          "b": 0.7573686964178676,
          "m": -0.1507025138544711
         },
         {
          "b": 0.7573686964178676,
          "m": -0.33641810354668666
         },
         {
          "b": 0.7573686964178676,
          "m": -0.33641810354668666
         },
         {
          "b": 0.7573686964178676,
          "m": 0.6355896406306429
         },
         {
          "b": 0.7573686964178676,
          "m": 0.6355896406306429
         },
         {
          "b": 0.7573686964178676,
          "m": 0.6355896406306429
         },
         {
          "b": 0.7573686964178676,
          "m": 0.7221313560548281
         },
         {
          "b": 0.7573686964178676,
          "m": 0.7221313560548281
         },
         {
          "b": 0.7573686964178676,
          "m": 0.6215734733510561
         },
         {
          "b": 0.7573686964178676,
          "m": 0.6215734733510561
         },
         {
          "b": 0.9510844989163283,
          "m": 0.6215734733510561
         },
         {
          "b": 0.9510844989163283,
          "m": -0.18157441873721747
         },
         {
          "b": 0.9510844989163283,
          "m": -0.6782704702343525
         },
         {
          "b": 0.9510844989163283,
          "m": -0.6782704702343525
         },
         {
          "b": 0.9510844989163283,
          "m": -0.6782704702343525
         },
         {
          "b": 0.9510844989163283,
          "m": -0.6421058896095573
         },
         {
          "b": 0.9510844989163283,
          "m": 0.7367631377487485
         },
         {
          "b": 0.9510844989163283,
          "m": 0.7367631377487485
         },
         {
          "b": 0.9510844989163283,
          "m": 0.7367631377487485
         },
         {
          "b": 0.9510844989163283,
          "m": -0.6783327676518425
         },
         {
          "b": 0.9510844989163283,
          "m": 0.2828824718368337
         },
         {
          "b": 0.9510844989163283,
          "m": 0.021592956630797078
         },
         {
          "b": 0.37774253043662553,
          "m": 0.021592956630797078
         },
         {
          "b": 0.37774253043662553,
          "m": 0.021592956630797078
         },
         {
          "b": 0.37774253043662553,
          "m": 0.021592956630797078
         },
         {
          "b": 0.37774253043662553,
          "m": 0.021592956630797078
         },
         {
          "b": 0.37774253043662553,
          "m": 0.24835153727750225
         },
         {
          "b": 0.5082023379837282,
          "m": 0.24835153727750225
         },
         {
          "b": 0.5082023379837282,
          "m": 0.24835153727750225
         },
         {
          "b": 0.5082023379837282,
          "m": -0.2948358783969234
         },
         {
          "b": 0.5082023379837282,
          "m": -0.2948358783969234
         },
         {
          "b": 0.5082023379837282,
          "m": -0.2948358783969234
         },
         {
          "b": 0.5082023379837282,
          "m": -0.2948358783969234
         },
         {
          "b": 0.5082023379837282,
          "m": -0.2948358783969234
         },
         {
          "b": 0.5082023379837282,
          "m": -0.2948358783969234
         },
         {
          "b": 0.42667564916576706,
          "m": -0.2948358783969234
         },
         {
          "b": 0.42667564916576706,
          "m": -0.2948358783969234
         },
         {
          "b": 0.42667564916576706,
          "m": -0.2948358783969234
         },
         {
          "b": 0.42667564916576706,
          "m": -0.2948358783969234
         },
         {
          "b": 0.42667564916576706,
          "m": -0.2948358783969234
         },
         {
          "b": 0.42667564916576706,
          "m": -0.2948358783969234
         },
         {
          "b": 0.42667564916576706,
          "m": -0.3975773445358344
         },
         {
          "b": 0.42667564916576706,
          "m": -0.3975773445358344
         },
         {
          "b": 0.42667564916576706,
          "m": -0.23411345892240454
         },
         {
          "b": 0.42667564916576706,
          "m": -0.23411345892240454
         },
         {
          "b": 0.42667564916576706,
          "m": 0.30681803562228827
         },
         {
          "b": 0.42667564916576706,
          "m": 0.004460417689111429
         },
         {
          "b": 0.42667564916576706,
          "m": -0.28745151654802936
         },
         {
          "b": 0.42667564916576706,
          "m": -0.28745151654802936
         },
         {
          "b": 0.42667564916576706,
          "m": -0.28745151654802936
         },
         {
          "b": 0.3563119215657349,
          "m": -0.28745151654802936
         },
         {
          "b": 0.3563119215657349,
          "m": -0.28745151654802936
         },
         {
          "b": 0.3563119215657349,
          "m": 0.09319356414148694
         },
         {
          "b": 0.3563119215657349,
          "m": 0.09319356414148694
         },
         {
          "b": 0.3563119215657349,
          "m": 0.09319356414148694
         },
         {
          "b": 0.3563119215657349,
          "m": 0.3305100965243881
         },
         {
          "b": 0.3563119215657349,
          "m": -0.01486067475299957
         },
         {
          "b": 0.27431243683892403,
          "m": -0.01486067475299957
         },
         {
          "b": 0.27431243683892403,
          "m": -0.01486067475299957
         },
         {
          "b": 0.27431243683892403,
          "m": -0.01486067475299957
         },
         {
          "b": 0.27431243683892403,
          "m": -0.07612764311568809
         },
         {
          "b": 0.6117423331952987,
          "m": -0.07612764311568809
         },
         {
          "b": 0.6117423331952987,
          "m": -0.07612764311568809
         },
         {
          "b": 0.6117423331952987,
          "m": -0.07612764311568809
         },
         {
          "b": 0.6117423331952987,
          "m": -0.07612764311568809
         },
         {
          "b": 0.6225275243184114,
          "m": -0.07612764311568809
         },
         {
          "b": 0.14471431885333064,
          "m": -0.07612764311568809
         },
         {
          "b": 0.19786541429165427,
          "m": -0.07612764311568809
         },
         {
          "b": 0.19786541429165427,
          "m": -0.07612764311568809
         },
         {
          "b": 0.19786541429165427,
          "m": -0.07612764311568809
         },
         {
          "b": 0.19786541429165427,
          "m": -0.07612764311568809
         },
         {
          "b": 0.19786541429165427,
          "m": -0.11812995820600158
         },
         {
          "b": 0.19786541429165427,
          "m": -0.11812995820600158
         },
         {
          "b": 0.19786541429165427,
          "m": -0.11812995820600158
         },
         {
          "b": 0.13030205576706133,
          "m": -0.11812995820600158
         },
         {
          "b": 0.13030205576706133,
          "m": -0.11812995820600158
         },
         {
          "b": 0.13030205576706133,
          "m": -0.11812995820600158
         },
         {
          "b": 0.5074416408562461,
          "m": -0.11812995820600158
         },
         {
          "b": 0.15953432110445642,
          "m": -0.11812995820600158
         },
         {
          "b": 0.15953432110445642,
          "m": -0.11812995820600158
         },
         {
          "b": 0.15190367282081296,
          "m": -0.11812995820600158
         },
         {
          "b": 0.15190367282081296,
          "m": -0.11812995820600158
         },
         {
          "b": 0.15190367282081296,
          "m": -0.11812995820600158
         },
         {
          "b": 0.15190367282081296,
          "m": -0.11812995820600158
         },
         {
          "b": 0.5378508348188211,
          "m": -0.11812995820600158
         },
         {
          "b": 0.5378508348188211,
          "m": -0.11812995820600158
         },
         {
          "b": 0.5378508348188211,
          "m": -0.11812995820600158
         },
         {
          "b": 0.5378508348188211,
          "m": -0.11812995820600158
         },
         {
          "b": 0.9345796854937725,
          "m": -0.11812995820600158
         },
         {
          "b": 0.7422939870573628,
          "m": -0.11812995820600158
         },
         {
          "b": 0.7422939870573628,
          "m": 0.03120032293634778
         },
         {
          "b": 0.7422939870573628,
          "m": 0.63578140281548
         },
         {
          "b": 0.7422939870573628,
          "m": 0.63578140281548
         },
         {
          "b": 0.7422939870573628,
          "m": 0.63578140281548
         },
         {
          "b": 0.8821898351749737,
          "m": 0.63578140281548
         },
         {
          "b": 0.8821898351749737,
          "m": 0.63578140281548
         },
         {
          "b": 0.8821898351749737,
          "m": 0.63578140281548
         },
         {
          "b": 0.8821898351749737,
          "m": 0.63578140281548
         },
         {
          "b": 0.8821898351749737,
          "m": -0.3761015702973787
         },
         {
          "b": 0.8821898351749737,
          "m": -0.8323113095990531
         },
         {
          "b": 0.8821898351749737,
          "m": 0.3059227488710665
         },
         {
          "b": 0.8821898351749737,
          "m": 0.3059227488710665
         },
         {
          "b": 0.7062841511407949,
          "m": 0.3059227488710665
         },
         {
          "b": 0.3919096768993,
          "m": 0.3059227488710665
         },
         {
          "b": 0.3919096768993,
          "m": 0.3059227488710665
         },
         {
          "b": 0.3919096768993,
          "m": -0.23241134907340766
         },
         {
          "b": 0.5945167193434424,
          "m": -0.23241134907340766
         },
         {
          "b": 0.5945167193434424,
          "m": -0.25677968880748225
         },
         {
          "b": 0.5945167193434424,
          "m": -0.25677968880748225
         },
         {
          "b": 0.5945167193434424,
          "m": -0.25677968880748225
         },
         {
          "b": 0.5945167193434424,
          "m": 0.5434547088347463
         },
         {
          "b": 0.5945167193434424,
          "m": 0.5434547088347463
         },
         {
          "b": 0.5945167193434424,
          "m": 0.5434547088347463
         },
         {
          "b": 0.5945167193434424,
          "m": 0.5434547088347463
         },
         {
          "b": 0.5945167193434424,
          "m": 0.5434547088347463
         },
         {
          "b": 0.5945167193434424,
          "m": 0.5434547088347463
         },
         {
          "b": 0.5945167193434424,
          "m": 0.5434547088347463
         },
         {
          "b": 0.5945167193434424,
          "m": 0.5142259331840304
         },
         {
          "b": 0.5945167193434424,
          "m": 0.08086736376721437
         },
         {
          "b": 0.5945167193434424,
          "m": 0.08086736376721437
         },
         {
          "b": 0.5945167193434424,
          "m": 0.08086736376721437
         },
         {
          "b": 0.8141163596136132,
          "m": 0.08086736376721437
         },
         {
          "b": 0.3104545404081269,
          "m": 0.08086736376721437
         },
         {
          "b": 0.3104545404081269,
          "m": 0.08086736376721437
         },
         {
          "b": 0.648313380433992,
          "m": 0.08086736376721437
         },
         {
          "b": 0.648313380433992,
          "m": 0.47206423173842693
         },
         {
          "b": 0.648313380433992,
          "m": 0.47206423173842693
         },
         {
          "b": 0.648313380433992,
          "m": 0.47206423173842693
         },
         {
          "b": 0.648313380433992,
          "m": 0.47206423173842693
         },
         {
          "b": 0.7512531138321801,
          "m": 0.47206423173842693
         },
         {
          "b": 0.7512531138321801,
          "m": 0.47206423173842693
         },
         {
          "b": 0.7512531138321801,
          "m": 0.47206423173842693
         },
         {
          "b": 0.7512531138321801,
          "m": 0.47206423173842693
         },
         {
          "b": 0.7512531138321801,
          "m": 0.47206423173842693
         },
         {
          "b": 0.570909883081421,
          "m": 0.47206423173842693
         },
         {
          "b": 0.570909883081421,
          "m": -0.03334764850386729
         },
         {
          "b": 0.570909883081421,
          "m": -0.03334764850386729
         },
         {
          "b": 0.570909883081421,
          "m": -0.03334764850386729
         },
         {
          "b": 0.11457317271525524,
          "m": -0.03334764850386729
         },
         {
          "b": 0.11457317271525524,
          "m": -0.03334764850386729
         },
         {
          "b": 0.11457317271525524,
          "m": -0.03334764850386729
         },
         {
          "b": 0.11457317271525524,
          "m": -0.03334764850386729
         },
         {
          "b": 0.2272649131164337,
          "m": -0.03334764850386729
         },
         {
          "b": 0.2272649131164337,
          "m": -0.1620081695111264
         },
         {
          "b": 0.2272649131164337,
          "m": -0.1620081695111264
         },
         {
          "b": 0.2272649131164337,
          "m": -0.1620081695111264
         },
         {
          "b": 0.2272649131164337,
          "m": -0.1620081695111264
         },
         {
          "b": 0.2272649131164337,
          "m": 0.19368898229566445
         },
         {
          "b": 0.2272649131164337,
          "m": 0.19368898229566445
         },
         {
          "b": 0.27280494723805515,
          "m": 0.19368898229566445
         },
         {
          "b": 0.5228822348754274,
          "m": 0.19368898229566445
         },
         {
          "b": 0.767572573961689,
          "m": 0.19368898229566445
         },
         {
          "b": 0.767572573961689,
          "m": -0.004419443945015589
         },
         {
          "b": 0.767572573961689,
          "m": -0.5629171906823263
         },
         {
          "b": 0.767572573961689,
          "m": -0.5629171906823263
         },
         {
          "b": 0.767572573961689,
          "m": 0.25187589883896444
         },
         {
          "b": 0.767572573961689,
          "m": -0.5080534066622688
         },
         {
          "b": 0.767572573961689,
          "m": -0.5080534066622688
         },
         {
          "b": 0.767572573961689,
          "m": -0.5080534066622688
         },
         {
          "b": 0.767572573961689,
          "m": -0.5080534066622688
         },
         {
          "b": 0.767572573961689,
          "m": 0.529859969028436
         },
         {
          "b": 0.767572573961689,
          "m": 0.529859969028436
         },
         {
          "b": 0.767572573961689,
          "m": 0.529859969028436
         },
         {
          "b": 0.767572573961689,
          "m": 0.5649680328233686
         },
         {
          "b": 0.767572573961689,
          "m": 0.5649680328233686
         },
         {
          "b": 0.767572573961689,
          "m": 0.7215877631162433
         },
         {
          "b": 0.7609861170325034,
          "m": 0.7215877631162433
         },
         {
          "b": 0.7609861170325034,
          "m": -0.030513725304708528
         },
         {
          "b": 0.2545034498994865,
          "m": -0.030513725304708528
         },
         {
          "b": 0.2545034498994865,
          "m": -0.030513725304708528
         },
         {
          "b": 0.2545034498994865,
          "m": 0.18518219617130494
         },
         {
          "b": 0.2545034498994865,
          "m": 0.18518219617130494
         },
         {
          "b": 0.2545034498994865,
          "m": 0.18518219617130494
         },
         {
          "b": 0.2545034498994865,
          "m": 0.18518219617130494
         },
         {
          "b": 0.2545034498994865,
          "m": 0.18518219617130494
         },
         {
          "b": 0.2545034498994865,
          "m": 0.18518219617130494
         },
         {
          "b": 0.2545034498994865,
          "m": 0.18518219617130494
         },
         {
          "b": 0.9275070940024486,
          "m": 0.18518219617130494
         },
         {
          "b": 0.9275070940024486,
          "m": 0.18518219617130494
         },
         {
          "b": 0.35363975122558444,
          "m": 0.18518219617130494
         },
         {
          "b": 0.35363975122558444,
          "m": -0.27406269921338944
         },
         {
          "b": 0.35363975122558444,
          "m": -0.27406269921338944
         },
         {
          "b": 0.35363975122558444,
          "m": -0.0718458349993989
         },
         {
          "b": 0.7350159086427352,
          "m": -0.0718458349993989
         },
         {
          "b": 0.7350159086427352,
          "m": -0.0718458349993989
         },
         {
          "b": 0.8129243981091381,
          "m": -0.0718458349993989
         },
         {
          "b": 0.8129243981091381,
          "m": 0.2414088400540002
         },
         {
          "b": 0.8129243981091381,
          "m": 0.2414088400540002
         },
         {
          "b": 0.8129243981091381,
          "m": 0.6535642877550172
         },
         {
          "b": 0.8129243981091381,
          "m": 0.6535642877550172
         },
         {
          "b": 0.8129243981091381,
          "m": 0.6535642877550172
         },
         {
          "b": 0.8129243981091381,
          "m": 0.6535642877550172
         },
         {
          "b": 0.8129243981091381,
          "m": -0.7345304288640759
         },
         {
          "b": 0.8129243981091381,
          "m": -0.5789715448341559
         },
         {
          "b": 0.8129243981091381,
          "m": -0.5789715448341559
         },
         {
          "b": 0.8129243981091381,
          "m": -0.4575737399794415
         },
         {
          "b": 0.8129243981091381,
          "m": 0.38967875732733215
         },
         {
          "b": 0.8129243981091381,
          "m": 0.33811703421147343
         },
         {
          "b": 0.8129243981091381,
          "m": 0.33811703421147343
         },
         {
          "b": 0.3933123694369416,
          "m": 0.33811703421147343
         },
         {
          "b": 0.3933123694369416,
          "m": 0.33811703421147343
         },
         {
          "b": 0.3933123694369416,
          "m": 0.33811703421147343
         },
         {
          "b": 0.3933123694369416,
          "m": 0.33811703421147343
         },
         {
          "b": 0.3933123694369416,
          "m": 0.33811703421147343
         },
         {
          "b": 0.883194982093676,
          "m": 0.33811703421147343
         },
         {
          "b": 0.883194982093676,
          "m": -0.4418674491936889
         },
         {
          "b": 0.883194982093676,
          "m": -0.8644961142402743
         },
         {
          "b": 0.883194982093676,
          "m": -0.8644961142402743
         },
         {
          "b": 0.883194982093676,
          "m": -0.8644961142402743
         },
         {
          "b": 0.883194982093676,
          "m": -0.8644961142402743
         },
         {
          "b": 0.883194982093676,
          "m": 0.2656660411887055
         },
         {
          "b": 0.883194982093676,
          "m": 0.2656660411887055
         },
         {
          "b": 0.9209927950271701,
          "m": 0.2656660411887055
         },
         {
          "b": 0.9209927950271701,
          "m": 0.2656660411887055
         },
         {
          "b": 0.9209927950271701,
          "m": 0.2656660411887055
         },
         {
          "b": 0.9209927950271701,
          "m": 0.2656660411887055
         },
         {
          "b": 0.9209927950271701,
          "m": 0.3964022531185962
         },
         {
          "b": 0.718678348607724,
          "m": 0.3964022531185962
         },
         {
          "b": 0.5866982098344928,
          "m": 0.3964022531185962
         },
         {
          "b": 0.5866982098344928,
          "m": 0.3964022531185962
         },
         {
          "b": 0.5866982098344928,
          "m": 0.3964022531185962
         },
         {
          "b": 0.5866982098344928,
          "m": 0.3964022531185962
         },
         {
          "b": 0.5866982098344928,
          "m": 0.3964022531185962
         },
         {
          "b": 0.5866982098344928,
          "m": 0.3964022531185962
         },
         {
          "b": 0.5866982098344928,
          "m": 0.3964022531185962
         },
         {
          "b": 0.5866982098344928,
          "m": 0.3964022531185962
         },
         {
          "b": 0.5866982098344928,
          "m": 0.3964022531185962
         },
         {
          "b": 0.5866982098344928,
          "m": -0.4873191599016995
         },
         {
          "b": 0.5866982098344928,
          "m": -0.4873191599016995
         },
         {
          "b": 0.7508261355703019,
          "m": -0.4873191599016995
         },
         {
          "b": 0.7508261355703019,
          "m": -0.4873191599016995
         },
         {
          "b": 0.7508261355703019,
          "m": -0.4873191599016995
         },
         {
          "b": 0.7508261355703019,
          "m": -0.08377967210108417
         },
         {
          "b": 0.7508261355703019,
          "m": 0.46893405896010276
         },
         {
          "b": 0.7508261355703019,
          "m": 0.46893405896010276
         },
         {
          "b": 0.7508261355703019,
          "m": -0.7035057136194538
         },
         {
          "b": 0.7508261355703019,
          "m": -0.7035057136194538
         },
         {
          "b": 0.7508261355703019,
          "m": -0.7035057136194538
         },
         {
          "b": 0.7508261355703019,
          "m": -0.7035057136194538
         },
         {
          "b": 0.7508261355703019,
          "m": -0.7035057136194538
         },
         {
          "b": 0.7508261355703019,
          "m": -0.7035057136194538
         },
         {
          "b": 0.7508261355703019,
          "m": -0.7035057136194538
         },
         {
          "b": 0.7508261355703019,
          "m": -0.7035057136194538
         },
         {
          "b": 0.7508261355703019,
          "m": -0.7035057136194538
         },
         {
          "b": 0.7508261355703019,
          "m": -0.05890496087880481
         },
         {
          "b": 0.7508261355703019,
          "m": -0.05890496087880481
         },
         {
          "b": 0.7508261355703019,
          "m": -0.05890496087880481
         },
         {
          "b": 0.7508261355703019,
          "m": -0.05890496087880481
         },
         {
          "b": 0.7508261355703019,
          "m": 0.3145340981395781
         },
         {
          "b": 0.7508261355703019,
          "m": -0.1898372143094027
         },
         {
          "b": 0.7508261355703019,
          "m": -0.1898372143094027
         },
         {
          "b": 0.7508261355703019,
          "m": -0.1898372143094027
         },
         {
          "b": 0.7508261355703019,
          "m": 0.25105307559824275
         },
         {
          "b": 0.7508261355703019,
          "m": -0.3555170373273693
         },
         {
          "b": 0.49737471259626953,
          "m": -0.3555170373273693
         },
         {
          "b": 0.49737471259626953,
          "m": -0.3555170373273693
         },
         {
          "b": 0.49737471259626953,
          "m": 0.4020830491754406
         },
         {
          "b": 0.49737471259626953,
          "m": 0.4020830491754406
         },
         {
          "b": 0.49737471259626953,
          "m": 0.4020830491754406
         },
         {
          "b": 0.49737471259626953,
          "m": 0.4020830491754406
         },
         {
          "b": 0.49737471259626953,
          "m": 0.4020830491754406
         },
         {
          "b": 0.49737471259626953,
          "m": 0.4020830491754406
         },
         {
          "b": 0.49737471259626953,
          "m": 0.2900958131251856
         },
         {
          "b": 0.3048478351544397,
          "m": 0.2900958131251856
         },
         {
          "b": 0.3048478351544397,
          "m": 0.2900958131251856
         },
         {
          "b": 0.3048478351544397,
          "m": 0.2900958131251856
         },
         {
          "b": 0.9179542733710455,
          "m": 0.2900958131251856
         },
         {
          "b": 0.9179542733710455,
          "m": 0.3387623527144654
         },
         {
          "b": 0.9179542733710455,
          "m": -0.40954572441370485
         },
         {
          "b": 0.9179542733710455,
          "m": -0.5852814208894059
         },
         {
          "b": 0.9179542733710455,
          "m": 0.0648665363609171
         },
         {
          "b": 0.9179542733710455,
          "m": 0.0648665363609171
         },
         {
          "b": 0.9179542733710455,
          "m": 0.18494630368725296
         },
         {
          "b": 0.9179542733710455,
          "m": 0.7038899747948955
         },
         {
          "b": 0.9179542733710455,
          "m": 0.7038899747948955
         },
         {
          "b": 0.7824890622935101,
          "m": 0.7038899747948955
         },
         {
          "b": 0.7824890622935101,
          "m": 0.7038899747948955
         },
         {
          "b": 0.7824890622935101,
          "m": -0.42242959760588783
         },
         {
          "b": 0.7824890622935101,
          "m": -0.06300374324905067
         },
         {
          "b": 0.7824890622935101,
          "m": -0.6747176324685757
         },
         {
          "b": 0.7824890622935101,
          "m": -0.013811684212348796
         },
         {
          "b": 0.24937068884353297,
          "m": -0.013811684212348796
         },
         {
          "b": 0.24937068884353297,
          "m": -0.013811684212348796
         },
         {
          "b": 0.3666610313159755,
          "m": -0.013811684212348796
         },
         {
          "b": 0.3666610313159755,
          "m": -0.013811684212348796
         },
         {
          "b": 0.3666610313159755,
          "m": -0.013811684212348796
         },
         {
          "b": 0.3666610313159755,
          "m": -0.013811684212348796
         },
         {
          "b": 0.39494065500845843,
          "m": -0.013811684212348796
         },
         {
          "b": 0.39494065500845843,
          "m": 0.19236197908392794
         },
         {
          "b": 0.39494065500845843,
          "m": 0.19236197908392794
         },
         {
          "b": 0.39494065500845843,
          "m": 0.009949489787163701
         },
         {
          "b": 0.39494065500845843,
          "m": 0.009949489787163701
         },
         {
          "b": 0.39494065500845843,
          "m": 0.009949489787163701
         },
         {
          "b": 0.9724279328572158,
          "m": 0.009949489787163701
         },
         {
          "b": 0.9724279328572158,
          "m": -0.85785114827858
         },
         {
          "b": 0.9726079332613582,
          "m": -0.85785114827858
         },
         {
          "b": 0.9726079332613582,
          "m": -0.85785114827858
         },
         {
          "b": 0.9726079332613582,
          "m": -0.9093452592752331
         },
         {
          "b": 0.9726079332613582,
          "m": 0.7087391801406937
         },
         {
          "b": 0.9726079332613582,
          "m": -0.8524230819052658
         },
         {
          "b": 0.9726079332613582,
          "m": -0.20209950546395583
         },
         {
          "b": 0.9726079332613582,
          "m": -0.829784002782677
         },
         {
          "b": 0.9726079332613582,
          "m": -0.829784002782677
         },
         {
          "b": 0.9726079332613582,
          "m": -0.829784002782677
         },
         {
          "b": 0.9726079332613582,
          "m": -0.009707472439086873
         },
         {
          "b": 0.9726079332613582,
          "m": -0.009707472439086873
         },
         {
          "b": 0.9726079332613582,
          "m": -0.009707472439086873
         },
         {
          "b": 0.9726079332613582,
          "m": -0.009707472439086873
         },
         {
          "b": 0.28889476167060324,
          "m": -0.009707472439086873
         },
         {
          "b": 0.28889476167060324,
          "m": -0.009707472439086873
         },
         {
          "b": 0.28889476167060324,
          "m": -0.009707472439086873
         },
         {
          "b": 0.5662491550090654,
          "m": -0.009707472439086873
         },
         {
          "b": 0.9216550462517132,
          "m": -0.009707472439086873
         },
         {
          "b": 0.9216550462517132,
          "m": -0.36202725628009014
         },
         {
          "b": 0.9216550462517132,
          "m": -0.36202725628009014
         },
         {
          "b": 0.9216550462517132,
          "m": 0.8164297746705402
         },
         {
          "b": 0.9216550462517132,
          "m": -0.12326697683695298
         },
         {
          "b": 0.4971580694857869,
          "m": -0.12326697683695298
         },
         {
          "b": 0.4971580694857869,
          "m": -0.12326697683695298
         },
         {
          "b": 0.4971580694857869,
          "m": -0.12326697683695298
         },
         {
          "b": 0.4971580694857869,
          "m": 0.19794981765723452
         },
         {
          "b": 0.4971580694857869,
          "m": 0.19794981765723452
         },
         {
          "b": 0.4971580694857869,
          "m": 0.19794981765723452
         },
         {
          "b": 0.9884901419930807,
          "m": 0.19794981765723452
         },
         {
          "b": 0.9884901419930807,
          "m": 0.22888727192401137
         },
         {
          "b": 0.9884901419930807,
          "m": 0.22888727192401137
         },
         {
          "b": 0.5087600966954866,
          "m": 0.22888727192401137
         },
         {
          "b": 0.9645679287069113,
          "m": 0.22888727192401137
         },
         {
          "b": 0.9645679287069113,
          "m": 0.22888727192401137
         },
         {
          "b": 0.9645679287069113,
          "m": 0.22888727192401137
         },
         {
          "b": 0.9645679287069113,
          "m": 0.22888727192401137
         },
         {
          "b": 0.9645679287069113,
          "m": -0.09710615600196859
         },
         {
          "b": 0.9645679287069113,
          "m": -0.09710615600196859
         },
         {
          "b": 0.8434446611987199,
          "m": -0.09710615600196859
         },
         {
          "b": 0.8434446611987199,
          "m": -0.09710615600196859
         },
         {
          "b": 0.8434446611987199,
          "m": -0.09710615600196859
         },
         {
          "b": 0.24908287315993483,
          "m": -0.09710615600196859
         },
         {
          "b": 0.24908287315993483,
          "m": -0.09710615600196859
         },
         {
          "b": 0.43989448269747045,
          "m": -0.09710615600196859
         },
         {
          "b": 0.8725317252353826,
          "m": -0.09710615600196859
         },
         {
          "b": 0.8725317252353826,
          "m": -0.09710615600196859
         },
         {
          "b": 0.778831511452369,
          "m": -0.09710615600196859
         },
         {
          "b": 0.778831511452369,
          "m": -0.24882235823264875
         },
         {
          "b": 0.778831511452369,
          "m": -0.5413202925259462
         },
         {
          "b": 0.778831511452369,
          "m": -0.5413202925259462
         },
         {
          "b": 0.778831511452369,
          "m": -0.5413202925259462
         },
         {
          "b": 0.778831511452369,
          "m": -0.22622861119974114
         },
         {
          "b": 0.778831511452369,
          "m": -0.22622861119974114
         },
         {
          "b": 0.778831511452369,
          "m": -0.5825248296846344
         },
         {
          "b": 0.778831511452369,
          "m": -0.5825248296846344
         },
         {
          "b": 0.778831511452369,
          "m": -0.6332245688652944
         },
         {
          "b": 0.6881111681219811,
          "m": -0.6332245688652944
         },
         {
          "b": 0.6881111681219811,
          "m": -0.6047422236462012
         },
         {
          "b": 0.6881111681219811,
          "m": -0.6047422236462012
         },
         {
          "b": 0.6881111681219811,
          "m": -0.1260477404741709
         },
         {
          "b": 0.6881111681219811,
          "m": -0.1260477404741709
         },
         {
          "b": 0.6881111681219811,
          "m": -0.5902437321841056
         },
         {
          "b": 0.6881111681219811,
          "m": -0.5902437321841056
         },
         {
          "b": 0.6881111681219811,
          "m": -0.5902437321841056
         },
         {
          "b": 0.6881111681219811,
          "m": -0.5902437321841056
         },
         {
          "b": 0.6881111681219811,
          "m": -0.5902437321841056
         },
         {
          "b": 0.6881111681219811,
          "m": 0.31614855551843735
         },
         {
          "b": 0.6881111681219811,
          "m": 0.11852441333304786
         },
         {
          "b": 0.6525785135593567,
          "m": 0.11852441333304786
         },
         {
          "b": 0.6525785135593567,
          "m": -0.00941753362918818
         },
         {
          "b": 0.6525785135593567,
          "m": -0.00941753362918818
         },
         {
          "b": 0.2437838059095372,
          "m": -0.00941753362918818
         },
         {
          "b": 0.2437838059095372,
          "m": -0.00941753362918818
         },
         {
          "b": 0.30549528215236665,
          "m": -0.00941753362918818
         },
         {
          "b": 0.30549528215236665,
          "m": -0.00941753362918818
         },
         {
          "b": 0.30549528215236665,
          "m": -0.23351667102075813
         },
         {
          "b": 0.30549528215236665,
          "m": -0.23351667102075813
         },
         {
          "b": 0.696588218942823,
          "m": -0.23351667102075813
         },
         {
          "b": 0.696588218942823,
          "m": -0.23351667102075813
         },
         {
          "b": 0.696588218942823,
          "m": -0.23351667102075813
         },
         {
          "b": 0.696588218942823,
          "m": -0.23351667102075813
         },
         {
          "b": 0.696588218942823,
          "m": -0.23351667102075813
         },
         {
          "b": 0.696588218942823,
          "m": -0.23351667102075813
         },
         {
          "b": 0.696588218942823,
          "m": -0.23351667102075813
         },
         {
          "b": 0.4288021467165899,
          "m": -0.23351667102075813
         },
         {
          "b": 0.4288021467165899,
          "m": -0.23351667102075813
         },
         {
          "b": 0.4288021467165899,
          "m": 0.01354253555004159
         },
         {
          "b": 0.252581261658712,
          "m": 0.01354253555004159
         },
         {
          "b": 0.4213985719101869,
          "m": 0.01354253555004159
         },
         {
          "b": 0.4213985719101869,
          "m": 0.01354253555004159
         },
         {
          "b": 0.7329020057814513,
          "m": 0.01354253555004159
         },
         {
          "b": 0.7329020057814513,
          "m": 0.01354253555004159
         },
         {
          "b": 0.7329020057814513,
          "m": -0.46145600651655205
         },
         {
          "b": 0.7329020057814513,
          "m": -0.46145600651655205
         },
         {
          "b": 0.7329020057814513,
          "m": -0.46145600651655205
         },
         {
          "b": 0.7329020057814513,
          "m": -0.46145600651655205
         },
         {
          "b": 0.7329020057814513,
          "m": -0.46145600651655205
         },
         {
          "b": 0.7329020057814513,
          "m": -0.10053031076752483
         },
         {
          "b": 0.7329020057814513,
          "m": -0.10053031076752483
         },
         {
          "b": 0.7329020057814513,
          "m": -0.10053031076752483
         },
         {
          "b": 0.7329020057814513,
          "m": 0.10450695354867112
         },
         {
          "b": 0.7329020057814513,
          "m": 0.10450695354867112
         },
         {
          "b": 0.1984690898709951,
          "m": 0.10450695354867112
         },
         {
          "b": 0.9903023217288485,
          "m": 0.10450695354867112
         },
         {
          "b": 0.9903023217288485,
          "m": 0.10450695354867112
         },
         {
          "b": 0.9903023217288485,
          "m": -0.7623110322640676
         },
         {
          "b": 0.9903023217288485,
          "m": -0.7623110322640676
         },
         {
          "b": 0.9903023217288485,
          "m": -0.7623110322640676
         },
         {
          "b": 0.9903023217288485,
          "m": -0.7623110322640676
         },
         {
          "b": 0.9903023217288485,
          "m": -0.9089404181417724
         },
         {
          "b": 0.9903023217288485,
          "m": -0.9089404181417724
         },
         {
          "b": 0.9903023217288485,
          "m": -0.8080293524294475
         },
         {
          "b": 0.9903023217288485,
          "m": -0.09470704608355551
         },
         {
          "b": 0.9903023217288485,
          "m": -0.09470704608355551
         },
         {
          "b": 0.532941278612183,
          "m": -0.09470704608355551
         },
         {
          "b": 0.532941278612183,
          "m": -0.09470704608355551
         },
         {
          "b": 0.532941278612183,
          "m": -0.06385152760002888
         },
         {
          "b": 0.532941278612183,
          "m": -0.06385152760002888
         },
         {
          "b": 0.3047832213868087,
          "m": -0.06385152760002888
         },
         {
          "b": 0.3047832213868087,
          "m": -0.06385152760002888
         },
         {
          "b": 0.3047832213868087,
          "m": -0.06385152760002888
         },
         {
          "b": 0.3047832213868087,
          "m": -0.06385152760002888
         },
         {
          "b": 0.22406271291198343,
          "m": -0.06385152760002888
         },
         {
          "b": 0.9250563317588927,
          "m": -0.06385152760002888
         },
         {
          "b": 0.9250563317588927,
          "m": 0.21616761047779076
         },
         {
          "b": 0.9250563317588927,
          "m": 0.21616761047779076
         },
         {
          "b": 0.9250563317588927,
          "m": 0.5216820986497914
         },
         {
          "b": 0.9250563317588927,
          "m": 0.1794803267312861
         },
         {
          "b": 0.9250563317588927,
          "m": 0.1794803267312861
         },
         {
          "b": 0.9250563317588927,
          "m": 0.46059159985298037
         },
         {
          "b": 0.9250563317588927,
          "m": -0.1067861443693714
         },
         {
          "b": 0.9250563317588927,
          "m": 0.7909952030467811
         },
         {
          "b": 0.9250563317588927,
          "m": -0.134303092847875
         },
         {
          "b": 0.9250563317588927,
          "m": -0.10033823518461671
         },
         {
          "b": 0.9250563317588927,
          "m": 0.22933158565469225
         },
         {
          "b": 0.403219158512796,
          "m": 0.22933158565469225
         },
         {
          "b": 0.403219158512796,
          "m": 0.1278737455963197
         },
         {
          "b": 0.403219158512796,
          "m": -0.3554542997622001
         },
         {
          "b": 0.403219158512796,
          "m": -0.3554542997622001
         },
         {
          "b": 0.403219158512796,
          "m": -0.07429860029011492
         },
         {
          "b": 0.770880338509605,
          "m": -0.07429860029011492
         },
         {
          "b": 0.770880338509605,
          "m": 0.09925308738398075
         },
         {
          "b": 0.770880338509605,
          "m": 0.053685722888350496
         },
         {
          "b": 0.770880338509605,
          "m": 0.053685722888350496
         },
         {
          "b": 0.8853104260207096,
          "m": 0.053685722888350496
         },
         {
          "b": 0.8853104260207096,
          "m": 0.08386264686703693
         },
         {
          "b": 0.8853104260207096,
          "m": -0.8424286612470551
         },
         {
          "b": 0.8853104260207096,
          "m": 0.16871379574098833
         },
         {
          "b": 0.2968672354239603,
          "m": 0.16871379574098833
         },
         {
          "b": 0.2968672354239603,
          "m": 0.16871379574098833
         },
         {
          "b": 0.2968672354239603,
          "m": 0.16871379574098833
         },
         {
          "b": 0.2968672354239603,
          "m": 0.16871379574098833
         },
         {
          "b": 0.2968672354239603,
          "m": -0.271166298620108
         },
         {
          "b": 0.2968672354239603,
          "m": -0.0017289032335738863
         },
         {
          "b": 0.4387823531635504,
          "m": -0.0017289032335738863
         },
         {
          "b": 0.4387823531635504,
          "m": -0.0017289032335738863
         },
         {
          "b": 0.4387823531635504,
          "m": -0.0017289032335738863
         },
         {
          "b": 0.4387823531635504,
          "m": -0.0017289032335738863
         },
         {
          "b": 0.4387823531635504,
          "m": -0.0017289032335738863
         },
         {
          "b": 0.4387823531635504,
          "m": 0.24338381836373446
         },
         {
          "b": 0.4387823531635504,
          "m": -0.36787280986239623
         },
         {
          "b": 0.8527712954772106,
          "m": -0.36787280986239623
         },
         {
          "b": 0.696821298762458,
          "m": -0.36787280986239623
         },
         {
          "b": 0.696821298762458,
          "m": 0.25911371404348693
         },
         {
          "b": 0.696821298762458,
          "m": 0.25911371404348693
         },
         {
          "b": 0.696821298762458,
          "m": 0.10046547605626333
         },
         {
          "b": 0.696821298762458,
          "m": 0.10046547605626333
         },
         {
          "b": 0.696821298762458,
          "m": 0.23338991586194102
         },
         {
          "b": 0.747484729481968,
          "m": 0.23338991586194102
         },
         {
          "b": 0.747484729481968,
          "m": -0.37446314649879553
         },
         {
          "b": 0.747484729481968,
          "m": -0.37446314649879553
         },
         {
          "b": 0.747484729481968,
          "m": -0.4174035605656592
         },
         {
          "b": 0.747484729481968,
          "m": -0.06780372933813195
         },
         {
          "b": 0.747484729481968,
          "m": -0.06780372933813195
         },
         {
          "b": 0.747484729481968,
          "m": -0.44710193507710083
         },
         {
          "b": 0.747484729481968,
          "m": -0.44710193507710083
         },
         {
          "b": 0.747484729481968,
          "m": -0.44710193507710083
         },
         {
          "b": 0.747484729481968,
          "m": 0.5108845112571274
         },
         {
          "b": 0.747484729481968,
          "m": 0.5309908628880675
         },
         {
          "b": 0.747484729481968,
          "m": 0.5309908628880675
         },
         {
          "b": 0.6057963576318584,
          "m": 0.5309908628880675
         },
         {
          "b": 0.6057963576318584,
          "m": 0.5309908628880675
         },
         {
          "b": 0.6057963576318584,
          "m": 0.2227798943126087
         },
         {
          "b": 0.6057963576318584,
          "m": 0.2227798943126087
         },
         {
          "b": 0.6057963576318584,
          "m": -0.29467635563005357
         },
         {
          "b": 0.6057963576318584,
          "m": -0.12829353651294295
         },
         {
          "b": 0.6057963576318584,
          "m": -0.12829353651294295
         },
         {
          "b": 0.28675530543242966,
          "m": -0.12829353651294295
         },
         {
          "b": 0.28675530543242966,
          "m": 0.2634711188999017
         },
         {
          "b": 0.28675530543242966,
          "m": 0.2634711188999017
         },
         {
          "b": 0.28675530543242966,
          "m": 0.16712671433077797
         },
         {
          "b": 0.28675530543242966,
          "m": 0.16712671433077797
         },
         {
          "b": 0.28675530543242966,
          "m": 0.16712671433077797
         },
         {
          "b": 0.28675530543242966,
          "m": 0.16712671433077797
         },
         {
          "b": 0.28675530543242966,
          "m": 0.16712671433077797
         },
         {
          "b": 0.28675530543242966,
          "m": 0.16712671433077797
         },
         {
          "b": 0.28675530543242966,
          "m": -0.1185826620714614
         },
         {
          "b": 0.28675530543242966,
          "m": -0.1185826620714614
         },
         {
          "b": 0.28675530543242966,
          "m": -0.1185826620714614
         },
         {
          "b": 0.28675530543242966,
          "m": -0.1185826620714614
         },
         {
          "b": 0.28675530543242966,
          "m": -0.1185826620714614
         },
         {
          "b": 0.28675530543242966,
          "m": 0.19176528808712612
         },
         {
          "b": 0.28675530543242966,
          "m": 0.19176528808712612
         },
         {
          "b": 0.28675530543242966,
          "m": 0.19176528808712612
         },
         {
          "b": 0.28675530543242966,
          "m": 0.19176528808712612
         },
         {
          "b": 0.28675530543242966,
          "m": -0.05329046082941713
         },
         {
          "b": 0.6294613735049366,
          "m": -0.05329046082941713
         },
         {
          "b": 0.4559806049405568,
          "m": -0.05329046082941713
         },
         {
          "b": 0.4559806049405568,
          "m": -0.05329046082941713
         },
         {
          "b": 0.4559806049405568,
          "m": -0.09366494623268085
         },
         {
          "b": 0.8673935133206798,
          "m": -0.09366494623268085
         },
         {
          "b": 0.5817064652416526,
          "m": -0.09366494623268085
         },
         {
          "b": 0.5817064652416526,
          "m": -0.0358306091625773
         },
         {
          "b": 0.23304658815232426,
          "m": -0.0358306091625773
         },
         {
          "b": 0.23304658815232426,
          "m": -0.0358306091625773
         },
         {
          "b": 0.2112298468975251,
          "m": -0.0358306091625773
         },
         {
          "b": 0.2112298468975251,
          "m": -0.0358306091625773
         },
         {
          "b": 0.2112298468975251,
          "m": -0.0358306091625773
         },
         {
          "b": 0.2112298468975251,
          "m": 0.07055218993241863
         },
         {
          "b": 0.2112298468975251,
          "m": 0.07055218993241863
         },
         {
          "b": 0.2112298468975251,
          "m": 0.07055218993241863
         },
         {
          "b": 0.5228681968987308,
          "m": 0.07055218993241863
         },
         {
          "b": 0.5228681968987308,
          "m": 0.07055218993241863
         },
         {
          "b": 0.5228681968987308,
          "m": 0.18384005810138704
         },
         {
          "b": 0.5228681968987308,
          "m": 0.18384005810138704
         },
         {
          "b": 0.5228681968987308,
          "m": 0.18384005810138704
         },
         {
          "b": 0.5228681968987308,
          "m": -0.34837649637108137
         },
         {
          "b": 0.47725209970026605,
          "m": -0.34837649637108137
         },
         {
          "b": 0.47725209970026605,
          "m": -0.2550470311564974
         },
         {
          "b": 0.47725209970026605,
          "m": -0.2550470311564974
         },
         {
          "b": 0.47725209970026605,
          "m": 0.4615942595123872
         },
         {
          "b": 0.47725209970026605,
          "m": -0.04951973562847711
         },
         {
          "b": 0.8381954767430393,
          "m": -0.04951973562847711
         },
         {
          "b": 0.8381954767430393,
          "m": -0.2971022897973328
         },
         {
          "b": 0.8677613032071638,
          "m": -0.2971022897973328
         },
         {
          "b": 0.8677613032071638,
          "m": -0.2971022897973328
         },
         {
          "b": 0.8677613032071638,
          "m": 0.09554819123157743
         },
         {
          "b": 0.8677613032071638,
          "m": -0.20569505135014876
         },
         {
          "b": 0.8677613032071638,
          "m": -0.20569505135014876
         },
         {
          "b": 0.8677613032071638,
          "m": -0.7524505800989199
         },
         {
          "b": 0.8677613032071638,
          "m": -0.5268236125604526
         },
         {
          "b": 0.9180544926099146,
          "m": -0.5268236125604526
         },
         {
          "b": 0.9180544926099146,
          "m": 0.039193528309852566
         },
         {
          "b": 0.9180544926099146,
          "m": 0.039193528309852566
         },
         {
          "b": 0.9180544926099146,
          "m": 0.039193528309852566
         },
         {
          "b": 0.9180544926099146,
          "m": 0.039193528309852566
         },
         {
          "b": 0.07424160723704198,
          "m": 0.039193528309852566
         },
         {
          "b": 0.2308453957046479,
          "m": 0.039193528309852566
         },
         {
          "b": 0.04668802085861823,
          "m": 0.039193528309852566
         },
         {
          "b": 0.04668802085861823,
          "m": 0.039193528309852566
         },
         {
          "b": 0.04668802085861823,
          "m": 0.039193528309852566
         },
         {
          "b": 0.04668802085861823,
          "m": 0.039193528309852566
         },
         {
          "b": 0.04668802085861823,
          "m": 0.039193528309852566
         },
         {
          "b": 0.04668802085861823,
          "m": 0.039193528309852566
         },
         {
          "b": 0.097509498701011,
          "m": 0.039193528309852566
         },
         {
          "b": 0.46171810761818066,
          "m": 0.039193528309852566
         },
         {
          "b": 0.46171810761818066,
          "m": 0.039193528309852566
         },
         {
          "b": 0.46171810761818066,
          "m": 0.3965436706927872
         },
         {
          "b": 0.46171810761818066,
          "m": 0.3965436706927872
         },
         {
          "b": 0.46171810761818066,
          "m": 0.3965436706927872
         },
         {
          "b": 0.46171810761818066,
          "m": 0.3965436706927872
         },
         {
          "b": 0.46171810761818066,
          "m": 0.3965436706927872
         },
         {
          "b": 0.46171810761818066,
          "m": 0.3965436706927872
         },
         {
          "b": 0.46171810761818066,
          "m": 0.3965436706927872
         },
         {
          "b": 0.46171810761818066,
          "m": 0.3965436706927872
         },
         {
          "b": 0.623088133585332,
          "m": 0.3965436706927872
         },
         {
          "b": 0.623088133585332,
          "m": 0.3965436706927872
         },
         {
          "b": 0.623088133585332,
          "m": 0.3965436706927872
         },
         {
          "b": 0.7674289856450709,
          "m": 0.3965436706927872
         },
         {
          "b": 0.7674289856450709,
          "m": -0.30227521630503795
         },
         {
          "b": 0.7674289856450709,
          "m": 0.37499715056044924
         },
         {
          "b": 0.7674289856450709,
          "m": -0.08970762656780518
         },
         {
          "b": 0.29238544161009616,
          "m": -0.08970762656780518
         },
         {
          "b": 0.29238544161009616,
          "m": -0.08970762656780518
         },
         {
          "b": 0.29238544161009616,
          "m": -0.08970762656780518
         },
         {
          "b": 0.29238544161009616,
          "m": -0.08970762656780518
         },
         {
          "b": 0.29238544161009616,
          "m": -0.08970762656780518
         },
         {
          "b": 0.29238544161009616,
          "m": -0.08970762656780518
         },
         {
          "b": 0.9716683962160293,
          "m": -0.08970762656780518
         },
         {
          "b": 0.9716683962160293,
          "m": -0.7648860876552079
         },
         {
          "b": 0.9716683962160293,
          "m": -0.7648860876552079
         },
         {
          "b": 0.9716683962160293,
          "m": -0.04396608505072508
         },
         {
          "b": 0.9716683962160293,
          "m": -0.04396608505072508
         },
         {
          "b": 0.9716683962160293,
          "m": -0.04396608505072508
         },
         {
          "b": 0.9716683962160293,
          "m": -0.2567091916973083
         },
         {
          "b": 0.5213190948081163,
          "m": -0.2567091916973083
         },
         {
          "b": 0.5213190948081163,
          "m": 0.05718885765701853
         },
         {
          "b": 0.5213190948081163,
          "m": 0.3569215879141787
         },
         {
          "b": 0.41276486084186437,
          "m": 0.3569215879141787
         },
         {
          "b": 0.41276486084186437,
          "m": -0.34905879243538185
         },
         {
          "b": 0.41276486084186437,
          "m": 0.3313409903834337
         },
         {
          "b": 0.41276486084186437,
          "m": 0.3313409903834337
         },
         {
          "b": 0.41276486084186437,
          "m": 0.3313409903834337
         },
         {
          "b": 0.41276486084186437,
          "m": 0.35051963851204637
         },
         {
          "b": 0.41276486084186437,
          "m": 0.35051963851204637
         },
         {
          "b": 0.41276486084186437,
          "m": 0.35051963851204637
         },
         {
          "b": 0.41276486084186437,
          "m": 0.35051963851204637
         },
         {
          "b": 0.41276486084186437,
          "m": 0.35051963851204637
         },
         {
          "b": 0.41276486084186437,
          "m": 0.35051963851204637
         },
         {
          "b": 0.41276486084186437,
          "m": -0.20545141250262433
         },
         {
          "b": 0.41276486084186437,
          "m": -0.20545141250262433
         },
         {
          "b": 0.41276486084186437,
          "m": -0.20545141250262433
         },
         {
          "b": 0.41276486084186437,
          "m": -0.20545141250262433
         },
         {
          "b": 0.3898769132085398,
          "m": -0.20545141250262433
         },
         {
          "b": 0.9046331220205552,
          "m": -0.20545141250262433
         },
         {
          "b": 0.9046331220205552,
          "m": -0.17634558802662093
         },
         {
          "b": 0.8510693713067929,
          "m": -0.17634558802662093
         },
         {
          "b": 0.8510693713067929,
          "m": 0.7488403125842853
         },
         {
          "b": 0.8510693713067929,
          "m": -0.4429523928985353
         },
         {
          "b": 0.8510693713067929,
          "m": -0.4429523928985353
         },
         {
          "b": 0.7863919879422816,
          "m": -0.4429523928985353
         },
         {
          "b": 0.7877701211031798,
          "m": -0.4429523928985353
         },
         {
          "b": 0.7877701211031798,
          "m": -0.4429523928985353
         },
         {
          "b": 0.7877701211031798,
          "m": -0.4429523928985353
         },
         {
          "b": 0.7877701211031798,
          "m": -0.4429523928985353
         },
         {
          "b": 0.7877701211031798,
          "m": -0.4429523928985353
         },
         {
          "b": 0.7877701211031798,
          "m": 0.6728002348697604
         },
         {
          "b": 0.7877701211031798,
          "m": 0.6728002348697604
         },
         {
          "b": 0.7877701211031798,
          "m": -0.23056543686835806
         },
         {
          "b": 0.7877701211031798,
          "m": -0.23056543686835806
         },
         {
          "b": 0.7877701211031798,
          "m": -0.7731172811815299
         },
         {
          "b": 0.7877701211031798,
          "m": -0.21103494091485087
         },
         {
          "b": 0.7877701211031798,
          "m": -0.21103494091485087
         },
         {
          "b": 0.7877701211031798,
          "m": -0.21103494091485087
         },
         {
          "b": 0.7877701211031798,
          "m": 0.16265045696857183
         },
         {
          "b": 0.3125148941074978,
          "m": 0.16265045696857183
         },
         {
          "b": 0.3125148941074978,
          "m": 0.16265045696857183
         },
         {
          "b": 0.3125148941074978,
          "m": 0.16265045696857183
         },
         {
          "b": 0.3125148941074978,
          "m": 0.16265045696857183
         },
         {
          "b": 0.3125148941074978,
          "m": 0.16265045696857183
         },
         {
          "b": 0.30697729651072403,
          "m": 0.16265045696857183
         },
         {
          "b": 0.30697729651072403,
          "m": 0.16265045696857183
         },
         {
          "b": 0.17464823617082348,
          "m": 0.16265045696857183
         },
         {
          "b": 0.17464823617082348,
          "m": 0.16265045696857183
         },
         {
          "b": 0.9014984450497876,
          "m": 0.16265045696857183
         },
         {
          "b": 0.9014984450497876,
          "m": 0.02348143050665441
         },
         {
          "b": 0.08606960111580553,
          "m": 0.02348143050665441
         },
         {
          "b": 0.3851704587895577,
          "m": 0.02348143050665441
         },
         {
          "b": 0.3851704587895577,
          "m": 0.02348143050665441
         },
         {
          "b": 0.3851704587895577,
          "m": 0.02348143050665441
         },
         {
          "b": 0.3851704587895577,
          "m": 0.02348143050665441
         },
         {
          "b": 0.2378605915448928,
          "m": 0.02348143050665441
         },
         {
          "b": 0.2378605915448928,
          "m": 0.02348143050665441
         },
         {
          "b": 0.1395954454079733,
          "m": 0.02348143050665441
         },
         {
          "b": 0.1395954454079733,
          "m": 0.12088527634299795
         },
         {
          "b": 0.1395954454079733,
          "m": 0.12088527634299795
         },
         {
          "b": 0.1395954454079733,
          "m": 0.12088527634299795
         },
         {
          "b": 0.20066527394163391,
          "m": 0.12088527634299795
         },
         {
          "b": 0.20066527394163391,
          "m": 0.12088527634299795
         },
         {
          "b": 0.4769744238256928,
          "m": 0.12088527634299795
         },
         {
          "b": 0.4769744238256928,
          "m": 0.12088527634299795
         },
         {
          "b": 0.4769744238256928,
          "m": -0.00859070208270718
         },
         {
          "b": 0.4769744238256928,
          "m": -0.4371295754843636
         },
         {
          "b": 0.7659004244159167,
          "m": -0.4371295754843636
         },
         {
          "b": 0.7659004244159167,
          "m": -0.4371295754843636
         },
         {
          "b": 0.7659004244159167,
          "m": -0.4371295754843636
         },
         {
          "b": 0.9622800785361905,
          "m": -0.4371295754843636
         },
         {
          "b": 0.9622800785361905,
          "m": -0.4371295754843636
         },
         {
          "b": 0.9622800785361905,
          "m": -0.4371295754843636
         },
         {
          "b": 0.9622800785361905,
          "m": -0.4371295754843636
         },
         {
          "b": 0.9622800785361905,
          "m": -0.4371295754843636
         },
         {
          "b": 0.7714584107373279,
          "m": -0.4371295754843636
         },
         {
          "b": 0.7714584107373279,
          "m": -0.4371295754843636
         },
         {
          "b": 0.4798092553744493,
          "m": -0.4371295754843636
         },
         {
          "b": 0.4798092553744493,
          "m": -0.4371295754843636
         },
         {
          "b": 0.4798092553744493,
          "m": -0.4371295754843636
         },
         {
          "b": 0.4798092553744493,
          "m": -0.4371295754843636
         },
         {
          "b": 0.4798092553744493,
          "m": -0.4371295754843636
         },
         {
          "b": 0.4798092553744493,
          "m": -0.4371295754843636
         },
         {
          "b": 0.4798092553744493,
          "m": -0.4371295754843636
         },
         {
          "b": 0.4798092553744493,
          "m": -0.4371295754843636
         },
         {
          "b": 0.4798092553744493,
          "m": -0.4371295754843636
         },
         {
          "b": 0.4798092553744493,
          "m": -0.4371295754843636
         },
         {
          "b": 0.4798092553744493,
          "m": -0.4371295754843636
         },
         {
          "b": 0.4798092553744493,
          "m": -0.4371295754843636
         },
         {
          "b": 0.4798092553744493,
          "m": 0.004819904282632903
         },
         {
          "b": 0.5508323890388038,
          "m": 0.004819904282632903
         },
         {
          "b": 0.5508323890388038,
          "m": 0.004819904282632903
         },
         {
          "b": 0.5508323890388038,
          "m": 0.004819904282632903
         },
         {
          "b": 0.8642772204418818,
          "m": 0.004819904282632903
         },
         {
          "b": 0.6959788558658355,
          "m": 0.004819904282632903
         },
         {
          "b": 0.6959788558658355,
          "m": 0.004819904282632903
         },
         {
          "b": 0.6959788558658355,
          "m": 0.004819904282632903
         },
         {
          "b": 0.6959788558658355,
          "m": 0.40798111212173427
         },
         {
          "b": 0.6959788558658355,
          "m": 0.40798111212173427
         },
         {
          "b": 0.6959788558658355,
          "m": 0.40798111212173427
         },
         {
          "b": 0.977299322845947,
          "m": 0.40798111212173427
         },
         {
          "b": 0.977299322845947,
          "m": 0.723819068115535
         },
         {
          "b": 0.7653661748539762,
          "m": 0.723819068115535
         },
         {
          "b": 0.7653661748539762,
          "m": 0.723819068115535
         },
         {
          "b": 0.7653661748539762,
          "m": -0.27786979748311924
         },
         {
          "b": 0.6295835313532161,
          "m": -0.27786979748311924
         },
         {
          "b": 0.3121968595874247,
          "m": -0.27786979748311924
         },
         {
          "b": 0.3121968595874247,
          "m": -0.27786979748311924
         },
         {
          "b": 0.3121968595874247,
          "m": -0.27786979748311924
         },
         {
          "b": 0.6265814715858762,
          "m": -0.27786979748311924
         },
         {
          "b": 0.5455176252587661,
          "m": -0.27786979748311924
         },
         {
          "b": 0.5455176252587661,
          "m": -0.2772732194509946
         },
         {
          "b": 0.5455176252587661,
          "m": -0.2772732194509946
         },
         {
          "b": 0.8792077511814738,
          "m": -0.2772732194509946
         },
         {
          "b": 0.8792077511814738,
          "m": -0.2772732194509946
         },
         {
          "b": 0.8792077511814738,
          "m": 0.152406038203712
         },
         {
          "b": 0.8792077511814738,
          "m": 0.152406038203712
         },
         {
          "b": 0.8792077511814738,
          "m": 0.7505412105694431
         },
         {
          "b": 0.8792077511814738,
          "m": 0.4556307473150565
         },
         {
          "b": 0.8792077511814738,
          "m": -0.0513260028341016
         },
         {
          "b": 0.8792077511814738,
          "m": -0.6396314824422038
         },
         {
          "b": 0.8792077511814738,
          "m": -0.6396314824422038
         },
         {
          "b": 0.8792077511814738,
          "m": -0.8395744793634206
         },
         {
          "b": 0.8792077511814738,
          "m": -0.3948216919730452
         },
         {
          "b": 0.8792077511814738,
          "m": 0.5882106805322802
         },
         {
          "b": 0.8792077511814738,
          "m": -0.7453490515725358
         },
         {
          "b": 0.8792077511814738,
          "m": 0.48568893067794305
         },
         {
          "b": 0.8792077511814738,
          "m": 0.6387908285002426
         },
         {
          "b": 0.8792077511814738,
          "m": 0.6387908285002426
         },
         {
          "b": 0.8792077511814738,
          "m": -0.04745731759326044
         },
         {
          "b": 0.8792077511814738,
          "m": -0.04745731759326044
         },
         {
          "b": 0.8792077511814738,
          "m": 0.010171181800797457
         },
         {
          "b": 0.8792077511814738,
          "m": -0.25021978781710774
         },
         {
          "b": 0.8792077511814738,
          "m": -0.25021978781710774
         },
         {
          "b": 0.8792077511814738,
          "m": -0.25021978781710774
         },
         {
          "b": 0.8792077511814738,
          "m": -0.25021978781710774
         },
         {
          "b": 0.8792077511814738,
          "m": -0.1727496375066495
         },
         {
          "b": 0.8792077511814738,
          "m": -0.1727496375066495
         },
         {
          "b": 0.8792077511814738,
          "m": -0.1727496375066495
         },
         {
          "b": 0.8792077511814738,
          "m": -0.1727496375066495
         },
         {
          "b": 0.8792077511814738,
          "m": 0.6457946310343619
         },
         {
          "b": 0.8792077511814738,
          "m": 0.6457946310343619
         },
         {
          "b": 0.8792077511814738,
          "m": 0.757069756223961
         },
         {
          "b": 0.8792077511814738,
          "m": 0.757069756223961
         },
         {
          "b": 0.8792077511814738,
          "m": -0.37512049510625833
         },
         {
          "b": 0.8792077511814738,
          "m": 0.1652028789581197
         },
         {
          "b": 0.8792077511814738,
          "m": 0.1652028789581197
         },
         {
          "b": 0.8792077511814738,
          "m": 0.012569488953364294
         },
         {
          "b": 0.8792077511814738,
          "m": -0.3583915267060982
         },
         {
          "b": 0.8792077511814738,
          "m": -0.3583915267060982
         },
         {
          "b": 0.8792077511814738,
          "m": -0.3583915267060982
         },
         {
          "b": 0.8792077511814738,
          "m": -0.3583915267060982
         },
         {
          "b": 0.8792077511814738,
          "m": 0.3690557369009071
         },
         {
          "b": 0.8792077511814738,
          "m": 0.3690557369009071
         },
         {
          "b": 0.8792077511814738,
          "m": 0.3690557369009071
         },
         {
          "b": 0.8792077511814738,
          "m": -0.06156435466436583
         },
         {
          "b": 0.8792077511814738,
          "m": 0.07461578072062536
         },
         {
          "b": 0.16794130264779183,
          "m": 0.07461578072062536
         },
         {
          "b": 0.2836314840315175,
          "m": 0.07461578072062536
         },
         {
          "b": 0.9462462133511658,
          "m": 0.07461578072062536
         },
         {
          "b": 0.9462462133511658,
          "m": -0.36022326108862024
         },
         {
          "b": 0.9462462133511658,
          "m": -0.2170758127609822
         },
         {
          "b": 0.9462462133511658,
          "m": -0.2170758127609822
         },
         {
          "b": 0.8014540947587754,
          "m": -0.2170758127609822
         },
         {
          "b": 0.8014540947587754,
          "m": -0.509194163898641
         },
         {
          "b": 0.8014540947587754,
          "m": -0.509194163898641
         },
         {
          "b": 0.8014540947587754,
          "m": -0.509194163898641
         },
         {
          "b": 0.8014540947587754,
          "m": -0.021747874506075737
         },
         {
          "b": 0.8014540947587754,
          "m": -0.021747874506075737
         },
         {
          "b": 0.9369511687413803,
          "m": -0.021747874506075737
         },
         {
          "b": 0.5793735357377419,
          "m": -0.021747874506075737
         },
         {
          "b": 0.5793735357377419,
          "m": -0.021747874506075737
         },
         {
          "b": 0.5793735357377419,
          "m": -0.021747874506075737
         },
         {
          "b": 0.5793735357377419,
          "m": -0.021747874506075737
         },
         {
          "b": 0.5793735357377419,
          "m": 0.3396456534058705
         },
         {
          "b": 0.5793735357377419,
          "m": 0.3396456534058705
         },
         {
          "b": 0.5793735357377419,
          "m": 0.3396456534058705
         },
         {
          "b": 0.5793735357377419,
          "m": 0.3396456534058705
         },
         {
          "b": 0.7264285951723226,
          "m": 0.3396456534058705
         },
         {
          "b": 0.7264285951723226,
          "m": 0.446111460242699
         },
         {
          "b": 0.7264285951723226,
          "m": 0.28923242678328065
         },
         {
          "b": 0.7264285951723226,
          "m": -0.26659466527853204
         },
         {
          "b": 0.7264285951723226,
          "m": -0.26659466527853204
         },
         {
          "b": 0.7264285951723226,
          "m": 0.30860479567301247
         },
         {
          "b": 0.7264285951723226,
          "m": -0.6876673206356305
         },
         {
          "b": 0.7264285951723226,
          "m": -0.6876673206356305
         },
         {
          "b": 0.7264285951723226,
          "m": -0.6876673206356305
         },
         {
          "b": 0.7264285951723226,
          "m": 0.06972736464255269
         },
         {
          "b": 0.7264285951723226,
          "m": 0.06972736464255269
         },
         {
          "b": 0.7264285951723226,
          "m": 0.06972736464255269
         },
         {
          "b": 0.7264285951723226,
          "m": -0.5465134310110538
         },
         {
          "b": 0.7264285951723226,
          "m": -0.3942778367659934
         },
         {
          "b": 0.7264285951723226,
          "m": -0.3942778367659934
         },
         {
          "b": 0.7264285951723226,
          "m": -0.3125027057085059
         },
         {
          "b": 0.7264285951723226,
          "m": -0.3125027057085059
         },
         {
          "b": 0.6866904668059564,
          "m": -0.3125027057085059
         },
         {
          "b": 0.6866904668059564,
          "m": 0.6250638641949477
         },
         {
          "b": 0.6866904668059564,
          "m": 0.6250638641949477
         },
         {
          "b": 0.6866904668059564,
          "m": 0.6250638641949477
         },
         {
          "b": 0.6866904668059564,
          "m": 0.4276378276728352
         },
         {
          "b": 0.6866904668059564,
          "m": 0.4276378276728352
         },
         {
          "b": 0.6866904668059564,
          "m": 0.3410504241767496
         },
         {
          "b": 0.809583461444692,
          "m": 0.3410504241767496
         },
         {
          "b": 0.809583461444692,
          "m": -0.7347669267769141
         },
         {
          "b": 0.809583461444692,
          "m": -0.7347669267769141
         },
         {
          "b": 0.809583461444692,
          "m": -0.7347669267769141
         },
         {
          "b": 0.809583461444692,
          "m": -0.7347669267769141
         },
         {
          "b": 0.809583461444692,
          "m": 0.12228635231795448
         },
         {
          "b": 0.809583461444692,
          "m": 0.12228635231795448
         },
         {
          "b": 0.809583461444692,
          "m": -0.5539531345612116
         },
         {
          "b": 0.809583461444692,
          "m": -0.5539531345612116
         },
         {
          "b": 0.809583461444692,
          "m": 0.7731793085730032
         },
         {
          "b": 0.809583461444692,
          "m": -0.1891600017501871
         },
         {
          "b": 0.809583461444692,
          "m": -0.1891600017501871
         },
         {
          "b": 0.809583461444692,
          "m": -0.1891600017501871
         },
         {
          "b": 0.809583461444692,
          "m": -0.1891600017501871
         },
         {
          "b": 0.809583461444692,
          "m": -0.1891600017501871
         },
         {
          "b": 0.809583461444692,
          "m": -0.08671699386726073
         },
         {
          "b": 0.809583461444692,
          "m": -0.08671699386726073
         },
         {
          "b": 0.809583461444692,
          "m": -0.08671699386726073
         },
         {
          "b": 0.809583461444692,
          "m": -0.747069005378622
         },
         {
          "b": 0.809583461444692,
          "m": 0.3271489577029467
         },
         {
          "b": 0.809583461444692,
          "m": -0.18256237139724196
         },
         {
          "b": 0.809583461444692,
          "m": -0.18256237139724196
         },
         {
          "b": 0.809583461444692,
          "m": 0.8079237864278552
         },
         {
          "b": 0.809583461444692,
          "m": 0.2865956694363565
         },
         {
          "b": 0.809583461444692,
          "m": 0.2865956694363565
         },
         {
          "b": 0.809583461444692,
          "m": 0.2865956694363565
         },
         {
          "b": 0.809583461444692,
          "m": 0.2865956694363565
         },
         {
          "b": 0.809583461444692,
          "m": -0.5344373932501674
         },
         {
          "b": 0.809583461444692,
          "m": -0.7397503692039893
         },
         {
          "b": 0.809583461444692,
          "m": 0.6362317271958087
         },
         {
          "b": 0.809583461444692,
          "m": -0.18943726509245695
         },
         {
          "b": 0.809583461444692,
          "m": -0.18943726509245695
         },
         {
          "b": 0.809583461444692,
          "m": 0.3239158377911171
         },
         {
          "b": 0.809583461444692,
          "m": -0.794286542415948
         },
         {
          "b": 0.809583461444692,
          "m": -0.794286542415948
         },
         {
          "b": 0.809583461444692,
          "m": -0.794286542415948
         },
         {
          "b": 0.809583461444692,
          "m": -0.794286542415948
         },
         {
          "b": 0.809583461444692,
          "m": -0.794286542415948
         },
         {
          "b": 0.8278497514690637,
          "m": -0.794286542415948
         },
         {
          "b": 0.8278497514690637,
          "m": -0.794286542415948
         },
         {
          "b": 0.8278497514690637,
          "m": -0.49029285948565726
         },
         {
          "b": 0.7103921839204055,
          "m": -0.49029285948565726
         },
         {
          "b": 0.7103921839204055,
          "m": -0.49029285948565726
         },
         {
          "b": 0.7103921839204055,
          "m": 0.48340424882632305
         },
         {
          "b": 0.7103921839204055,
          "m": 0.02761191595653556
         },
         {
          "b": 0.7103921839204055,
          "m": 0.02761191595653556
         },
         {
          "b": 0.7103921839204055,
          "m": 0.02761191595653556
         },
         {
          "b": 0.10216389151730731,
          "m": 0.02761191595653556
         },
         {
          "b": 0.10216389151730731,
          "m": 0.02761191595653556
         },
         {
          "b": 0.2967076573821872,
          "m": 0.02761191595653556
         },
         {
          "b": 0.2967076573821872,
          "m": 0.02761191595653556
         },
         {
          "b": 0.2967076573821872,
          "m": 0.02761191595653556
         },
         {
          "b": 0.9572488866842626,
          "m": 0.02761191595653556
         },
         {
          "b": 0.9572488866842626,
          "m": 0.02761191595653556
         },
         {
          "b": 0.9572488866842626,
          "m": -0.24067283953970198
         },
         {
          "b": 0.9572488866842626,
          "m": 0.6167668795749048
         },
         {
          "b": 0.9572488866842626,
          "m": 0.6167668795749048
         },
         {
          "b": 0.9572488866842626,
          "m": 0.6167668795749048
         },
         {
          "b": 0.9572488866842626,
          "m": 0.6167668795749048
         },
         {
          "b": 0.9572488866842626,
          "m": -0.3689597925930841
         },
         {
          "b": 0.9572488866842626,
          "m": 0.9493203546985465
         },
         {
          "b": 0.9572488866842626,
          "m": 0.9493203546985465
         },
         {
          "b": 0.9572488866842626,
          "m": 0.9493203546985465
         },
         {
          "b": 0.9572488866842626,
          "m": -0.36906070482915454
         },
         {
          "b": 0.5385907060422686,
          "m": -0.36906070482915454
         },
         {
          "b": 0.5385907060422686,
          "m": 0.5125063919544683
         },
         {
          "b": 0.5385907060422686,
          "m": -0.3778694239327496
         },
         {
          "b": 0.5385907060422686,
          "m": -0.3778694239327496
         },
         {
          "b": 0.5385907060422686,
          "m": 0.31891650625903956
         },
         {
          "b": 0.5385907060422686,
          "m": 0.31891650625903956
         },
         {
          "b": 0.5385907060422686,
          "m": 0.31891650625903956
         },
         {
          "b": 0.5385907060422686,
          "m": 0.31891650625903956
         },
         {
          "b": 0.5385907060422686,
          "m": 0.31891650625903956
         },
         {
          "b": 0.5385907060422686,
          "m": 0.31891650625903956
         },
         {
          "b": 0.5385907060422686,
          "m": 0.43501526266475055
         },
         {
          "b": 0.5385907060422686,
          "m": 0.43501526266475055
         },
         {
          "b": 0.8660566062115553,
          "m": 0.43501526266475055
         },
         {
          "b": 0.8660566062115553,
          "m": -0.1945885041906894
         },
         {
          "b": 0.8660566062115553,
          "m": -0.758300812882575
         },
         {
          "b": 0.8660566062115553,
          "m": -0.6516877927381104
         },
         {
          "b": 0.8660566062115553,
          "m": -0.4421687060516415
         },
         {
          "b": 0.8660566062115553,
          "m": -0.4421687060516415
         },
         {
          "b": 0.8660566062115553,
          "m": -0.5832854470735616
         },
         {
          "b": 0.8660566062115553,
          "m": -0.8526663590731587
         },
         {
          "b": 0.8660566062115553,
          "m": 0.3449797686488598
         },
         {
          "b": 0.8660566062115553,
          "m": 0.1618887938228457
         },
         {
          "b": 0.8660566062115553,
          "m": 0.181118109963345
         },
         {
          "b": 0.8660566062115553,
          "m": 0.8178560458920676
         },
         {
          "b": 0.8660566062115553,
          "m": 0.8178560458920676
         },
         {
          "b": 0.8660566062115553,
          "m": 0.8178560458920676
         },
         {
          "b": 0.8660566062115553,
          "m": 0.8178560458920676
         },
         {
          "b": 0.8660566062115553,
          "m": -0.09627642848081597
         },
         {
          "b": 0.8660566062115553,
          "m": -0.09627642848081597
         },
         {
          "b": 0.1720406784996602,
          "m": -0.09627642848081597
         },
         {
          "b": 0.1720406784996602,
          "m": -0.09627642848081597
         },
         {
          "b": 0.1720406784996602,
          "m": -0.09627642848081597
         },
         {
          "b": 0.1720406784996602,
          "m": -0.09627642848081597
         },
         {
          "b": 0.1720406784996602,
          "m": -0.09627642848081597
         },
         {
          "b": 0.1720406784996602,
          "m": -0.09627642848081597
         },
         {
          "b": 0.1720406784996602,
          "m": -0.09627642848081597
         },
         {
          "b": 0.3881857435272742,
          "m": -0.09627642848081597
         },
         {
          "b": 0.7171503834686759,
          "m": -0.09627642848081597
         },
         {
          "b": 0.7171503834686759,
          "m": -0.09627642848081597
         },
         {
          "b": 0.7171503834686759,
          "m": -0.6498668306115623
         },
         {
          "b": 0.7171503834686759,
          "m": 0.5820281809950163
         },
         {
          "b": 0.7171503834686759,
          "m": -0.332416449127632
         },
         {
          "b": 0.7171503834686759,
          "m": -0.332416449127632
         },
         {
          "b": 0.6195346639830943,
          "m": -0.332416449127632
         },
         {
          "b": 0.6195346639830943,
          "m": -0.332416449127632
         },
         {
          "b": 0.6195346639830943,
          "m": -0.08724555707867743
         },
         {
          "b": 0.6195346639830943,
          "m": 0.3203765219485357
         },
         {
          "b": 0.6195346639830943,
          "m": 0.3203765219485357
         },
         {
          "b": 0.6195346639830943,
          "m": 0.3203765219485357
         },
         {
          "b": 0.6195346639830943,
          "m": -0.402909050001117
         },
         {
          "b": 0.6195346639830943,
          "m": -0.402909050001117
         },
         {
          "b": 0.6195346639830943,
          "m": -0.402909050001117
         },
         {
          "b": 0.6195346639830943,
          "m": 0.5862722551981794
         },
         {
          "b": 0.6195346639830943,
          "m": -0.20087827410579862
         },
         {
          "b": 0.6195346639830943,
          "m": -0.20087827410579862
         },
         {
          "b": 0.6195346639830943,
          "m": -0.20087827410579862
         },
         {
          "b": 0.6195346639830943,
          "m": -0.20087827410579862
         },
         {
          "b": 0.6195346639830943,
          "m": 0.5257772666045326
         },
         {
          "b": 0.6195346639830943,
          "m": 0.5257772666045326
         },
         {
          "b": 0.6195346639830943,
          "m": -0.08513285260536141
         },
         {
          "b": 0.6195346639830943,
          "m": -0.08513285260536141
         },
         {
          "b": 0.1629252446370908,
          "m": -0.08513285260536141
         },
         {
          "b": 0.1629252446370908,
          "m": -0.08513285260536141
         },
         {
          "b": 0.7518457426686396,
          "m": -0.08513285260536141
         },
         {
          "b": 0.7518457426686396,
          "m": -0.08513285260536141
         },
         {
          "b": 0.7719906695922683,
          "m": -0.08513285260536141
         },
         {
          "b": 0.7719906695922683,
          "m": -0.08513285260536141
         },
         {
          "b": 0.7719906695922683,
          "m": -0.35469344715979356
         },
         {
          "b": 0.7719906695922683,
          "m": -0.35469344715979356
         },
         {
          "b": 0.7719906695922683,
          "m": -0.35469344715979356
         },
         {
          "b": 0.7719906695922683,
          "m": -0.35469344715979356
         },
         {
          "b": 0.7719906695922683,
          "m": -0.35469344715979356
         },
         {
          "b": 0.7719906695922683,
          "m": -0.013509081111623411
         },
         {
          "b": 0.7719906695922683,
          "m": -0.013509081111623411
         },
         {
          "b": 0.9402656421401383,
          "m": -0.013509081111623411
         },
         {
          "b": 0.9402656421401383,
          "m": -0.013509081111623411
         },
         {
          "b": 0.9402656421401383,
          "m": -0.013509081111623411
         },
         {
          "b": 0.9402656421401383,
          "m": -0.27419263792254234
         },
         {
          "b": 0.9402656421401383,
          "m": 0.42523827228530675
         },
         {
          "b": 0.9402656421401383,
          "m": 0.42523827228530675
         },
         {
          "b": 0.9402656421401383,
          "m": 0.9125358279633649
         },
         {
          "b": 0.9402656421401383,
          "m": -0.20051470383099468
         },
         {
          "b": 0.9402656421401383,
          "m": 0.527881949377943
         },
         {
          "b": 0.9402656421401383,
          "m": 0.527881949377943
         },
         {
          "b": 0.7022817007642261,
          "m": 0.527881949377943
         },
         {
          "b": 0.7022817007642261,
          "m": 0.1622512683916708
         },
         {
          "b": 0.3900243360281628,
          "m": 0.1622512683916708
         },
         {
          "b": 0.3900243360281628,
          "m": 0.1622512683916708
         },
         {
          "b": 0.3900243360281628,
          "m": 0.1622512683916708
         },
         {
          "b": 0.3900243360281628,
          "m": 0.1622512683916708
         },
         {
          "b": 0.3900243360281628,
          "m": 0.2999119361730205
         },
         {
          "b": 0.3900243360281628,
          "m": 0.2999119361730205
         },
         {
          "b": 0.35275395325047687,
          "m": 0.2999119361730205
         },
         {
          "b": 0.5142938886059427,
          "m": 0.2999119361730205
         },
         {
          "b": 0.5142938886059427,
          "m": 0.31803281300639186
         },
         {
          "b": 0.5142938886059427,
          "m": 0.31803281300639186
         },
         {
          "b": 0.40287707265045714,
          "m": 0.31803281300639186
         },
         {
          "b": 0.40287707265045714,
          "m": 0.006238505649263759
         },
         {
          "b": 0.37702624224207004,
          "m": 0.006238505649263759
         },
         {
          "b": 0.37702624224207004,
          "m": -0.1607854136182134
         },
         {
          "b": 0.6734859930879284,
          "m": -0.1607854136182134
         },
         {
          "b": 0.6734859930879284,
          "m": -0.1864640067413983
         },
         {
          "b": 0.6734859930879284,
          "m": -0.2965291540048456
         },
         {
          "b": 0.6734859930879284,
          "m": -0.2965291540048456
         },
         {
          "b": 0.7677639072611504,
          "m": -0.2965291540048456
         },
         {
          "b": 0.7677639072611504,
          "m": -0.4245377943225248
         },
         {
          "b": 0.7677639072611504,
          "m": -0.4245377943225248
         },
         {
          "b": 0.7677639072611504,
          "m": 0.37587270873234346
         },
         {
          "b": 0.7677639072611504,
          "m": 0.37587270873234346
         },
         {
          "b": 0.7677639072611504,
          "m": 0.37587270873234346
         },
         {
          "b": 0.7677639072611504,
          "m": 0.37587270873234346
         },
         {
          "b": 0.7677639072611504,
          "m": 0.11394846269372993
         },
         {
          "b": 0.7677639072611504,
          "m": 0.2149903253843346
         },
         {
          "b": 0.7677639072611504,
          "m": 0.2149903253843346
         },
         {
          "b": 0.7677639072611504,
          "m": 0.2149903253843346
         },
         {
          "b": 0.7677639072611504,
          "m": 0.2149903253843346
         },
         {
          "b": 0.6020414494162962,
          "m": 0.2149903253843346
         },
         {
          "b": 0.9981160950265628,
          "m": 0.2149903253843346
         },
         {
          "b": 0.9981160950265628,
          "m": 0.2149903253843346
         },
         {
          "b": 0.45451655453649864,
          "m": 0.2149903253843346
         },
         {
          "b": 0.45451655453649864,
          "m": 0.2149903253843346
         },
         {
          "b": 0.45451655453649864,
          "m": 0.2149903253843346
         },
         {
          "b": 0.45451655453649864,
          "m": 0.2149903253843346
         },
         {
          "b": 0.8340953046047239,
          "m": 0.2149903253843346
         },
         {
          "b": 0.8340953046047239,
          "m": -0.321479444763731
         },
         {
          "b": 0.8340953046047239,
          "m": 0.41265874583041984
         },
         {
          "b": 0.5540506004201522,
          "m": 0.41265874583041984
         },
         {
          "b": 0.5540506004201522,
          "m": -0.5092630339241577
         },
         {
          "b": 0.5540506004201522,
          "m": -0.5092630339241577
         },
         {
          "b": 0.5540506004201522,
          "m": -0.296904841419271
         },
         {
          "b": 0.5540506004201522,
          "m": 0.2362567722656197
         },
         {
          "b": 0.5540506004201522,
          "m": 0.2362567722656197
         },
         {
          "b": 0.5540506004201522,
          "m": 0.2362567722656197
         },
         {
          "b": 0.5540506004201522,
          "m": -0.12407230352802556
         },
         {
          "b": 0.5540506004201522,
          "m": -0.12407230352802556
         },
         {
          "b": 0.5540506004201522,
          "m": 0.48208052339417784
         },
         {
          "b": 0.5540506004201522,
          "m": -0.2529076229740219
         },
         {
          "b": 0.5540506004201522,
          "m": 0.27974177016781065
         },
         {
          "b": 0.8015798977108981,
          "m": 0.27974177016781065
         },
         {
          "b": 0.8015798977108981,
          "m": -0.7232254041470949
         },
         {
          "b": 0.8015798977108981,
          "m": -0.7232254041470949
         },
         {
          "b": 0.8015798977108981,
          "m": 0.4540252393953399
         },
         {
          "b": 0.8015798977108981,
          "m": 0.4540252393953399
         },
         {
          "b": 0.8015798977108981,
          "m": 0.47447886678256945
         },
         {
          "b": 0.8015798977108981,
          "m": 0.47447886678256945
         },
         {
          "b": 0.8015798977108981,
          "m": 0.47447886678256945
         },
         {
          "b": 0.8015798977108981,
          "m": 0.09956317494697298
         },
         {
          "b": 0.8015798977108981,
          "m": 0.7810446370629964
         },
         {
          "b": 0.8921401091037724,
          "m": 0.7810446370629964
         },
         {
          "b": 0.8921401091037724,
          "m": -0.38711087732781224
         },
         {
          "b": 0.8921401091037724,
          "m": -0.38711087732781224
         },
         {
          "b": 0.8921401091037724,
          "m": -0.04142575161246165
         },
         {
          "b": 0.8921401091037724,
          "m": 0.07805116329561623
         },
         {
          "b": 0.9912684984299689,
          "m": 0.07805116329561623
         },
         {
          "b": 0.2325921949144114,
          "m": 0.07805116329561623
         },
         {
          "b": 0.2325921949144114,
          "m": 0.07805116329561623
         },
         {
          "b": 0.2325921949144114,
          "m": 0.07805116329561623
         },
         {
          "b": 0.2325921949144114,
          "m": 0.07805116329561623
         },
         {
          "b": 0.2325921949144114,
          "m": 0.07805116329561623
         },
         {
          "b": 0.2325921949144114,
          "m": 0.07805116329561623
         },
         {
          "b": 0.2325921949144114,
          "m": 0.07805116329561623
         },
         {
          "b": 0.2325921949144114,
          "m": 0.02308056872445774
         },
         {
          "b": 0.2325921949144114,
          "m": 0.02308056872445774
         },
         {
          "b": 0.2325921949144114,
          "m": 0.02308056872445774
         },
         {
          "b": 0.2325921949144114,
          "m": 0.02308056872445774
         },
         {
          "b": 0.2325921949144114,
          "m": 0.02308056872445774
         },
         {
          "b": 0.8678162866733816,
          "m": 0.02308056872445774
         },
         {
          "b": 0.8678162866733816,
          "m": -0.6289376901366974
         },
         {
          "b": 0.8678162866733816,
          "m": -0.6289376901366974
         },
         {
          "b": 0.8678162866733816,
          "m": -0.6289376901366974
         },
         {
          "b": 0.8621281726659997,
          "m": -0.6289376901366974
         },
         {
          "b": 0.8621281726659997,
          "m": -0.6289376901366974
         },
         {
          "b": 0.8621281726659997,
          "m": 0.41951496515964926
         },
         {
          "b": 0.8621281726659997,
          "m": -0.2618329208938419
         },
         {
          "b": 0.8621281726659997,
          "m": -0.023531583188958427
         },
         {
          "b": 0.8621281726659997,
          "m": -0.023531583188958427
         },
         {
          "b": 0.8621281726659997,
          "m": -0.4221962573810256
         },
         {
          "b": 0.8621281726659997,
          "m": -0.4221962573810256
         },
         {
          "b": 0.8621281726659997,
          "m": -0.3281737819841759
         },
         {
          "b": 0.8621281726659997,
          "m": 0.7368223055807304
         },
         {
          "b": 0.8621281726659997,
          "m": 0.7368223055807304
         },
         {
          "b": 0.8621281726659997,
          "m": 0.7368223055807304
         },
         {
          "b": 0.8621281726659997,
          "m": -0.1256909237365489
         },
         {
          "b": 0.8621281726659997,
          "m": -0.1256909237365489
         },
         {
          "b": 0.8621281726659997,
          "m": -0.23319118372213476
         },
         {
          "b": 0.6195373333260454,
          "m": -0.23319118372213476
         },
         {
          "b": 0.6195373333260454,
          "m": -0.23319118372213476
         },
         {
          "b": 0.6195373333260454,
          "m": -0.23319118372213476
         },
         {
          "b": 0.6195373333260454,
          "m": -0.23319118372213476
         },
         {
          "b": 0.6195373333260454,
          "m": -0.076374110348439
         },
         {
          "b": 0.6195373333260454,
          "m": 0.005912602144271029
         },
         {
          "b": 0.6195373333260454,
          "m": 0.07019511996537786
         },
         {
          "b": 0.6195373333260454,
          "m": -0.2096479631765662
         },
         {
          "b": 0.6195373333260454,
          "m": 0.1242231635128348
         },
         {
          "b": 0.6195373333260454,
          "m": -0.0019303233773129147
         },
         {
          "b": 0.6195373333260454,
          "m": -0.1258792161025195
         },
         {
          "b": 0.6195373333260454,
          "m": -0.1788231606735764
         },
         {
          "b": 0.8231019952573548,
          "m": -0.1788231606735764
         },
         {
          "b": 0.8231019952573548,
          "m": 0.558435193921307
         },
         {
          "b": 0.8231019952573548,
          "m": 0.558435193921307
         },
         {
          "b": 0.8231019952573548,
          "m": 0.558435193921307
         },
         {
          "b": 0.8231019952573548,
          "m": -0.5042506290041613
         },
         {
          "b": 0.9660323660171242,
          "m": -0.5042506290041613
         },
         {
          "b": 0.9660323660171242,
          "m": -0.5042506290041613
         },
         {
          "b": 0.9660323660171242,
          "m": -0.5042506290041613
         },
         {
          "b": 0.8612510723820617,
          "m": -0.5042506290041613
         },
         {
          "b": 0.9860161884316538,
          "m": -0.5042506290041613
         },
         {
          "b": 0.9860161884316538,
          "m": -0.5042506290041613
         },
         {
          "b": 0.9860161884316538,
          "m": -0.5042506290041613
         },
         {
          "b": 0.9860161884316538,
          "m": -0.03095049889640511
         },
         {
          "b": 0.9860161884316538,
          "m": 0.34362168341961463
         },
         {
          "b": 0.8939331294722834,
          "m": 0.34362168341961463
         },
         {
          "b": 0.8939331294722834,
          "m": -0.3170176571210088
         },
         {
          "b": 0.8939331294722834,
          "m": 0.8432024922964769
         },
         {
          "b": 0.8939331294722834,
          "m": 0.11126655182500467
         },
         {
          "b": 0.8939331294722834,
          "m": 0.20116205310938606
         },
         {
          "b": 0.8939331294722834,
          "m": 0.20116205310938606
         },
         {
          "b": 0.8939331294722834,
          "m": 0.20116205310938606
         },
         {
          "b": 0.9102845412772453,
          "m": 0.20116205310938606
         },
         {
          "b": 0.9102845412772453,
          "m": -0.4471014058863043
         },
         {
          "b": 0.9102845412772453,
          "m": -0.5152054544115703
         },
         {
          "b": 0.8391991611840341,
          "m": -0.5152054544115703
         },
         {
          "b": 0.6481790959950529,
          "m": -0.5152054544115703
         },
         {
          "b": 0.6605985814307187,
          "m": -0.5152054544115703
         },
         {
          "b": 0.6605985814307187,
          "m": -0.5173600575257471
         },
         {
          "b": 0.6605985814307187,
          "m": -0.5173600575257471
         },
         {
          "b": 0.6047392934879927,
          "m": -0.5173600575257471
         },
         {
          "b": 0.9930920884807406,
          "m": -0.5173600575257471
         },
         {
          "b": 0.9897869350978834,
          "m": -0.5173600575257471
         },
         {
          "b": 0.9897869350978834,
          "m": -0.4804108719059721
         },
         {
          "b": 0.9897869350978834,
          "m": -0.4804108719059721
         },
         {
          "b": 0.7931906578421934,
          "m": -0.4804108719059721
         },
         {
          "b": 0.7931906578421934,
          "m": 0.26942971587750253
         },
         {
          "b": 0.7931906578421934,
          "m": 0.26942971587750253
         },
         {
          "b": 0.7931906578421934,
          "m": -0.571417009953963
         },
         {
          "b": 0.8770112141486515,
          "m": -0.571417009953963
         },
         {
          "b": 0.8770112141486515,
          "m": -0.8255302608929054
         },
         {
          "b": 0.8770112141486515,
          "m": -0.8255302608929054
         },
         {
          "b": 0.8770112141486515,
          "m": -0.8255302608929054
         },
         {
          "b": 0.8770112141486515,
          "m": -0.4898241701423036
         },
         {
          "b": 0.8770112141486515,
          "m": -0.5216830076407557
         },
         {
          "b": 0.8770112141486515,
          "m": -0.08514804643895446
         },
         {
          "b": 0.8770112141486515,
          "m": -0.41774661772612887
         },
         {
          "b": 0.8770112141486515,
          "m": -0.6862879968717353
         },
         {
          "b": 0.8770112141486515,
          "m": -0.6862879968717353
         },
         {
          "b": 0.8770112141486515,
          "m": 0.8291782143371098
         },
         {
          "b": 0.8770112141486515,
          "m": -0.16790065595827675
         },
         {
          "b": 0.8770112141486515,
          "m": -0.16790065595827675
         },
         {
          "b": 0.6395948459234486,
          "m": -0.16790065595827675
         },
         {
          "b": 0.6395948459234486,
          "m": 0.1235240039670027
         },
         {
          "b": 0.6395948459234486,
          "m": -0.6270183099948035
         },
         {
          "b": 0.6395948459234486,
          "m": -0.05611477888753558
         },
         {
          "b": 0.6395948459234486,
          "m": -0.05611477888753558
         },
         {
          "b": 0.6395948459234486,
          "m": -0.20249131911947482
         },
         {
          "b": 0.6395948459234486,
          "m": -0.20249131911947482
         },
         {
          "b": 0.6395948459234486,
          "m": 0.10639507822147887
         },
         {
          "b": 0.6395948459234486,
          "m": 0.10639507822147887
         },
         {
          "b": 0.6395948459234486,
          "m": 0.10639507822147887
         },
         {
          "b": 0.6395948459234486,
          "m": -0.42426514783035274
         },
         {
          "b": 0.6395948459234486,
          "m": -0.08857252483054734
         },
         {
          "b": 0.6395948459234486,
          "m": 0.45568564283967183
         },
         {
          "b": 0.6395948459234486,
          "m": 0.33957323252435745
         },
         {
          "b": 0.6395948459234486,
          "m": 0.33957323252435745
         },
         {
          "b": 0.6395948459234486,
          "m": 0.134927786313211
         },
         {
          "b": 0.7157042787658143,
          "m": 0.134927786313211
         },
         {
          "b": 0.7157042787658143,
          "m": 0.134927786313211
         },
         {
          "b": 0.2949545229560282,
          "m": 0.134927786313211
         },
         {
          "b": 0.2949545229560282,
          "m": 0.2776192761637175
         },
         {
          "b": 0.2949545229560282,
          "m": 0.2776192761637175
         },
         {
          "b": 0.2949545229560282,
          "m": -0.06616577565916493
         },
         {
          "b": 0.2949545229560282,
          "m": -0.06616577565916493
         },
         {
          "b": 0.2949545229560282,
          "m": -0.11088211325594455
         },
         {
          "b": 0.911973366813976,
          "m": -0.11088211325594455
         },
         {
          "b": 0.4715549609355809,
          "m": -0.11088211325594455
         },
         {
          "b": 0.4715549609355809,
          "m": -0.11088211325594455
         },
         {
          "b": 0.4715549609355809,
          "m": -0.11088211325594455
         },
         {
          "b": 0.4715549609355809,
          "m": -0.11088211325594455
         },
         {
          "b": 0.4715549609355809,
          "m": -0.11088211325594455
         },
         {
          "b": 0.8260825197696293,
          "m": -0.11088211325594455
         },
         {
          "b": 0.8260825197696293,
          "m": -0.11088211325594455
         },
         {
          "b": 0.8260825197696293,
          "m": -0.11088211325594455
         },
         {
          "b": 0.8260825197696293,
          "m": -0.11088211325594455
         },
         {
          "b": 0.8260825197696293,
          "m": -0.11088211325594455
         },
         {
          "b": 0.8260825197696293,
          "m": 0.35769341553317546
         },
         {
          "b": 0.5445751114507427,
          "m": 0.35769341553317546
         },
         {
          "b": 0.5445751114507427,
          "m": 0.35769341553317546
         },
         {
          "b": 0.5445751114507427,
          "m": 0.35769341553317546
         },
         {
          "b": 0.5445751114507427,
          "m": -0.30863522175405733
         },
         {
          "b": 0.5445751114507427,
          "m": -0.30863522175405733
         },
         {
          "b": 0.5445751114507427,
          "m": -0.30863522175405733
         },
         {
          "b": 0.5445751114507427,
          "m": 0.023625945723677377
         },
         {
          "b": 0.5445751114507427,
          "m": 0.023625945723677377
         },
         {
          "b": 0.5445751114507427,
          "m": 0.013907593119794504
         },
         {
          "b": 0.5445751114507427,
          "m": 0.013907593119794504
         },
         {
          "b": 0.5860877533662621,
          "m": 0.013907593119794504
         },
         {
          "b": 0.5860877533662621,
          "m": 0.013907593119794504
         },
         {
          "b": 0.5860877533662621,
          "m": 0.4578576095470057
         },
         {
          "b": 0.7376060057050118,
          "m": 0.4578576095470057
         },
         {
          "b": 0.7376060057050118,
          "m": 0.251928106656121
         },
         {
          "b": 0.8751431843023696,
          "m": 0.251928106656121
         },
         {
          "b": 0.514808904127191,
          "m": 0.251928106656121
         },
         {
          "b": 0.514808904127191,
          "m": 0.251928106656121
         },
         {
          "b": 0.42572028784237426,
          "m": 0.251928106656121
         },
         {
          "b": 0.42572028784237426,
          "m": 0.251928106656121
         },
         {
          "b": 0.42572028784237426,
          "m": 0.251928106656121
         },
         {
          "b": 0.42572028784237426,
          "m": 0.251928106656121
         },
         {
          "b": 0.42572028784237426,
          "m": -0.16151172848183104
         },
         {
          "b": 0.42572028784237426,
          "m": -0.2971028693971445
         },
         {
          "b": 0.42572028784237426,
          "m": -0.2971028693971445
         },
         {
          "b": 0.42572028784237426,
          "m": -0.2971028693971445
         },
         {
          "b": 0.42572028784237426,
          "m": -0.149974013753716
         },
         {
          "b": 0.9018519265281231,
          "m": -0.149974013753716
         },
         {
          "b": 0.9018519265281231,
          "m": -0.7021422249832734
         },
         {
          "b": 0.7677939686288624,
          "m": -0.7021422249832734
         },
         {
          "b": 0.7677939686288624,
          "m": -0.7021422249832734
         },
         {
          "b": 0.7677939686288624,
          "m": -0.7021422249832734
         },
         {
          "b": 0.7944023676677203,
          "m": -0.7021422249832734
         },
         {
          "b": 0.7944023676677203,
          "m": -0.7021422249832734
         },
         {
          "b": 0.7944023676677203,
          "m": -0.7021422249832734
         },
         {
          "b": 0.7944023676677203,
          "m": 0.029266018496122426
         },
         {
          "b": 0.7944023676677203,
          "m": 0.029266018496122426
         },
         {
          "b": 0.14012755391340348,
          "m": 0.029266018496122426
         },
         {
          "b": 0.14012755391340348,
          "m": 0.08040379987090263
         },
         {
          "b": 0.430218139065049,
          "m": 0.08040379987090263
         },
         {
          "b": 0.9372690423213845,
          "m": 0.08040379987090263
         },
         {
          "b": 0.9372690423213845,
          "m": 0.08040379987090263
         },
         {
          "b": 0.34251525468484645,
          "m": 0.08040379987090263
         },
         {
          "b": 0.34251525468484645,
          "m": 0.08040379987090263
         },
         {
          "b": 0.10867534115221145,
          "m": 0.08040379987090263
         },
         {
          "b": 0.10867534115221145,
          "m": 0.08040379987090263
         },
         {
          "b": 0.10867534115221145,
          "m": 0.08040379987090263
         },
         {
          "b": 0.7074754064287945,
          "m": 0.08040379987090263
         },
         {
          "b": 0.3947316950978237,
          "m": 0.08040379987090263
         },
         {
          "b": 0.3947316950978237,
          "m": -0.3680558468109101
         },
         {
          "b": 0.3947316950978237,
          "m": -0.3680558468109101
         },
         {
          "b": 0.3947316950978237,
          "m": -0.3680558468109101
         },
         {
          "b": 0.3947316950978237,
          "m": -0.3680558468109101
         },
         {
          "b": 0.3947316950978237,
          "m": -0.3680558468109101
         },
         {
          "b": 0.3947316950978237,
          "m": -0.3680558468109101
         },
         {
          "b": 0.3947316950978237,
          "m": -0.3680558468109101
         },
         {
          "b": 0.3947316950978237,
          "m": 0.1489807994634751
         },
         {
          "b": 0.4331073212642471,
          "m": 0.1489807994634751
         },
         {
          "b": 0.4331073212642471,
          "m": 0.0759959257566265
         },
         {
          "b": 0.4331073212642471,
          "m": 0.0759959257566265
         },
         {
          "b": 0.4331073212642471,
          "m": 0.0759959257566265
         },
         {
          "b": 0.4331073212642471,
          "m": 0.0759959257566265
         },
         {
          "b": 0.16009929342898466,
          "m": 0.0759959257566265
         },
         {
          "b": 0.20430955052098843,
          "m": 0.0759959257566265
         },
         {
          "b": 0.20430955052098843,
          "m": 0.0759959257566265
         },
         {
          "b": 0.20430955052098843,
          "m": -0.09270395450196367
         },
         {
          "b": 0.20430955052098843,
          "m": -0.09270395450196367
         },
         {
          "b": 0.20430955052098843,
          "m": -0.09270395450196367
         },
         {
          "b": 0.7577629057839028,
          "m": -0.09270395450196367
         },
         {
          "b": 0.7577629057839028,
          "m": -0.529053787166853
         },
         {
          "b": 0.9822372432738635,
          "m": -0.529053787166853
         },
         {
          "b": 0.9822372432738635,
          "m": -0.529053787166853
         },
         {
          "b": 0.9822372432738635,
          "m": -0.6854207125806246
         },
         {
          "b": 0.9822372432738635,
          "m": -0.6854207125806246
         },
         {
          "b": 0.9822372432738635,
          "m": 0.8707367248421327
         },
         {
          "b": 0.9822372432738635,
          "m": -0.8148262693213149
         },
         {
          "b": 0.9822372432738635,
          "m": -0.8148262693213149
         },
         {
          "b": 0.9822372432738635,
          "m": -0.07195638974161045
         },
         {
          "b": 0.9822372432738635,
          "m": -0.07195638974161045
         },
         {
          "b": 0.9822372432738635,
          "m": 0.4594854761072813
         },
         {
          "b": 0.9822372432738635,
          "m": 0.4509074713989254
         },
         {
          "b": 0.9822372432738635,
          "m": -0.7500664042896326
         },
         {
          "b": 0.9806869742553721,
          "m": -0.7500664042896326
         },
         {
          "b": 0.9824595641891938,
          "m": -0.7500664042896326
         },
         {
          "b": 0.9824595641891938,
          "m": -0.35487179914195877
         },
         {
          "b": 0.9824595641891938,
          "m": -0.7643063402515644
         },
         {
          "b": 0.9824595641891938,
          "m": -0.5678966530245428
         },
         {
          "b": 0.9824595641891938,
          "m": -0.7715926874333385
         },
         {
          "b": 0.9824595641891938,
          "m": -0.7715926874333385
         },
         {
          "b": 0.9269705937670276,
          "m": -0.7715926874333385
         },
         {
          "b": 0.9269705937670276,
          "m": -0.7715926874333385
         },
         {
          "b": 0.9269705937670276,
          "m": -0.7715926874333385
         },
         {
          "b": 0.9269705937670276,
          "m": -0.7715926874333385
         },
         {
          "b": 0.9269705937670276,
          "m": -0.7715926874333385
         },
         {
          "b": 0.9269705937670276,
          "m": -0.581176253282371
         },
         {
          "b": 0.9269705937670276,
          "m": -0.581176253282371
         },
         {
          "b": 0.9269705937670276,
          "m": -0.8790753641534701
         },
         {
          "b": 0.9269705937670276,
          "m": -0.8790753641534701
         },
         {
          "b": 0.9269705937670276,
          "m": -0.8790753641534701
         },
         {
          "b": 0.9269705937670276,
          "m": -0.8790753641534701
         },
         {
          "b": 0.9269705937670276,
          "m": -0.8790753641534701
         },
         {
          "b": 0.9269705937670276,
          "m": -0.6628292666463611
         },
         {
          "b": 0.9269705937670276,
          "m": -0.6628292666463611
         },
         {
          "b": 0.9269705937670276,
          "m": -0.6628292666463611
         },
         {
          "b": 0.9269705937670276,
          "m": 0.7643476938307623
         },
         {
          "b": 0.9269705937670276,
          "m": 0.7643476938307623
         },
         {
          "b": 0.9269705937670276,
          "m": 0.3698155756383745
         },
         {
          "b": 0.9269705937670276,
          "m": 0.3698155756383745
         },
         {
          "b": 0.9269705937670276,
          "m": 0.3698155756383745
         },
         {
          "b": 0.9269705937670276,
          "m": 0.2887059590924921
         },
         {
          "b": 0.9269705937670276,
          "m": -0.7802811741755107
         },
         {
          "b": 0.9269705937670276,
          "m": 0.0586716029807135
         },
         {
          "b": 0.9269705937670276,
          "m": 0.9180382535941092
         },
         {
          "b": 0.9269705937670276,
          "m": 0.6772553122633715
         },
         {
          "b": 0.9269705937670276,
          "m": 0.6772553122633715
         },
         {
          "b": 0.9269705937670276,
          "m": -0.12868218952717947
         },
         {
          "b": 0.9269705937670276,
          "m": -0.3539982846972951
         },
         {
          "b": 0.9269705937670276,
          "m": -0.3539982846972951
         },
         {
          "b": 0.9269705937670276,
          "m": -0.9097997663445565
         },
         {
          "b": 0.9269705937670276,
          "m": -0.9097997663445565
         },
         {
          "b": 0.9269705937670276,
          "m": -0.9097997663445565
         },
         {
          "b": 0.9269705937670276,
          "m": 0.4209269179905879
         },
         {
          "b": 0.9269705937670276,
          "m": 0.4209269179905879
         },
         {
          "b": 0.9269705937670276,
          "m": 0.25024031666676394
         },
         {
          "b": 0.9269705937670276,
          "m": 0.25024031666676394
         },
         {
          "b": 0.9269705937670276,
          "m": 0.47402185630474736
         },
         {
          "b": 0.9269705937670276,
          "m": 0.5301279006240771
         },
         {
          "b": 0.9269705937670276,
          "m": 0.6218417427651708
         },
         {
          "b": 0.9269705937670276,
          "m": -0.4108319857421423
         },
         {
          "b": 0.9269705937670276,
          "m": 0.10769071682947629
         },
         {
          "b": 0.9269705937670276,
          "m": -0.14650787548188293
         },
         {
          "b": 0.7060497962500565,
          "m": -0.14650787548188293
         },
         {
          "b": 0.7060497962500565,
          "m": 0.6639300394400369
         },
         {
          "b": 0.7060497962500565,
          "m": 0.34457789020952867
         },
         {
          "b": 0.6947687838566285,
          "m": 0.34457789020952867
         },
         {
          "b": 0.5524203267834749,
          "m": 0.34457789020952867
         },
         {
          "b": 0.5524203267834749,
          "m": 0.4253590175043269
         },
         {
          "b": 0.5524203267834749,
          "m": 0.4253590175043269
         },
         {
          "b": 0.5524203267834749,
          "m": 0.4253590175043269
         },
         {
          "b": 0.5524203267834749,
          "m": -0.06092269924320859
         },
         {
          "b": 0.5524203267834749,
          "m": -0.06092269924320859
         },
         {
          "b": 0.5524203267834749,
          "m": -0.06092269924320859
         },
         {
          "b": 0.5524203267834749,
          "m": -0.06092269924320859
         },
         {
          "b": 0.5524203267834749,
          "m": -0.06092269924320859
         },
         {
          "b": 0.5524203267834749,
          "m": -0.06092269924320859
         },
         {
          "b": 0.9192687875193186,
          "m": -0.06092269924320859
         },
         {
          "b": 0.49783109102603595,
          "m": -0.06092269924320859
         },
         {
          "b": 0.9983739819260717,
          "m": -0.06092269924320859
         },
         {
          "b": 0.9983739819260717,
          "m": 0.1291992651697378
         },
         {
          "b": 0.2740568841117581,
          "m": 0.1291992651697378
         },
         {
          "b": 0.2740568841117581,
          "m": 0.1291992651697378
         },
         {
          "b": 0.2740568841117581,
          "m": 0.13584439539831128
         },
         {
          "b": 0.2740568841117581,
          "m": 0.13584439539831128
         },
         {
          "b": 0.2740568841117581,
          "m": -0.10923410085969398
         },
         {
          "b": 0.2740568841117581,
          "m": -0.10923410085969398
         },
         {
          "b": 0.2740568841117581,
          "m": 0.25428936798160096
         },
         {
          "b": 0.2740568841117581,
          "m": 0.25428936798160096
         },
         {
          "b": 0.2740568841117581,
          "m": 0.25428936798160096
         },
         {
          "b": 0.2740568841117581,
          "m": 0.25428936798160096
         },
         {
          "b": 0.2740568841117581,
          "m": 0.25428936798160096
         },
         {
          "b": 0.9367951287552654,
          "m": 0.25428936798160096
         },
         {
          "b": 0.9367951287552654,
          "m": 0.004892712436813662
         },
         {
          "b": 0.9367951287552654,
          "m": 0.4062868561400592
         },
         {
          "b": 0.9367951287552654,
          "m": 0.4062868561400592
         },
         {
          "b": 0.8999803175963506,
          "m": 0.4062868561400592
         },
         {
          "b": 0.8999803175963506,
          "m": 0.047424416265321456
         },
         {
          "b": 0.8999803175963506,
          "m": -0.3449832420121155
         },
         {
          "b": 0.8999803175963506,
          "m": -0.3449832420121155
         },
         {
          "b": 0.36509231273334186,
          "m": -0.3449832420121155
         },
         {
          "b": 0.36509231273334186,
          "m": -0.3449832420121155
         },
         {
          "b": 0.36509231273334186,
          "m": -0.3449832420121155
         },
         {
          "b": 0.36509231273334186,
          "m": -0.3449832420121155
         },
         {
          "b": 0.36509231273334186,
          "m": -0.3449832420121155
         },
         {
          "b": 0.36509231273334186,
          "m": -0.3449832420121155
         },
         {
          "b": 0.36509231273334186,
          "m": -0.3449832420121155
         },
         {
          "b": 0.36509231273334186,
          "m": -0.3449832420121155
         },
         {
          "b": 0.36509231273334186,
          "m": -0.3449832420121155
         },
         {
          "b": 0.36509231273334186,
          "m": -0.3449832420121155
         },
         {
          "b": 0.36509231273334186,
          "m": -0.3449832420121155
         },
         {
          "b": 0.6421980153547107,
          "m": -0.3449832420121155
         },
         {
          "b": 0.6421980153547107,
          "m": -0.5898594107850348
         },
         {
          "b": 0.6421980153547107,
          "m": 0.25685012924644846
         },
         {
          "b": 0.6421980153547107,
          "m": 0.25685012924644846
         },
         {
          "b": 0.6421980153547107,
          "m": 0.008775037931847196
         },
         {
          "b": 0.6421980153547107,
          "m": 0.008775037931847196
         },
         {
          "b": 0.6421980153547107,
          "m": 0.008775037931847196
         },
         {
          "b": 0.5908777712588622,
          "m": 0.008775037931847196
         },
         {
          "b": 0.5908777712588622,
          "m": 0.3102772029667087
         },
         {
          "b": 0.5908777712588622,
          "m": 0.3102772029667087
         },
         {
          "b": 0.585334122338246,
          "m": 0.3102772029667087
         },
         {
          "b": 0.585334122338246,
          "m": 0.3102772029667087
         },
         {
          "b": 0.585334122338246,
          "m": 0.3102772029667087
         },
         {
          "b": 0.585334122338246,
          "m": -0.014609730122641329
         },
         {
          "b": 0.585334122338246,
          "m": -0.014609730122641329
         },
         {
          "b": 0.585334122338246,
          "m": -0.014609730122641329
         },
         {
          "b": 0.585334122338246,
          "m": -0.014609730122641329
         },
         {
          "b": 0.585334122338246,
          "m": -0.014609730122641329
         },
         {
          "b": 0.4051993716952895,
          "m": -0.014609730122641329
         },
         {
          "b": 0.4051993716952895,
          "m": 0.3283000487601362
         },
         {
          "b": 0.4051993716952895,
          "m": 0.2402097259713203
         },
         {
          "b": 0.4051993716952895,
          "m": 0.2402097259713203
         },
         {
          "b": 0.7864559868221346,
          "m": 0.2402097259713203
         },
         {
          "b": 0.7864559868221346,
          "m": 0.2402097259713203
         },
         {
          "b": 0.7864559868221346,
          "m": 0.40687397679807025
         },
         {
          "b": 0.7864559868221346,
          "m": 0.40687397679807025
         },
         {
          "b": 0.7864559868221346,
          "m": -0.7049450621988773
         },
         {
          "b": 0.7864559868221346,
          "m": 0.5597022124643891
         },
         {
          "b": 0.7864559868221346,
          "m": 0.5736983240332185
         },
         {
          "b": 0.7864559868221346,
          "m": 0.5736983240332185
         },
         {
          "b": 0.9617631999420209,
          "m": 0.5736983240332185
         },
         {
          "b": 0.9617631999420209,
          "m": 0.5736983240332185
         },
         {
          "b": 0.9617631999420209,
          "m": 0.5301917858525707
         },
         {
          "b": 0.9617631999420209,
          "m": 0.6750476435422159
         },
         {
          "b": 0.9617631999420209,
          "m": 0.6750476435422159
         },
         {
          "b": 0.9617631999420209,
          "m": 0.6750476435422159
         },
         {
          "b": 0.9617631999420209,
          "m": 0.6750476435422159
         },
         {
          "b": 0.9617631999420209,
          "m": 0.14500169966766152
         },
         {
          "b": 0.9617631999420209,
          "m": -0.27004512676137016
         },
         {
          "b": 0.9617631999420209,
          "m": -0.27004512676137016
         },
         {
          "b": 0.9617631999420209,
          "m": -0.7497527323604272
         },
         {
          "b": 0.9617631999420209,
          "m": -0.7497527323604272
         },
         {
          "b": 0.9617631999420209,
          "m": 0.7440752533003423
         },
         {
          "b": 0.9617631999420209,
          "m": 0.011705011667298981
         },
         {
          "b": 0.9617631999420209,
          "m": 0.011705011667298981
         },
         {
          "b": 0.9617631999420209,
          "m": 0.05422891718591338
         },
         {
          "b": 0.9617631999420209,
          "m": 0.05422891718591338
         },
         {
          "b": 0.9617631999420209,
          "m": 0.05422891718591338
         },
         {
          "b": 0.9617631999420209,
          "m": -0.5107169411965635
         },
         {
          "b": 0.9617631999420209,
          "m": -0.5107169411965635
         },
         {
          "b": 0.9617631999420209,
          "m": -0.5107169411965635
         },
         {
          "b": 0.9617631999420209,
          "m": -0.5107169411965635
         },
         {
          "b": 0.5885051904072569,
          "m": -0.5107169411965635
         },
         {
          "b": 0.5885051904072569,
          "m": -0.5107169411965635
         },
         {
          "b": 0.5885051904072569,
          "m": -0.5107169411965635
         },
         {
          "b": 0.5885051904072569,
          "m": 0.02649992271142554
         },
         {
          "b": 0.5885051904072569,
          "m": 0.02649992271142554
         },
         {
          "b": 0.5885051904072569,
          "m": 0.02649992271142554
         },
         {
          "b": 0.5620501336996606,
          "m": 0.02649992271142554
         },
         {
          "b": 0.5620501336996606,
          "m": 0.02649992271142554
         },
         {
          "b": 0.5620501336996606,
          "m": 0.3948838569820843
         },
         {
          "b": 0.5620501336996606,
          "m": -0.23136429262535985
         },
         {
          "b": 0.5620501336996606,
          "m": -0.23136429262535985
         },
         {
          "b": 0.600428300542833,
          "m": -0.23136429262535985
         },
         {
          "b": 0.600428300542833,
          "m": -0.23136429262535985
         },
         {
          "b": 0.600428300542833,
          "m": -0.48412253620395984
         },
         {
          "b": 0.600428300542833,
          "m": -0.10563481583527579
         },
         {
          "b": 0.600428300542833,
          "m": -0.10563481583527579
         },
         {
          "b": 0.960618245746051,
          "m": -0.10563481583527579
         },
         {
          "b": 0.960618245746051,
          "m": -0.17702136338623764
         },
         {
          "b": 0.1928037131450313,
          "m": -0.17702136338623764
         },
         {
          "b": 0.9325080067989375,
          "m": -0.17702136338623764
         },
         {
          "b": 0.9325080067989375,
          "m": -0.17702136338623764
         },
         {
          "b": 0.9325080067989375,
          "m": -0.17702136338623764
         },
         {
          "b": 0.9325080067989375,
          "m": 0.7173912878824888
         },
         {
          "b": 0.9325080067989375,
          "m": 0.7173912878824888
         },
         {
          "b": 0.9325080067989375,
          "m": 0.7173912878824888
         },
         {
          "b": 0.9325080067989375,
          "m": 0.7173912878824888
         },
         {
          "b": 0.9325080067989375,
          "m": 0.2827107501828856
         },
         {
          "b": 0.5134488400714894,
          "m": 0.2827107501828856
         },
         {
          "b": 0.5134488400714894,
          "m": -0.02474532782217964
         },
         {
          "b": 0.5134488400714894,
          "m": -0.02474532782217964
         },
         {
          "b": 0.5134488400714894,
          "m": 0.007500758404729746
         },
         {
          "b": 0.5134488400714894,
          "m": 0.007500758404729746
         },
         {
          "b": 0.5134488400714894,
          "m": 0.007500758404729746
         },
         {
          "b": 0.5134488400714894,
          "m": -0.41132642037497047
         },
         {
          "b": 0.5134488400714894,
          "m": -0.41132642037497047
         },
         {
          "b": 0.5134488400714894,
          "m": -0.41132642037497047
         },
         {
          "b": 0.5981545952855367,
          "m": -0.41132642037497047
         },
         {
          "b": 0.5981545952855367,
          "m": 0.04387962093208597
         },
         {
          "b": 0.5981545952855367,
          "m": 0.04387962093208597
         },
         {
          "b": 0.11658053564968651,
          "m": 0.04387962093208597
         },
         {
          "b": 0.11658053564968651,
          "m": 0.04387962093208597
         },
         {
          "b": 0.11658053564968651,
          "m": 0.04387962093208597
         },
         {
          "b": 0.11658053564968651,
          "m": 0.04387962093208597
         },
         {
          "b": 0.5124220690064305,
          "m": 0.04387962093208597
         },
         {
          "b": 0.5124220690064305,
          "m": 0.04387962093208597
         },
         {
          "b": 0.5124220690064305,
          "m": 0.04387962093208597
         },
         {
          "b": 0.5124220690064305,
          "m": 0.30406709945108923
         },
         {
          "b": 0.5428040557755589,
          "m": 0.30406709945108923
         },
         {
          "b": 0.5428040557755589,
          "m": 0.30406709945108923
         },
         {
          "b": 0.5428040557755589,
          "m": 0.30406709945108923
         },
         {
          "b": 0.5428040557755589,
          "m": 0.30406709945108923
         },
         {
          "b": 0.5428040557755589,
          "m": 0.30406709945108923
         },
         {
          "b": 0.5428040557755589,
          "m": 0.30406709945108923
         },
         {
          "b": 0.5428040557755589,
          "m": 0.30406709945108923
         },
         {
          "b": 0.5428040557755589,
          "m": 0.30406709945108923
         },
         {
          "b": 0.5428040557755589,
          "m": 0.30406709945108923
         },
         {
          "b": 0.5428040557755589,
          "m": 0.09663001376143732
         },
         {
          "b": 0.5428040557755589,
          "m": -0.12260379161806667
         },
         {
          "b": 0.5428040557755589,
          "m": 0.2787801360868485
         },
         {
          "b": 0.5428040557755589,
          "m": 0.2787801360868485
         },
         {
          "b": 0.5428040557755589,
          "m": 0.2787801360868485
         },
         {
          "b": 0.5428040557755589,
          "m": 0.2787801360868485
         },
         {
          "b": 0.5428040557755589,
          "m": 0.2787801360868485
         },
         {
          "b": 0.5428040557755589,
          "m": 0.2787801360868485
         },
         {
          "b": 0.5428040557755589,
          "m": -0.5291435433762495
         },
         {
          "b": 0.5428040557755589,
          "m": -0.5291435433762495
         },
         {
          "b": 0.5428040557755589,
          "m": 0.2963039580351732
         },
         {
          "b": 0.5428040557755589,
          "m": 0.2963039580351732
         },
         {
          "b": 0.5428040557755589,
          "m": 0.2963039580351732
         },
         {
          "b": 0.5428040557755589,
          "m": 0.2963039580351732
         },
         {
          "b": 0.5428040557755589,
          "m": -0.15910000178474504
         },
         {
          "b": 0.5428040557755589,
          "m": -0.15910000178474504
         },
         {
          "b": 0.5428040557755589,
          "m": -0.32110782644333535
         },
         {
          "b": 0.6949068871441682,
          "m": -0.32110782644333535
         },
         {
          "b": 0.6949068871441682,
          "m": -0.32110782644333535
         },
         {
          "b": 0.6949068871441682,
          "m": -0.32110782644333535
         },
         {
          "b": 0.6949068871441682,
          "m": 0.4802039963211777
         },
         {
          "b": 0.6949068871441682,
          "m": 0.4802039963211777
         },
         {
          "b": 0.6949068871441682,
          "m": 0.4802039963211777
         },
         {
          "b": 0.6949068871441682,
          "m": 0.4802039963211777
         },
         {
          "b": 0.6949068871441682,
          "m": 0.414160790152893
         },
         {
          "b": 0.6949068871441682,
          "m": 0.414160790152893
         },
         {
          "b": 0.6949068871441682,
          "m": -0.23042711107239655
         },
         {
          "b": 0.6949068871441682,
          "m": -0.23042711107239655
         },
         {
          "b": 0.470096167815125,
          "m": -0.23042711107239655
         },
         {
          "b": 0.5667985412826451,
          "m": -0.23042711107239655
         },
         {
          "b": 0.5667985412826451,
          "m": -0.3997128694477443
         },
         {
          "b": 0.5667985412826451,
          "m": 0.2090284661719808
         },
         {
          "b": 0.4025141853298504,
          "m": 0.2090284661719808
         },
         {
          "b": 0.4025141853298504,
          "m": 0.2090284661719808
         },
         {
          "b": 0.4025141853298504,
          "m": 0.2090284661719808
         },
         {
          "b": 0.4025141853298504,
          "m": 0.2090284661719808
         },
         {
          "b": 0.4025141853298504,
          "m": 0.0333966956585805
         },
         {
          "b": 0.46069005674938057,
          "m": 0.0333966956585805
         },
         {
          "b": 0.46069005674938057,
          "m": 0.37694879300866035
         },
         {
          "b": 0.46069005674938057,
          "m": 0.37694879300866035
         },
         {
          "b": 0.46069005674938057,
          "m": 0.37694879300866035
         },
         {
          "b": 0.46069005674938057,
          "m": 0.37694879300866035
         },
         {
          "b": 0.46069005674938057,
          "m": -0.04577973270108715
         },
         {
          "b": 0.46069005674938057,
          "m": 0.1280601754467814
         },
         {
          "b": 0.46069005674938057,
          "m": 0.1280601754467814
         },
         {
          "b": 0.46069005674938057,
          "m": 0.1280601754467814
         },
         {
          "b": 0.46069005674938057,
          "m": 0.1280601754467814
         },
         {
          "b": 0.32487919104353336,
          "m": 0.1280601754467814
         },
         {
          "b": 0.708308655920616,
          "m": 0.1280601754467814
         },
         {
          "b": 0.708308655920616,
          "m": 0.5703578478217872
         },
         {
          "b": 0.708308655920616,
          "m": 0.5696208453966498
         },
         {
          "b": 0.708308655920616,
          "m": 0.5696208453966498
         },
         {
          "b": 0.708308655920616,
          "m": 0.5696208453966498
         },
         {
          "b": 0.708308655920616,
          "m": -0.6058961416476836
         },
         {
          "b": 0.708308655920616,
          "m": -0.5977592151755309
         },
         {
          "b": 0.708308655920616,
          "m": 0.540975022462671
         },
         {
          "b": 0.708308655920616,
          "m": 0.540975022462671
         },
         {
          "b": 0.7158068224437593,
          "m": 0.540975022462671
         },
         {
          "b": 0.7747240145020255,
          "m": 0.540975022462671
         },
         {
          "b": 0.7747240145020255,
          "m": -0.5493637856353517
         },
         {
          "b": 0.7747240145020255,
          "m": -0.1372711724306137
         },
         {
          "b": 0.7747240145020255,
          "m": -0.45096136750487603
         },
         {
          "b": 0.7747240145020255,
          "m": -0.45096136750487603
         },
         {
          "b": 0.7747240145020255,
          "m": -0.45096136750487603
         },
         {
          "b": 0.7747240145020255,
          "m": -0.45096136750487603
         },
         {
          "b": 0.7747240145020255,
          "m": 0.21315128618632362
         },
         {
          "b": 0.7747240145020255,
          "m": 0.21315128618632362
         },
         {
          "b": 0.7747240145020255,
          "m": 0.5846704118945893
         },
         {
          "b": 0.7747240145020255,
          "m": -0.16071913286128736
         },
         {
          "b": 0.7747240145020255,
          "m": -0.7157199056940027
         },
         {
          "b": 0.7747240145020255,
          "m": -0.7157199056940027
         },
         {
          "b": 0.7747240145020255,
          "m": -0.7287807319612309
         },
         {
          "b": 0.8906642575581152,
          "m": -0.7287807319612309
         },
         {
          "b": 0.8906642575581152,
          "m": -0.4051497377182425
         },
         {
          "b": 0.8906642575581152,
          "m": 0.3919620231393066
         },
         {
          "b": 0.8906642575581152,
          "m": 0.3919620231393066
         },
         {
          "b": 0.8906642575581152,
          "m": 0.3919620231393066
         },
         {
          "b": 0.8906642575581152,
          "m": 0.3919620231393066
         },
         {
          "b": 0.5578945124277566,
          "m": 0.3919620231393066
         },
         {
          "b": 0.5578945124277566,
          "m": 0.3919620231393066
         },
         {
          "b": 0.5578945124277566,
          "m": 0.3919620231393066
         },
         {
          "b": 0.5578945124277566,
          "m": 0.3919620231393066
         },
         {
          "b": 0.5578945124277566,
          "m": -0.27066191728358846
         },
         {
          "b": 0.5578945124277566,
          "m": 0.5040702973191962
         },
         {
          "b": 0.5578945124277566,
          "m": 0.5040702973191962
         },
         {
          "b": 0.5578945124277566,
          "m": 0.4811063572212506
         },
         {
          "b": 0.7745596861458115,
          "m": 0.4811063572212506
         },
         {
          "b": 0.7745596861458115,
          "m": 0.4811063572212506
         },
         {
          "b": 0.9450703196891921,
          "m": 0.4811063572212506
         },
         {
          "b": 0.9450703196891921,
          "m": 0.4811063572212506
         },
         {
          "b": 0.9450703196891921,
          "m": 0.4811063572212506
         },
         {
          "b": 0.9450703196891921,
          "m": -0.690270889099106
         },
         {
          "b": 0.7655865276194411,
          "m": -0.690270889099106
         },
         {
          "b": 0.7655865276194411,
          "m": -0.690270889099106
         },
         {
          "b": 0.7655865276194411,
          "m": -0.6961804728215373
         },
         {
          "b": 0.7655865276194411,
          "m": -0.6961804728215373
         },
         {
          "b": 0.7655865276194411,
          "m": 0.6031296256862355
         },
         {
          "b": 0.7655865276194411,
          "m": 0.2697516488330216
         },
         {
          "b": 0.7655865276194411,
          "m": -0.5411133374407047
         },
         {
          "b": 0.7655865276194411,
          "m": -0.2721089613517178
         },
         {
          "b": 0.7655865276194411,
          "m": -0.6672293409169108
         },
         {
          "b": 0.7655865276194411,
          "m": -0.6672293409169108
         },
         {
          "b": 0.7164374526559636,
          "m": -0.6672293409169108
         },
         {
          "b": 0.7164374526559636,
          "m": -0.6672293409169108
         },
         {
          "b": 0.7164374526559636,
          "m": -0.6672293409169108
         },
         {
          "b": 0.7164374526559636,
          "m": 0.26921701944581344
         },
         {
          "b": 0.7164374526559636,
          "m": -0.299828652144716
         },
         {
          "b": 0.7164374526559636,
          "m": -0.6023007694983182
         },
         {
          "b": 0.7164374526559636,
          "m": -0.6023007694983182
         },
         {
          "b": 0.7164374526559636,
          "m": -0.6023007694983182
         },
         {
          "b": 0.7164374526559636,
          "m": -0.6023007694983182
         },
         {
          "b": 0.7164374526559636,
          "m": -0.17867118716044383
         },
         {
          "b": 0.7164374526559636,
          "m": -0.17867118716044383
         },
         {
          "b": 0.7164374526559636,
          "m": -0.2786950394732062
         },
         {
          "b": 0.7164374526559636,
          "m": -0.2786950394732062
         },
         {
          "b": 0.7164374526559636,
          "m": -0.2786950394732062
         },
         {
          "b": 0.7164374526559636,
          "m": -0.2786950394732062
         },
         {
          "b": 0.7164374526559636,
          "m": 0.5863041980007473
         },
         {
          "b": 0.7164374526559636,
          "m": 0.5075819259719296
         },
         {
          "b": 0.7164374526559636,
          "m": -0.6083460936377583
         },
         {
          "b": 0.7164374526559636,
          "m": -0.6083460936377583
         },
         {
          "b": 0.7164374526559636,
          "m": 0.025549786430022037
         },
         {
          "b": 0.7164374526559636,
          "m": -0.10873706470114253
         },
         {
          "b": 0.8988654518281483,
          "m": -0.10873706470114253
         },
         {
          "b": 0.8988654518281483,
          "m": -0.10873706470114253
         },
         {
          "b": 0.5819346474798286,
          "m": -0.10873706470114253
         },
         {
          "b": 0.39253122746940305,
          "m": -0.10873706470114253
         },
         {
          "b": 0.39253122746940305,
          "m": -0.10873706470114253
         },
         {
          "b": 0.39253122746940305,
          "m": -0.35775710210887124
         },
         {
          "b": 0.39253122746940305,
          "m": 0.0014983564531185767
         },
         {
          "b": 0.39253122746940305,
          "m": 0.0014983564531185767
         },
         {
          "b": 0.39253122746940305,
          "m": 0.0014983564531185767
         },
         {
          "b": 0.39253122746940305,
          "m": -0.12274138384438626
         },
         {
          "b": 0.39253122746940305,
          "m": -0.12274138384438626
         },
         {
          "b": 0.39253122746940305,
          "m": -0.12274138384438626
         },
         {
          "b": 0.39253122746940305,
          "m": 0.3751625163864458
         },
         {
          "b": 0.39253122746940305,
          "m": 0.3751625163864458
         },
         {
          "b": 0.39253122746940305,
          "m": -0.17559546232944911
         },
         {
          "b": 0.39253122746940305,
          "m": -0.17559546232944911
         },
         {
          "b": 0.39253122746940305,
          "m": 0.1531801521660825
         },
         {
          "b": 0.6387067330223795,
          "m": 0.1531801521660825
         },
         {
          "b": 0.6387067330223795,
          "m": 0.358329742394045
         },
         {
          "b": 0.6387067330223795,
          "m": 0.358329742394045
         },
         {
          "b": 0.9951867479080436,
          "m": 0.358329742394045
         },
         {
          "b": 0.9951867479080436,
          "m": 0.9364886809363935
         },
         {
          "b": 0.9951867479080436,
          "m": 0.0861464571157835
         },
         {
          "b": 0.5182164558029603,
          "m": 0.0861464571157835
         },
         {
          "b": 0.5182164558029603,
          "m": 0.0861464571157835
         },
         {
          "b": 0.5182164558029603,
          "m": -0.15933256560638598
         },
         {
          "b": 0.7160628961949704,
          "m": -0.15933256560638598
         },
         {
          "b": 0.7160628961949704,
          "m": 0.21452251929756305
         },
         {
          "b": 0.7160628961949704,
          "m": -0.22715250701376521
         },
         {
          "b": 0.7160628961949704,
          "m": -0.22715250701376521
         },
         {
          "b": 0.8819620028204576,
          "m": -0.22715250701376521
         },
         {
          "b": 0.8819620028204576,
          "m": -0.22715250701376521
         },
         {
          "b": 0.8179379103313018,
          "m": -0.22715250701376521
         },
         {
          "b": 0.5167222862943401,
          "m": -0.22715250701376521
         },
         {
          "b": 0.5167222862943401,
          "m": -0.22715250701376521
         },
         {
          "b": 0.5167222862943401,
          "m": -0.1706173383153724
         },
         {
          "b": 0.5167222862943401,
          "m": 0.3846517013995181
         },
         {
          "b": 0.5167222862943401,
          "m": 0.3846517013995181
         },
         {
          "b": 0.9086514636641325,
          "m": 0.3846517013995181
         },
         {
          "b": 0.9086514636641325,
          "m": -0.8917148231062211
         },
         {
          "b": 0.9086514636641325,
          "m": -0.8652091064415981
         },
         {
          "b": 0.9086514636641325,
          "m": 0.24592435756577458
         },
         {
          "b": 0.9086514636641325,
          "m": 0.380807341254741
         },
         {
          "b": 0.7900882192775447,
          "m": 0.380807341254741
         },
         {
          "b": 0.7900882192775447,
          "m": 0.10025014759668083
         },
         {
          "b": 0.7900882192775447,
          "m": 0.10025014759668083
         },
         {
          "b": 0.7900882192775447,
          "m": 0.29441231090121245
         },
         {
          "b": 0.7900882192775447,
          "m": 0.27071709995311966
         },
         {
          "b": 0.7900882192775447,
          "m": 0.27071709995311966
         },
         {
          "b": 0.7900882192775447,
          "m": 0.27071709995311966
         },
         {
          "b": 0.7900882192775447,
          "m": 0.4156300826018342
         },
         {
          "b": 0.7900882192775447,
          "m": 0.7008226603983381
         },
         {
          "b": 0.7900882192775447,
          "m": 0.7008226603983381
         },
         {
          "b": 0.7900882192775447,
          "m": 0.7008226603983381
         },
         {
          "b": 0.7900882192775447,
          "m": 0.7008226603983381
         },
         {
          "b": 0.801454602710945,
          "m": 0.7008226603983381
         },
         {
          "b": 0.801454602710945,
          "m": -0.6716607845437921
         },
         {
          "b": 0.801454602710945,
          "m": -0.6716607845437921
         },
         {
          "b": 0.801454602710945,
          "m": 0.7619206786224593
         },
         {
          "b": 0.801454602710945,
          "m": -0.7717105816145129
         },
         {
          "b": 0.801454602710945,
          "m": -0.19793080502610283
         },
         {
          "b": 0.801454602710945,
          "m": -0.25064491296615965
         },
         {
          "b": 0.801454602710945,
          "m": 0.04785209529654444
         },
         {
          "b": 0.801454602710945,
          "m": -0.2536968705413447
         },
         {
          "b": 0.801454602710945,
          "m": -0.2536968705413447
         },
         {
          "b": 0.2898179622462036,
          "m": -0.2536968705413447
         },
         {
          "b": 0.2898179622462036,
          "m": -0.2536968705413447
         },
         {
          "b": 0.2898179622462036,
          "m": -0.2536968705413447
         },
         {
          "b": 0.2898179622462036,
          "m": -0.2536968705413447
         },
         {
          "b": 0.5329615280790352,
          "m": -0.2536968705413447
         },
         {
          "b": 0.5329615280790352,
          "m": -0.2536968705413447
         },
         {
          "b": 0.5329615280790352,
          "m": -0.2536968705413447
         },
         {
          "b": 0.5329615280790352,
          "m": -0.2536968705413447
         },
         {
          "b": 0.5329615280790352,
          "m": -0.2536968705413447
         },
         {
          "b": 0.5329615280790352,
          "m": -0.2536968705413447
         },
         {
          "b": 0.5329615280790352,
          "m": -0.2536968705413447
         },
         {
          "b": 0.5329615280790352,
          "m": -0.2536968705413447
         },
         {
          "b": 0.8307722071366233,
          "m": -0.2536968705413447
         },
         {
          "b": 0.8307722071366233,
          "m": -0.2536968705413447
         },
         {
          "b": 0.8307722071366233,
          "m": -0.2536968705413447
         },
         {
          "b": 0.8307722071366233,
          "m": 0.32132397020209624
         },
         {
          "b": 0.8307722071366233,
          "m": 0.21317218648034264
         },
         {
          "b": 0.8307722071366233,
          "m": 0.21317218648034264
         },
         {
          "b": 0.8307722071366233,
          "m": -0.005710499676917946
         },
         {
          "b": 0.8307722071366233,
          "m": -0.005710499676917946
         },
         {
          "b": 0.8307722071366233,
          "m": -0.19596768157096034
         },
         {
          "b": 0.8307722071366233,
          "m": 0.6805377393096916
         },
         {
          "b": 0.8307722071366233,
          "m": 0.6805377393096916
         },
         {
          "b": 0.8307722071366233,
          "m": 0.6805377393096916
         },
         {
          "b": 0.8307722071366233,
          "m": 0.6805377393096916
         },
         {
          "b": 0.8307722071366233,
          "m": 0.6805377393096916
         },
         {
          "b": 0.8307722071366233,
          "m": 0.6805377393096916
         },
         {
          "b": 0.8307722071366233,
          "m": 0.12230346076018228
         },
         {
          "b": 0.8307722071366233,
          "m": 0.7714627575828727
         },
         {
          "b": 0.8307722071366233,
          "m": 0.7714627575828727
         },
         {
          "b": 0.8307722071366233,
          "m": 0.10330910321648656
         },
         {
          "b": 0.4813576914372184,
          "m": 0.10330910321648656
         },
         {
          "b": 0.4813576914372184,
          "m": 0.10330910321648656
         },
         {
          "b": 0.4813576914372184,
          "m": -0.24491360003592688
         },
         {
          "b": 0.4813576914372184,
          "m": -0.24491360003592688
         },
         {
          "b": 0.4813576914372184,
          "m": -0.24491360003592688
         },
         {
          "b": 0.4813576914372184,
          "m": -0.24491360003592688
         },
         {
          "b": 0.4813576914372184,
          "m": -0.24491360003592688
         },
         {
          "b": 0.8984246271415597,
          "m": -0.24491360003592688
         },
         {
          "b": 0.8984246271415597,
          "m": 0.5515285306191673
         },
         {
          "b": 0.8984246271415597,
          "m": 0.5515285306191673
         },
         {
          "b": 0.8984246271415597,
          "m": 0.04838101293152408
         },
         {
          "b": 0.8984246271415597,
          "m": 0.4886690142991268
         },
         {
          "b": 0.8984246271415597,
          "m": 0.04220557986136497
         },
         {
          "b": 0.8984246271415597,
          "m": -0.11184913413276454
         },
         {
          "b": 0.8984246271415597,
          "m": 0.26615381646012337
         },
         {
          "b": 0.8984246271415597,
          "m": 0.26615381646012337
         },
         {
          "b": 0.8984246271415597,
          "m": 0.24704622944045496
         },
         {
          "b": 0.8984246271415597,
          "m": 0.27495255745992764
         },
         {
          "b": 0.8984246271415597,
          "m": 0.28269821817932494
         },
         {
          "b": 0.8984246271415597,
          "m": 0.28269821817932494
         },
         {
          "b": 0.8984246271415597,
          "m": 0.28269821817932494
         },
         {
          "b": 0.8984246271415597,
          "m": -0.4950720152999566
         },
         {
          "b": 0.8984246271415597,
          "m": -0.4950720152999566
         },
         {
          "b": 0.8984246271415597,
          "m": -0.4950720152999566
         },
         {
          "b": 0.8984246271415597,
          "m": 0.06530336952179572
         },
         {
          "b": 0.8984246271415597,
          "m": -0.6773088805995957
         },
         {
          "b": 0.8984246271415597,
          "m": -0.6773088805995957
         },
         {
          "b": 0.8984246271415597,
          "m": -0.6773088805995957
         },
         {
          "b": 0.8984246271415597,
          "m": -0.6773088805995957
         },
         {
          "b": 0.8984246271415597,
          "m": -0.6773088805995957
         },
         {
          "b": 0.8984246271415597,
          "m": -0.7637118934887239
         },
         {
          "b": 0.8984246271415597,
          "m": -0.7780279575920714
         },
         {
          "b": 0.8984246271415597,
          "m": -0.7780279575920714
         },
         {
          "b": 0.8984246271415597,
          "m": -0.7780279575920714
         },
         {
          "b": 0.8984246271415597,
          "m": -0.14246855988632023
         },
         {
          "b": 0.8984246271415597,
          "m": -0.483751778541041
         },
         {
          "b": 0.8984246271415597,
          "m": -0.483751778541041
         },
         {
          "b": 0.8984246271415597,
          "m": -0.483751778541041
         },
         {
          "b": 0.8984246271415597,
          "m": -0.483751778541041
         },
         {
          "b": 0.8984246271415597,
          "m": -0.483751778541041
         },
         {
          "b": 0.8984246271415597,
          "m": -0.5467569318884886
         },
         {
          "b": 0.8984246271415597,
          "m": 0.8964107395790546
         },
         {
          "b": 0.8984246271415597,
          "m": -0.16507774331686398
         },
         {
          "b": 0.8984246271415597,
          "m": 0.3036655781807365
         },
         {
          "b": 0.9122327422545264,
          "m": 0.3036655781807365
         },
         {
          "b": 0.9122327422545264,
          "m": 0.4770406863129584
         },
         {
          "b": 0.9122327422545264,
          "m": 0.4770406863129584
         },
         {
          "b": 0.9122327422545264,
          "m": 0.45149882597271795
         },
         {
          "b": 0.9756564421459808,
          "m": 0.45149882597271795
         },
         {
          "b": 0.9756564421459808,
          "m": -0.2487708117368903
         },
         {
          "b": 0.9381943318360875,
          "m": -0.2487708117368903
         },
         {
          "b": 0.9381943318360875,
          "m": -0.2487708117368903
         },
         {
          "b": 0.9381943318360875,
          "m": -0.2487708117368903
         },
         {
          "b": 0.9381943318360875,
          "m": -0.7638957896445933
         },
         {
          "b": 0.9381943318360875,
          "m": 0.4559860388054966
         },
         {
          "b": 0.9381943318360875,
          "m": -0.28379649275168073
         },
         {
          "b": 0.6596221976990793,
          "m": -0.28379649275168073
         },
         {
          "b": 0.6596221976990793,
          "m": 0.05422282386750976
         },
         {
          "b": 0.6596221976990793,
          "m": -0.44367963151135714
         },
         {
          "b": 0.6596221976990793,
          "m": -0.44367963151135714
         },
         {
          "b": 0.6596221976990793,
          "m": -0.44367963151135714
         },
         {
          "b": 0.6596221976990793,
          "m": 0.30697398240416773
         },
         {
          "b": 0.6596221976990793,
          "m": 0.30697398240416773
         },
         {
          "b": 0.6596221976990793,
          "m": 0.26080785844966337
         },
         {
          "b": 0.6596221976990793,
          "m": -0.5765587527348857
         },
         {
          "b": 0.6596221976990793,
          "m": -0.5765587527348857
         },
         {
          "b": 0.6596221976990793,
          "m": -0.5765587527348857
         },
         {
          "b": 0.6596221976990793,
          "m": -0.48768031660635747
         },
         {
          "b": 0.6596221976990793,
          "m": 0.32544629297687533
         },
         {
          "b": 0.6596221976990793,
          "m": -0.20122392408715828
         },
         {
          "b": 0.6596221976990793,
          "m": -0.20122392408715828
         },
         {
          "b": 0.6596221976990793,
          "m": -0.20122392408715828
         },
         {
          "b": 0.6596221976990793,
          "m": -0.20122392408715828
         },
         {
          "b": 0.6596221976990793,
          "m": -0.20122392408715828
         },
         {
          "b": 0.6596221976990793,
          "m": 0.37827318700259105
         },
         {
          "b": 0.6596221976990793,
          "m": -0.0837381455783579
         },
         {
          "b": 0.6596221976990793,
          "m": -0.26716076808957356
         },
         {
          "b": 0.6596221976990793,
          "m": -0.26716076808957356
         },
         {
          "b": 0.6596221976990793,
          "m": -0.26716076808957356
         },
         {
          "b": 0.6596221976990793,
          "m": -0.26716076808957356
         },
         {
          "b": 0.6596221976990793,
          "m": -0.12760183126799185
         },
         {
          "b": 0.6596221976990793,
          "m": 0.5867483166295189
         },
         {
          "b": 0.6596221976990793,
          "m": 0.5867483166295189
         },
         {
          "b": 0.6596221976990793,
          "m": 0.5867483166295189
         },
         {
          "b": 0.6596221976990793,
          "m": 0.5867483166295189
         },
         {
          "b": 0.6596221976990793,
          "m": -0.5956200500000286
         },
         {
          "b": 0.6596221976990793,
          "m": 0.025578587488072513
         },
         {
          "b": 0.6596221976990793,
          "m": -0.39488059443652923
         },
         {
          "b": 0.6596221976990793,
          "m": -0.5414481757705973
         },
         {
          "b": 0.6596221976990793,
          "m": -0.5414481757705973
         },
         {
          "b": 0.6596221976990793,
          "m": -0.239906194214907
         },
         {
          "b": 0.6596221976990793,
          "m": -0.28517118650122764
         },
         {
          "b": 0.6596221976990793,
          "m": -0.18853107744639241
         },
         {
          "b": 0.6596221976990793,
          "m": -0.030751309827435458
         },
         {
          "b": 0.6596221976990793,
          "m": -0.030751309827435458
         },
         {
          "b": 0.6596221976990793,
          "m": -0.44511021915212967
         },
         {
          "b": 0.6596221976990793,
          "m": -0.5050189984662088
         },
         {
          "b": 0.6596221976990793,
          "m": -0.5050189984662088
         },
         {
          "b": 0.6596221976990793,
          "m": -0.4418661853164345
         },
         {
          "b": 0.6596221976990793,
          "m": -0.3615686601062402
         },
         {
          "b": 0.5063319974976788,
          "m": -0.3615686601062402
         },
         {
          "b": 0.5063319974976788,
          "m": 0.049267212148355055
         },
         {
          "b": 0.5063319974976788,
          "m": 0.049267212148355055
         },
         {
          "b": 0.3774497528464933,
          "m": 0.049267212148355055
         },
         {
          "b": 0.3774497528464933,
          "m": -0.1352954449103041
         },
         {
          "b": 0.3774497528464933,
          "m": 0.26393887832558005
         },
         {
          "b": 0.3774497528464933,
          "m": 0.26393887832558005
         },
         {
          "b": 0.3774497528464933,
          "m": 0.26393887832558005
         },
         {
          "b": 0.3774497528464933,
          "m": 0.26393887832558005
         },
         {
          "b": 0.6958750529990014,
          "m": 0.26393887832558005
         },
         {
          "b": 0.6958750529990014,
          "m": 0.26393887832558005
         },
         {
          "b": 0.6958750529990014,
          "m": 0.5185225588634756
         },
         {
          "b": 0.6958750529990014,
          "m": 0.5185225588634756
         },
         {
          "b": 0.6958750529990014,
          "m": -0.65399647390497
         },
         {
          "b": 0.6958750529990014,
          "m": 0.10381422404950924
         },
         {
          "b": 0.6958750529990014,
          "m": -0.3707806164535479
         },
         {
          "b": 0.6958750529990014,
          "m": -0.6159518517724558
         },
         {
          "b": 0.6958750529990014,
          "m": -0.6159518517724558
         },
         {
          "b": 0.6958750529990014,
          "m": -0.6159518517724558
         },
         {
          "b": 0.6958750529990014,
          "m": -0.6159518517724558
         },
         {
          "b": 0.6958750529990014,
          "m": 0.18765782776552142
         },
         {
          "b": 0.5272557249677019,
          "m": 0.18765782776552142
         },
         {
          "b": 0.5272557249677019,
          "m": 0.18765782776552142
         },
         {
          "b": 0.5272557249677019,
          "m": 0.019233440410881597
         },
         {
          "b": 0.5272557249677019,
          "m": -0.2757864784058526
         },
         {
          "b": 0.5272557249677019,
          "m": 0.28533021614811305
         },
         {
          "b": 0.5272557249677019,
          "m": 0.28533021614811305
         },
         {
          "b": 0.5272557249677019,
          "m": -0.3171223100853242
         },
         {
          "b": 0.9440532184381676,
          "m": -0.3171223100853242
         },
         {
          "b": 0.9440532184381676,
          "m": -0.3568247479331619
         },
         {
          "b": 0.9440532184381676,
          "m": 0.7442849565891401
         },
         {
          "b": 0.9440532184381676,
          "m": -0.6456060245069526
         },
         {
          "b": 0.9440532184381676,
          "m": -0.6456060245069526
         },
         {
          "b": 0.9440532184381676,
          "m": 0.5561118008991823
         },
         {
          "b": 0.9440532184381676,
          "m": 0.47568445705732487
         },
         {
          "b": 0.9440532184381676,
          "m": 0.47568445705732487
         },
         {
          "b": 0.6825699775975733,
          "m": 0.47568445705732487
         },
         {
          "b": 0.6825699775975733,
          "m": 0.47415544360922524
         },
         {
          "b": 0.6825699775975733,
          "m": 0.5911429086938675
         },
         {
          "b": 0.6825699775975733,
          "m": -0.47657278116820945
         },
         {
          "b": 0.6825699775975733,
          "m": -0.47657278116820945
         },
         {
          "b": 0.6825699775975733,
          "m": -0.47657278116820945
         },
         {
          "b": 0.6825699775975733,
          "m": -0.47657278116820945
         },
         {
          "b": 0.6825699775975733,
          "m": 0.5464710918416007
         },
         {
          "b": 0.5994832252105555,
          "m": 0.5464710918416007
         },
         {
          "b": 0.5994832252105555,
          "m": 0.5464710918416007
         },
         {
          "b": 0.5994832252105555,
          "m": 0.5464710918416007
         },
         {
          "b": 0.5994832252105555,
          "m": 0.5464710918416007
         },
         {
          "b": 0.5994832252105555,
          "m": -0.04862782909202479
         },
         {
          "b": 0.5994832252105555,
          "m": -0.04862782909202479
         },
         {
          "b": 0.5994832252105555,
          "m": -0.04862782909202479
         },
         {
          "b": 0.5994832252105555,
          "m": -0.04862782909202479
         },
         {
          "b": 0.5994832252105555,
          "m": -0.2985504850268661
         },
         {
          "b": 0.5994832252105555,
          "m": -0.4803896573912543
         },
         {
          "b": 0.5994832252105555,
          "m": -0.28012561297414984
         },
         {
          "b": 0.5994832252105555,
          "m": 0.18219714918426866
         },
         {
          "b": 0.5994832252105555,
          "m": 0.18219714918426866
         },
         {
          "b": 0.8896417335043021,
          "m": 0.18219714918426866
         },
         {
          "b": 0.8896417335043021,
          "m": 0.21164929163729496
         },
         {
          "b": 0.2240500694364369,
          "m": 0.21164929163729496
         },
         {
          "b": 0.2240500694364369,
          "m": 0.21164929163729496
         },
         {
          "b": 0.2240500694364369,
          "m": 0.21164929163729496
         },
         {
          "b": 0.2240500694364369,
          "m": 0.21164929163729496
         },
         {
          "b": 0.2240500694364369,
          "m": 0.21164929163729496
         },
         {
          "b": 0.2240500694364369,
          "m": -0.108940541571527
         },
         {
          "b": 0.2240500694364369,
          "m": -0.108940541571527
         },
         {
          "b": 0.2240500694364369,
          "m": -0.1961117837576849
         },
         {
          "b": 0.2240500694364369,
          "m": -0.1961117837576849
         },
         {
          "b": 0.2240500694364369,
          "m": -0.1961117837576849
         },
         {
          "b": 0.2240500694364369,
          "m": -0.1961117837576849
         },
         {
          "b": 0.2240500694364369,
          "m": -0.1961117837576849
         },
         {
          "b": 0.3978831629987962,
          "m": -0.1961117837576849
         },
         {
          "b": 0.504509219148759,
          "m": -0.1961117837576849
         },
         {
          "b": 0.504509219148759,
          "m": -0.17197141973211383
         },
         {
          "b": 0.504509219148759,
          "m": -0.17197141973211383
         },
         {
          "b": 0.3329285546700962,
          "m": -0.17197141973211383
         },
         {
          "b": 0.4923900920188078,
          "m": -0.17197141973211383
         },
         {
          "b": 0.4923900920188078,
          "m": -0.2925586629913852
         },
         {
          "b": 0.4923900920188078,
          "m": -0.2925586629913852
         },
         {
          "b": 0.4923900920188078,
          "m": -0.2925586629913852
         },
         {
          "b": 0.4923900920188078,
          "m": -0.2925586629913852
         },
         {
          "b": 0.4923900920188078,
          "m": 0.2057235993620441
         },
         {
          "b": 0.4923900920188078,
          "m": 0.2057235993620441
         },
         {
          "b": 0.4923900920188078,
          "m": -0.3760045297636616
         },
         {
          "b": 0.4923900920188078,
          "m": -0.2882465463053474
         },
         {
          "b": 0.4923900920188078,
          "m": -0.2882465463053474
         },
         {
          "b": 0.4923900920188078,
          "m": -0.2882465463053474
         },
         {
          "b": 0.4923900920188078,
          "m": -0.2882465463053474
         },
         {
          "b": 0.4923900920188078,
          "m": -0.13027864682748613
         },
         {
          "b": 0.4923900920188078,
          "m": -0.43405376211566726
         },
         {
          "b": 0.4923900920188078,
          "m": -0.3990623198833354
         },
         {
          "b": 0.4923900920188078,
          "m": 0.44306200556871533
         },
         {
          "b": 0.4923900920188078,
          "m": 0.44306200556871533
         },
         {
          "b": 0.4923900920188078,
          "m": 0.44306200556871533
         },
         {
          "b": 0.4923900920188078,
          "m": -0.3159921039567475
         },
         {
          "b": 0.4923900920188078,
          "m": -0.24508659801383037
         },
         {
          "b": 0.4923900920188078,
          "m": 0.11172000971530305
         },
         {
          "b": 0.2720266385029697,
          "m": 0.11172000971530305
         },
         {
          "b": 0.2720266385029697,
          "m": 0.11172000971530305
         },
         {
          "b": 0.626760780031171,
          "m": 0.11172000971530305
         },
         {
          "b": 0.626760780031171,
          "m": 0.5854638980376399
         },
         {
          "b": 0.626760780031171,
          "m": 0.5854638980376399
         },
         {
          "b": 0.7045957869152002,
          "m": 0.5854638980376399
         },
         {
          "b": 0.7045957869152002,
          "m": -0.19633669063521153
         },
         {
          "b": 0.8001622086360272,
          "m": -0.19633669063521153
         },
         {
          "b": 0.9027392255461517,
          "m": -0.19633669063521153
         },
         {
          "b": 0.9027392255461517,
          "m": -0.19633669063521153
         },
         {
          "b": 0.7047190268487153,
          "m": -0.19633669063521153
         },
         {
          "b": 0.505903421285401,
          "m": -0.19633669063521153
         },
         {
          "b": 0.505903421285401,
          "m": -0.19633669063521153
         },
         {
          "b": 0.505903421285401,
          "m": -0.19633669063521153
         },
         {
          "b": 0.6982175647434297,
          "m": -0.19633669063521153
         },
         {
          "b": 0.6982175647434297,
          "m": -0.19633669063521153
         },
         {
          "b": 0.6982175647434297,
          "m": -0.19633669063521153
         },
         {
          "b": 0.6982175647434297,
          "m": -0.19633669063521153
         },
         {
          "b": 0.6982175647434297,
          "m": 0.23371730098717847
         },
         {
          "b": 0.6982175647434297,
          "m": 0.23371730098717847
         },
         {
          "b": 0.6982175647434297,
          "m": -0.6931455137194285
         },
         {
          "b": 0.6982175647434297,
          "m": -0.6931455137194285
         },
         {
          "b": 0.6982175647434297,
          "m": 0.5532213582704049
         },
         {
          "b": 0.6982175647434297,
          "m": 0.5532213582704049
         },
         {
          "b": 0.6982175647434297,
          "m": -0.46677235757278335
         },
         {
          "b": 0.6982175647434297,
          "m": -0.46677235757278335
         },
         {
          "b": 0.6982175647434297,
          "m": -0.4207186134788887
         },
         {
          "b": 0.6982175647434297,
          "m": -0.4207186134788887
         },
         {
          "b": 0.8147169750104306,
          "m": -0.4207186134788887
         },
         {
          "b": 0.4242005574382548,
          "m": -0.4207186134788887
         },
         {
          "b": 0.4242005574382548,
          "m": -0.4207186134788887
         },
         {
          "b": 0.8180263670281553,
          "m": -0.4207186134788887
         },
         {
          "b": 0.8180263670281553,
          "m": -0.4207186134788887
         },
         {
          "b": 0.8180263670281553,
          "m": -0.4207186134788887
         },
         {
          "b": 0.8180263670281553,
          "m": 0.6961666429310547
         },
         {
          "b": 0.8180263670281553,
          "m": 0.6961666429310547
         },
         {
          "b": 0.8180263670281553,
          "m": 0.6961666429310547
         },
         {
          "b": 0.8180263670281553,
          "m": 0.6961666429310547
         },
         {
          "b": 0.8180263670281553,
          "m": -0.7743886178854453
         },
         {
          "b": 0.8180263670281553,
          "m": 0.7068898260202057
         },
         {
          "b": 0.8180263670281553,
          "m": 0.7068898260202057
         },
         {
          "b": 0.8180263670281553,
          "m": -0.3676566758709001
         },
         {
          "b": 0.8180263670281553,
          "m": -0.7363865365895881
         },
         {
          "b": 0.8180263670281553,
          "m": 0.5450343780490055
         },
         {
          "b": 0.8180263670281553,
          "m": -0.6586584892576044
         },
         {
          "b": 0.9085878715246347,
          "m": -0.6586584892576044
         },
         {
          "b": 0.9085878715246347,
          "m": -0.6586584892576044
         },
         {
          "b": 0.9085878715246347,
          "m": -0.6586584892576044
         },
         {
          "b": 0.9085878715246347,
          "m": 0.39314999651652216
         },
         {
          "b": 0.6281106457618304,
          "m": 0.39314999651652216
         },
         {
          "b": 0.6281106457618304,
          "m": 0.39314999651652216
         },
         {
          "b": 0.6281106457618304,
          "m": 0.39314999651652216
         },
         {
          "b": 0.9938865338104701,
          "m": 0.39314999651652216
         },
         {
          "b": 0.9938865338104701,
          "m": 0.8347659834256762
         },
         {
          "b": 0.9938865338104701,
          "m": -0.9086738225398816
         },
         {
          "b": 0.9938865338104701,
          "m": -0.9086738225398816
         },
         {
          "b": 0.9938865338104701,
          "m": -0.9086738225398816
         },
         {
          "b": 0.9938865338104701,
          "m": -0.9086738225398816
         },
         {
          "b": 0.9938865338104701,
          "m": 0.9052345812916756
         },
         {
          "b": 0.9938865338104701,
          "m": 0.9052345812916756
         },
         {
          "b": 0.9938865338104701,
          "m": 0.6764651733368219
         },
         {
          "b": 0.9938865338104701,
          "m": 0.46465898779293524
         },
         {
          "b": 0.9938865338104701,
          "m": 0.19233678345918714
         },
         {
          "b": 0.9938865338104701,
          "m": 0.7079126801625233
         },
         {
          "b": 0.9938865338104701,
          "m": -0.5275262978212008
         },
         {
          "b": 0.9938865338104701,
          "m": -0.5275262978212008
         },
         {
          "b": 0.9938865338104701,
          "m": -0.5275262978212008
         },
         {
          "b": 0.9938865338104701,
          "m": 0.16774472798805973
         },
         {
          "b": 0.9938865338104701,
          "m": 0.16774472798805973
         },
         {
          "b": 0.9938865338104701,
          "m": 0.16774472798805973
         },
         {
          "b": 0.9938865338104701,
          "m": 0.16774472798805973
         },
         {
          "b": 0.9938865338104701,
          "m": -0.3235015793576219
         },
         {
          "b": 0.7013622916856443,
          "m": -0.3235015793576219
         },
         {
          "b": 0.7013622916856443,
          "m": -0.543163891114695
         },
         {
          "b": 0.7013622916856443,
          "m": -0.543163891114695
         },
         {
          "b": 0.7013622916856443,
          "m": -0.543163891114695
         },
         {
          "b": 0.7013622916856443,
          "m": -0.543163891114695
         },
         {
          "b": 0.7013622916856443,
          "m": 0.1273514609469275
         },
         {
          "b": 0.7013622916856443,
          "m": 0.1273514609469275
         },
         {
          "b": 0.6486761100031713,
          "m": 0.1273514609469275
         },
         {
          "b": 0.6486761100031713,
          "m": 0.1273514609469275
         },
         {
          "b": 0.6486761100031713,
          "m": 0.1273514609469275
         },
         {
          "b": 0.46037467450876224,
          "m": 0.1273514609469275
         },
         {
          "b": 0.46037467450876224,
          "m": 0.1273514609469275
         },
         {
          "b": 0.46037467450876224,
          "m": 0.1273514609469275
         },
         {
          "b": 0.46037467450876224,
          "m": 0.1273514609469275
         },
         {
          "b": 0.46037467450876224,
          "m": 0.1273514609469275
         },
         {
          "b": 0.46037467450876224,
          "m": 0.1273514609469275
         },
         {
          "b": 0.8001395706853385,
          "m": 0.1273514609469275
         },
         {
          "b": 0.8001395706853385,
          "m": 0.7871706905597053
         },
         {
          "b": 0.8001395706853385,
          "m": 0.7871706905597053
         },
         {
          "b": 0.8001395706853385,
          "m": 0.7871706905597053
         },
         {
          "b": 0.8001395706853385,
          "m": 0.3413030901836722
         },
         {
          "b": 0.8001395706853385,
          "m": 0.3413030901836722
         },
         {
          "b": 0.8001395706853385,
          "m": 0.5693963677196507
         },
         {
          "b": 0.9250437940440033,
          "m": 0.5693963677196507
         },
         {
          "b": 0.9250437940440033,
          "m": 0.5693963677196507
         },
         {
          "b": 0.9250437940440033,
          "m": 0.6515497655204021
         },
         {
          "b": 0.9250437940440033,
          "m": -0.16830322655285568
         },
         {
          "b": 0.9250437940440033,
          "m": -0.16830322655285568
         },
         {
          "b": 0.7372831860990374,
          "m": -0.16830322655285568
         },
         {
          "b": 0.7372831860990374,
          "m": -0.7266575912827424
         },
         {
          "b": 0.7372831860990374,
          "m": -0.7266575912827424
         },
         {
          "b": 0.7372831860990374,
          "m": -0.7266575912827424
         },
         {
          "b": 0.7372831860990374,
          "m": 0.21522714307789248
         },
         {
          "b": 0.7372831860990374,
          "m": -0.4367577502550557
         },
         {
          "b": 0.7372831860990374,
          "m": -0.4367577502550557
         },
         {
          "b": 0.7372831860990374,
          "m": -0.6477773731060583
         },
         {
          "b": 0.7372831860990374,
          "m": -0.6477773731060583
         },
         {
          "b": 0.7372831860990374,
          "m": -0.7196582323031981
         },
         {
          "b": 0.7372831860990374,
          "m": 0.20797975276462588
         },
         {
          "b": 0.7372831860990374,
          "m": 0.23110616930971717
         },
         {
          "b": 0.6504850632095673,
          "m": 0.23110616930971717
         },
         {
          "b": 0.9670926125870898,
          "m": 0.23110616930971717
         },
         {
          "b": 0.9670926125870898,
          "m": -0.31916681588423823
         },
         {
          "b": 0.9670926125870898,
          "m": -0.7622704004206808
         },
         {
          "b": 0.9670926125870898,
          "m": 0.24984104120056005
         },
         {
          "b": 0.9670926125870898,
          "m": 0.24984104120056005
         },
         {
          "b": 0.9670926125870898,
          "m": -0.7061725886037473
         },
         {
          "b": 0.9670926125870898,
          "m": -0.8838648411877237
         },
         {
          "b": 0.9670926125870898,
          "m": -0.9344880735138881
         },
         {
          "b": 0.9670926125870898,
          "m": -0.9344880735138881
         },
         {
          "b": 0.9670926125870898,
          "m": -0.13226992480837985
         },
         {
          "b": 0.476720973409946,
          "m": -0.13226992480837985
         },
         {
          "b": 0.28773297401317754,
          "m": -0.13226992480837985
         },
         {
          "b": 0.28773297401317754,
          "m": -0.04111692512237064
         },
         {
          "b": 0.28773297401317754,
          "m": -0.04111692512237064
         },
         {
          "b": 0.17620805225170266,
          "m": -0.04111692512237064
         },
         {
          "b": 0.17620805225170266,
          "m": -0.04111692512237064
         },
         {
          "b": 0.6664891229443095,
          "m": -0.04111692512237064
         },
         {
          "b": 0.23503350098118703,
          "m": -0.04111692512237064
         },
         {
          "b": 0.19167452913069893,
          "m": -0.04111692512237064
         },
         {
          "b": 0.5194320329942304,
          "m": -0.04111692512237064
         },
         {
          "b": 0.5194320329942304,
          "m": -0.04111692512237064
         },
         {
          "b": 0.3333666178240493,
          "m": -0.04111692512237064
         },
         {
          "b": 0.3333666178240493,
          "m": -0.04111692512237064
         },
         {
          "b": 0.3333666178240493,
          "m": -0.04111692512237064
         },
         {
          "b": 0.3333666178240493,
          "m": -0.04111692512237064
         },
         {
          "b": 0.3333666178240493,
          "m": 0.2942714146777836
         },
         {
          "b": 0.3333666178240493,
          "m": 0.2942714146777836
         },
         {
          "b": 0.30528244015000294,
          "m": 0.2942714146777836
         },
         {
          "b": 0.30528244015000294,
          "m": 0.024378301179607265
         },
         {
          "b": 0.30528244015000294,
          "m": -0.1291042373637581
         },
         {
          "b": 0.30528244015000294,
          "m": -0.030037079205162742
         },
         {
          "b": 0.30528244015000294,
          "m": -0.030037079205162742
         },
         {
          "b": 0.30528244015000294,
          "m": -0.030037079205162742
         },
         {
          "b": 0.30528244015000294,
          "m": -0.030037079205162742
         },
         {
          "b": 0.30528244015000294,
          "m": 4.438096639369782e-05
         },
         {
          "b": 0.30528244015000294,
          "m": 0.07830563184016381
         },
         {
          "b": 0.8993345632221301,
          "m": 0.07830563184016381
         },
         {
          "b": 0.8993345632221301,
          "m": 0.07830563184016381
         },
         {
          "b": 0.11482685026556427,
          "m": 0.07830563184016381
         },
         {
          "b": 0.11482685026556427,
          "m": 0.07830563184016381
         },
         {
          "b": 0.11482685026556427,
          "m": 0.07830563184016381
         },
         {
          "b": 0.11482685026556427,
          "m": 0.07830563184016381
         },
         {
          "b": 0.11482685026556427,
          "m": 0.07830563184016381
         },
         {
          "b": 0.6603785354252827,
          "m": 0.07830563184016381
         },
         {
          "b": 0.6603785354252827,
          "m": 0.07830563184016381
         },
         {
          "b": 0.6603785354252827,
          "m": 0.3026760998059512
         },
         {
          "b": 0.6603785354252827,
          "m": 0.6227533237514427
         },
         {
          "b": 0.6603785354252827,
          "m": 0.6227533237514427
         },
         {
          "b": 0.6603785354252827,
          "m": 0.6227533237514427
         },
         {
          "b": 0.6603785354252827,
          "m": 0.6227533237514427
         },
         {
          "b": 0.6603785354252827,
          "m": 0.6227533237514427
         },
         {
          "b": 0.6603785354252827,
          "m": 0.6227533237514427
         },
         {
          "b": 0.6603785354252827,
          "m": 0.6227533237514427
         },
         {
          "b": 0.6603785354252827,
          "m": -0.2266501680038726
         },
         {
          "b": 0.38718753581602816,
          "m": -0.2266501680038726
         },
         {
          "b": 0.38718753581602816,
          "m": -0.2266501680038726
         },
         {
          "b": 0.38718753581602816,
          "m": -0.2266501680038726
         },
         {
          "b": 0.9271259048879228,
          "m": -0.2266501680038726
         },
         {
          "b": 0.9271259048879228,
          "m": -0.2266501680038726
         },
         {
          "b": 0.9271259048879228,
          "m": -0.7065443363361859
         },
         {
          "b": 0.9271259048879228,
          "m": 0.4505223421131632
         },
         {
          "b": 0.9271259048879228,
          "m": 0.4505223421131632
         },
         {
          "b": 0.9271259048879228,
          "m": 0.4505223421131632
         },
         {
          "b": 0.9271259048879228,
          "m": -0.032471554811639214
         },
         {
          "b": 0.9271259048879228,
          "m": -0.032471554811639214
         },
         {
          "b": 0.9271259048879228,
          "m": 0.6905823818526124
         },
         {
          "b": 0.9271259048879228,
          "m": 0.6905823818526124
         },
         {
          "b": 0.9271259048879228,
          "m": -0.7462220631885066
         },
         {
          "b": 0.9271259048879228,
          "m": -0.03919194346869559
         },
         {
          "b": 0.9271259048879228,
          "m": -0.06796240063503745
         },
         {
          "b": 0.9271259048879228,
          "m": 0.3463623889748437
         },
         {
          "b": 0.9271259048879228,
          "m": -0.4721813878124468
         },
         {
          "b": 0.9271259048879228,
          "m": -0.4721813878124468
         },
         {
          "b": 0.9271259048879228,
          "m": 0.5982781582156933
         },
         {
          "b": 0.9271259048879228,
          "m": 0.5982781582156933
         },
         {
          "b": 0.8178151289525462,
          "m": 0.5982781582156933
         },
         {
          "b": 0.8178151289525462,
          "m": -0.590181229449737
         },
         {
          "b": 0.8178151289525462,
          "m": -0.590181229449737
         },
         {
          "b": 0.8178151289525462,
          "m": 0.5816804789330254
         },
         {
          "b": 0.8473809305607236,
          "m": 0.5816804789330254
         },
         {
          "b": 0.8473809305607236,
          "m": 0.39877630210466886
         },
         {
          "b": 0.9192004273355028,
          "m": 0.39877630210466886
         },
         {
          "b": 0.9192004273355028,
          "m": 0.9046768688904436
         },
         {
          "b": 0.9192004273355028,
          "m": 0.8304317339346146
         },
         {
          "b": 0.9192004273355028,
          "m": 0.722123171493229
         },
         {
          "b": 0.9192004273355028,
          "m": 0.722123171493229
         },
         {
          "b": 0.9192004273355028,
          "m": 0.722123171493229
         },
         {
          "b": 0.9192004273355028,
          "m": 0.722123171493229
         },
         {
          "b": 0.9192004273355028,
          "m": 0.480005451886931
         },
         {
          "b": 0.9192004273355028,
          "m": 0.5933669303397779
         },
         {
          "b": 0.9192004273355028,
          "m": 0.13802517871135822
         },
         {
          "b": 0.6370407882342792,
          "m": 0.13802517871135822
         },
         {
          "b": 0.6370407882342792,
          "m": 0.4278956807944587
         },
         {
          "b": 0.6370407882342792,
          "m": 0.4278956807944587
         },
         {
          "b": 0.6370407882342792,
          "m": 0.00603727711459201
         },
         {
          "b": 0.6370407882342792,
          "m": 0.00603727711459201
         },
         {
          "b": 0.5107869096938289,
          "m": 0.00603727711459201
         },
         {
          "b": 0.5107869096938289,
          "m": 0.42116340397424623
         },
         {
          "b": 0.5107869096938289,
          "m": 0.42116340397424623
         },
         {
          "b": 0.5107869096938289,
          "m": 0.42116340397424623
         },
         {
          "b": 0.5107869096938289,
          "m": -0.35815938107292955
         },
         {
          "b": 0.5107869096938289,
          "m": -0.35815938107292955
         },
         {
          "b": 0.5107869096938289,
          "m": -0.35815938107292955
         },
         {
          "b": 0.5107869096938289,
          "m": 0.17433815079082637
         },
         {
          "b": 0.5107869096938289,
          "m": 0.17433815079082637
         },
         {
          "b": 0.5107869096938289,
          "m": 0.17433815079082637
         },
         {
          "b": 0.5107869096938289,
          "m": 0.0841512322805642
         },
         {
          "b": 0.6375391244552244,
          "m": 0.0841512322805642
         },
         {
          "b": 0.5971697017398447,
          "m": 0.0841512322805642
         },
         {
          "b": 0.39661961037807125,
          "m": 0.0841512322805642
         },
         {
          "b": 0.39661961037807125,
          "m": 0.0841512322805642
         },
         {
          "b": 0.39661961037807125,
          "m": 0.0841512322805642
         },
         {
          "b": 0.4009355602197957,
          "m": 0.0841512322805642
         },
         {
          "b": 0.4009355602197957,
          "m": 0.0841512322805642
         },
         {
          "b": 0.4009355602197957,
          "m": 0.0841512322805642
         },
         {
          "b": 0.4009355602197957,
          "m": 0.20934103450888686
         },
         {
          "b": 0.4009355602197957,
          "m": 0.05615800670071791
         },
         {
          "b": 0.4009355602197957,
          "m": 0.05615800670071791
         },
         {
          "b": 0.4009355602197957,
          "m": 0.05615800670071791
         },
         {
          "b": 0.9037960584943685,
          "m": 0.05615800670071791
         },
         {
          "b": 0.9037960584943685,
          "m": -0.00885100297288921
         },
         {
          "b": 0.9037960584943685,
          "m": -0.00885100297288921
         },
         {
          "b": 0.4940299279942575,
          "m": -0.00885100297288921
         },
         {
          "b": 0.2051018208337856,
          "m": -0.00885100297288921
         },
         {
          "b": 0.5575602613189912,
          "m": -0.00885100297288921
         },
         {
          "b": 0.5575602613189912,
          "m": -0.08951218029688257
         },
         {
          "b": 0.5575602613189912,
          "m": 0.006294228953132253
         },
         {
          "b": 0.5575602613189912,
          "m": -0.33009637137113024
         },
         {
          "b": 0.5575602613189912,
          "m": -0.33009637137113024
         },
         {
          "b": 0.5575602613189912,
          "m": -0.33009637137113024
         },
         {
          "b": 0.5575602613189912,
          "m": -0.2442460041874004
         },
         {
          "b": 0.5575602613189912,
          "m": -0.2442460041874004
         },
         {
          "b": 0.5575602613189912,
          "m": -0.2442460041874004
         },
         {
          "b": 0.5575602613189912,
          "m": 0.2892208011227442
         },
         {
          "b": 0.5575602613189912,
          "m": 0.2892208011227442
         },
         {
          "b": 0.5575602613189912,
          "m": 0.2892208011227442
         },
         {
          "b": 0.5575602613189912,
          "m": 0.2892208011227442
         },
         {
          "b": 0.5575602613189912,
          "m": 0.2892208011227442
         },
         {
          "b": 0.5575602613189912,
          "m": 0.2892208011227442
         },
         {
          "b": 0.5575602613189912,
          "m": 0.2892208011227442
         },
         {
          "b": 0.2929241717127662,
          "m": 0.2892208011227442
         },
         {
          "b": 0.5846053102136819,
          "m": 0.2892208011227442
         },
         {
          "b": 0.5846053102136819,
          "m": 0.2892208011227442
         },
         {
          "b": 0.5846053102136819,
          "m": 0.2892208011227442
         },
         {
          "b": 0.5846053102136819,
          "m": 0.2892208011227442
         },
         {
          "b": 0.5846053102136819,
          "m": 0.2892208011227442
         },
         {
          "b": 0.5846053102136819,
          "m": 0.15296102463738737
         },
         {
          "b": 0.27272237099723795,
          "m": 0.15296102463738737
         },
         {
          "b": 0.27272237099723795,
          "m": 0.15296102463738737
         },
         {
          "b": 0.27272237099723795,
          "m": -0.2169863239816523
         },
         {
          "b": 0.27272237099723795,
          "m": -0.2169863239816523
         },
         {
          "b": 0.27272237099723795,
          "m": -0.2169863239816523
         },
         {
          "b": 0.27272237099723795,
          "m": -0.2169863239816523
         },
         {
          "b": 0.27272237099723795,
          "m": -0.20200558267386115
         },
         {
          "b": 0.27272237099723795,
          "m": -0.20200558267386115
         },
         {
          "b": 0.27272237099723795,
          "m": -0.20200558267386115
         },
         {
          "b": 0.4276698921926545,
          "m": -0.20200558267386115
         },
         {
          "b": 0.4276698921926545,
          "m": -0.20200558267386115
         },
         {
          "b": 0.4568199923103633,
          "m": -0.20200558267386115
         },
         {
          "b": 0.4568199923103633,
          "m": -0.20200558267386115
         },
         {
          "b": 0.4568199923103633,
          "m": -0.20200558267386115
         },
         {
          "b": 0.4568199923103633,
          "m": -0.20200558267386115
         },
         {
          "b": 0.4568199923103633,
          "m": -0.20200558267386115
         },
         {
          "b": 0.4568199923103633,
          "m": -0.20200558267386115
         },
         {
          "b": 0.4568199923103633,
          "m": -0.20200558267386115
         },
         {
          "b": 0.79414436289783,
          "m": -0.20200558267386115
         },
         {
          "b": 0.79414436289783,
          "m": 0.05497320690213958
         },
         {
          "b": 0.79414436289783,
          "m": 0.38712235487033575
         },
         {
          "b": 0.79414436289783,
          "m": -0.6433494733882472
         },
         {
          "b": 0.79414436289783,
          "m": -0.6433494733882472
         },
         {
          "b": 0.79414436289783,
          "m": -0.6433494733882472
         },
         {
          "b": 0.79414436289783,
          "m": -0.1996763397812582
         },
         {
          "b": 0.79414436289783,
          "m": 0.37880761976744837
         },
         {
          "b": 0.79414436289783,
          "m": 0.37880761976744837
         },
         {
          "b": 0.79414436289783,
          "m": 0.17368004995749264
         },
         {
          "b": 0.79414436289783,
          "m": 0.17368004995749264
         },
         {
          "b": 0.6302117257550786,
          "m": 0.17368004995749264
         },
         {
          "b": 0.6302117257550786,
          "m": 0.6117708445890437
         },
         {
          "b": 0.6302117257550786,
          "m": 0.6117708445890437
         },
         {
          "b": 0.6302117257550786,
          "m": 0.6117708445890437
         },
         {
          "b": 0.6302117257550786,
          "m": 0.6117708445890437
         },
         {
          "b": 0.6302117257550786,
          "m": 0.6117708445890437
         },
         {
          "b": 0.6302117257550786,
          "m": 0.1349972799613266
         },
         {
          "b": 0.9951100522035101,
          "m": 0.1349972799613266
         },
         {
          "b": 0.5877995200847972,
          "m": 0.1349972799613266
         },
         {
          "b": 0.8313510512510522,
          "m": 0.1349972799613266
         },
         {
          "b": 0.9169952420729619,
          "m": 0.1349972799613266
         },
         {
          "b": 0.9169952420729619,
          "m": 0.1349972799613266
         },
         {
          "b": 0.9169952420729619,
          "m": 0.1349972799613266
         },
         {
          "b": 0.9169952420729619,
          "m": -0.47225890129190096
         },
         {
          "b": 0.9169952420729619,
          "m": -0.47225890129190096
         },
         {
          "b": 0.8603311881860927,
          "m": -0.47225890129190096
         },
         {
          "b": 0.8603311881860927,
          "m": 0.8237627640459542
         },
         {
          "b": 0.8603311881860927,
          "m": 0.6153809026059964
         },
         {
          "b": 0.8603311881860927,
          "m": -0.41233412471373865
         },
         {
          "b": 0.8603311881860927,
          "m": 0.7901177483527937
         },
         {
          "b": 0.8603311881860927,
          "m": 0.7901177483527937
         },
         {
          "b": 0.8603311881860927,
          "m": 0.7584107452256574
         },
         {
          "b": 0.8603311881860927,
          "m": -0.36249964112619115
         },
         {
          "b": 0.8603311881860927,
          "m": -0.36249964112619115
         },
         {
          "b": 0.8603311881860927,
          "m": 0.572098283236002
         },
         {
          "b": 0.8603311881860927,
          "m": 0.572098283236002
         },
         {
          "b": 0.7519207869805269,
          "m": 0.572098283236002
         },
         {
          "b": 0.7519207869805269,
          "m": 0.48688403134154723
         },
         {
          "b": 0.7519207869805269,
          "m": -0.20550385340981747
         },
         {
          "b": 0.7519207869805269,
          "m": -0.20550385340981747
         },
         {
          "b": 0.7519207869805269,
          "m": 0.59089155328573
         },
         {
          "b": 0.7519207869805269,
          "m": 0.6270721694027752
         },
         {
          "b": 0.7519207869805269,
          "m": 0.6270721694027752
         },
         {
          "b": 0.7519207869805269,
          "m": 0.6270721694027752
         },
         {
          "b": 0.7519207869805269,
          "m": 0.6270721694027752
         },
         {
          "b": 0.7566257279524311,
          "m": 0.6270721694027752
         },
         {
          "b": 0.7566257279524311,
          "m": 0.6270721694027752
         },
         {
          "b": 0.7566257279524311,
          "m": 0.452615092625001
         },
         {
          "b": 0.7566257279524311,
          "m": -0.4241998125037385
         },
         {
          "b": 0.7566257279524311,
          "m": 0.03508205932500874
         },
         {
          "b": 0.7566257279524311,
          "m": -0.4938573475855501
         },
         {
          "b": 0.7566257279524311,
          "m": -0.7300774215043704
         },
         {
          "b": 0.7566257279524311,
          "m": -0.7300774215043704
         },
         {
          "b": 0.7566257279524311,
          "m": -0.7300774215043704
         },
         {
          "b": 0.8111767442039473,
          "m": -0.7300774215043704
         },
         {
          "b": 0.8111767442039473,
          "m": -0.7300774215043704
         },
         {
          "b": 0.8111767442039473,
          "m": -0.7300774215043704
         },
         {
          "b": 0.8111767442039473,
          "m": 0.5610548517246514
         },
         {
          "b": 0.8111767442039473,
          "m": 0.5610548517246514
         },
         {
          "b": 0.8111767442039473,
          "m": 0.5610548517246514
         },
         {
          "b": 0.9057838408040306,
          "m": 0.5610548517246514
         },
         {
          "b": 0.9057838408040306,
          "m": 0.5610548517246514
         },
         {
          "b": 0.9057838408040306,
          "m": 0.5610548517246514
         },
         {
          "b": 0.5683080328013868,
          "m": 0.5610548517246514
         },
         {
          "b": 0.5683080328013868,
          "m": 0.5610548517246514
         },
         {
          "b": 0.5683080328013868,
          "m": -0.03591930153355949
         },
         {
          "b": 0.5683080328013868,
          "m": 0.21290400727852643
         },
         {
          "b": 0.5683080328013868,
          "m": 0.21290400727852643
         },
         {
          "b": 0.5683080328013868,
          "m": 0.21290400727852643
         },
         {
          "b": 0.3125536369071533,
          "m": 0.21290400727852643
         },
         {
          "b": 0.3125536369071533,
          "m": 0.21290400727852643
         },
         {
          "b": 0.3125536369071533,
          "m": 0.21290400727852643
         },
         {
          "b": 0.3125536369071533,
          "m": -0.13367970809956486
         },
         {
          "b": 0.3125536369071533,
          "m": -0.017123428332576074
         },
         {
          "b": 0.3125536369071533,
          "m": -0.017123428332576074
         },
         {
          "b": 0.8718500506138043,
          "m": -0.017123428332576074
         },
         {
          "b": 0.8718500506138043,
          "m": 0.3263011143287431
         },
         {
          "b": 0.8718500506138043,
          "m": 0.3263011143287431
         },
         {
          "b": 0.8718500506138043,
          "m": 0.15669939744943995
         },
         {
          "b": 0.8718500506138043,
          "m": 0.15669939744943995
         },
         {
          "b": 0.8718500506138043,
          "m": 0.7381384330956064
         },
         {
          "b": 0.8718500506138043,
          "m": -0.4236669352028557
         },
         {
          "b": 0.8718500506138043,
          "m": 0.005227541449182693
         },
         {
          "b": 0.8718500506138043,
          "m": -0.4515171191831888
         },
         {
          "b": 0.8718500506138043,
          "m": -0.4515171191831888
         },
         {
          "b": 0.8718500506138043,
          "m": -0.3388243586442521
         },
         {
          "b": 0.8431631315192398,
          "m": -0.3388243586442521
         },
         {
          "b": 0.8431631315192398,
          "m": -0.3388243586442521
         },
         {
          "b": 0.8431631315192398,
          "m": -0.3388243586442521
         },
         {
          "b": 0.8431631315192398,
          "m": 0.4817128254772738
         },
         {
          "b": 0.8431631315192398,
          "m": 0.41031578396230484
         },
         {
          "b": 0.8431631315192398,
          "m": 0.7175406639888362
         },
         {
          "b": 0.8431631315192398,
          "m": -0.7255401375003288
         },
         {
          "b": 0.8431631315192398,
          "m": -0.7255401375003288
         },
         {
          "b": 0.8431631315192398,
          "m": 0.21210475564561437
         },
         {
          "b": 0.8431631315192398,
          "m": -0.017239583950756865
         },
         {
          "b": 0.8431631315192398,
          "m": -0.27408234603994885
         },
         {
          "b": 0.8431631315192398,
          "m": -0.27408234603994885
         },
         {
          "b": 0.8431631315192398,
          "m": -0.27408234603994885
         },
         {
          "b": 0.8431631315192398,
          "m": -0.27408234603994885
         },
         {
          "b": 0.8431631315192398,
          "m": -0.27408234603994885
         },
         {
          "b": 0.8431631315192398,
          "m": -0.27408234603994885
         },
         {
          "b": 0.8431631315192398,
          "m": -0.6806658499216358
         },
         {
          "b": 0.8431631315192398,
          "m": 0.263608348494212
         },
         {
          "b": 0.8431631315192398,
          "m": -0.6021045184303129
         },
         {
          "b": 0.8431631315192398,
          "m": -0.6021045184303129
         },
         {
          "b": 0.8431631315192398,
          "m": -0.6021045184303129
         },
         {
          "b": 0.8431631315192398,
          "m": -0.6021045184303129
         },
         {
          "b": 0.8431631315192398,
          "m": -0.4960947766750359
         },
         {
          "b": 0.696410156766903,
          "m": -0.4960947766750359
         },
         {
          "b": 0.696410156766903,
          "m": -0.4960947766750359
         },
         {
          "b": 0.696410156766903,
          "m": -0.4960947766750359
         },
         {
          "b": 0.696410156766903,
          "m": 0.32249264308111614
         },
         {
          "b": 0.696410156766903,
          "m": 0.32249264308111614
         },
         {
          "b": 0.696410156766903,
          "m": 0.32249264308111614
         },
         {
          "b": 0.3757796974341743,
          "m": 0.32249264308111614
         },
         {
          "b": 0.3757796974341743,
          "m": 0.32249264308111614
         },
         {
          "b": 0.8991634833794098,
          "m": 0.32249264308111614
         },
         {
          "b": 0.8991634833794098,
          "m": 0.32249264308111614
         },
         {
          "b": 0.8991634833794098,
          "m": 0.32249264308111614
         },
         {
          "b": 0.8991634833794098,
          "m": 0.4682166948964508
         },
         {
          "b": 0.8991634833794098,
          "m": 0.1564092933144383
         },
         {
          "b": 0.8991634833794098,
          "m": 0.7549155204414262
         },
         {
          "b": 0.8648801012360743,
          "m": 0.7549155204414262
         },
         {
          "b": 0.8648801012360743,
          "m": 0.1808058631098286
         },
         {
          "b": 0.42290326060941186,
          "m": 0.1808058631098286
         },
         {
          "b": 0.6069414688787387,
          "m": 0.1808058631098286
         },
         {
          "b": 0.672153017137781,
          "m": 0.1808058631098286
         },
         {
          "b": 0.672153017137781,
          "m": 0.1808058631098286
         },
         {
          "b": 0.672153017137781,
          "m": 0.1808058631098286
         },
         {
          "b": 0.2951858730564372,
          "m": 0.1808058631098286
         },
         {
          "b": 0.2951858730564372,
          "m": 0.1808058631098286
         },
         {
          "b": 0.2951858730564372,
          "m": 0.1808058631098286
         },
         {
          "b": 0.2951858730564372,
          "m": 0.1808058631098286
         },
         {
          "b": 0.2951858730564372,
          "m": 0.1808058631098286
         },
         {
          "b": 0.2951858730564372,
          "m": 0.1808058631098286
         },
         {
          "b": 0.2951858730564372,
          "m": 0.1808058631098286
         },
         {
          "b": 0.2951858730564372,
          "m": 0.1808058631098286
         },
         {
          "b": 0.2951858730564372,
          "m": 0.1808058631098286
         },
         {
          "b": 0.2951858730564372,
          "m": 0.1808058631098286
         },
         {
          "b": 0.2951858730564372,
          "m": 0.1808058631098286
         },
         {
          "b": 0.2951858730564372,
          "m": 0.1808058631098286
         },
         {
          "b": 0.2951858730564372,
          "m": 0.1808058631098286
         },
         {
          "b": 0.2951858730564372,
          "m": 0.1808058631098286
         },
         {
          "b": 0.2951858730564372,
          "m": 0.1808058631098286
         },
         {
          "b": 0.7175057624196566,
          "m": 0.1808058631098286
         },
         {
          "b": 0.7175057624196566,
          "m": 0.1808058631098286
         },
         {
          "b": 0.2458890206261588,
          "m": 0.1808058631098286
         },
         {
          "b": 0.2458890206261588,
          "m": 0.1808058631098286
         },
         {
          "b": 0.2458890206261588,
          "m": 0.1808058631098286
         },
         {
          "b": 0.2458890206261588,
          "m": 0.1808058631098286
         },
         {
          "b": 0.2458890206261588,
          "m": 0.1808058631098286
         },
         {
          "b": 0.5036775740498307,
          "m": 0.1808058631098286
         },
         {
          "b": 0.5036775740498307,
          "m": 0.1808058631098286
         },
         {
          "b": 0.5036775740498307,
          "m": 0.1808058631098286
         },
         {
          "b": 0.5036775740498307,
          "m": -0.05999093985224868
         },
         {
          "b": 0.3833344603372384,
          "m": -0.05999093985224868
         },
         {
          "b": 0.3833344603372384,
          "m": -0.05999093985224868
         },
         {
          "b": 0.3833344603372384,
          "m": 0.28246715402802924
         },
         {
          "b": 0.3833344603372384,
          "m": 0.2191452627498498
         },
         {
          "b": 0.3833344603372384,
          "m": -0.02690642230371698
         },
         {
          "b": 0.3833344603372384,
          "m": -0.02690642230371698
         },
         {
          "b": 0.3833344603372384,
          "m": -0.02690642230371698
         },
         {
          "b": 0.3833344603372384,
          "m": -0.02690642230371698
         },
         {
          "b": 0.3217571597067266,
          "m": -0.02690642230371698
         },
         {
          "b": 0.05141160215751417,
          "m": -0.02690642230371698
         },
         {
          "b": 0.05141160215751417,
          "m": -0.02690642230371698
         },
         {
          "b": 0.05141160215751417,
          "m": -0.02690642230371698
         },
         {
          "b": 0.05141160215751417,
          "m": -0.02690642230371698
         },
         {
          "b": 0.41413782218719253,
          "m": -0.02690642230371698
         },
         {
          "b": 0.41413782218719253,
          "m": -0.02690642230371698
         },
         {
          "b": 0.9403899408841061,
          "m": -0.02690642230371698
         },
         {
          "b": 0.9403899408841061,
          "m": -0.02690642230371698
         },
         {
          "b": 0.9403899408841061,
          "m": -0.02690642230371698
         },
         {
          "b": 0.9403899408841061,
          "m": -0.02690642230371698
         },
         {
          "b": 0.9403899408841061,
          "m": -0.6033415542969258
         },
         {
          "b": 0.9403899408841061,
          "m": 0.12590581731877593
         },
         {
          "b": 0.9403899408841061,
          "m": -0.037901497369696946
         },
         {
          "b": 0.8674481898909041,
          "m": -0.037901497369696946
         },
         {
          "b": 0.8674481898909041,
          "m": 0.3252601926587848
         },
         {
          "b": 0.6284983473420362,
          "m": 0.3252601926587848
         },
         {
          "b": 0.85795613079541,
          "m": 0.3252601926587848
         },
         {
          "b": 0.85795613079541,
          "m": 0.3252601926587848
         },
         {
          "b": 0.85795613079541,
          "m": 0.3252601926587848
         },
         {
          "b": 0.85795613079541,
          "m": 0.5289250413344149
         },
         {
          "b": 0.85795613079541,
          "m": 0.2456450168052673
         },
         {
          "b": 0.85795613079541,
          "m": -0.10938027574782283
         },
         {
          "b": 0.7369840158696912,
          "m": -0.10938027574782283
         },
         {
          "b": 0.7369840158696912,
          "m": -0.10938027574782283
         },
         {
          "b": 0.7369840158696912,
          "m": -0.10938027574782283
         },
         {
          "b": 0.7369840158696912,
          "m": -0.10938027574782283
         },
         {
          "b": 0.2874299491161503,
          "m": -0.10938027574782283
         },
         {
          "b": 0.5660296240960221,
          "m": -0.10938027574782283
         },
         {
          "b": 0.5660296240960221,
          "m": -0.41518770863813814
         },
         {
          "b": 0.5660296240960221,
          "m": -0.41518770863813814
         },
         {
          "b": 0.5660296240960221,
          "m": -0.41518770863813814
         },
         {
          "b": 0.5660296240960221,
          "m": 0.4503708373885422
         },
         {
          "b": 0.5660296240960221,
          "m": 0.4503708373885422
         },
         {
          "b": 0.5660296240960221,
          "m": 0.4503708373885422
         },
         {
          "b": 0.5660296240960221,
          "m": 0.4503708373885422
         },
         {
          "b": 0.5660296240960221,
          "m": 0.4503708373885422
         },
         {
          "b": 0.5660296240960221,
          "m": 0.4503708373885422
         },
         {
          "b": 0.5660296240960221,
          "m": -0.02823140169231153
         },
         {
          "b": 0.5660296240960221,
          "m": -0.02823140169231153
         },
         {
          "b": 0.8584613843129894,
          "m": -0.02823140169231153
         },
         {
          "b": 0.8584613843129894,
          "m": -0.02823140169231153
         },
         {
          "b": 0.8584613843129894,
          "m": -0.5792726389221261
         },
         {
          "b": 0.8584613843129894,
          "m": -0.5792726389221261
         },
         {
          "b": 0.8584613843129894,
          "m": -0.5792726389221261
         },
         {
          "b": 0.8584613843129894,
          "m": -0.22809045939063277
         },
         {
          "b": 0.8584613843129894,
          "m": -0.22809045939063277
         },
         {
          "b": 0.8584613843129894,
          "m": -0.22809045939063277
         },
         {
          "b": 0.7578557047398327,
          "m": -0.22809045939063277
         },
         {
          "b": 0.7578557047398327,
          "m": -0.7219122331153132
         },
         {
          "b": 0.7578557047398327,
          "m": -0.7219122331153132
         },
         {
          "b": 0.7578557047398327,
          "m": 0.4500798755573301
         },
         {
          "b": 0.7578557047398327,
          "m": 0.7026068115903683
         },
         {
          "b": 0.7578557047398327,
          "m": 0.2626094012359321
         },
         {
          "b": 0.7578557047398327,
          "m": 0.2626094012359321
         },
         {
          "b": 0.7578557047398327,
          "m": 0.2626094012359321
         },
         {
          "b": 0.7578557047398327,
          "m": 0.2626094012359321
         },
         {
          "b": 0.7578557047398327,
          "m": 0.2626094012359321
         },
         {
          "b": 0.7578557047398327,
          "m": 0.2626094012359321
         },
         {
          "b": 0.7578557047398327,
          "m": 0.5653845472589925
         },
         {
          "b": 0.787646324211434,
          "m": 0.5653845472589925
         },
         {
          "b": 0.787646324211434,
          "m": 0.5653845472589925
         },
         {
          "b": 0.787646324211434,
          "m": 0.3262943118297146
         },
         {
          "b": 0.787646324211434,
          "m": 0.3562145685838971
         },
         {
          "b": 0.46534811319446434,
          "m": 0.3562145685838971
         },
         {
          "b": 0.46534811319446434,
          "m": 0.3562145685838971
         },
         {
          "b": 0.46534811319446434,
          "m": 0.3562145685838971
         },
         {
          "b": 0.46534811319446434,
          "m": 0.3562145685838971
         },
         {
          "b": 0.46534811319446434,
          "m": 0.3562145685838971
         },
         {
          "b": 0.46534811319446434,
          "m": 0.37570016711975174
         },
         {
          "b": 0.46534811319446434,
          "m": 0.37570016711975174
         },
         {
          "b": 0.46534811319446434,
          "m": 0.37570016711975174
         },
         {
          "b": 0.46534811319446434,
          "m": -0.04929545744830244
         },
         {
          "b": 0.46534811319446434,
          "m": 0.3374350346518342
         },
         {
          "b": 0.46534811319446434,
          "m": 0.3374350346518342
         },
         {
          "b": 0.46534811319446434,
          "m": 0.44407682767635914
         },
         {
          "b": 0.46534811319446434,
          "m": 0.44407682767635914
         },
         {
          "b": 0.46534811319446434,
          "m": 0.2779011116221841
         },
         {
          "b": 0.46534811319446434,
          "m": 0.2779011116221841
         },
         {
          "b": 0.46534811319446434,
          "m": 0.2779011116221841
         },
         {
          "b": 0.49654458279868163,
          "m": 0.2779011116221841
         },
         {
          "b": 0.49654458279868163,
          "m": 0.2779011116221841
         },
         {
          "b": 0.49654458279868163,
          "m": -0.3672878190659612
         },
         {
          "b": 0.49654458279868163,
          "m": -0.3672878190659612
         },
         {
          "b": 0.49654458279868163,
          "m": -0.3672878190659612
         },
         {
          "b": 0.49654458279868163,
          "m": -0.3672878190659612
         },
         {
          "b": 0.7429299039009185,
          "m": -0.3672878190659612
         },
         {
          "b": 0.7429299039009185,
          "m": -0.3672878190659612
         },
         {
          "b": 0.7429299039009185,
          "m": -0.3672878190659612
         },
         {
          "b": 0.7429299039009185,
          "m": -0.3672878190659612
         },
         {
          "b": 0.7429299039009185,
          "m": -0.6623631511310848
         },
         {
          "b": 0.7429299039009185,
          "m": 0.05769145661815833
         },
         {
          "b": 0.9425530747395359,
          "m": 0.05769145661815833
         },
         {
          "b": 0.7978275343827803,
          "m": 0.05769145661815833
         },
         {
          "b": 0.7978275343827803,
          "m": 0.23333166836322872
         },
         {
          "b": 0.7978275343827803,
          "m": 0.39938475672045004
         },
         {
          "b": 0.7978275343827803,
          "m": 0.39938475672045004
         },
         {
          "b": 0.7978275343827803,
          "m": 0.6301788269888495
         },
         {
          "b": 0.7978275343827803,
          "m": -0.5718077522444671
         },
         {
          "b": 0.7978275343827803,
          "m": 0.1585323108324388
         },
         {
          "b": 0.7978275343827803,
          "m": 0.1906717648546612
         },
         {
          "b": 0.7978275343827803,
          "m": 0.1906717648546612
         },
         {
          "b": 0.7978275343827803,
          "m": 0.1906717648546612
         },
         {
          "b": 0.7978275343827803,
          "m": -0.15757959941609312
         },
         {
          "b": 0.7978275343827803,
          "m": 0.41275837960075346
         },
         {
          "b": 0.7978275343827803,
          "m": 0.41275837960075346
         },
         {
          "b": 0.7978275343827803,
          "m": 0.41275837960075346
         },
         {
          "b": 0.7978275343827803,
          "m": 0.41275837960075346
         },
         {
          "b": 0.7978275343827803,
          "m": 0.13064777890518164
         },
         {
          "b": 0.9364414805448178,
          "m": 0.13064777890518164
         },
         {
          "b": 0.33285514439901287,
          "m": 0.13064777890518164
         },
         {
          "b": 0.33285514439901287,
          "m": 0.2984140064007683
         },
         {
          "b": 0.33285514439901287,
          "m": 0.2984140064007683
         },
         {
          "b": 0.5460907396650552,
          "m": 0.2984140064007683
         },
         {
          "b": 0.6106564313812635,
          "m": 0.2984140064007683
         },
         {
          "b": 0.6106564313812635,
          "m": -0.10382278573432635
         },
         {
          "b": 0.6106564313812635,
          "m": -0.10382278573432635
         },
         {
          "b": 0.6106564313812635,
          "m": -0.10382278573432635
         },
         {
          "b": 0.6106564313812635,
          "m": -0.10382278573432635
         },
         {
          "b": 0.6106564313812635,
          "m": -0.10382278573432635
         },
         {
          "b": 0.6106564313812635,
          "m": -0.10382278573432635
         },
         {
          "b": 0.6106564313812635,
          "m": -0.10382278573432635
         },
         {
          "b": 0.6106564313812635,
          "m": -0.10382278573432635
         },
         {
          "b": 0.6106564313812635,
          "m": 0.4591316024943872
         },
         {
          "b": 0.6106564313812635,
          "m": -0.4081269014001252
         },
         {
          "b": 0.6106564313812635,
          "m": -0.4081269014001252
         },
         {
          "b": 0.7022744505733394,
          "m": -0.4081269014001252
         },
         {
          "b": 0.7022744505733394,
          "m": -0.5100340490752859
         },
         {
          "b": 0.6768005975257931,
          "m": -0.5100340490752859
         },
         {
          "b": 0.6768005975257931,
          "m": -0.013116543161678651
         },
         {
          "b": 0.6768005975257931,
          "m": -0.3611336082991017
         },
         {
          "b": 0.6768005975257931,
          "m": 0.26895112210293637
         },
         {
          "b": 0.6768005975257931,
          "m": 0.26895112210293637
         },
         {
          "b": 0.6768005975257931,
          "m": 0.26895112210293637
         },
         {
          "b": 0.6768005975257931,
          "m": 0.5898075302668009
         },
         {
          "b": 0.6768005975257931,
          "m": -0.6402838965314042
         },
         {
          "b": 0.6768005975257931,
          "m": -0.26085688746625135
         },
         {
          "b": 0.6768005975257931,
          "m": -0.26085688746625135
         },
         {
          "b": 0.6768005975257931,
          "m": -0.26085688746625135
         },
         {
          "b": 0.6768005975257931,
          "m": -0.26085688746625135
         },
         {
          "b": 0.6768005975257931,
          "m": -0.4873757425170513
         },
         {
          "b": 0.6768005975257931,
          "m": -0.4873757425170513
         },
         {
          "b": 0.6768005975257931,
          "m": -0.4873757425170513
         },
         {
          "b": 0.6768005975257931,
          "m": -0.4873757425170513
         },
         {
          "b": 0.6768005975257931,
          "m": -0.4873757425170513
         },
         {
          "b": 0.6768005975257931,
          "m": -0.4873757425170513
         },
         {
          "b": 0.6768005975257931,
          "m": -0.274563630803242
         },
         {
          "b": 0.6768005975257931,
          "m": -0.274563630803242
         },
         {
          "b": 0.6768005975257931,
          "m": -0.274563630803242
         },
         {
          "b": 0.6768005975257931,
          "m": 0.014005822247405098
         },
         {
          "b": 0.6768005975257931,
          "m": 0.014005822247405098
         },
         {
          "b": 0.6768005975257931,
          "m": 0.030944532335504205
         },
         {
          "b": 0.6768005975257931,
          "m": 0.030944532335504205
         },
         {
          "b": 0.6768005975257931,
          "m": 0.030944532335504205
         },
         {
          "b": 0.6768005975257931,
          "m": -0.37191861667447745
         },
         {
          "b": 0.6768005975257931,
          "m": -0.37191861667447745
         },
         {
          "b": 0.6768005975257931,
          "m": -0.37191861667447745
         },
         {
          "b": 0.6768005975257931,
          "m": -0.37191861667447745
         },
         {
          "b": 0.6768005975257931,
          "m": -0.37191861667447745
         },
         {
          "b": 0.6768005975257931,
          "m": -0.37191861667447745
         },
         {
          "b": 0.6768005975257931,
          "m": -0.37191861667447745
         },
         {
          "b": 0.6768005975257931,
          "m": -0.37191861667447745
         },
         {
          "b": 0.6768005975257931,
          "m": -0.37191861667447745
         },
         {
          "b": 0.678697111769851,
          "m": -0.37191861667447745
         },
         {
          "b": 0.678697111769851,
          "m": -0.44263411537294917
         },
         {
          "b": 0.678697111769851,
          "m": 0.45972757187604896
         },
         {
          "b": 0.678697111769851,
          "m": 0.45972757187604896
         },
         {
          "b": 0.678697111769851,
          "m": 0.057963277023238335
         },
         {
          "b": 0.678697111769851,
          "m": -0.38901991510074807
         },
         {
          "b": 0.678697111769851,
          "m": 0.4878541841688937
         },
         {
          "b": 0.9991609517757085,
          "m": 0.4878541841688937
         },
         {
          "b": 0.9991609517757085,
          "m": -0.5508614726325194
         },
         {
          "b": 0.9991609517757085,
          "m": -0.3415452712621134
         },
         {
          "b": 0.5182123976258064,
          "m": -0.3415452712621134
         },
         {
          "b": 0.9626487880085308,
          "m": -0.3415452712621134
         },
         {
          "b": 0.9626487880085308,
          "m": -0.3415452712621134
         },
         {
          "b": 0.9626487880085308,
          "m": -0.3415452712621134
         },
         {
          "b": 0.4684136500863174,
          "m": -0.3415452712621134
         },
         {
          "b": 0.4684136500863174,
          "m": -0.3415452712621134
         },
         {
          "b": 0.4684136500863174,
          "m": 0.15738680283322837
         },
         {
          "b": 0.4684136500863174,
          "m": 0.15738680283322837
         },
         {
          "b": 0.4684136500863174,
          "m": 0.15738680283322837
         },
         {
          "b": 0.4684136500863174,
          "m": 0.15738680283322837
         },
         {
          "b": 0.4684136500863174,
          "m": -0.11859271678608807
         },
         {
          "b": 0.4684136500863174,
          "m": 0.3273949900889195
         },
         {
          "b": 0.4684136500863174,
          "m": 0.3273949900889195
         },
         {
          "b": 0.4684136500863174,
          "m": 0.3273949900889195
         },
         {
          "b": 0.4684136500863174,
          "m": 0.3273949900889195
         },
         {
          "b": 0.4684136500863174,
          "m": 0.3273949900889195
         },
         {
          "b": 0.4684136500863174,
          "m": 0.3273949900889195
         },
         {
          "b": 0.4684136500863174,
          "m": -0.024500286575653396
         },
         {
          "b": 0.4684136500863174,
          "m": -0.024500286575653396
         },
         {
          "b": 0.4684136500863174,
          "m": -0.024500286575653396
         },
         {
          "b": 0.4684136500863174,
          "m": -0.024500286575653396
         },
         {
          "b": 0.4684136500863174,
          "m": -0.024500286575653396
         },
         {
          "b": 0.4684136500863174,
          "m": -0.024500286575653396
         },
         {
          "b": 0.4684136500863174,
          "m": -0.024500286575653396
         },
         {
          "b": 0.4684136500863174,
          "m": -0.024500286575653396
         },
         {
          "b": 0.9911381340486327,
          "m": -0.024500286575653396
         },
         {
          "b": 0.9911381340486327,
          "m": 0.7032552091358808
         },
         {
          "b": 0.9911381340486327,
          "m": 0.7032552091358808
         },
         {
          "b": 0.9911381340486327,
          "m": 0.7032552091358808
         },
         {
          "b": 0.9911381340486327,
          "m": 0.7032552091358808
         },
         {
          "b": 0.9911381340486327,
          "m": -0.7325123959911435
         },
         {
          "b": 0.9911381340486327,
          "m": -0.7325123959911435
         },
         {
          "b": 0.9911381340486327,
          "m": -0.9012553438820265
         },
         {
          "b": 0.9911381340486327,
          "m": -0.9012553438820265
         },
         {
          "b": 0.9911381340486327,
          "m": -0.9012553438820265
         },
         {
          "b": 0.9911381340486327,
          "m": -0.9012553438820265
         },
         {
          "b": 0.9911381340486327,
          "m": 0.7248969442921267
         },
         {
          "b": 0.9911381340486327,
          "m": 0.7248969442921267
         },
         {
          "b": 0.9911381340486327,
          "m": -0.1261550614278637
         },
         {
          "b": 0.9911381340486327,
          "m": -0.1261550614278637
         },
         {
          "b": 0.9911381340486327,
          "m": -0.1261550614278637
         },
         {
          "b": 0.9911381340486327,
          "m": -0.3662047503383523
         },
         {
          "b": 0.9911381340486327,
          "m": -0.3662047503383523
         },
         {
          "b": 0.9911381340486327,
          "m": -0.7587997139803637
         },
         {
          "b": 0.9911381340486327,
          "m": 0.05337981380080703
         },
         {
          "b": 0.9911381340486327,
          "m": 0.02341646888843374
         },
         {
          "b": 0.9911381340486327,
          "m": 0.3346292502946622
         },
         {
          "b": 0.9911381340486327,
          "m": 0.3346292502946622
         },
         {
          "b": 0.9911381340486327,
          "m": 0.079071654721383
         },
         {
          "b": 0.9911381340486327,
          "m": 0.079071654721383
         },
         {
          "b": 0.9911381340486327,
          "m": -0.04138053029130506
         },
         {
          "b": 0.9911381340486327,
          "m": -0.04138053029130506
         },
         {
          "b": 0.9911381340486327,
          "m": 0.21619386234562854
         },
         {
          "b": 0.9911381340486327,
          "m": 0.21619386234562854
         },
         {
          "b": 0.9911381340486327,
          "m": 0.3753515157311902
         },
         {
          "b": 0.9911381340486327,
          "m": 0.3605824879709554
         },
         {
          "b": 0.9911381340486327,
          "m": 0.3605824879709554
         },
         {
          "b": 0.9911381340486327,
          "m": 0.5954672726579384
         },
         {
          "b": 0.9911381340486327,
          "m": -0.6649884592116473
         },
         {
          "b": 0.9911381340486327,
          "m": -0.6649884592116473
         },
         {
          "b": 0.9911381340486327,
          "m": -0.6429918956720988
         },
         {
          "b": 0.9314580164382484,
          "m": -0.6429918956720988
         },
         {
          "b": 0.9314580164382484,
          "m": 0.17341761078294238
         },
         {
          "b": 0.9314580164382484,
          "m": 0.7841505839432397
         },
         {
          "b": 0.9314580164382484,
          "m": 0.7841505839432397
         },
         {
          "b": 0.9314580164382484,
          "m": 0.37610948668131816
         },
         {
          "b": 0.9314580164382484,
          "m": -0.8258421990458318
         },
         {
          "b": 0.9314580164382484,
          "m": -0.8258421990458318
         },
         {
          "b": 0.9314580164382484,
          "m": -0.22856190049495706
         },
         {
          "b": 0.9314580164382484,
          "m": -0.22856190049495706
         },
         {
          "b": 0.9314580164382484,
          "m": 0.1320346735502087
         },
         {
          "b": 0.9314580164382484,
          "m": 0.1320346735502087
         },
         {
          "b": 0.42134453240533243,
          "m": 0.1320346735502087
         },
         {
          "b": 0.42134453240533243,
          "m": 0.1320346735502087
         },
         {
          "b": 0.42134453240533243,
          "m": -0.286345134105644
         },
         {
          "b": 0.42134453240533243,
          "m": -0.286345134105644
         },
         {
          "b": 0.42134453240533243,
          "m": -0.286345134105644
         },
         {
          "b": 0.42134453240533243,
          "m": -0.286345134105644
         },
         {
          "b": 0.6574946931102852,
          "m": -0.286345134105644
         },
         {
          "b": 0.6574946931102852,
          "m": -0.08150840267275394
         },
         {
          "b": 0.6574946931102852,
          "m": -0.08150840267275394
         },
         {
          "b": 0.6574946931102852,
          "m": -0.08150840267275394
         },
         {
          "b": 0.39971483377524186,
          "m": -0.08150840267275394
         },
         {
          "b": 0.39971483377524186,
          "m": -0.08150840267275394
         },
         {
          "b": 0.39971483377524186,
          "m": -0.3342361124886233
         },
         {
          "b": 0.39971483377524186,
          "m": -0.3342361124886233
         },
         {
          "b": 0.39971483377524186,
          "m": -0.3342361124886233
         },
         {
          "b": 0.39971483377524186,
          "m": -0.3342361124886233
         },
         {
          "b": 0.39971483377524186,
          "m": 0.03754564478514655
         },
         {
          "b": 0.39971483377524186,
          "m": 0.23013484939558615
         },
         {
          "b": 0.39971483377524186,
          "m": 0.23013484939558615
         },
         {
          "b": 0.818856741477205,
          "m": 0.23013484939558615
         },
         {
          "b": 0.818856741477205,
          "m": 0.23013484939558615
         },
         {
          "b": 0.818856741477205,
          "m": 0.23013484939558615
         },
         {
          "b": 0.818856741477205,
          "m": 0.2424209477141528
         },
         {
          "b": 0.818856741477205,
          "m": -0.022161286782574008
         },
         {
          "b": 0.05283860531933926,
          "m": -0.022161286782574008
         },
         {
          "b": 0.05283860531933926,
          "m": -0.022161286782574008
         },
         {
          "b": 0.05283860531933926,
          "m": -0.022161286782574008
         },
         {
          "b": 0.18304271465866262,
          "m": -0.022161286782574008
         },
         {
          "b": 0.7110719633437192,
          "m": -0.022161286782574008
         },
         {
          "b": 0.7110719633437192,
          "m": 0.4817281358906016
         },
         {
          "b": 0.7110719633437192,
          "m": 0.4817281358906016
         },
         {
          "b": -0.950379274234076,
          "m": 0.4817281358906016
         },
         {
          "b": -0.950379274234076,
          "m": 0.4817281358906016
         },
         {
          "b": -0.950379274234076,
          "m": 0.4817281358906016
         },
         {
          "b": -0.950379274234076,
          "m": 0.4817281358906016
         },
         {
          "b": -0.950379274234076,
          "m": 0.4817281358906016
         },
         {
          "b": -0.950379274234076,
          "m": 0.4817281358906016
         },
         {
          "b": -0.950379274234076,
          "m": 0.4817281358906016
         },
         {
          "b": -0.950379274234076,
          "m": 0.4817281358906016
         },
         {
          "b": -0.950379274234076,
          "m": 0.4817281358906016
         }
        ]
       },
       "description": "Plot",
       "height": 300,
       "layer": [
        {
         "encoding": {
          "color": {
           "aggregate": "count",
           "field": "col",
           "scale": {
            "scheme": {
             "extent": [
              0,
              1
             ],
             "name": "blues"
            }
           },
           "type": "quantitative"
          },
          "x": {
           "bin": {
            "extent": [
             -1.1,
             1.1
            ],
            "nice": false,
            "steps": [
             0.05,
             0.5,
             5
            ]
           },
           "field": "b",
           "type": "quantitative"
          },
          "y": {
           "bin": {
            "extent": [
             -1.1,
             1.1
            ],
            "nice": false,
            "steps": [
             0.05,
             0.5,
             5
            ]
           },
           "field": "m",
           "type": "quantitative"
          }
         },
         "mark": "rect"
        }
       ],
       "width": 600
      },
      "image/png": "[encoded data removed]"
     },
     "metadata": {},
     "output_type": "display_data"
    }
   ],
   "source": [
    "nsamples = 5000\n",
    "modelsamples <- sampleIOfixed $ prior $ mh nsamples model4\n",
    "(xValues, yValues) = unzip modelsamples\n",
    "vlShow $ plot (600, 300)\n",
    "              (L [density2DPlot \"b\" \"m\" (-1.1,1.1) (-1.1,1.1)])\n",
    "              (Cols [(\"b\", VL.Numbers xValues), (\"m\", VL.Numbers yValues)])"
   ]
  },
  {
   "cell_type": "markdown",
   "metadata": {},
   "source": [
    "### Conclusions\n",
    "\n",
    "We have seen how we can build models and examine related probability distributions by drawing samples and modifying their relative probabilities with the `score` function.\n",
    "The MCMC approach taken by`monad-bayes`and similar frameworks avoids computations with full distributions, and works with individual samples to enormously simplify life.\n",
    "`monad-bayes`can, therefore, be used to approximate large and complex distributions—something that quickly comes in handy.\n",
    "We can use`monad-bayes`to approximate the distribution of the return values of basically any Haskell function for a given input distribution.\n",
    "This could even be the return values of entire programs.\n",
    "Even better—we can use `score` to infer the input distribution if we have a way of scoring samples based on observations.\n",
    "\n",
    "We hope you enjoyed this first post in our _Probabilistic Programming with monad&#8209;bayes Series_ and learned lots! Now, you're ready to build more general statistical models using these building blocks, and proceed to linear regression in our next post. We hope you join us!\n",
    "\n",
    "part 2 (link to come)"
   ]
  },
  {
   "cell_type": "markdown",
   "metadata": {},
   "source": [
    "## Notes\n",
    "\n",
    "We use [this GitHub version](https://github.com/adscib/monad-bayes/tree/647ba7cb5a98ae028600f3d828828616891b40fb) of`monad-bayes`in our posts and notebooks since it's neither on Hackage nor Stackage right now. Here are two original articles you may want to check out:\n",
    "\n",
    "* [Practical Probabilistic Programming with Monads](http://mlg.eng.cam.ac.uk/pub/pdf/SciGhaGor15.pdf)\n",
    "* [Functional Programming for Modular Bayesian Inference](http://denotational.co.uk/publications/scibior-kammar-ghahramani-funcitonal-programming-for-modular-bayesian-inference.pdf)"
   ]
  }
 ],
 "metadata": {
  "kernelspec": {
   "display_name": "Monad-Bayes Haskell Kernel",
   "language": "haskell",
   "name": "haskell"
  },
  "language_info": {
   "codemirror_mode": "ihaskell",
   "file_extension": ".hs",
   "mimetype": "text/x-haskell",
   "name": "haskell",
   "pygments_lexer": "Haskell",
   "version": "9.0.2"
  }
 },
 "nbformat": 4,
 "nbformat_minor": 4
}
